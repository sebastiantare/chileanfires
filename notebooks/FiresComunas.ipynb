{
 "cells": [
  {
   "cell_type": "code",
   "execution_count": 1,
   "metadata": {},
   "outputs": [],
   "source": [
    "import pandas as pd\n",
    "import plotly.express as px\n",
    "import plotly.graph_objects as go\n",
    "import seaborn as sns\n",
    "import matplotlib.pyplot as plt\n",
    "import geopandas as gpd\n",
    "from shapely.geometry import Point, MultiPoint\n",
    "from shapely.ops import unary_union\n",
    "import numpy as np\n",
    "from sklearn.neighbors import BallTree\n",
    "import math\n",
    "from tqdm import tqdm\n",
    "from sklearn.cluster import DBSCAN\n",
    "from matplotlib.patches import Patch\n",
    "from shapely import wkt"
   ]
  },
  {
   "cell_type": "code",
   "execution_count": 2,
   "metadata": {},
   "outputs": [],
   "source": [
    "FRP_FILTER = 20\n",
    "RADIUS_FIRES = 200"
   ]
  },
  {
   "cell_type": "code",
   "execution_count": 3,
   "metadata": {},
   "outputs": [],
   "source": [
    "with open('./token.txt', 'r') as f:\n",
    "    TOKEN = f.read()\n",
    "    px.set_mapbox_access_token(TOKEN)"
   ]
  },
  {
   "cell_type": "code",
   "execution_count": 4,
   "metadata": {},
   "outputs": [],
   "source": [
    "df = pd.read_parquet('../data/fires_merged_comunas_timezone.parquet')"
   ]
  },
  {
   "cell_type": "code",
   "execution_count": 5,
   "metadata": {},
   "outputs": [
    {
     "data": {
      "text/html": [
       "<div>\n",
       "<style scoped>\n",
       "    .dataframe tbody tr th:only-of-type {\n",
       "        vertical-align: middle;\n",
       "    }\n",
       "\n",
       "    .dataframe tbody tr th {\n",
       "        vertical-align: top;\n",
       "    }\n",
       "\n",
       "    .dataframe thead th {\n",
       "        text-align: right;\n",
       "    }\n",
       "</style>\n",
       "<table border=\"1\" class=\"dataframe\">\n",
       "  <thead>\n",
       "    <tr style=\"text-align: right;\">\n",
       "      <th></th>\n",
       "      <th>latitude</th>\n",
       "      <th>longitude</th>\n",
       "      <th>brightness</th>\n",
       "      <th>scan</th>\n",
       "      <th>track</th>\n",
       "      <th>acq_date</th>\n",
       "      <th>acq_time</th>\n",
       "      <th>satellite</th>\n",
       "      <th>instrument</th>\n",
       "      <th>confidence</th>\n",
       "      <th>version</th>\n",
       "      <th>bright_t31</th>\n",
       "      <th>frp</th>\n",
       "      <th>daynight</th>\n",
       "      <th>type</th>\n",
       "      <th>comuna</th>\n",
       "      <th>acq_datetime_gmt_3</th>\n",
       "    </tr>\n",
       "  </thead>\n",
       "  <tbody>\n",
       "    <tr>\n",
       "      <th>0</th>\n",
       "      <td>-23.820446</td>\n",
       "      <td>-70.320282</td>\n",
       "      <td>301.51</td>\n",
       "      <td>0.74</td>\n",
       "      <td>0.76</td>\n",
       "      <td>2013-01-01</td>\n",
       "      <td>448</td>\n",
       "      <td>N</td>\n",
       "      <td>VIIRS</td>\n",
       "      <td>n</td>\n",
       "      <td>1</td>\n",
       "      <td>285.54</td>\n",
       "      <td>2.38</td>\n",
       "      <td>N</td>\n",
       "      <td>2.0</td>\n",
       "      <td>ANTOFAGASTA</td>\n",
       "      <td>2013-01-01 01:48:00-03:00</td>\n",
       "    </tr>\n",
       "    <tr>\n",
       "      <th>1</th>\n",
       "      <td>-23.823833</td>\n",
       "      <td>-70.318871</td>\n",
       "      <td>306.90</td>\n",
       "      <td>0.74</td>\n",
       "      <td>0.76</td>\n",
       "      <td>2013-01-01</td>\n",
       "      <td>448</td>\n",
       "      <td>N</td>\n",
       "      <td>VIIRS</td>\n",
       "      <td>n</td>\n",
       "      <td>1</td>\n",
       "      <td>285.80</td>\n",
       "      <td>2.33</td>\n",
       "      <td>N</td>\n",
       "      <td>2.0</td>\n",
       "      <td>ANTOFAGASTA</td>\n",
       "      <td>2013-01-01 01:48:00-03:00</td>\n",
       "    </tr>\n",
       "    <tr>\n",
       "      <th>2</th>\n",
       "      <td>-26.430983</td>\n",
       "      <td>-69.475632</td>\n",
       "      <td>299.73</td>\n",
       "      <td>0.58</td>\n",
       "      <td>0.70</td>\n",
       "      <td>2013-01-01</td>\n",
       "      <td>448</td>\n",
       "      <td>N</td>\n",
       "      <td>VIIRS</td>\n",
       "      <td>n</td>\n",
       "      <td>1</td>\n",
       "      <td>279.61</td>\n",
       "      <td>2.86</td>\n",
       "      <td>N</td>\n",
       "      <td>2.0</td>\n",
       "      <td>DIEGO DE ALMAGRO</td>\n",
       "      <td>2013-01-01 01:48:00-03:00</td>\n",
       "    </tr>\n",
       "    <tr>\n",
       "      <th>3</th>\n",
       "      <td>-32.760929</td>\n",
       "      <td>-71.476440</td>\n",
       "      <td>309.70</td>\n",
       "      <td>0.52</td>\n",
       "      <td>0.67</td>\n",
       "      <td>2013-01-01</td>\n",
       "      <td>448</td>\n",
       "      <td>N</td>\n",
       "      <td>VIIRS</td>\n",
       "      <td>n</td>\n",
       "      <td>1</td>\n",
       "      <td>285.42</td>\n",
       "      <td>2.50</td>\n",
       "      <td>N</td>\n",
       "      <td>3.0</td>\n",
       "      <td>PUCHUNCAVI</td>\n",
       "      <td>2013-01-01 01:48:00-03:00</td>\n",
       "    </tr>\n",
       "    <tr>\n",
       "      <th>4</th>\n",
       "      <td>-34.624073</td>\n",
       "      <td>-71.000023</td>\n",
       "      <td>319.97</td>\n",
       "      <td>0.44</td>\n",
       "      <td>0.63</td>\n",
       "      <td>2013-01-01</td>\n",
       "      <td>448</td>\n",
       "      <td>N</td>\n",
       "      <td>VIIRS</td>\n",
       "      <td>n</td>\n",
       "      <td>1</td>\n",
       "      <td>290.28</td>\n",
       "      <td>2.27</td>\n",
       "      <td>N</td>\n",
       "      <td>0.0</td>\n",
       "      <td>CHIMBARONGO</td>\n",
       "      <td>2013-01-01 01:48:00-03:00</td>\n",
       "    </tr>\n",
       "  </tbody>\n",
       "</table>\n",
       "</div>"
      ],
      "text/plain": [
       "    latitude  longitude  brightness  scan  track   acq_date  acq_time  \\\n",
       "0 -23.820446 -70.320282      301.51  0.74   0.76 2013-01-01       448   \n",
       "1 -23.823833 -70.318871      306.90  0.74   0.76 2013-01-01       448   \n",
       "2 -26.430983 -69.475632      299.73  0.58   0.70 2013-01-01       448   \n",
       "3 -32.760929 -71.476440      309.70  0.52   0.67 2013-01-01       448   \n",
       "4 -34.624073 -71.000023      319.97  0.44   0.63 2013-01-01       448   \n",
       "\n",
       "  satellite instrument confidence version  bright_t31   frp daynight  type  \\\n",
       "0         N      VIIRS          n       1      285.54  2.38        N   2.0   \n",
       "1         N      VIIRS          n       1      285.80  2.33        N   2.0   \n",
       "2         N      VIIRS          n       1      279.61  2.86        N   2.0   \n",
       "3         N      VIIRS          n       1      285.42  2.50        N   3.0   \n",
       "4         N      VIIRS          n       1      290.28  2.27        N   0.0   \n",
       "\n",
       "             comuna        acq_datetime_gmt_3  \n",
       "0       ANTOFAGASTA 2013-01-01 01:48:00-03:00  \n",
       "1       ANTOFAGASTA 2013-01-01 01:48:00-03:00  \n",
       "2  DIEGO DE ALMAGRO 2013-01-01 01:48:00-03:00  \n",
       "3        PUCHUNCAVI 2013-01-01 01:48:00-03:00  \n",
       "4       CHIMBARONGO 2013-01-01 01:48:00-03:00  "
      ]
     },
     "execution_count": 5,
     "metadata": {},
     "output_type": "execute_result"
    }
   ],
   "source": [
    "df.head()"
   ]
  },
  {
   "cell_type": "code",
   "execution_count": 6,
   "metadata": {},
   "outputs": [],
   "source": [
    "df = df[df['type'] == 0]"
   ]
  },
  {
   "cell_type": "code",
   "execution_count": 7,
   "metadata": {},
   "outputs": [],
   "source": [
    "df['acq_datetime_gmt_3'] = pd.to_datetime(df['acq_datetime_gmt_3'])"
   ]
  },
  {
   "cell_type": "code",
   "execution_count": 8,
   "metadata": {},
   "outputs": [
    {
     "data": {
      "text/plain": [
       "(Timestamp('2013-01-01 01:48:00-0300', tz='America/Santiago'),\n",
       " Timestamp('2023-01-31 16:38:00-0300', tz='America/Santiago'))"
      ]
     },
     "execution_count": 8,
     "metadata": {},
     "output_type": "execute_result"
    }
   ],
   "source": [
    "df['acq_datetime_gmt_3'].min(), df['acq_datetime_gmt_3'].max()"
   ]
  },
  {
   "cell_type": "code",
   "execution_count": 9,
   "metadata": {},
   "outputs": [
    {
     "name": "stdout",
     "output_type": "stream",
     "text": [
      "<class 'pandas.core.frame.DataFrame'>\n",
      "Index: 287968 entries, 4 to 465149\n",
      "Data columns (total 17 columns):\n",
      " #   Column              Non-Null Count   Dtype                           \n",
      "---  ------              --------------   -----                           \n",
      " 0   latitude            287968 non-null  float64                         \n",
      " 1   longitude           287968 non-null  float64                         \n",
      " 2   brightness          287968 non-null  float64                         \n",
      " 3   scan                287968 non-null  float64                         \n",
      " 4   track               287968 non-null  float64                         \n",
      " 5   acq_date            287968 non-null  datetime64[us]                  \n",
      " 6   acq_time            287968 non-null  int64                           \n",
      " 7   satellite           287968 non-null  object                          \n",
      " 8   instrument          287968 non-null  object                          \n",
      " 9   confidence          287968 non-null  object                          \n",
      " 10  version             287968 non-null  object                          \n",
      " 11  bright_t31          287968 non-null  float64                         \n",
      " 12  frp                 287968 non-null  float64                         \n",
      " 13  daynight            287968 non-null  object                          \n",
      " 14  type                287968 non-null  float64                         \n",
      " 15  comuna              287968 non-null  object                          \n",
      " 16  acq_datetime_gmt_3  287968 non-null  datetime64[us, America/Santiago]\n",
      "dtypes: datetime64[us, America/Santiago](1), datetime64[us](1), float64(8), int64(1), object(6)\n",
      "memory usage: 39.5+ MB\n"
     ]
    }
   ],
   "source": [
    "df.info()"
   ]
  },
  {
   "cell_type": "code",
   "execution_count": 10,
   "metadata": {},
   "outputs": [
    {
     "data": {
      "text/plain": [
       "'plt.figure(figsize=(10, 6))\\nsns.histplot(data=df, x=\"frp\", binrange=(df[\"frp\"].quantile(0.01), df[\"frp\"].quantile(0.99)), bins=100)\\nplt.title(\\'Distribution of FRP Values\\')\\nplt.xlabel(\\'FRP\\')\\nplt.ylabel(\\'Count\\')\\nplt.tight_layout()\\nplt.show();'"
      ]
     },
     "execution_count": 10,
     "metadata": {},
     "output_type": "execute_result"
    }
   ],
   "source": [
    "\"\"\"plt.figure(figsize=(10, 6))\n",
    "sns.histplot(data=df, x=\"frp\", binrange=(df[\"frp\"].quantile(0.01), df[\"frp\"].quantile(0.99)), bins=100)\n",
    "plt.title('Distribution of FRP Values')\n",
    "plt.xlabel('FRP')\n",
    "plt.ylabel('Count')\n",
    "plt.tight_layout()\n",
    "plt.show();\"\"\""
   ]
  },
  {
   "cell_type": "code",
   "execution_count": 11,
   "metadata": {},
   "outputs": [],
   "source": [
    "a = df[df['frp'] > FRP_FILTER].copy()"
   ]
  },
  {
   "cell_type": "code",
   "execution_count": 12,
   "metadata": {},
   "outputs": [],
   "source": [
    "a['year'] = a['acq_datetime_gmt_3'].dt.year"
   ]
  },
  {
   "cell_type": "code",
   "execution_count": 13,
   "metadata": {},
   "outputs": [
    {
     "data": {
      "text/plain": [
       "(78725, 18)"
      ]
     },
     "execution_count": 13,
     "metadata": {},
     "output_type": "execute_result"
    }
   ],
   "source": [
    "a.shape"
   ]
  },
  {
   "cell_type": "code",
   "execution_count": 14,
   "metadata": {},
   "outputs": [
    {
     "name": "stderr",
     "output_type": "stream",
     "text": [
      "/tmp/ipykernel_150691/1848473221.py:1: DeprecationWarning: *scatter_mapbox* is deprecated! Use *scatter_map* instead. Learn more at: https://plotly.com/python/mapbox-to-maplibre/\n",
      "  fig = px.scatter_mapbox(a[(a['type'] == 0) & ((a['comuna'] == 'CONCEPCION') | (a['comuna'] == 'VICTORIA') | (a['comuna'] == 'FLORIDA')  | (a['comuna'] == 'TOME'))], lat=\"latitude\", lon=\"longitude\", zoom=3, color='frp', title='Wildfires')\n"
     ]
    },
    {
     "data": {
      "application/vnd.plotly.v1+json": {
       "config": {
        "plotlyServerURL": "https://plot.ly"
       },
       "data": [
        {
         "hovertemplate": "latitude=%{lat}<br>longitude=%{lon}<br>frp=%{marker.color}<extra></extra>",
         "lat": {
          "bdata": "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",
          "dtype": "f8"
         },
         "legendgroup": "",
         "lon": {
          "bdata": "Ece6uI0KUsAJFRxeEBJSwCfeAZ60ElLA4gD6ff8SUsCeI/JdShNSwKhxb37DElLA5SoWvykUUsDLnZlgOBRSwGDl0CLbEVLAHqfoSC4TUsCL/WX35B1SwAMJih9jElLAwcqhRbYTUsDV52or9hNSwHWTGARWElLAokW28/0QUsBwXwfOGRFSwEbvVMA9ElLAvD0IAfkRUsAo84++SRJSwFVntcAeEVLA3jmUoSoRUsDToGgewA1SwIfe4uE9DlLAQZ5dvvUNUsDmXfWAeQ1SwK/pQUEpB1LAaQBvgQQHUsBtA3egTgdSwEwW9x+ZB1LAnE1HADcHUsDxhF5/EgdSwPKZ7J+nB1LAYrt7gO4FUsDzkCkfggZSwK6ek943BlLAEodsIF0LUsBYVS+/0w5SwOUn1T4dD1LA4EigwaYLUsCimLwBZg9SwDBK0F/oHFLA61T5npEdUsCNz2T/PB1SwHA/4IEBHVLA6lp7n6odUsCN1eb/VR1SwFpnfF9cHVLAu/JZngcdUsA91/fhIB1SwDV9dsB1HVLAkwILYModUsCeYtUgzBxSwPCK4H8rFVLA2QkvwakUUsDtSPWdXxRSwFUuVP61FFLAUitM32sUUsBVMZV+whRSwJMdG4F4FFLAVTTW/s4UUsDQs1n1uR5SwIMvTKYKHlLAAiuHFtkeUsAMk6mCUQ1SwHUCmggbFlLAJlMFo5IWUsD1SlmGOBpSwHS1FfvLGlLAJlMFo5IOUsBfKcsQxw5SwDhlbr4RC1LAbt+j/noLUsDLZ3ke3AlSwHcSEf5FClLAKxTpfk4KUsBruwm+aQpSwA05tp4hAlLAp5IBoIoCUsDeOZShKgJSwJVliGNdHFLAD5wzorQHUsDqlbIMcQhSwL6fGi/dDFLAS8gHPZsNUsC1FfvL7gVSwPkx5q4lCFLA1CtlGeIIUsBv8IXJVAVSwEvqBDQRBlLAysNCrWkKUsClvcEXJgtSwF+YTBWMClLAowG8BRIMUsB/+zpwzgxSwBTQRNjwDFLAXynLEMcCUsC6awn5oBtSwA3gLZCgHFLAmggbnl4dUsDKVMGopAZSwIhjXdxGG1LAFYxK6gQcUsCIhVrTvBtSwMdLN4lBHFLAuwopP6kFUsDjVGthFgZSwInt7gG6BVLADDz3Hi4NUsBdqWdBKAZSwFMlyt5SBlLADFpIwOgFUsDU00fgDwNSwD+PUZ55A1LA0t9L4UEDUsD5823BUgpSwBqH+l3YAlLA0H8PXrsKUsDkafmBqwNSwJIgXAGFClLAYrt7gO4KUsAo8E4+PSBSwIGTbeAOIFLA7ZxmgXYgUsDrbwnAPyBSwHtpigCnIFLANZiG4SMcUsALRbqfUxxSwJ87wf7rG1LACRhd3hwcUsAPQkC+hBxSwOAqTyDsHFLAhcyVQbUcUsBEwvf+Bh1SwLsoeuBjHFLAh9uhYTEcUsCXOPJAZBxSwDWYhuEjHFLAeXjPgeUVUsCiREseTxZSwIicvp6vDlLAyAc9m1UHUsBE+u3rwBFSwAisHFpkB1LA8rBQa5oHUsBXlBKCVQVSwI/ecB+5G1LAuB/wwAAcUsANbJVgcRtSwNvf2R69AlLA83UZ/tMCUsAuWRXhJhZSwPCiryDNFFLAbCQJwhUVUsBQGf8+4xRSwIj029eBB1LAzojS3uAHUsCN8PYgBARSwD25pkBmElLAHM9nQL0SUsBI4A8//whSwAowLH++CFLARGlv8IUZUsBp4h3gSQ9SwMtneR7cFlLADi2yne8DUsDtgVZgyBpSwIarAyDuGlLA4BKAf0obUsDuluSAXRtSwA6HpYEfClLAzqlkAKgJUsAi/8wgPgdSwGzu6H+5BFLARRDn4QQFUsBhxD4BFAVSwC5x5IHIBFLABOj3/ZsHUsAh5Lz/jwdSwJY+dEF9F1LAIef9f5wWUsC9N4YA4BBSwNejcD0KD1LAEHo2qz4HUsBO0ZFc/gdSwDarPldbCVLA+1xtxf4WUsD+Q/rt6xxSwBBYObTIFlLAf/s6cM4cUsCfceFASApSwJHVrZ6TClLA/RTHgVcKUsD129eBcxZSwEp7gy9MClLA9GxWfa4KUsCyne+nxhdSwEku/yH9FlLA/yH99nUEUsDA7J48LAhSwGZmZmZmDlLAo3TpX5IOUsBv8fCeAw9SwGSUZ14OCFLAtwpioGsOUsBzMJsAww5SwD6Skh6GDlLAfa62Yn8NUsDswDkjSgtSwAu1pnnHDVLAfGEyVTAOUsABTYQNTzNSwOmBj8GKMlLAP8iyYOIyUsA5tMh2vjNSwI51cRsNNFLAEHUfgNQyUsDswDkjSjNSwDxO0ZFcLlLAOpLLf0gvUsDvycNCrTFSwHlXPWAeN1LApU5AE2E3UsC2hHzQszFSwD0s1JrmMVLAbhgFweM3UsBg5dAi2xlSwC1BRkCFGlLAH4XrUbgaUsA+sOO/QBxSwJEOD2H8G1LASih9IeQbUsCWCFT/IBxSwGHEPgEUHFLAyotMwK88UsDzzMth9zxSwEYldQKaPFLAWn9LAP48UsC31EFeDz1SwP32deCcO1LAHOp3YWs8UsBq96sA3ztSwLK5ap4jPFLA8GlOXmQ7UsDeOZShKjxSwG8qUmFsPFLAQZscPuk7UsB7Lei9MTxSwHUeFf93PFLAMj7MXrY8UsBO0ZFc/jtSwHBfB84ZPVLAEOm3rwM7UsCV1AloIjxSwFMFo5I6PVLAtteC3hs7UsChaB7AIjxSwNCdYP91PFLA2uIan8k7UsAm/FI/bztSwGbc1EDzOlLABwlRvqA6UsA2VmKelTtSwKNcGr/wO1LA2SH+YUs8UsBJEK6AQjtSwDiDv1/MOlLAr5gR3h48UsAm5IOezTtSwFg6H54lO1LAG5/J/nk7UsBn1lJA2jpSwAIqHEEqO1LAkgVM4NY7UsB5P26/fDtSwAot6/6xOlLAI/PIHww7UsBzEkpfCDxSwL9GkiBcPFLAaM2Pv7Q7UsDDZ+vgYDtSwDMzMzMzO1LAUWuad5w6UsD1SlmGODpSwBfZzvdTO1LAaW/whck8UsDn+6nx0j1SwO5dg770OlLAaAbxgR0oUsDQmh9/aShSwJYhjnVxJ1LAv30dOGcoUsCaCBueXilSwLprCfmgJ1LAGw3gLZAoUsB9rrZifylSwG3n+6nxJlLAMuauJeQnUsBpb/CFyShSwECk374OKFLAokW28/0oUsCL/WX35ClSwJYhjnVxJ1LAqvHSTWIoUsD3Bl+YTClSwNxoAG+BKFLAoWez6nMpUsC14EVfQSlSwFBSYAFMKVLARKfn3VgnUsCRfvs6cCZSwGb35GGhJlLATRWMSuooUsB4eqUsQyhSwOjZrPpcKVLAMnctIR8oUsCh1jTvOClSwDMzMzMzJ1LAXdxGA3gnUsDEXihgOylSwCMRGsHGKFLAejarPlcpUsCgOIB+3yhSwNHKvcCsKVLAP62iPzQpUsAEAwgfSilSwGfV52orKlLAj+TyH9InUsBEaW/whSlSwAkbnl4pJ1LAwaikTkAnUsCmCkYldSZSwERpb/CFKVLAKcsQx7ooUsBeu7ThsCZSwD7ONGH7JlLAfnIUIAonUsCfdCLBVCdSwH1dhv90JlLAnl+UoL8mUsBo6J/gYidSwAL0+/7NJlLAiNUfYRgnUsDmeAWiJyZSwOp7DcFxJlLArI+HvrsmUsAycasgBidSwKGGb2HdJVLAKSDtf4AmUsB/TkF+NiZSwJAUkWEVJ1LASBlxAWgmUsBMHHkgsiZSwJ1Hxf8dJlLAbR6HwfwmUsDb/SrAdyZSwEHyzqEMJ1LAIPDAAMImUsBr9GqA0iZSwOUn1T4dJ1LA8X7cfvkoUsDDZ+vgYClSwAYP0765KVLANWJmn8cpUsAe/MQB9ChSwFJkraHUKVLAFHgnnx4qUsCKsOHplSZSwOtztRX7J1LAZohjXdwmUsDc14FzRihSwLaEfNCzJVLAnl4pyxAnUsCn6Egu/yVSwGwJ+aBnJ1LAvAUSFD8mUsAIPZtVnydSwACRfvs6KFLA6Gor9pcpUsA730+NlyZSwDeJQWDlJFLAVHQkl/8kUsCsi9toACdSwIXrUbgeJVLAzTtO0ZEkUsDdtYR80CNSwA4tsp3vI1LAsb/snjwkUsAxCKwcWiRSwNkG7kCdI1LA/fm2YKkjUsCbVZ+rrRxSwOJYF7fRHFLAPujZrPocUsCsrdhfdhtSwGsr9pfdG1LAcM6I0t4cUsAj2/l+ahxSwAyTqYJRHVLAuECC4sccUsDV6xaBsRxSwJUp5iDoHFLAUitM32scUsAgCJChYx1SwGOXqN4aHVLAo3cq4J4cUsA7xapBmB1SwGB2Tx4WElLAutqK/WUTUsB4CyQofixSwHctIR/0K1LALEoJwaorUsBYjpCBPCxSwLQB2IAILFLA5j+k374rUsCJtI0/USxSwPmiPV5IFVLAQrPr3ooVUsB9lufB3RVSwESLbOf7BVLALGUZ4lgHUsD67evAOQtSwH9qvHSTDFLABBvXv+sDUsB8fhghPARSwJw1eF+VC1LAE4HqH0QLUsAcsRafAgpSwLTmx19aClLAldQJaCIUUsCitDf4wgxSwD2bVZ+rDVLAv30dOGcEUsC+wRcmUwVSwJM6AU2EBVLAfoy5awkVUsCGrkSg+gRSwGKdKt8zBVLASPsfYK0FUsB6ck2BzARSwE0xB0FHBVLAiJy+nq8KUsCKsOHplQZSwE2EDU+vCFLAF0hQ/BgHUsBNE7afjAZSwMiUD0HVBlLA5j+k374LUsB+VMN+TwxSwLu4jQbwHlLAoWez6nMdUsC94xQdyR1SwLn7HB8tH1LAx0YgXtceUsDPoKF/gh9SwBaiQ+BIH1LA8Ief/x4fUsB9XYb/dB9SwKBuoMA7A1LAqbwd4bQDUsBlxAWgUQNSwIGxvoHJA1LA1xLyQc8DUsD9FMeBVwNSwJsg6j4AF1LAwR9+/nsXUsBhMlUwKgVSwGgibHh6BVLAfGEyVTACUsDswDkjSgNSwA5Pr5RlBFLAL90kBoEFUsAT8kHPZg1SwOeMKO0NDlLAXdxGA3gTUsDarPpcbQ1SwJjdk4eFDlLAZohjXdwSUsBVwaikThxSwLU3+MJkHlLApFNXPssEUsAqO/2gLgNSwBNm2v6VA1LAgZauYBsEUsDUnSeeswNSwB3k9WBSAlLA9b2G4LgCUsAmGqTgKQ5SwCHJrN7hDVLAC0J5H0cOUsCCqzyBsA1SwHk/br98DlLAYp0q3zMOUsDDRlm/mQ5SwPwXCAJkH1LAIsZrXtUbUsATnPpA8htSwI3V5v9VHFLA8KXwoNkDUsAawFsgQQRSwOhsAaH1A1LAUFWhgVgeUsCLqIk+Hx9SwGKCGr6FHlLAGavN/6sQUsB6VPzfERFSwAMJih9jHlLA7FG4HoUTUsDr4jYawA9SwOp1i8BYFlLAcQM+P4wdUsBSZK2h1B1SwGoV/aGZHVLAY7g6AOIdUsB9dVWgFhJSwK2nVl9dFVLA1ejVAKUVUsCmuRXCahVSwOY8Y1+yFVLA5ldzgGAVUsBF2safqBVSwLfRAN4CHVLAoBov3SQWUsC7uI0G8BZSwOELk6mCFVLAhZZ1/1gGUsBoA7ABEQZSwHNLqyFxBlLAi/m5oSkGUsAsYthhTAZSwEn1nV+UBlLAkQ4PYfwMUsDHoBNCBw1SwNSdJ56zDFLA7rH0oQsNUsAKMCx/vgxSwGB2Tx4WDVLASP5g4LkZUsACLV3BNghSwDnWxW00CFLAkzoBTYQJUsAgY+5aQgpSwKyL22gAC1LAAwmKH2MaUsC0yHa+nxpSwF8HzhlRBlLA7C+7Jw8HUsBYObTIdgZSwOVhodY0B1LAOPjCZKo4UsAYk/5eCghSwHAnEeFfCFLAURa+vtYHUsAB3CxeLAhSwCDtf4C1CVLAj8Ng/goKUsAl58Qe2hlSwL8NMV7zGVLApmJjXkcaUsBblxqhnxlSwJojK78MGlLAWp2cobgZUsA0Spf+JRpSwEoH6/8cDlLAXaYmwRsHUsD52F2gpDhSwHZxGw3gGVLA5fIf0m8bUsDgLZCg+BlSwCJseHqlFFLAqaROQBMVUsCX/5B++xpSwLPqc7UVG1LAryXkg54ZUsB6Nqs+VxtSwM4ZUdobCFLARiV1ApoIUsC1FfvL7hVSwLWmeccpFlLAaM2Pv7QbUsB8Rbde0wZSwFg6H54lB1LAi/z6ITYHUsAlAtU/iAdSwAEwnkFDG1LAURN9PsoZUsBD5sqg2hlSwEoMAiuHBlLAPujZrPoIUsClLEMc6wZSwP5l9+RhCVLABoGVQ4scUsDQRNjw9AZSwHZPHhZqCVLAkzoBTYQNUsC31EFeDwNSwPjGEAAcA1LAFvvL7skbUsCeXinLEANSwFafq63YA1LAmggbnl4RUsALJ2n+mBpSwLxASYEFG1LAU1ipoKIaUsBozY+/tBpSwCcvMgG/GlLAirDh6ZUKUsAXt9EA3gpSwETdByC1ClLAEOm3rwMbUsBTBaOSOhlSwNoAbECEEFLA1xLyQc8QUsB5Wn7gKjNSwJcaoZ+pMFLAzF1LyAcxUsCMSuoENBFSwNUJaCJsEFLAUmStodQOUsD4+e/BazdSwDdxcr9DN1LAniPyXUoyUsDmIVM+BDJSwBmuDoC4MVLASih9IeQbUsA7j4r/OxxSwJHVrZ6THFLAtvP91HgBUsC7uI0G8DpSwJm7lpAPGlLAdLUV+8saUsAtsp3vpxpSwIofY+5aGlLAXynLEMcaUsCFfNCzWRlSwC0hH/RsGlLAJ8KGp1caUsCiREseTxpSwPz/OGHCGlLAy6FFtvMZUsADCYofYxpSwB+F61G4GlLAApoIG54aUsAKLev+sRpSwH5v05/9GlLAemzLgLMaUsC/CvDd5hpSwOXQItv5GlLAQmDl0CIbUsCpoQ3ABhtSwAmKH2PuNlLAHThnRGkbUsB8YTJVMBpSwFfsL7snG1LAj1N0JJcbUsACK4cW2RpSwLivA+eMGFLAryXkg54ZUsBPQBNhwxtSwIZa07zjGFLAOwFNhA0bUsCU2/Y96hhSwFRzucFQG1LA9aJ2vwobUsBkyoegahtSwMDsnjwsKFLA1xLyQc8qUsB4CyQofihSwIPAyqFFGlLAoG6gwDsoUsD+7bJfdyhSwKTfvg6cJ1LAm1lLAWkoUsDiAPp9/ydSwOF6FK5HFVLAT0ATYcMnUsDqlbIMcShSwLivA+eMHFLAYqHWNO8cUsCxUGuadxxSwJXUCWgiHFLAE2HD0ysVUsAnMnOByxRSwIrJG2DmFFLAAtnr3R8XUsBI/mDguT5SwKwcWmQ7F1LA7Q2+MJkWUsAIrBxaZBdSwEoMAiuHPlLA7pbkgF0bUsB1AwXeyRtSwMqmXOFdG1LAF9nO91MbUsDy0k1iEBxSwPp+arx0G1LAJAuYwK0VUsBH5pE/GBZSwDunWaDdFVLALzIBv0YWUsDMf0i/fRVSwGZmZmZmFlLArkfhehQaUsBLyAc9mxVSwJjdk4eFFlLABaOSOgEVUsBSuB6F6xVSwNIA3gIJFlLAZvfkYaEyUsBvDAHAsRVSwEfLgR5qFVLA8X7cfvkVUsBcr+lBQRZSwPTeGAKAFVLAz4JQ3scVUsBtG0ZB8BRSwIquCz84FVLAObNdoQ8WUsDW4lMAjBVSwPN1Gf7TFVLA0ZFc/kMVUsC214LeGxZSwBnG3SBaFVLAmSzuPzIWUsDdJ0cBohVSwJTb9j3qFVLA2spL/icVUsA9npYfuBVSwCAL0SFwFVLAQe+NIQAWUsDysbtASTJSwLYTJSGRMlLAbHh6pSwnUsAgY+5aQhpSwFR0JJf/EFLA6Ugu/yERUsBmvoOfOBVSwMug2uBEFVLAaccNv5sVUsC1N/jCZBJSwISEKF/QEVLAh97i4T0SUsCY/E/+7hFSwKH4MeauEVLA46WbxCAUUsBLWYY41hVSwE5iEFg5FFLAZ0Rpb/AVUsDx9EpZhhRSwIofY+5aGlLAqoJRSZ0UUsARNjy9UhZSwDC7Jw8LGVLAguLHmLsaUsCGWtO84xhSwDLmriXkF1LAQKTfvg4UUsAFTraBOxBSwK/RcqCHEFLAPZtVn6sRUsDu68A5IxJSwLL1DOGYFFLAxlIkXwkVUsAiGt1B7BlSwHuEmiFVGlLAJ6CJsOEZUsBTliGOdQ1SwG40gLdADlLAbjSAt0ASUsBVMCqpExRSwIxK6gQ0/VHAx0s3iUH8UcDtYwW/DRxSwBzr4jYaDFLAGy/dJAYNUsCdEaW9wQtSwFuU2SCTC1LAPIbHfhYLUsBoA7ABEQxSwIOKql/pClLAObaeIRwLUsBqFf2hmQtSwJDAH37+HlLASz0LQnkfUsCAnDBhNB9SwKJ6a2CrHlLA7GmHvyYfUsBm9+RhoR9SwO6W5IBdH1LApKfIIeIeUsBaSSu+oQlSwCUgJuFCClLAdT+nID8fUsAe4bTgRR9SwGbc1EDzDFLAnFCIgEMNUsA1mIbhIxJSwPzDlh5NElLAUDdQ4J0SUsCfdCLBVBJSwLH4TWGlElLAQs77/zgUUsCWQbXBiRRSwOauJeSDElLA9dvXgXMKUsAj2/l+aghSwB/0bFZ9ClLA/7J78rAIUsDQs1n1uQpSwP+ye/KwCFLArfpcbcUKUsCTqYJRSQ1SwFZ9rrZiD1LAr5RliGMNUsBzaJHtfA9SwG8Sg8DKDVLA5BQdyeUPUsDpJjEIrBxSwDtwzojSHlLA2c73U+MNUsCcoiO5/A9SwLivA+eMGFLA9+RhodYcUsD7XG3F/h5SwP5D+u3rHFLAjnVxGw0MUsCgGi/dJA5SwJZDi2znA1LAW7G/7J4UUsCV1AloIghSwFXBqKRODFLAzO7Jw0IdUsBGtvP91BRSwIenV8oyBFLAEFg5tMgSUsAxmSoYlQxSwERpb/CFHVLAl/+QfvsSUsC+MJkqGBVSwDarPldbFVLA6+I2GsATUsASFD/G3BVSwJXzxd6LA1LA19zR/3IDUsDJjo1AvBZSwFQcB14tFlLANIY5QZsMUsCcGmg+5wtSwAX9hR4xDFLAbt+j/noMUsAd5PVgUgxSwF2j5UAPDFLAYabtX1kMUsCz0Tk/xQtSwGWp9X6jDFLASPje36ALUsB/TkF+NgxSwEYKZeHrC1LABjBl4IAMUsDUnSeesxJSwD2ARX79ElLAKUF/oUcTUsDBOo4fKhhSwLPsSWBzGFLAc/T4vU0YUsAoLPGAsh1SwI3w9iAEGFLAFJZ4QNkdUsAxXB0AcRhSwI8X0uEhHlLAs+xJYHMUUsCOBYVBmRRSwIvh6gCIFFLALSY2H9cTUsDEfHkB9gpSwEP+mUF8D1LAxF4oYDsPUsDNc0S+Sw9SwJgXYB+dD1LAfGDHf4EMUsCgNT/+0gxSwCfChqdXHlLAfdCzWfUdUsBGlPYGXxxSwKN3KuCeD1LAg4qqX+kPUsBoBvGBHRBSwFxzR//LHlLAKQXdXtIXUsAn9tA+VhFSwJYhjnVxD1LAZRniWBcbUsDx9EpZhhhSwL7BFyZTGVLACYofY+4eUsA7AU2EDR9SwFpkO99PEVLA16NwPQoTUsCppE5AExlSwHWTGARWHlLA5/up8dIFUsDtmSUBagVSwC0+BcB4BVLA+PnvwWsEUsA91/fhIARSwFmLTwEwBFLAaeId4EkaUsBl3xXB/xlSwBe30QDeAlLA09nJ4CgDUsCcFye+2hJSwP7zNGCQElLAPZgUH58SUsDc2VcepBlSwMJM27+yGVLA76gxIeYTUsA1m8dhMBRSwH1aRX9oGVLAD4EjgQYbUsAj2/l+agRSwIenV8oyCFLAIbByaJEVUsALtaZ5xxlSwLPqc7UVG1LAEHo2qz4DUsCyLm6jARBSwCqpE9BEEFLAAJF++zocUsBaZDvfTxFSwHPXEvJBA1LAGw3gLZAEUsCPwvUoXANSwDj4wmSqBFLAG55eKcsUUsBBguLHmAdSwJ0Rpb3BA1LAxY8xdy0ZUsCOBvAWSARSwCGwcmiRGVLAf9k9eVgQUsCHqMKf4QNSwA9FgT6RA1LA2QbuQJ0DUsCqm4u/7QNSwOAPP/89BFLAvFgYIqcSUsCQFJFhFQdSwPuxSX7EBlLAy2Q4ns8GUsD752nAIAdSwBzSqMDJGFLA5Euo4PAYUsDnNuFemRZSwBi0kIDRG1LA+s+aH38bUsANchdhihtSwCpWDcLcG1LAO99PjZcKUsCLw5lfzQJSwI/GoX4XA1LAzLVoAdoCUsAC8bp+wRpSwKnCn+HNGlLAasGLvoIaUsDhDP5+MRtSwJpBfGDHHVLAvTRFgNMdUsAUeCefHh5SwIofY+5aAlLAQmDl0CIDUsD7OnDOiBpSwMgHPZtVG1LA3+ALk6kaUsD6fmq8dBtSwBKlvcEXHlLAWVLuPsc7UsAOLbKd7wNSwD9XW7G/BFLAZMxdS8gHUsAwgPChRAxSwJQUWABTDFLAi6iJPh8yUsDVeOkmMQxSwG+BBMWPFVLA/Knx0k0WUsBRa5p3nAZSwEG8rl+wL1LA/Bhz1xI6UsAH8BZIUDhSwL6fGi/dOFLAmEwVjEouUsAbDeAtkDhSwH2utmJ/OVLA1CtlGeI4UsBMNEjBUzlSwLx0kxgEOlLApSxDHOsuUsBWf4RhwC5SwPvL7snDKlLAMnctIR8sUsAB3gIJiitSwDOMu0G0KlLAqHFvfsMqUsBCPujZrCpSwPhT46WbCFLAmBdgH50dUsAxCKwcWjxSwB6n6EguG1LA/Knx0k0aUsBDrWnecRpSwIqw4emVGlLAZapgVFIbUsBApN++DhxSwKyt2F92G1LAHLRXHw8aUsBI+x9grRpSwKaAtP8BG1LARwGiYMYaUsBo6+BgbxtSwEnyXN+HG1LAvyhBf6EbUsDNlNbfEhtSwE4K8x5nG1LA3eukviwbUsAGMGXggBtSwMReKGA7GFLAlzszwXAXUsC+MQQAxxdSwEvpmV5iF1LANq0UArkXUsA7cM6I0hJSwHWTGARWElLAKjqSy38QUsDf4AuTqRJSwKJFtvP9EFLAETY8vVISUsDTTWIQWBFSwEOtad5xElLABTQRNjwRUsAFM6ZgjRFSwDuPiv87ElLAf2lRn+QRUsANUYU/wxNSwJw1eF+VE1LA4CpPIOwTUsAIISBfQhRSwBueXinLDFLAuyh64GMNUsBoImx4ehFSwOo/a378GFLADi2yne8bUsANMzSeCA1SwANC6+HLDFLAq7AZ4IINUsDc8Sa/RQ1SwAIqHEEqDVLAKhprf2cNUsAzaykg7QxSwLjpz36kDVLAjLrW3qcTUsCu8gTCThNSwHpRu18FFFLA+tLbn4sTUsAuceSByBNSwHk8LT9wE1LACyQofowFUsAOLbKd7wtSwLUV+8vuDVLAhJ7Nqs8FUsCP5PIf0gdSwOoENBE2DFLAQxzr4jYOUsBWn6ut2BNSwBZqTfOOB1LAOJ7PgHoTUsCWICOgwhNSwBmuDoC4E1LAeTwtP3ATUsD61RwgmBNSwEoKLIApFFLA4lgXt9EUUsAxem6hKxVSwKhxb37DFVLAfXiWICMVUsB3TrNAuxVSwPmf/N07E1LAIbByaJENUsCOsRNegiVSwAtdiUD1JVLA3iHFAIklUsDkTulg/SVSwPON6J51JVLAVn2utmILUsCkcD0K1wtSwEymCkYlJVLAbjSAt0AmUsDo2az6XCVSwB/0bFZ9JlLAat5xio4kUsCh+DHmriVSwHQkl/+QJVLAcTlegegkUsB6bMuAsyVSwFpkO99PJVLAHOp3YWslUsCCkCxgAiVSwGPQCaGDJVLA7WZGPxolUsD752nAIAZSwESn591YBlLAuCIxQQ0LUsAj+UogJR1SwHEbDeAtHVLA2QbuQJ0dUsCz6nO1FQtSwOxRuB6FA1LAYOXQItsdUsDtDb4wmR5SwCEf9GxWEVLA/Bhz1xISUsBO0ZFc/g9SwCnLEMe6EFLAgSbChqcPUsBcIEHxYxBSwJ0Rpb3BF1LAaNDQP8EDUsC/SdOgaBJSwFp/SwD+ElLAxohEoWUTUsBUHAdeLRNSwKCM8WH2F1LAmBQfn5AXUsDbGDvhJRhSwDvCacGLGFLAi8BY38ADUsCv6UFBKQRSwEW8df7tA1LAniYz3lYEUsBk6NhBJRJSwGoSvCGNElLAd06zQLsSUsAYmYBfIxNSwB7DYz+LE1LA4h5LH7oXUsBDyHn/HxhSwJxTyQBQGFLA6nsNwXEDUsB+UYL+QgRSwNjxXyAIBFLAf4eiQJ8DUsANbJVgcQRSwE1MF2L1D1LAAwZJn1YPUsCCrn0BvQ9SwFhzgGCOHlLA3Qw34PMeUsDIef8fJxNSwNbiUwCME1LAs9E5P8UGUsAqVg3C3AZSwOiHEcKjGVLA0c3+QLkZUsBorz4e+hlSwCTtRh/zHFLA73IR34kcUsA9mBQfnxxSwNnQzf5AGlLAATPfwU8aUsAE54wo7RlSwBB6Nqs+G1LA0SLb+X4aUsBwCcA/pQZSwHMtWoC2BlLAkdJsHocaUsBUdCSX/xBSwGiz6nO1HVLA0cq9wKwLUsD3kzE+zBBSwKnCn+HNHFLAE5m5wOUcUsBCzvv/OB1SwLjpz36kHVLAxEKtad4JUsAu/yH99glSwNejcD0KC1LAMCk+PiEGUsCkbmdfeQZSwO2ePCzUDlLAZmZmZmYSUsDMXUvIBxFSwPRsVn2uElLAmj474LoOUsB5dY4B2RxSwEnajT7mHFLAKjv9oC4dUsAA/b5/8xxSwGGL3T6rHFLAO4+K/zsdUsARUUzeAB1SwKrU7IFWHVLATRWMSuocUsAZ4lgXtx1SwI4G8BZIHFLAW9O84xQdUsBTBaOSOhVSwNIA3gIJFlLA6pWyDHEcUsBaZDvfTy1SwFtCPujZLFLA4JwRpb0tUsCwcmiR7RBSwJpfzQGCHFLAKT4+ITscUsCzCpsBLhFSwCBj7lpCClLAXYjVH2EcUsChZ7Pqcx1SwIrnbAGhGFLA29yYnrAYUsDobAGh9QtSwKJinL8JDFLA3+ALk6k2UsBuNIC3QA5SwAEwnkFDDVLAlfCEXn8zUsCAY8+eyzNSwEGbHD7pNlLAWWq932gQUsDzkCkfghBSwEOtad5xClLA4C2QoPgJUsCN1eb/VQhSwBZsI57sB1LArKqX32kKUsAWvVMB9wdSwMlYbf5fCFLAsOO/QBAIUsCkbmdfeQhSwHh6pSxDCFLAVHQkl/8IUsAKaCJseApSwCQmqOFbCFLAB2ADIsQIUsAIPDCA8AdSwE4rhUAuClLAy4XKv5YKUsDrc7UV+wdSwDQRNjy9BlLAf9k9eVgIUsDJdr6fGgdSwEC/79+8B1LAMo/8wcAHUsCt2jUhrQdSwCgLX1/rB1LAD2PS30sIUsByM9yAzwdSwIiE7/0NCFLAF35wPnU5UsCL3qmAezlSwN4CCYofB1LATKYKRiUJUsAK16NwPTpSwCpWDcLcCVLACWzOwTMKUsCKyRtg5glSwCjwTj49ClLAZ0Rpb/AJUsBmiGNd3ApSwJLLf0i/CVLAQj7o2awKUsB1V3bB4AlSwJtWCoFcClLARQ2mYfgJUsACDwwgfAlSwJpcjIF1ClLAE/JBz2YBUsCy2vy/6gFSwNi4/l2fAVLAqoB7nj8CUsC1+1WA7wFSwCEf9GxWAVLAgZVDi2wDUsDEQq1p3gFSwMBbIEHxA1LAZeJWQQwCUsBzMJsAwwFSwFhYcD/gAVLA5SoWvykCUsAyOEpenSZSwMy4qYHmJlLA9pfdk4cBUsDf4AuTqSZSwCV1ApoIJ1LA+KV+3lQJUsC5NH7hlQlSwFEWvr7WCVLAsHJoke0IUsALRiV1AgpSwDI7i96pCVLAAOXv3lEJUsCdSgaAKg5SwICcMGE0DlLAyeU/pN8SUsAxmSoYlRRSwNDVVuwvE1LAiGNd3EYTUsBCz2bV5xJSwLAD54woMVLAVg4tsp0TUsA7cM6I0hJSwApoImx4OlLA5WGh1jQ7UsBB1H0AUjtSwLnjTX6LO1LA/mX35GE5UsCBJsKGpztSwGaIY13cOlLAjxoTYi47UsApPj4hOztSwGHD0ytlLVLAb4EExY8tUsBt5/up8S5SwARWDi2yLVLA7C+7Jw8vUsCEns2qzy1SwB6n6EguL1LAINJvXwcuUsBSSZ2AJi5SwIPAyqFFLlLABFYOLbItUsAhsHJokS1SwGiR7Xw/LVLALUMc6+IuUsD129eBcy5SwD0s1JrmLVLAodY07zgtUsA8vVKWIS5SwJoIG55eLVLA0ZFc/kMuUsB9rrZify1SwGZmZmZmLlLAryXkg54tUsCY3ZOHhS5SwC9uowG8LVLAylTBqKQuUsBg5dAi2y1SwPvL7snDLlLAyjLEsS4uUsCz6nO1FS9SwEp7gy9MLlLAMzMzMzMvUsDKw0KtaS5SwGWqYFRSL1LAZqNzfootUsDS4oxhTi1SwOFFX0GaLVLATDeJQWAtUsB+iuPAqy1SwDy858ByLVLA5ngFoictUsBSEDy+vS1SwLTLtz6sLlLAPpKSHoYtUsApJm+AmS1SwFlMbD6uLVLAQ6ooXmUtUsCefeVBei1SwO6x9KELLlLAZ7gBnx8uUsAMVwdA3C5SwLxYGCKnLlLALCy4H/AuUsCZR/5g4C1SwNPZyeAoLlLAU14robsuUsDmIVM+BC9SwPrVHCCYLVLAxouFIXIuUsB/orJhTS9SwJUsJ6H0LVLAKlPMQdAuUsBbmlshrC1SwKvOaoE9LlLA41Eq4QkuUsDNr+YAwS1SwNUD5iFTLlLAYtaLoZwuUsBbecn/5C5SwA6HpYEfLlLA2uVbH9YtUsCx+47hsS5SwPF+3H75LlLAkfC9v0EvUsBApN++Di9SwAQb17/rLVLADW/W4H0uUsB8Qnbexi5SwICcMGE0LlLAwXPv4ZIuUsBM4xdeSS5SwFg6H54lL1LATkaVYdwuUsDaG3xhMi1SwPtcbcX+LlLAsVBrmncsUsCaCBueXi1SwLpJDAIrL1LA1JrmHacsUsBa9bnaii1SwMKGp1fKLlLA+Q/pt68vUsCCc0aU9i5SwLn8h/TbL1LAvAUSFD8uUsClvcEXJi9SwCsYldQJMFLAgq59Ab0sUsDUtfY+VSxSwAH6ff/mLFLAfXVVoBYtUsASbFz/rixSwPtcbcX+LlLA+u3rwDkvUsAzxLEubi9SwMNkqmBULlLASgwCK4cuUsA0ETY8vS5SwI2XbhKDLFLAeJyiI7ksUsBiodY07yxSwPJBz2bVK1LA6Ugu/yEtUsArGJXUCSxSwGKjrN9MLVLA71cBvtssUsBJ8lzfhyxSwD6V056SLFLAXaPlQA8tUsD+8PPfgy1SwAkYXd4cLVLAiIVa07wvUsCCc0aU9i5SwDBMpgpGLVLA/yCSIccsUsCKk/sdiixSwFJkraHULFLA2NMOf00sUsBF8pVASixSwHcwYp8ALFLAbeUl/5MsUsCphv2eWCxSwE7yI37FK1LAd0gxQKIsUsDDgvsBDyxSwB3MJsCwLFLAwTdNnx0sUsBOCvMeZyxSwNKsbB/yK1LAmRHeHoQsUsDxun7BbixSwD2elh+4LFLACWzOwTMsUsBHAaJgxixSwLou/OB8LFLA6YGPwYosUsDPhZFe1CxSwDAvwD46LVLAHPD5YYQtUsCjdOlfki1SwFxV9l0RL1LAZ7gBnx8vUsARiq2gaS9SwLwEpz6QLVLAcSGP4EYtUsAWpYRgVS1SwO5aQj7oLVLAP8bctYQsUsDiWBe30SxSwPd14JwRLVLADi2yne8rUsB+HThnRC1SwELPZtXnKlLAI0p7gy8sUsB9rrZify1SwIY41sVtLFLAL26jAbwtUsAu/yH99i1SwOzAOSNKL1LAN4lBYOUsUsDgvg6cMy5SwH4dOGdELVLAirDh6ZUuUsAzxLEubitSwLKd76fGK1LAFYxK6gQsUsAukKD4MS5SwFZkdEASLVLAwkzbv7IsUsDlJ9U+HS1SwP/PYb68LFLAGy/dJAYtUsAkufyH9CtSwA5Pr5RlLFLA8IXJVMEsUsBApN++DixSwAdfmEwVLFLAZMxdS8grUsC6awn5oCtSwAMJih9jKlLAFvvL7skrUsCC4seYuypSwKpgVFInLFLACYofY+4qUsDxY8xdSyxSwAddwqG3KlLAvkwUIXUqUsD0wMdgxSpSwCs1e6AVK1LA4fHtXYMqUsBHBOPg0ipSwINsWb4uK1LAIeS8/48qUsAFGJY/3ypSwB7htOBFK1LAyHn/HycrUsAah/pd2CpSwHU8ZqAyK1LAyGEwf4UsUsDshJfg1CxSwCgPC7WmKVLA7nw/NV4qUsBlGeJYFytSwN21hHzQK1LAWYY41sUpUsDRItv5fipSwPrt68A5K1LAcoqO5PIrUsAHX5hMFSxSwFvTvOMUKVLA1xLyQc8qUsBpAG+BBC1SwPkx5q4lLFLA1CtlGeIsUsAAAAAAACxSwNv5fmq8LFLApHA9CtcrUsA/NV66SSxSwEHXvoBeKVLALxfxnZgpUsB8fhghPC1SwO+QYoBELVLAlBEXgEYsUsDHgsKgTCxSwEjdzr7yK1LATUwXYvUrUsBQN1DgnStSwK2kFd9QLFLAzHnGvmQuUsDUu3g/bi5SwFpJK76hK1LAqp7MP/orUsAn9tA+VixSwD3RdeEHLFLANlzknq4rUsDBGfz9YixSwLD+z2G+LFLAtyVywRktUsC/ZOPBFixSwBzSqMDJLFLAMVwdAHEsUsAGSDSBIi1SwG8PQkC+K1LADVTGv88rUsDsaYe/JixSwLLXuz/eK1LACyQofowsUsAbvRqgNCxSwB2rlJ7pK1LAznADPj8sUsAfuqC+ZT5SwBjMXyFzPlLAg2xZvi41UsCAgSBAhjVSwMA9z582NVLA6DOg3ow1UsAlICbhQjVSwJjdk4eFLlLAHThnRGkvUsAv3SQGgSlSwBiV1AloKlLA5WGh1jQvUsDT3uALky1SwOwvuycPK1LAhxbZzvcrUsANcayL2yxSwMgHPZtVK1LAY+5aQj4sUsBMpgpGJS1SwMiYu5aQK1LA6pWyDHEsUsC+wRcmUy1SwKd5xyk6LlLAJCh+jLkrUsBbsb/snixSwC/dJAaBLVLAGJXUCWguUsDOiNLe4CtSwLhAguLHLFLA845TdCQrUsCOdXEbDSxSwClcj8L1LFLAAJF++zosUsCad5yiIy1SwKCJsOHpPVLABcWPMXc9UsDRItv5fj5SwGIQWDm0NFLA6Gor9pc1UsAi/fZ14DRSwL3jFB3JNVLAfdCzWfU1UsCMSuoENDVSwDy9UpYhNlLAh4cwfhorUsC/KEF/oStSwF6FlJ9UK1LAOIYA4NgrUsAuGjIepStSwIS3ByEgLFLAWYgOgSMrUsCYFB+fkCxSwPvMWZ9yK1LA0qkrn+UqUsBTPZl/9CtSwDmYTYBhLFLAD4EjgQYrUsAwZeCAlitSwFmFzQAXLFLAxEMYP40sUsAsSgnBqitSwMVYpl8iK1LAEF1Q3zIsUsCBXU2esixSwPWEJR5QK1LAradWX10sUsBC6Qsh5y1SwApLPKBsLlLAo1aYvtcrUsCnd/F+3CxSwLYQ5KCEK1LAv2GiQQosUsAF+kSeJC5SwO1jBb8NLVLAFop0P6cuUsCHw9LAjyxSwN481SE3K1LA0H8PXrsrUsDgDz//PSxSwPGfbqDALFLAEYqtoGkrUsDzxklh3ipSwMx8Bz9xLFLAM2spIO0rUsBXQKGePitSwMxh9x3DK1LAh8CRQIMrUsAYeO49XCtSwMy1aAHaK1LAniPyXUosUsBPPdLgtixSwBFUjV4NK1LAJxQi4BAsUsA/4IEBhCxSwK7UsyCUK1LAP6cgPxsrUsDPu7GgMCxSwNGRXP5DK1LA8KKvIM0rUsBUc7nBUCxSwDZ39L9cLlLAEY3uIHYrUsCcbtkh/itSwJAUkWEVLlLAQKGePgItUsCfVtEfmi5SwNHKvcCsK1LAvRx23zEsUsB2GJP+XitSwOljPiDQKlLAcvp6vmYsUsDzk2qfjitSwIW0xqATLFLA65Cb4QYrUsBBtixflyxSwCcvMgG/K1LAraHUXkQsUsDqQqz+CD5SwJkOnZ53PlLA61T5npE9UsDbGDvhJT5SwJEm3gGePlLAHcwmwLA9UsCaQXxgxz1SwIfe4uE9PlLAQbyuX7A+UsCwyK8fYj5SwAxaSMDoPVLA2PFfIAg1UsBhiJy+njRSwAw89x4uNVLAzLIngc01UsBx6C0e3jRSwEw3iUFgNVLAPdF14Qc1UsALJ2n+mDVSwDAsf74tNVLAsacd/po0UsCkU1c+yzVSwEcBomDGNFLAhZZ1/1g1UsALQnkfRzRSwDNuaqD5NVLAaK8+Hvo0UsA0gLdAgjRSwOUqFr8pNlLApHGo34U1UsA51sVtNChSwEcDeAskKFLAnMQgsHIoUsBcIEHxYyhSwHGsi9toKFLANqs+V1slUsD/If32dShSwKFns+pzJVLADeAtkKAoUsCcoiO5/CtSwPmgZ7PqK1LAWYY41sUlUsAi/fZ14ChSwISezarPJVLA6bevA+coUsCL/WX35CVSwFvTvOMUKVLATfOOU3QsUsCqglFJnSxSwCsYldQJMFLAhXzQs1kpUsAUP8bctSxSwFUwKqkTMFLAVOOlm8QsUsAOvjCZKjBSwPKwUGuaM1LAWRe30QA+UsANcayL2yxSwGPuWkI+MFLArrZif9k9UsCb5h2n6CxSwNzXgXNGMFLAdy0hH/QsUsD4wmSqYDBSwIts5/upKVLAMLsnDwstUsC/fR04ZzBSwL4wmSoYLVLAFK5H4XowUsB1kxgEVj5SwLAD54woLVLAuK8D54wwUsAukKD4MT5SwGdEaW/wQVLA8KfGSzctUsAxmSoYlTBSwAU0ETY8LVLA48eYu5YwUsC1FfvL7ilSwLdif9k9LVLAf2q8dJMwUsD3Bl+YTC1SwIbJVMGoMFLAsi5uowE0UsBMN4lBYC1SwFTjpZvEMFLAgEi/fR00UsChZ7Pqcy1SwKkT0ETYMFLAdZMYBFYqUsCLbOf7qS1SwGkAb4EEMVLAdZMYBFYqUsDZPXlYqC1SwFR0JJf/MFLAtoR80LMtUsCTGARWDjFSwFmGONbFLVLAsAPnjCgxUsBg5dAi2y1SwLdif9k9MVLAFD/G3LU0UsBpb/CFyTRSwAYSFD/GNFLAvp8aL900UsAFo5I6ATVSwCKOdXEbNVLATKYKRiU1UsDFjzF3LTVSwPjCZKpgKFLAvAUSFD8mUsAtsp3vpyZSwDarPldbKVLAwhcmUwUnUsAZ4lgXtylSwEoMAiuHLlLA8BZIUPwwUsBBguLHmCdSwHWTGARWJlLAKVyPwvUoUsCYbhKDwCZSwNDVVuwvJ1LAi/1l9+QpUsCRD3o2qy5SwDcawFsgMVLAescpOpInUsDZX3ZPHipSwMIXJlMFL1LAzH9Iv30xUsDo2az6XC1SwN4CCYofN1LA4JwRpb0tUsCgGi/dJC5SwOauJeSDLlLALUMc6+IuUsBv8IXJVDFSwOAtkKD4LVLAmG4Sg8AuUsBCYOXQIi9SwOxRuB6FL1LAMuauJeQvUsDIBz2bVStSwG8Sg8DKLVLAeHqlLEMwUsDr4jYawCtSwKd5xyk6LlLAYhBYObQwUsDeAgmKHz9SwHEbDeAtLFLALbKd76cuUsCF61G4HjFSwN0kBoGVP1LAat5xio4sUsCeXinLEC9SwG+BBMWPMVLA9UpZhjhCUsDPZtXnaitSwNnO91PjLVLAlWWIY10wUsBAE2HD0ytSwPyp8dJNLlLAuECC4scwUsAQejarPj9SwCqpE9BELFLA5j+k374uUsA+eVioNTFSwF1txf6yP1LAOPjCZKosUsBseHqlLC9SwNk9eVioMVLAarx0kxhAUsDi6ZWyDC1SwGQ730+NL1LAmbuWkA8yUsA9CtejcC1SwPmgZ7PqL1LAysNCrWkyUsCjkjoBTTBSwF8pyxDHMlLAYhBYObQwUsAJG55eKTNSwHBfB84ZMVLADi2yne8zUsDSAN4CCS5SwD/G3LWEMFLAdEaU9gYzUsA3iUFg5TBSwL7BFyZTMVLATmIQWDk0UsBq3nGKjjRSwBdIUPwYN1LA24r9Zfc0UsA2qz5XWzVSwGiz6nO1NVLAtvP91Hg1UsA2zTtO0TVSwD6zJEBNNVLAwFsgQfE0UsAwZeCAljRSwLDIrx9iNVLAnkFD/wQ1UsDgSKDBpjRSwKvRqwFKNFLAkuo7vygwUsDfNlMhHjZSwGb0o+GUMFLA1v1jITowUsBFuTR+4S9SwHZR9MDHNVLAswqbAS42UsBKJTyh1zVSwBaKdD+nMFLAdELooEswUsBm3NRA8y9SwIbGE0GcL1LA2h694T42UsD6CPzh5zVSwAQhWcAEMFLAbOun/6wvUsBFDaZh+DVSwOIGfH4YMFLAMo/8wcAvUsBYWHA/4DBSwFyRmKCGMFLA9N4YAoAvUsBu+rMfKS9SwDykGCDRLlLAHvzEAfQwUsDylqsfmzBSwLXFNT6TL1LApl8i3jovUsC2+BQA4y5SwIOieQCLLlLARML3/gYxUsBZTGw+rjBSwLkcr0D0LlLAIef9f5wuUsBB9Q8iGTFSwDKP/MHAMFLAmFDB4QUvUsDjGwqfrS5SwEcE4+DSMFLA965BX3owUsCzB1qBITBSwI/GoX4XL1LAJy8yAb8uUsCQ+YBAZy5SwDmzXaEPLlLAukkMAisxUsCdaFch5TBSwBjS4SGMMFLAqn06HjMwUsDBOo4fKi9SwE31ZP7RLlLAgH7fv3kuUsByGMxfIS5SwKvOaoE9MVLAYYicvp4wUsBC0TyARTBSwE0Ttp+MLlLA7GzIPzMuUsC5Fi1A2y1SwCLhe3+DLVLALh1znrEwUsBQVaGBWDBSwKN3KuCeLlLAHuG04EUuUsDOixNf7S1SwCUFFsCULVLAQNr/AGswUsDxhF5/EjBSwFlPrb66L1LAHcwmwLAuUsAOZhNgWC5SwGXfFcH/LVLA4EigwaYtUsASaRt/oixSwMVwdQDEMFLAHw4SonwwUsBq2VpfJDBSwFaCxeHML1LAuhCrP8IuUsBHy4Eeai5SwFZkdEASLlLA0c3+QLktUsAzjLtBtCxSwIelgR/VMFLAi/z6ITYwUsBN+KV+3i9SwHxFt17TLlLAr84xIHsuUsCOyeL+Iy5SwOVC5V/LLVLAgnLbvkcwUsAsLLgf8C9SwPaZsz7lLlLATRO2n4wuUsAIHt/eNS5SwDunWaDdLVLApmJjXkcuUsD36uOh7y1SwDAvwD46LFLA/MbXnlkuUsCmgLT/AS5SwM1zRL5LLFLAiNhg4SQwUsDTo6mezC9SwKFNDp90L1LA7Es2HmwuUsCWBRN/FC5SwEHXvoBeLFLAlwLS/gcsUsC6LvzgfDBSwOQtVz82MFLAste7P94vUsDBcK5hhi9SwPrPmh9/LlLAzHwHP3EsUsClhjYAGyxSwHtpigCnMVLAkQvO4O8vUsDW5ZSAmC9SwNe+gF64MVLAL1BSYAEwUsDqWnufqi9SwEPFOH8TMFLAQL/v37wvUsCW6gJeZi9SwLfUQV4PL1LAh4px/iYwUsAepRKe0C9SwKRuZ195L1LADTm2niEvUsDkSGdg5C9SwCk+PiE7MFLAOq3boPYvUsA5ud+hKDBSwNDTgEHSL1LAZ+4h4XsvUsCz74rgfzBSwG3KFd7lL1LAz6Pi/44vUsDVr3Q+PDBSwHRd+MH5L1LAWkkrvqEvUsBXfEPhsy9SwO6x9KELMFLAkszqHW4vUsBZhc0AFy9SwL5PVaGBL1LAf0sA/ikvUsCZSj/h7C9SwAEVjiCVL1LANJ4I4jwvUsB6Nqs+VzBSwEXaxp+oL1LAeGNBYVAvUsDtmSUBajBSwCPA6V28L1LAIAiQoWMvUsDNlNbfEjBSwFg6H54lMFLAuhPsv84vUsCIvVDAdi9SwGa+g584MFLAq5hKP+EvUsBUUiegiS9SwP0RhgFLMFLAvw0xXvMvUsBpxw2/my9SwJ5BQ/8EMFLASPsfYK0vUsDjVGthFjBSwMJPHEC/L1LA5ngFoicwUsA8pBgg0S9SwKetEcE4MFLA2eicn+IvUsCVLCeh9C9SwA9Iwr6dL1LA3PEmv0UvUsCYMnBASzBSwOuQm+EGMFLAiJy+nq8vUsCYNbHAVy9SwCbhQh7BL1LAd2nDYWkvUsCs4/ih0i9SwNO+ub96L1LAx0lh3uMvUsCy8stgjC9SwFA3UOCdL1LAym37HvUvUsAva2KBry9SwKm/XmHBL1LAwR9+/nsvUsDQuHAgJC9SwJliDoKOL1LAr+yCwTUvUsDrOel94z5SwDqSy39IL1LAaf0tAfg+UsC8B+i+nD5SwCQmqOFbL1LASz0LQnlAUsClhjYAG0BSwFmLTwEwQFLAZtmTwOY/UsDzk2qfjj9SwNb9YyE6P1LAwygIHt8+UsD7Bbth2y1SwL0BZr6DLVLAhq5EoPo/UsDdJ0cBoj9SwG0Dd6BOP1LAdy0hH/Q+UsBFvHX+7S1SwMuFyr+WLVLAh9uhYTFAUsDshJfg1D9SwC8yAb9GQFLAp3oy/+g/UsBJLv8h/T9SwKaYg6CjP1LAflTDfk8/UsAwaCEBoy1SwEXylUBKLVLATz3S4LY/UsBv2SH+YT9SwGLcDaK1LVLAradWX10tUsCw479AEEBSwDyh15/EPlLA7ZklAWo+UsARct7/xy1SwHk8LT9wLVLAIeo+AKknUsAWpYRgVSdSwC4gtB6+J1LAa7sJvmknUsBn1lJA2i1SwM+goX+CLVLAj+TyH9InUsBn7iHheydSwOEJvf4kJ1LAhdIXQs4mUsDsh9hg4SdSwB7DYz+LJ1LA/b0UHjQnUsB9lufB3SZSwH9OQX42KFLAtvgUAOMnUsD5oj1eSChSwLkcr0D0J1LAOrAcIQMoUsBZTGw+ridSwPFmDd5XKFLA2NZP/1knUsBDxTh/EyhSwAYq499nKFLAR8uBHmonUsC9GTVfJShSwBufyf55KFLA5A8GnnsmUsAxfa8hOChSwFaCxeHML1LAD2PS30soUsB7Tnrf+CdSwI0IxsGlJ1LAO2743XQvUsDDKAge3y9SwLXC9L2GL1LAg2xZvi4vUsC4ByEgXyhSwHYzox8NKFLAJA7ZQLonUsCU9gZfmC9SwNnQzf5AL1LA8Ief/x4oUsDlQuVfyydSwHMqGQCqL1LAdxVSflIvUsAp7Q2+MChSwB6oUx7dJ1LArI+HvrsvUsC7KHrgYy9SwFth+l5DKFLAqcKf4c0vUsA1fXbAdS9SwIbJVMGoNFLAvjCZKhg1UsAcfGEyVTRSwP8h/fZ1NFLA2qz6XG01UsD5oGez6jNSwF8HzhlRNlLAWvW52oo1UsCWIY51cS9SwD2bVZ+rNVLARwN4CyQ0UsBqTfOOUzBSwBZqTfOOL1LA6pWyDHEwUsCWsgxxrC9SwAaBlUOLMFLAZMxdS8gvUsAQ6bevAy9SwDj4wmSqMFLA5BQdyeUvUsBCYOXQIi9SwO58PzVeLlLA6Gor9pctUsC4QILixzBSwGRd3EYDMFLAwaikTkAvUsBtxf6yey5SwBniWBe3LVLAKjqSy38wUsDWVuwvuy9SwIJzRpT2LlLA4L4OnDMuUsDarPpcbS1SwNSa5h2nLFLAW7G/7J4wUsAHzhlR2i9SwLPqc7UVL1LAXwfOGVEuUsALJCh+jC1SwAYSFD/GLFLAAAAAAAAsUsCHFtnO9y9SwOVhodY0L1LAkX77OnAuUsCLbOf7qS1SwDJ3LSEfLFLALGUZ4lgrUsASg8DKoTFSwL6fGi/dMFLAuY0G8BYwUsBlqmBUUi9SwBHHuriNLlLAC7WmecctUsCxv+yePCxSwKyt2F92K1LA6gQ0ETYwUsDl8h/Sby9SwN/gC5OpLlLAak3zjlMwUsBkO99PjS9SwOSDns2qL1LAkKD4MeYuUsDZX3ZPHi5SwH9qvHSTLFLAuK8D54wwUsCyne+nxi9SwF66SQwCL1LAWKg1zTsuUsA4+MJkqjBSwDLmriXkL1LA3gIJih8vUsCyLm6jATBSwF5LyAc9L1LACmgibHguUsA4Z0RpbzBSwDJVMCqpL1LA3nGKjuQuUsBkzF1LyC9SwF66SQwCL1LA5BQdyeUvUsCQMXctIS9SwMe6uI0GMFLAwaikTkAvUsDl8h/Sbz9SwPRsVn2uPlLAtRX7y+49UsBB8WPMXS9SwO0NvjCZLlLAo5I6AU1AUsCzDHGsiz9SwBBYObTIPlLAc2iR7XwvUsAfhetRuC5SwN5xio7kPlLA7uvAOSM+UsCfzarP1S5SwJm7lpAPLlLAk6mCUUktUsAZBFYOLS5SwBPyQc9mLVLAryXkg549UsC+nxov3TxSwJM6AU2ELVLAP1dbsb8sUsCze/KwUCdSwDSAt0CCJlLAbAn5oGcnUsACmggbniZSwIC3QILiJ1LAyXa+nxonUsBfB84ZUSZSwBWMSuoEKFLAXkvIBz0nUsDgnBGlvSlSwEcDeAskKFLALGUZ4lgnUsDHSzeJQShSwKyt2F92J1LAJ6CJsOElUsCPwvUoXC9SwPjCZKpgKFLAj1N0JJcnUsDQ1VbsLzdSwME5I0p7L1LAuycPC7UuUsB4CyQofihSwPkP6bevJ1LAQYLix5gvUsDtnjws1C5SwHlYqDXNJ1LAv30dOGc0UsCVZYhjXTRSwNXnaiv2M1LAR3L5D+kzUsDkg57Nqi9SwJ0Rpb3BN1LAgSbChqc3UsBos+pztTlSwE+vlGWIN1LAk6mCUUk9UsBseHqlLDdSwLsnDwu1JlLAm+Ydp+g8UsDChqdXyi5SwMZtNIC3PFLAkQ96Nqs+UsC0yHa+nz5SwOPHmLuWQFLAirDh6ZUuUsC/DpwzojBSwMpUwaikPlLAI9v5fmowUsBKe4MvTC5SwDEIrBxaMFLAwOyePCwwUsCHFtnO9y9SwDLmriXkL1LAtRX7y+4xUsBWn6ut2C9SwMRCrWneMVLAxyk6kssvUsBLWYY41jFSwAg9m1WfK1LAwcqhRbYvUsCSy39IvzFSwDojSnuDK1LA6Gor9pctUsCTOgFNhDFSwB04Z0RpL1LAdk8eFmoxUsCIY13cRitSwCEf9GxWLVLAQfFjzF0vUsAT8kHPZjFSwLpJDAIrK1LABTQRNjwtUsAwTKYKRjFSwMWPMXctMVLAUI2XbhIvUsBb07zjFDFSwBsv3SQGMVLAxf6ye/IwUsCMutbepyhSwPfq46HvKFLA1v1jITopUsBI+x9grShSwI3PZP88KVLAEk4LXvQoUsCuvOR/8ihSwGGInL6eNFLA8nub/uw0UsCgbqDAOzVSwLTLtz6sKFLAN1MhHokpUsDpgY/BijVSwJUO1v85KVLA6jwq/u8oUsCcTUcANylSwGr67IDrNFLArOP4odIpUsDnNuFemTRSwCjwTj49NVLA7KLogY81UsAXgbG+gSlSwGbBxB9FNVLAKSZvgJk1UsC0y7c+rChSwCTtRh/zKFLAATPfwU80UsAZjXxe8TRSwPa3BOCfNFLAmzv6X64oUsBw7q8e9yhSwDNuaqD5NFLAf6Xz4Vk0UsBi2cwhqTRSwK7yBMJONVLA1ejVAKU1UsDb3JiesDRSwGXfFcH/NFLAlC9oIQE2UsDJVSx+UzZSwJ9x4UBIN1LA2QbuQJ03UsCGqwMg7jdSwFeUEoJVNVLABwySPq01UsDNkZVfBjVSwGwGuCBbNVLARRDn4QQ2UsCEfqZetzRSwAMGSZ9WNlLA4BKAf0o3UsBSDfs9sTVSwJlH/mDgKFLA08H6P4c0UsB1BkZe1jRSwDy858ByNVLAY5rpXicpUsAF+kSeJDVSwD+MEB5tKVLApZ4FobwpUsDiP91AgTRSwOEkzR/TNFLAdmwE4nU1UsB9lufB3ShSwKzI6IAkKVLAEaj+QSQ1UsCAgSBAhjRSwME6jh8qNVLAx0YgXtc0UsBmoDL+fTVSwIfD0sCPNFLAWFhwP+A0UsDsbMg/MzVSwHhCrz+JNVLATkaVYdw1UsCDpbqAlzRSwO+oMSHmNFLAp60RwTg1UsC2EyUhkTVSwIquCz84NlLAoFBPH4E3UsDSqSuf5TVSwHtLOV/sNFLAeEXwv5U1UsBYjpCBPDZSwIV4JF6eNFLAO6qaIOo1UsAwLH++LTdSwNoeveE+NVLAcCTQYFMvUsB+VwT/Wy9SwO+oMSHmJ1LAhLpIoSwoUsBI+N7foDdSwEsi+yDLOFLAhsYTQZwnUsBnnfF9cShSwC1BRkCFOFLAvD0IAfknUsBSZK2h1DhSwIaQ8/4/KFLABTOmYI04UsChaB7AIjlSwOAw0SAFN1LAqYb9nlg3UsCNCwdCsjdSwPvJGB9mN1LAbO7of7k3UsCP4bGfxTZSwLr1mh4UN1LAW1653jY5UsDhCb3+JDdSwA0zNJ4IOFLA61c6H544UsAIPDCA8DhSwL5MFCF1N1LAey3ovTE3UsARkC+hgjdSwJcd4h+2OFLAGuHtQQg5UsCHw9LAjydSwA1Uxr/PN1LAH7qgvmU4UsC1GachqjlSwNLlzeFaOVLAN1MhHok3UsCWJqWg2zdSwH9LAP4pOFLAG5/J/nk4UsCkU1c+yzhSwJLn+j4cOVLAUUzeADM4UsDSpuoe2ThSwDF6bqErOVLAILQevkwvUsB0J9h/nS9SwMEZ/P1iL1LArd12obkvUsAkDtlAui9SwInS3uALMFLA5j+k374vUsBA2v8Aay9SwCbhQh7BL1LAAvG6fsEvUsCLpUi+EjBSwGv0aoDSKlLAh8CRQIMqUsCvmBHeHitSwFQ3F3/bKlLAObnfoSgrUsA8vOfAcjBSwNap8j0jMFLAGLFPAMUwUsBgysABLTBSwK/OMSB7MFLAgGPPnsswUsCiX1s//TBSwCo7/aAuPlLA/fm2YKkwUsCUFFgAUzFSwLLyy2CMPlLAYcH9gAcxUsAg7X+AtTBSwCC3Xz5ZMVLAQN1AgXcvUsCloUYhyS9SwMaIRKFlMFLATyLCvwgxUsBZhc0AFzBSwLsNar+1MFLAKxcq/1oxUsCkU1c+yy9SwBFXzt4ZMFLA6l28H7cwUsDqQqz+CDFSwKRuZ195L1LAxTcUPlsxUsChSs0eaDBSwPjGEAAcMFLAB0KygAkxUsADQuvhyy9SwGzu6H+5MFLAQNr/AGswUsBKB+v/HDBSwD+MEB5tMFLAk+S5vg8xUsBSEDy+vTBSwA1slWBxMFLAOGVuvhExUsDFWKZfIjBSwCAIkKFjMVLAAwmKH2MxUsBk6NhBJTBSwHL9uz5zMFLAROBIoMEwUsAUdeYeEjFSwPBsj95wMFLAxVimXyIwUsCpv15hwTBSwPGEXn8SMVLAyF7v/ngwUsA2lUVhFzFSwGSyuP/IMFLAyJdQweErUsDoS29/LixSwD/ggQGEMFLArOP4odIwUsB2G9R+azFSwLtGy4EeMVLA7X4V4LsxUsAuU5PgDTJSwCgLX1/rK1LALnHkgcgxUsAwR4/f2zBSwIi9UMB2MVLALlbUYBoyUsD4+e/BazJSwK6ek943LFLA6nWLwFgwUsCfPgJ/+DBSwEXylUBKMVLAjLrW3qcwUsArFyr/WjBSwOAtkKD4MFLAzsEzoUkxUsBXdsHgmjFSwDOJesGnMFLAnz4Cf/gwUsBWRiOfVzBSwBJsXP+uMFLAGZC93v0wUsD0pbc/FyxSwI/ecB+5MFLAJNV3flExUsD44SAhyitSwLxASYEFMVLAeHsQAvIxUsC9NEWA0ytSwN7oYz4gLFLAkNsvn6wxUsA2j8Ng/jFSwApLPKBsLFLApYP1fw4xUsBaZDvfTzJSwHI2HQHcK1LAkuo7vygsUsD3sYLfhjBSwKA4gH7fMFLAlQuVfy0xUsATYFj+fDFSwGe4AZ8fLVLA+PnvwWstUsA/qmG/Jy1SwEz75v7qMFLAMX2vITgxUsDTwfo/hzFSwIBmEB/YMVLA0J1g/3UtUsBTQNr/ADFSwBKEK6BQMVLAILdfPlkxUsDqQqz+CDFSwA5LAz+qMVLAzse1oWIxUsDR6A5iZzFSwEj+YOC5MVLA6UXtfhUxUsAJGF3eHDFSwGrBi76CL1LAsMvwn24xUsAg1bDfEzJSwPGfbqDAMVLAPbZlwFk3UsDiBnx+GDJSwNi7P96rN1LAlDKpoQ03UsBB176AXjdSwDZc5J6uN1LAKh2s/3M2UsAcmUf+YDdSwIXP1sHBNlLAwjQMHxE3UsBBvK5fsDdSwH9OQX42NlLAlfCEXn82UsAOaVTgZDdSwDaVRWEXN1LAURN9Pso2UsBdbcX+sjdSwEkQroBCNlLAWFUvv9M2UsAZrg6AuDdSwIqT+x2KNlLAqKePwB83UsBF8pVASjZSwMdkcf+RNlLAfZbnwd02UsCL/PohNjdSwMR8eQH2MVLAZ/FiYYg3UsDEXihgOzdSwPrS25+LN1LAW5caoZ82UsBG71TAPTdSwF5kAn6NN1LAIcztXu42UsAwR4/f2zdSwN/6sN6oNlLAru/DQUI3UsC8BKc+kDdSwL9k48EWNlLAdhiT/l42UsAXt9EA3jdSwKFoHsAiNlLA5jxjX7I2UsB+b9Of/TZSwHhF8L+VN1LA7ZklAWo2UsAo84++STdSwAg57//jN1LAqIx/n3E2UsANMzSeCDdSwAIqHEEqNlLAWYtPATA0UsA0gLdAgjRSwMeCwqBMNFLAjbeVXps0UsDcaABvgTBSwJLLf0i/KVLAxEKtad4pUsC/DpwzojRSwB1aZDvfJ1LA2c73U+MpUsDpJjEIrDRSwF3+Q/rtJ1LABOeMKO0pUsBU46WbxDRSwOXQItv5NlLAsi5uowEoUsDgLZCg+ClSwN9PjZduLlLAzTtO0ZEwUsDXo3A9CjdSwKOSOgFNKFLAw2SqYFQqUsAH8BZIUChSwFHaG3xhKlLAmnecoiM1UsDjNhrAWyhSwC0hH/RsKlLABTQRNjw1UsAzxLEubjdSwIY41sVtKFLALUMc6+IuUsCI9NvXgTdSwFYOLbKdN1LAL26jAbw5UsBRa5p3nCZSwKqCUUmdKFLAFNBE2PAsUsDByqFFtjdSwJkqGJXUOVLAm1Wfq60oUsC5/If02zdSwPW52or9OVLAXkvIBz0vUsAT8kHPZjFSwHo2qz5XL1LAqMZLN4kxUsAep+hILitSwB04Z0RpL1LAS8gHPZsxUsAJih9j7iZSwD7o2az6KFLAqmBUUic4UsDRkVz+QzpSwAHeAgmKL1LAgSbChqcvUsBd3EYDeCtSwHL5D+m3L1LAUrgehesxUsDdtYR80C9SwJJc/kP6MVLAYqHWNO88UsCXkA96Nj9SwMe6uI0GMFLAke18PzUyUsCXkA96Nj9SwIBIv30dMFLAvAUSFD8yUsBcj8L1KDBSwPyp8dJNMlLAnDOitDcwUsCKH2PuWjJSwEI+6NmsMlLA48eYu5YwUsDmP6TfvjJSwA3gLZCgMFLAwoanV8oyUsCbVZ+rrTBSwPXb14FzKlLAoyO5/IcsUsA/V1uxvzBSwHsUrkfhMlLAcT0K16MsUsBwzojS3jBSwMZtNIC3LFLA8BZIUPwwUsAXSFD8GDNSwFvTvOMUMVLABTQRNjwxUsAIPZtVnzdSwFR0JJf/LFLAGsBbIEExUsA2qz5XWzFSwD0K16NwMVLAj8L1KFwvUsDhC5OpgjFSwDLmriXkN1LAT0ATYcMzUsD9h/Tb1zVSwCS5/If0N1LALv8h/fY1UsDHuriNBjhSwEATYcPTM1LA/Bhz1xI2UsBVwaikTjRSwF+YTBWMNlLA7YFWYMgoUsCZSj/h7ChSwDNQGf8+KVLAr5gR3h4pUsBMHHkgsjFSwKa5FcJqMVLA6DOg3owxUsDQ04BB0jFSwGr3qwDfKFLAr9FyoIcoUsAe3nNgOSlSwMuCiT+KKVLAYYvdPqsoUsD84ee/BylSwBB4YADhMVLAO8WqQZgxUsCW7UPecjFSwInt7gG6MVLA/OHnvwcpUsBm9KPhlDFSwCXnxB7aMVLAUWfuIeEoUsCNz2T/PClSwPOTap+OKVLAQwHbwYgoUsAAGxAhrihSwKFKzR5oKVLAv2GiQQopUsC2+BQA4yhSwJVE9kGWKVLARu9UwD0pUsCTNeohGilSwGzu6H+5KFLA843onnUpUsAUeCefHihSwBaHM7+aL1LAW3nJ/+QvUsByNh0B3ChSwBrDnKBNL1LAYMrAAS0wUsA5s12hDzRSwH5XBP9bNFLAl1MCYhImUsDPvvIgPShSwKWeBaG8L1LARuwTQDE0UsBQHEC/7yhSwJhQweEFMFLAeGNBYVAwUsC5NH7hlShSwClBf6FHL1LAGqVL/5IvUsA7p1mg3S9SwIJ1HD9UNFLAEmkbf6I0UsDb+uk/ay9SwMN/uoECMFLASz0LQnk0UsCM9nghHS9SwFqdnKG4L1LAz4JQ3sc0UsAj88gfDCdSwGKga19AL1LAiq4LPzg1UsAewCK/fjVSwMJPHEC/JlLAHvzEAfQuUsAqApzexTVSwPzG155ZJ1LARdREn48vUsDQuHAgJCdSwDFBDd/CJ1LAIAiQoWMvUsDS5c3hWjVSwLQEGQEVKFLAWYXNABcvUsCcbtkh/i9SwNzZVx6kNVLAxT2WPnQnUsCNCwdCsi9SwLIN3IE6J1LA7GzIPzM1UsCXGqGfqTZSwG3KFd7lJlLACRueXikoUsBUOlj/5zRSwMEffv57NVLAcTyfAfU2UsDW4lMAjCdSwB/2QgHbJ1LAzXaFPlgnUsDDZKpgVDVSwBSTN8DMNlLAOWItPgUnUsBM/id/9ydSwFA3UOCdNVLAjup0IOs1UsDh8e1dgzZSwHIVi98UN1LA2QkvwaknUsChTQ6fdDVSwDqSy39IKlLAXXAGf781UsCvzjEgezdSwNgPscHCN1LA1NNH4A84UsA0hjlBmypSwB3MJsCwKlLAWFhwP+A1UsDAJQD/lDVSwPa0w1+TNlLApKfIIeI2UsAF/YUeMTdSwNv9KsB3N1LAk//J3703UsBvDAHAsTZSwKmDvB5MN1LATgrzHmc2UsA2j8Ng/jZSwDeJQWDlN1LAQbYsX5c3UsDHf4EgQC9SwKzj+KHSNlLAsOYAwRw3UsAAAAAAADlSwB7DYz+LL1LAN1MhHok2UsBL6ZleYi9SwDNQGf8+N1LAdjbknxk5UsAKZkzBGi9SwMZq8/+qL1LAOV/svfg2UsAfveE+cipSwEbvVMA9L1LAF5zB3y85UsBLH7qgvipSwGPQCaGDL1LAG9gqweI4UsCJljyelipSwEW5NH7hKlLAVisTfqkvUsDGT+Pe/DhSwAQDCB9KOVLAh9uhYTErUsDBGfz9Yi9SwB7DYz+LNlLA98lRgCg3UsAfveE+cjdSwPaWcr7YNlLAYYvdPqs2UsBJEK6AQjdSwA9FgT6RN1LAw2fr4GA2UsBQ/u4dNS9SwJXwhF5/L1LAzo5U3/k4UsCYNbHAVy9SwGgDsAEROVLAtMh2vp8vUsB+b9Of/SpSwD25pkBmN1LAZtzUQPM3UsCeKXReYypSwKyMRj6vKlLAYp0q3zMvUsCAft+/eS9SwFZ/hGHAL1LAcyoZAKo3UsDAIr9+iCpSwCMUW0HTKlLAJQhXQKEvUsBfmiLA6S9SwN0kBoGVN1LAnUfF/x04UsANObaeIStSwFx2iH/YN1LAIsMq3sgvUsDe5SK+EzBSwP/PYb68N1LAQKGePgI4UsA6kst/SDhSwCHkvP+POFLA9+RhodY4UsDZ690f7y9SwF6dY0D2OFLAYM0BgjkwUsBaZ3xfXDBSwLUZpyGqMFLA6X5OQX4wUsBffNEeLzBSwDiDv1/MMFLAGLSQgNE4UsDJWG3+XzlSwJ4mM95WMFLA3NlXHqQwUsBVT+YffTBSwHl4z4HlPFLAgbG+gckwUsBXQKGePjlSwO5aQj7oMFLAzZGVXwYxUsDR6A5iZy9SwPnbniCxL1LAezNqvkowUsD3yVGAKDFSwKjF4GHaL1LAZcQFoFExUsAh5Lz/jy9SwKSJd4AnMFLARxyygXQwUsA0Tdh+MjFSwIOKql/pMFLAwjQMHxExUsB+VwT/WzFSwKiMf59xP1LAEmkbf6IwUsCZSj/h7DBSwOQtVz82MVLAPIbHfhYxUsD3kzE+zDBSwFyRmKCGK1LA/tXjvtUrUsCBWgwepj1SwCEFTyFXQFLA4ScOoN9AUsBv2SH+YTBSwGzrp/+sMFLAcOtunuo9UsAOSwM/qitSwA9+4gD6K1LA5WA2AYYwUsBHBOPg0jBSwG0eh8H8QFLA+64I/rdAUsDhDP5+MTFSwFQ6WP/nMFLA+MPPfw8xUsBPB7KeWjFSwG399J81MVLAF4GxvoE/UsBI+N7foDBSwEYKZeHrMFLAxVVl3xUxUsCkU1c+yzBSwApI+x9gMVLAaw97oYArUsC/K4L/rT1SwDmYTYBhQFLATkNU4c8rUsClaOVeYDBSwBmrzf+rMFLA3e7lPjk+UsCCqPsApEBSwO5aQj7oQFLAX7hzYaQrUsBTPZl/9CtSwJkR3h6EMFLA1sQCX9EwUsCQEVDhCEFSwFVntcAeMVLAZJEm3gEyUsByGMxfITJSwIelgR/VMVLAqrncYKgxUsBTPZl/9DFSwMlzfR8OMVLA2dDN/kAyUsA/yLJg4jBSwKm8HeG0MFLAseB+wAMxUsANbJVgcTFSwIjYYOEkMVLApmJjXkcxUsDsSzYebDFSwKhuLv62MVLAVFVoIJYxUsDhJw6g3zFSwNrKS/4nNFLAE4HqH0Q0UsBM++b+6jNSwLXdBN80NFLA4xjJHqEzUsA8vyhBfzRSwKewUkFFNFLA3SQGgZU0UsCUF5mAXzRSwCo7/aAuNFLA6kKs/gg0UsAd5PVgUjRSwF1wBn+/M1LAIef9f5w0UsAQk3AhjzdSwKJ6a2CrNlLAKA6g3/c2UsABMJ5BQzdSwKFoHsAiNFLAYJSgv9A2UsBnuAGfHzdSwApLPKBsN1LAZ9ZSQNozUsBs7uh/uTdSwDZZox6iNlLAdxIR/kU3UsB0QuigSzZSwMpt+x71NlLAUBn/PuM3UsBaRuo9lTdSwP8gkiHHNVLA5nXEIRs2UsCP/MHAczZSwBFy3v/HNlLANXo1QGk3UsAAHlGhujdSwBKlvcEXN1LAObNdoQ80UsAl6gWf5jVSwHP3OT5aNFLAAi1dwTY2UsBk6NhBJTRSwL5MFCF1NFLAGeJYF7cxUsA0gLdAgjJSwH6MuWsJMVLAS1mGONYxUsCwA+eMKDFSwMuhRbbzMVLAmG4Sg8AyUsBL6gQ0ETJSwGaIY13cMlLAgSbChqczUsBoImx4eilSwDXvOEVHKlLAfGEyVTAyUsCX/5B++zJSwLKd76fGM1LAyXa+nxozUsAtIR/0bDJSwPrt68A5M1LAhjjWxW0kUsD2KFyPwjFSwF+YTBWMMlLAejarPlczUsBVMCqpEyRSwA1xrIvbJFLAlPYGX5gwUsA0orQ3+DJSwE9AE2HDM1LAh6dXyjIkUsDbiv1l9yRSwB/0bFZ9JlLAc9cS8kEnUsCz6nO1FTNSwIC3QILiM1LAnYAmwoYjUsBVwaikTiRSwFvTvOMUJVLAUWuad5wmUsArGJXUCTBSwOVhodY0M1LAAAAAAAA0UsBrmnecoiNSwHGsi9toJFLAKe0NvjAlUsD7OnDOiDJSwBfZzvdTM1LAgEi/fR00UsCdEaW9wSNSwPH0SlmGJFLARdjw9EolUsCWIY51cTNSwACRfvs6NFLAxSCwcmglUsDysFBrmi9SwBZqTfOOM1LAMQisHFo0UsCad5yiIzVSwPyp8dJNJlLAJCh+jLkvUsCxUGuadzRSwMzuycNCOVLAvVKWIY4pUsAnwoanVypSwPJBz2bVL1LADeAtkKAwUsBMN4lBYDVSwD2bVZ+rKVLApgpGJXUqUsD/snvysDhSwH2utmJ/OVLAmEwVjEo6UsBlGeJYFztSwA1xrIvbMFLAEHo2qz4zUsArGJXUCTRSwMrDQq1pNlLAl5APejY3UsCyLm6jAThSwJqZmZmZOVLAAwmKH2M6UsAzMzMzMztSwJCg+DHmMlLAqz5XW7EzUsAXt9EA3jZSwOSDns2qN1LA0gDeAgk6UsCfzarP1TpSwAWjkjoBMVLAIR/0bFYxUsAYldQJaCpSwNDVVuwvK1LARPrt68ApUsBKDAIrhypSwAFNhA1PK1LAZ9XnaisqUsAeFmpN8ypSwCQofoy5K1LAidLe4AszUsBtVn2utjJSwIj029eBM1LA8rBQa5ozUsCdgCbChjdSwMHKoUW2M1LA9UpZhjg2UsC9N4YA4CpSwBjPoKF/KlLAFW9kHvk5UsBhiJy+njlSwLbXgt4bOlLAnl+UoL85UsAd5zbhXjFSwJf/kH77MFLAPSzUmuYpUsCtad5xiipSwLn8h/TbI1LA7zhFR3I5UsCamZmZmTlSwJqZmZmZMVLAXdxGA3gvUsAEVg4tsjFSwMPTK2UZMlLAEFg5tMg2UsBvEoPAyjlSwJYhjnVxL1LA+8vuycMyUsBfmEwVjDJSwOY/pN++MlLAIEHxY8wxUsDKMsSxLjJSwELPZtXnMlLAETY8vVIyUsCJ0t7gCzNSwKYKRiV1MlLAguLHmLsyUsBWfa62YiNSwLraiv1lM1LAQYLix5gvUsD67evAOTNSwH/7OnDONFLAnDOitDc0UsDhehSuRzlSwCh+jLlrOVLA/Bhz1xI2UsAm5IOezTZSwNqs+lxtOVLAA3gLJCg6UsDJ5T+k3zpSwEGC4seYO1LAkxgEVg5BUsBLyAc9mzFSwJLLf0i/MVLAwhcmUwUzUsAkufyH9DdSwDdTIR6JMlLASRPvAE8yUsCmmIOgozJSwBufyf55MlLAJQUWwJQyUsBw626e6jJSwKmG/Z5YMlLAmzv6X64yUsBJEK6AQjNSwBXGFoIcM1LAU1ipoKI0UsB1V3bB4DlSwM2RlV8GM1LAswxxrIsjUsCKsOHplTJSwF66SQwCN1LAqMZLN4kxUsCppE5AEzFSwKp9Oh4zMVLAA+55/rQjUsCFsYUgByRSwJs4ud+hJlLAB0XzABYxUsAjERrBxiNSwH1dhv90I1LANEqX/iUxUsBqvko+djFSwJ1lFqHYI1LAmlyMgXUmUsAVb2Qe+TJSwMVVZd8VOVLADDz3Hi5BUsACmggbnjJSwKRwPQrXI1LA30+Nl24mUsAQ6bevAydSwIZa07zjMFLAj8L1KFwzUsCOBvAWSCRSwKUsQxzrJlLAxf6ye/IwUsBaZDvfTzFSwCuHFtnOM1LAeJyiI7kwUsA3cXK/QzJSwHIz3IDPOVLAI/YJoBg6UsAf9kIB2zlSwApoImx4MlLA1sVtNIAzUsA/NV66STRSwD55WKg1MVLAWRe30QA6UsAm5IOezTpSwO84RUdyMVLANKK0N/g2UsDZX3ZPHjpSwFdbsb/sOlLA1lbsL7s7UsAofoy5azFSwLfRAN4CMVLAGy/dJAYxUsCuR+F6FDpSwOlILv8hOVLA6j9rfvwyUsB5PC0/cDFSwJ0v9l58MVLAKH6MuWsxUsCVZYhjXThSwOqVsgxxMFLAWmQ7308xUsDaG3xhMjFSwGa7Qh8sMVLAmlyMgXUxUsAB9zx/2jBSwH9OQX42MVLA0qkrn+UwUsBcr+lBQTFSwKNcGr/wMFLAG7rZHyg4UsCZYg6CjjlSwDeq04GsMVLAzcr2IW84UsAwgPChRDlSwN/6sN6oMVLAkzoBTYQxUsAxCKwcWjRSwO/Jw0KtMVLARpT2Bl8wUsDgLZCg+DFSwLwFEhQ/MlLAVn2utmI3UsDMXUvIBzlSwO0NvjCZOlLAF7fRAN4yUsCze/KwUDNSwCfChqdXOlLAL26jAbwxUsBLWYY41jFSwEoMAiuHOlLAPL1SliEyUsB4CyQofjBSwKd5xyk6MlLAJ8KGp1cyUsBeukkMAjtSwGSyuP/IMlLAwVWeQNgyUsBs0Jfe/jFSwEG8rl+wMVLApYP1fw4yUsAVkPY/wDFSwOXQItv5OlLAF0hQ/Bg3UsA9LNSa5jFSwKqCUUmdMFLAVn2utmI3UsBn1edqKzJSwNQrZRniMFLAyAc9m1U7UsD8GHPXEjpSwDXvOEVHMlLAokW28/0wUsBvEoPAyjFSwNxoAG+BMFLAU5YhjnUxUsD+ZffkYTFSwH6MuWsJMVLAveMUHckxUsD4w89/DzRSwPa0w1+TMVLAj8ahfhcyUsA9tmXAWTJSwPa3BOCfMlLA/tXjvtUxUsBF14UfnDFSwLMHWoEhMlLARPgXQWMyUsB8SPje3zFSwI0IxsGlMVLAO6qaIOoxUsDMmljgKzJSwEs6ysFsMlLAw2fr4GAxUsDlKha/KTNSwIicvp6vMVLAQuxMofMxUsArTUpBtzJSwMMuih74MlLADD84nzozUsDkLVc/NjJSwP7tsl93MlLAQrCqXn4zUsAyj/zBwDJSwAYwZeCAMlLAgpAsYAIzUsAvMgG/RjNSwHhCrz+JMlLAZeJWQQwzUsB3FVJ+UjJSwDikUYGTMlLARRDn4QQ7UsB2VDVB1DJSwMNGWb+ZMlLABTQRNjwxUsCyne+nxjNSwE5iEFg5NFLAf9k9eVg0UsCDL0ymCjpSwFfsL7snO1LAwoanV8o2UsA2qz5XWzFSwApoImx4MlLABcWPMXcxUsAmUwWjkjJSwJayDHGsM1LAhA1Pr5QxUsCmm8QgsDJSwMcpOpLLM1LAyXa+nxo3UsC2hHzQszFSwCbkg57NMlLAR3L5D+kzUsBhw9MrZTlSwK1p3nGKOlLA+Q/pt687UsDWVuwvuztSwNxGA3gLPFLAqKePwB8fUsC/DTFe8x5SwEG5bd+jM1LAtf6WAPwzUsC/KEF/oTFSwGniHeBJMVLAaK8+HvoxUsCDh2nf3DNSwKetEcE4NFLAoFBPH4ExUsCXGqGfqTFSwG/x8J4DMlLA+fNtwVIxUsCJt86/XTJSwBztuOF3MlLAWkkrvqEyUsBUcHhBRDJSwDBMpgpGMVLA54wo7Q0yUsCR7Xw/NTJSwOzAOSNKM1LAGJXUCWg2UsB0JJf/kDZSwNO+ub96MlLApIl3gCcyUsCHpYEf1TFSwNnQzf5AMlLAIcztXu4xUsAlBRbAlDJSwBIUP8bcNVLAqFfKMsQxUsAdyeU/pDtSwG6jAbwFMlLADeAtkKAwUsA17zhFRzZSwBkEVg4tMlLAc9cS8kE3UsAbnl4pyzBSwO/Jw0KtMVLA1lbsL7s7UsC1N/jCZDJSwDZWYp6VMVLA41RrYRYyUsDDRlm/mTJSwD3UtmEUMlLAARWOIJUyUsAKSPsfYDFSwBWoxeBhMlLA8nhafuAxUsA2d/S/XDJSwJlH/mDgMVLA+aBns+ojUsAMk6mCUTFSwJ+rrdhfMlLA9pfdk4cxUsA730+NlzJSwLAD54woNVLAWKg1zTs2UsDswDkjSjdSwKYKRiV1NlLAW5pbIawxUsAuceSByDFSwPaZsz7lMVLALGLYYUwyUsCs4/ih0jVSwPKWqx+bNlLAZMqHoGo1UsCv7ILBNTZSwB7DYz+LNVLAn3QiwVQ2UsB9XYb/dDZSwLXFNT6TNlLAKEcBomA1UsB1AwXeyTVSwI8aE2IuNlLATUnW4eg1UsBio6zfTDZSwDSAt0CCNVLA4EvhQbM2UsA/jBAebTZSwEmdgCbCMlLAIGPuWkIyUsBWRiOfVzFSwJ5flKC/MVLAR8uBHmoxUsA8pBgg0TFSwCb8Uj9vMVLAbhXEQNcxUsAp7Q2+MDFSwPd14JwRMVLAbxKDwMoxUsBSuB6F6zFSwFOWIY51EVLAIGPuWkISUsB88rBQaxJSwK62Yn/ZHVLAObTIdr4LUsCsjEY+rx5SwPW9huC4HlLAIo51cRsRUsD7XG3F/g5SwGTMXUvIE1LAseHplbIUUsB5P26/fAVSwClBf6FHBlLAk+F4PgMGUsCEnziAfgZSwJsg6j4AHlLA7nvUX68eUsCmuRXCah5SwPaZsz7lHlLAXK/pQUEgUsABFY4glSBSwOxsyD8zHFLAgGPPnssLUsCvzjEgewtSwMRA176AC1LA+rSK/tALUsCWCFT/IAxSwISc9/9xDlLAlgUTfxQPUsBPQBNhww5SwIy5awn5BFLA9wZfmEwFUsDzH9JvXwdSwLU3+MJkElLASL99HTgfUsCKsOHplRJSwBe30QDeElLA0NVW7C8TUsACvAUSFA9SwGx4eqUsD1LA4XoUrkcRUsCWsgxxrA9SwACRfvs6FFLAdZMYBFYWUsDiAzv+CxBSwANC6+HLEFLAMSb9vRQOUsCJt86/XQ5SwOBIoMGmDlLAhL2JITkOUsAXgbG+gQ5SwCL/zCA+DlLAJ/kRv2IOUsB2NuSfGQ5SwNi7P96rDlLAvB+3Xz4OUsDvchHfiRFSwAUzpmCNE1LAURa+vtYTUsB1BkZe1h1SwGe4AZ8fHlLAflTDfk8VUsDzjeiedRVSwEsfuqC+FVLAlwLS/gcWUsCzCpsBLhZSwATo9/2bFlLAPYBFfv0HUsB0JJf/kAhSwOdvQiECCFLArtSzIJQIUsAc0qjAyQ1SwApI+x9gDlLAq9GrAUoKUsCnd/F+3ApSwLDFbp9VA1LAz9kCQusDUsCWICOgwg1SwFBVoYFYDlLAT0ATYcMNUsCjlXuBWQ5SwEnXTL7ZClLAVHB4QUQKUsDkMJi/QgpSwNKpK5/lA1LATx4Wak0HUsD6fmq8dAdSwDnWxW00CFLA30+Nl24KUsBseHqlLAtSwH/ZPXlYCFLA2IFzRpQKUsBlqmBUUgtSwGRd3EYDEFLAP1dbsb8QUsDV52or9gNSwGIQWDm0BFLAryXkg54NUsA8TtGRXA5SwKhXyjLEDVLANIC3QIIOUsDBqKROQA9SwPkP6bevC1LAhjjWxW0MUsBcIEHxYxxSwDcawFsgHVLA5IOezaoTUsDZzvdT4xVSwLTIdr6fFlLA4C2QoPgRUsDfGAKAYwdSwJQyqaENCFLAs874vrgHUsCP5PIf0gdSwJlKP+HsClLA8MAAwocHUsC9HHbfMQhSwAEYz6ChB1LA88zLYfcHUsD8w5YeTQhSwCQLmMCtDVLA+cCO/wIOUsD/IJIhxw1SwBXGFoIcDlLAoDiAft8NUsBQ/u4dNQ5SwEUNpmH4DVLATwRxHk4OUsDb39kevQtSwFZkdEASDFLAxTpVvmcLUsD12JYBZwxSwOVFJuDXC1LA1/oioS0MUsBHy4EeahdSwG8PQkC+F1LAasGLvoIXUsCcMjffiBdSwKGGb2HdF1LA+fNtwVITUsCQFJFhFRRSwG8qUmFsE1LA7ZklAWoUUsAB9zx/2hNSwAZLdQEvFFLAIuF7f4MUUsAT8kHPZgVSwH3Qs1n1BVLAW7G/7J4MUsAwKqkT0AxSwIMvTKYKGlLAMQisHFoQUsCb5h2n6BBSwNnNjH40DFLAdAmH3uILUsDlYDYBhgxSwCTSNv5EDFLAMGXggJYMUsB7h9uhYRlSwHswKT4+F1LAqn06HjMaUsA9npYfuBpSwImZfR6jFlLAZDvfT40PUsAwuycPCw1SwGRd3EYDBFLAeekmMQgEUsCbVZ+rrRBSwCfChqdXElLAgLdAguIPUsByio7k8g9SwKfoSC7/EVLAHOviNhocUsDiWBe30RRSwNDVVuwvF1LAl5APejYbUsC/fR04ZxhSwD2ARX79HVLAObaeIRwdUsDmPGNfsh1SwE4K8x5nHVLASx+6oL4dUsC22sNeKB1SwKJinL8JHlLA+KV+3lQeUsCuvOR/8g5SwHpyTYHMA1LAOIYA4NgDUsBZT62+uhlSwET7WMFvGVLAtRZmoZ0WUsBd/kP67Q9SwLbz/dR4HVLANe84RUceUsDoaiv2lx1SwOlILv8hDVLAsVBrmncMUsDM7snDQg1SwAg9m1WfD1LAI9v5fmoQUsACvAUSFA9SwOoENBE2BFLARGlv8IUZUsB88rBQaxZSwA5Pr5RlDFLAt2J/2T0RUsAsLLgf8BFSwE0xB0FHElLAnkSEfxESUsDEXihgOxJSwBaKdD+nC1LAuvjbniAMUsA/V1uxvxxSwEcDeAskGFLA2/l+arwEUsD9EYYBSw1SwOBIoMGmDVLABg/TvrkNUsDpRe1+FQ5SwLsru2BwDVLAOIO/X8wNUsCkiXeAJw1SwOEnDqDfDVLAidLe4AsYUsAm/FI/bxhSwN4ehIB8GFLA/b0UHjQYUsDmIVM+BB9SwNCzWfW5DlLABOeMKO0JUsDTvOMUHQlSwIj029eBA1LAzH9Iv30NUsCneccpOg5SwIofY+5aDlLAZRniWBcPUsCjI7n8hxxSwP5D+u3rHFLAsi5uowEcUsAj2/l+ahxSwNbFbTSAG1LArMjogCQHUsDFjsahfgdSwKaAtP8BGVLAUFJgAUwZUsCpv15hwQNSwPT91HjpDlLACD2bVZ8HUsDkFB3J5QdSwLu4jQbwAlLA8WPMXUsEUsC6SQwCKx9SwOzAOSNKA1LAkxgEVg4dUsCL/WX35BVSwPrt68A5F1LA/Bhz1xIeUsDhehSuRw1SwFpkO99PEVLA097gC5MZUsCQoPgx5hpSwJwzorQ3HFLAOdbFbTQMUsDlYaHWNBtSwPH0SlmGHFLA7uvAOSMaUsC4QILixxxSwFHaG3xhElLAZmZmZmYWUsCsrdhfdhtSwEGC4seYB1LAXHaIf9gXUsAi/IugMRhSwJ1oVyHlF1LA6jwq/u8XUsB5Xb9gNxxSwE8eFmpND1LATmIQWDkQUsCPU3Qklw9SwMdLN4lBGFLAcT0K16MEUsAcfGEyVRhSwD/G3LWEGFLAwTkjSnsPUsBxrIvbaBBSwC5ZFeEmGVLAgm+aPjsYUsCiQQqeQgRSwCxEh8CRBFLAM25qoPkOUsDZIf5hSw9SwBJsXP+uDlLAdxVSflIPUsAah/pd2A5SwFtbeF4qD1LAwygIHt8OUsBq3JvfMA9SwKqCUUmdBFLAW9O84xQRUsAAAAAAACBSwMNkqmBUHlLAFK5H4XogUsCuR+F6FBJSwINRSZ2AGlLAW7G/7J4cUsCVZYhjXRBSwAhagSGrH1LA+N7foL0fUsBqvko+dh9SwFBVoYFYFFLAt9RBXg8UUsDqeMxAZQdSwLIN3IE6BlLAxXO2gNAGUsBo6J/gYgdSwISEKF/QBlLAkst/SL8dUsB6ck2BzBVSwAlvD0JAG1LAFLTJ4ZMbUsBp4h3gSRpSwE8eFmpNC1LAUWuad5wOUsA8vVKWIQ5SwCV1ApoID1LAMEymCkYFUsADeAskKAZSwAtCeR9HDVLAPLznwHIFUsCsj4e+uwVSwNbEAl/RBVLAwFsgQfEaUsCppE5AEw1SwDbNO07RDVLAKPOPvkkNUsAVqMXgYQ1SwDj4wmSqBFLAcoqO5PIHUsB3LSEf9ARSwGN/2T15GFLAYHZPHhYWUsCjI7n8hxhSwJqZmZmZMVLAEqW9wRcSUsDiAzv+CzJSwDSitDf4ClLA5fIf0m8LUsBAE2HD0yNSwI/DYP4KI1LAOiNKe4MLUsBz9Pi9TQpSwHMqGQCqClLAf4RhwJIJUsC5Fi1A2wlSwEbsE0AxClLAgH7fv3kKUsDEQq1p3glSwEI+6NmsClLA54wo7Q0KUsCTOgFNhAlSwKpgVFInDFLAmBdgH50JUsAPfuIA+glSwEXaxp+oCVLAelG7XwUKUsC8dJMYBC5SwPAWSFD8MFLAYKxvYHIwUsC6MT1hiTBSwKmkTkATMVLA2ht8YTIxUsCoNc07TjFSwAhXQKGeLlLAm1lLAWkuUsDFcHUAxC5SwLr1mh4ULlLA8Ief/x4uUsCWQbXBiS5SwKyL22gAL1LAqMZLN4ktUsAep+hILi9SwIhjXdxGL1LAd76fGi8tUsDDZKpgVC5SwKCJsOHpLVLAbvqzHykuUsAoDwu1pi1SwDcawFsgLVLADwu1pnkvUsAwL8A+OhpSwBe30QDeGVLAw3+6gQIaUsB2GJP+XhpSwB+94T5yGlLAGQRWDi0aUsCEns2qzx1SwD9XW7G/FFLAkst/SL8ZUsB/+zpwzhBSwGiR7Xw/EVLAjsni/iMdUsB1PGagMh1SwMRCrWneHVLAm+Ydp+gcUsDU1ohgHAVSwGO1+X/VBFLAUkmdgCYFUsBXPWAeMgVSwLU3+MJkBlLABU62gTsbUsCQ9j/AWhtSwHQn2H+dG1LA6+I2GsAbUsAbDeAtkBxSwLn8h/TbG1LAHqfoSC4bUsBR2ht8YRpSwHKKjuTyG1LAKQge394bUsDjNhrAWxxSwIhjXdxGF1LAFYxK6gQYUsD0bFZ9rhZSwM9m1edqF1LAK4cW2c4bUsAGgZVDixxSwK1p3nGKFlLA7l2DvvQWUsBp4h3gSRdSwPuuCP63FlLAS+mZXmIXUsAqU8xB0BZSwNsYO+ElF1LAlSnmIOgWUsBLAWn/AxxSwPCiryDNG1LAMEeP39sbUsBZi08BMBxSwF+4c2GkG1LAG55eKcscUsAwuycPCw1SwL7BFyZTDVLAueAM/n4VUsAzjLtBtBNSwE4rhUAuFFLAiUFg5dAaUsDswDkjShtSwHtLOV/sBVLAfpBlwcQFUsC31EFeDwZSwEjdzr7yBVLA7Uj1nV8GUsCWBRN/FAZSwJUp5iDoDFLAz7uxoDANUsCAft+/eQ1SwEa28/3UDFLACkj7H2AHUsCobi7+tgdSwI/C9ShcB1LAqmBUUicIUsC4rwPnjBxSwDarPldbHVLAdCSX/5A2UsALtaZ5xzVSwD0s1JrmNVLAkuf6PhwUUsBK1As+zRxSwIjVH2EYHVLAS+oENBEKUsD5D+m3rwtSwArXo3A9ClLABhIUP8YMUsBmZmZmZg5SwG1Wfa62ClLAbAn5oGcLUsDdtYR80BtSwBPyQc9mHVLArthfdk8WUsALtaZ5xxFSwINRSZ2AFlLAHHxhMlUQUsDLoUW28xFSwNGRXP5DNlLAqYk+H2U1UsB2cRsN4B1SwESLbOf7HVLAQxzr4jYeUsA0ngjiPApSwBS0yeGTClLAI/YJoBgKUsCy1Hq/0R1SwKwcWmQ7B1LA95MxPswMUsBxOV6B6AxSwG0Dd6BODVLAi6iJPh8DUsARUUzeAARSwJgvL8A+BFLAnS/2XnwEUsBMN4lBYARSwHIYzF8hBFLAhXgkXp4EUsC/ZOPBFgRSwKN06V+SBFLAXoWUn1QEUsCunpPeNwRSwIi9UMB2BFLAOUVHcvkDUsAcfGEyVQRSwOPHmLuWBFLAzO7Jw0IFUsDBqKROQAtSwH+EYcCSIFLAonprYKsgUsAFFVW/0hpSwDSAt0CCAlLAI0p7gy8MUsBwXwfOGQlSwA5Pr5RlDFLAPLznwHIGUsA8odefxAZSwAdF8wAWB1LApaSHodUGUsDiHksfugVSwLn7HB8tBVLARu9UwD0FUsDkEkceiBlSwGHB/YAHC1LAvhb03hgLUsBE+1jBbxtSwA6HpYEfG1LASih9IeQVUsD3zJIANRZSwB7htOBFFlLADHVY4ZYWUsCWIY51cQtSwDBMpgpGCVLAnRGlvcELUsB4eqUsQxBSwKabxCCwElLAak3zjlMQUsDTvOMUHRFSwK5H4XoUBlLAPQrXo3ANUsAy5q4l5A9SwIcW2c73F1LAn6ut2F8aUsBU46WbxBxSwKW9wRcmH1LARPrt68AJUsC1N/jCZAZSwKhXyjLEDVLAmnecoiMdUsCdgCbChh9SwPwYc9cSClLAeJyiI7kYUsDzjlN0JBtSwG3F/rJ7ClLAFNBE2PAMUsBl4lZBDBFSwFABMJ5BEVLA1dAGYAMRUsBPBHEeThFSwCL8i6AxBFLAIv/MID4EUsDZ6Jyf4gVSwP0RhgFLFVLAi8ba39kGUsDQuHAgJAdSwCXqBZ/mBlLAnzvB/usVUsAYldQJaAZSwIEExY8xB1LAkxgEVg4RUsBy+Q/ptwNSwCo6kst/BFLApHA9CtcDUsBbsb/sngRSwF8HzhlRBlLAkX77OnAGUsCsrdhfdgdSwHS1FfvLBlLACyQofowdUsCKH2PuWh5SwCNKe4MvGFLAK/aX3ZMPUsBGlPYGXxBSwCKOdXEbHVLAlrIMcawbUsCmm8QgsAlSwEVHcvkPFVLABBvXv+sEUsAC9Pv+zQRSwAQDCB9KBVLAFD/G3LUEUsAfhetRuAZSwILix5i7DlLAodY07zgFUsCIY13cRg9SwGu7Cb5pDVLAKh2s/3MNUsDS30vhQQ1SwOc24V6ZDVLAyqmdYWoZUsDTvOMUHQ1SwBpR2ht8DVLAirDh6ZUWUsAkl/+QfhdSwA1yF2GKDFLAjKIHPgYNUsCmgLT/ARJSwOAtkKD4GVLAnWhXIeURUsDarPpcbQ1SwGfWUkDaDFLAcSGP4EYMUsD+8zRgkAxSwPSo+L8jDVLAyFuufmwMUsBzLVqAtgxSwB7/BYIADVLARfKVQEoNUsC/K4L/rRhSwBjS4SGMGFLACRhd3hwZUsDPhZFe1BhSwKq53GCoFVLA6DOg3owVUsDVr3Q+PDBSwF1qhH6mMFLAnMQgsHIwUsAxfa8hODBSwOtySkBMMFLANlzknq4wUsBjl6jeGhpSwJ595UF6MFLAGa4OgLgwUsBkO99PjS9SwCGwcmiRMVLAB1+YTBUwUsBgdk8eFjJSwDNQGf8+MFLAYqOs30wwUsAbnl4pyzBSwFdbsb/sLlLA1v1jIToGUsDc2VcepAVSwGO4OgDiBVLARs7CnnYGUsC5/If02xtSwDxO0ZFcMlLAI9v5fmobUsBntcAeEzBSwMqpnWFqMFLAsOO/QBAwUsBIGXEBaDBSwEw3iUFgLVLAh6dXyjIwUsBYkdEBSRpSwOljPiDQGVLA/RGGAUsaUsBio6zfTBpSwP8j06HTGVLAKxTpfk4aUsClpIeh1RlSwBKEK6BQGlLAE4HqH0QsUsCsj4e+uyxSwFdD4h5LLFLA2A+xwcIsUsCnrRHBOC1SwC5x5IHILFLADXIXYYosUsDHZHH/kSxSwATnjCjtGVLArIvbaAAbUsCgGi/dJBpSwEi/fR04G1LAkX77OnAeUsBiodY07yxSwHnpJjEILFLATKYKRiUtUsA/pyA/GxpSwMudmWA4GlLAfEW3XtMZUsB0J9h/nRpSwG0bRkHwGVLAFqWEYFUaUsA1RBX+DBpSwIbJVMGoLFLA/MbXnlksUsApCB7f3ixSwAYtJGB0LFLAq9GrAUotUsCX/5B++yxSwOEM/n4xL1LAg6W6gJcvUsAcfGEyVTRSwDAqqRPQNFLAyjLEsS4qUsDHSzeJQSxSwB/0bFZ9KlLAjNtoAG8lUsBbsb/snjhSwN4CCYofL1LAMCqpE9AwUsByGMxfIS9SwMRCrWneLVLA7Q2+MJkqUsAX2c73UytSwPSo+L8jKlLAHw4SonwqUsDhJM0f0ypSwIrkK4GUKlLA88mK4eoqUsAe3nNgOSZSwHZxGw3gJVLAO99PjZcmUsCSy39IvyVSwLRZ9bnaLlLAHqfoSC4vUsAyO4veqS9SwCTtRh/zL1LAVcGopE4wUsCjkjoBTSxSwA5Pr5RlLFLA1JrmHacsUsBZiA6BIy1SwMiYu5aQL1LAN4lBYOUwUsCyne+nxjdSwIcW2c73L1LAvw0xXvMvUsBHHLKBdC9SwHxFt17TLlLAUkmdgCYvUsBNFYxK6jBSwNcS8kHPLlLAbHh6pSwvUsCIY13cRi9SwE3zjlN0LFLAm+Ydp+gsUsAoKbAApi1SwAQ8aeGyLVLAkzoBTYQtUsCu2F92Ty5SwLPqc7UVL1LAv30dOGcMUsBvgQTFjxVSwFvTvOMUFVLA9bnaiv0VUsDUmuYdpxRSwDnWxW00FFLA7lpCPugVUsACvAUSFBdSwArXo3A9FlLAOne7XpoaUsCAft+/eRJSwKyql99pFlLAFmwjnuwWUsBKe4MvTAZSwKmkTkATHVLA4C2QoPgdUsBTQNr/AAZSwMA9z582BlLAr7DgfsAdUsAe4bTgRR1SwKZ9c3/1HVLA98ySADUMUsBVT+YffQxSwOBIoMGmDFLA6jwq/u8MUsD20hQBTgxSwMuFyr+WDFLABRiWP98MUsBsIchBCQ1SwF1wBn+/DFLAf/s6cM4cUsDZzvdT4wVSwHo2qz5XG1LAowG8BRIcUsBv2SH+YRtSwNO+ub96G1LAXwfOGVECUsCSy39IvwFSwAtFup9TBFLA5zki36UEUsD0/dR46RZSwKkT0ETYGFLADJOpglEJUsDXNO84RQ9SwGsr9pfdH1LAza/mAMEZUsCzCpsBLhpSwFr1udqKGVLANe84RUcaUsAVjErqBBRSwMIxy54EBlLA4STNH9MFUsBiu3uA7hZSwKyPh767FlLAlQ7W/zkWUsDPoKF/ghZSwHAnEeFfFlLAD5nyIagWUsCaC1weaxZSwBWNtb+zFlLACVT/IJIWUsBn1lJA2hZSwJgXYB+dFFLAbxKDwMoJUsAzxLEubgdSwHbgnBGlBVLAduCcEaUJUsADCYofYwpSwEoMAiuHClLAZ0Rpb/AJUsCyuWqeIwdSwJgXYB+dCVLAN4yC4PEJUsCwyK8fYglSwKhuLv62CVLAR+NQvwsKUsCL3qmAewlSwL4wmSoYDVLAlSwnofQTUsAHJ6JfWxRSwG76sx8pFFLAeSEdHsITUsAAAAAAAB5SwAHcLF4sHlLA097gC5MVUsBF2PD0ShVSwGCRXz/EAlLAxXB1AMQCUsDgLZCg+AJSwLmNBvAWBFLAOiNKe4MbUsDAWyBB8RtSwHsUrkfhAlLAOIO/X8wtUsASpb3BFy5SwD0K16NwLVLAXaYmwRssUsBjmuleJyxSwEP+mUF8LVLAJQLVP4gtUsCV1AloIixSwKRwPQrXK1LAW7G/7J4sUsBEaW/whS1SwPyp8dJNLlLAxLEubqMtUsDu68A5IypSwF8pyxDHLlLA5WGh1jQvUsA3GsBbIC1SwLHh6ZWyLFLAT6+UZYgrUsDrc7UV+ytSwDXvOEVHLlLAak3zjlMsUsAH8BZIUAhSwJayDHGsK1LAorQ3+MIsUsBM/id/9ytSwGSsNv+vLlLA88mK4eouUsDbGDvhJS9SwBiT/l4KL1LAlBEXgEYvUsBXfEPhsy5SwD7L8+DuLlLAQKTfvg4vUsAzU1p/Sy9SwG8Sg8DKLVLAwcqhRbYvUsDnjCjtDS5SwOtztRX7L1LABhIUP8Y4UsAQk3AhjztSwD3UtmEUOVLAfpBlwcQ4UsAOaVTgZDlSwFOWIY51NVLAxEKtad41UsDpSC7/ITVSwKBQTx+BNVLA6DOg3ow1UsAtX5fhPzRSwFRVaCCWNFLAv0NRoE80UsBdaoR+pjRSwKK0N/jCNFLA2T15WKg1UsCZKhiV1DVSwAfOGVHaM1LAorQ3+MI0UsBNFYxK6jRSwHBfB84ZCVLAWUxsPq46UsAQejarPjdSwJOpglFJFVLAINJvXwcWUsCtad5xihpSwP7tsl93GlLAHLeYnxsaUsBgr7DgfhpSwKSnyCHiGlLAacTMPo8aUsDaG3xhMhpSwPF+3H75GlLAeEXwv5UaUsB7MCk+PhpSwN7oYz4gGlLA7pbkgF0aUsD/IJIhxxlSwBbAlIEDGlLAhXtl3qoZUsB4KuCe5xlSwLvyWZ4HGlLA3T8WokMaUsAgQfFjzBlSwDy9UpYhGlLAWDm0yHYaUsAUP8bctRhSwFjKMsSxGlLAkxgEVg4ZUsDCFyZTBRtSwNi7P96rEVLAJ94BnrQRUsB2M6MfDRJSwKRQFr6+EVLAj8ahfhcSUsCrlQm/1BFSwCpWDcLcEVLA76gxIeYRUsCHp1fKMhxSwMOC+wEPHFLALlbUYBocUsDqlbIMcRxSwPjDz38PGlLAcvp6vmYaUsDxgR3/BRpSwEfIQJ5dGlLAXrpJDAIbUsCMuWsJ+RxSwN4DdF/OHFLABkg0gSIRUsBBnl2+9Q9SwLLyy2CMEFLABkg0gSIRUsD7rgj+txFSwE9AE2HDClLA1NNH4A8NUsAVb2Qe+Q9SwI3V5v9VC1LAuf5dnzkOUsAYmYBfIxFSwO54k9+iDVLAP+PCgZAQUsC77xge+w9SwJ5EhH8REVLAHcwmwLAKUsAapUv/kg1SwBOZucDlD1LAi96pgHsQUsCfWRKgphFSwHpsy4CzClLA4gD6ff8MUsBBmxw+6Q9SwJ1Hxf8dClLAUyKJXkYLUsDT9NkB1wtSwC0LJv4oDlLAFHXmHhIRUsBprP2d7RZSwM7EdCFWFlLA8BZIUPwQUsBYObTIdgpSwOVhodY0C1LAcoqO5PILUsBcIEHxYxBSwKMjufyHEFLAfh04Z0QRUsAUrkfhehRSwAdfmEwVGFLANxrAWyARUsDU00fgDwpSwAIqHEEqClLA198SgH8KUsB8YMd/gQtSwKN3KuCeEFLAOwFNhA0TUsBoImx4ehVSwA02dR4VFFLABkg0gSIUUsD/6nHfahRSwOZXc4BgFFLABvcDHhgUUsBO0ZFc/gtSwE3zjlN0DFLAaJHtfD8ZUsBUH0jeORpSwD2YFB+fGlLAz4WRXtQZUsAmNbQB2BlSwADl795RGlLAlx3iH7YaUsAiGt1B7BlSwGaIY13cGlLAkzoBTYQZUsBuNIC3QBpSwEku/yH9GlLACCEgX0IaUsCifazgtxpSwBPyQc9mGVLANBE2PL0aUsDQRNjw9BpSwATnjCjtGVLAAfc8f9oZUsDMf0i/fRlSwPWc9L7xGVLA0sQ7wJMZUsDSpuoe2RlSwPfq46HvGVLA65Cb4QYaUsAB9zx/2hpSwGgG8YEdGlLANs07TtEZUsAmUwWjkhpSwBniWBe3GVLAic+dYP8ZUsC29dN/1hlSwE9AE2HDGVLA/OHnvwcaUsCGrkSg+hlSwB2rlJ7pGVLAh9uhYTEaUsDD0ytlGRpSwGIQWDm0GFLA9GxWfa4aUsD9h/Tb1wlSwJkqGJXUHVLA5zbhXpkdUsDcKoiBrh1SwCf20D5WGFLAH7qgvmUYUsCC4seYuxJSwDnWxW00GFLAkzoBTYQZUsDOqs/VVhhSwNSa5h2nGFLAUdobfGEWUsC8BRIUPxZSwJ/Nqs/VGlLA5jxjX7IFUsCsj4e+uwVSwN5xio7kFlLAK4cW2c4XUsCad5yiIxVSwDBMpgpGFVLAMlUwKqkbUsDHKTqSyxtSwMUgsHJoHVLAWvW52oodUsCh+DHmrh1SwMX+snvyHFLA2qz6XG0ZUsBDrWnecR5SwKjF4GHaE1LAKPBOPj0UUsBODTSfcxxSwMyyJ4HNHFLAH/ZCAdsdUsAxX16AfRxSwG4VxEDXHFLAGoo73uQdUsBm9KPhlB1SwDAsf74tHFLAx2eyf54dUsBv9DEfEB9SwC5W1GAaH1LAatlaXyQfUsCEnziAfh9SwFETfT7KHlLA9pZyvtgfUsCzCpsBLh9SwJpEveDTHlLAfZbnwd0eUsCunpPeNx9SwCwRqP5BH1LAeCrgnuceUsCum1JeKx9SwOxRuB6FH1LAGLSQgNEeUsBQ/u4dNR9SwM+j4v+OH1LA3Qa139oeUsBXQKGePh9SwDqSy39IH1LARQ2mYfgeUsAd5PVgUh9SwJDbL5+sH1LAJCao4VsfUsBWf4RhwBdSwA1slWBxF1LAURN9PsoXUsBu36P+ehdSwISfOIB+HlLAaOif4GIbUsB9PPTdrRlSwN7lIr4TG1LAqHFvfsMaUsAJGF3eHBtSwDiDv1/MGlLAvRx23zEcUsDBH37+expSwMiUD0HVGlLASfJc34cVUsBQNA9gkRVSwDuqmiDqFVLAOne7XpoVUsAk7UYf8xVSwIKo+wCkFVLAABsQIa4VUsAPgSOBBhZSwLXFNT6TFFLAvAfovpwUUsAn9tA+VhVSwNwqiIGuFVLAPdF14QcVUsBwJxHhXxVSwEp7gy9MHlLA8KfGSzcdUsDZX3ZPHh5SwNxoAG+BHFLAgQTFjzEfUsBNhA1PrxxSwDY8vVKWHVLAbcX+snseUsCRD3o2qx5SwAIrhxbZHlLAObTIdr4fUsAldQKaCB9SwCKOdXEbEVLAfGEyVTAaUsBlGeJYFxtSwE7RkVz+G1LAppvEILAeUsBjf9k9eRBSwG3F/rJ7GlLASS7/If0eUsBjf9k9eRxSwOhqK/aXFVLAC7WmeccVUsCmm8QgsBZSwFJJnYAmFlLAP8bctYQUUsDarPpcbRVSwK8l5IOeFVLAnGuYofEPUsB2G9R+axBSwNPZyeAoEFLARML3/gYRUsCCb5o+OxtSwGjNj7+0G1LAGJP+XgoZUsBuMNRhhRlSwDSD+MCOGFLAGJmAXyMRUsC05sdfWhFSwKd38X7cG1LAJ/kRv2IbUsDPu7GgMBlSwIrMXODyHlLAaM2Pv7QYUsCZLO4/MhBSwIOKql/pGFLAP4wQHm0YUsDX3xKAfxpSwPzepj/7GlLAlx3iH7YaUsByTuyhfRtSwKqezD/6G1LAPdF14QccUsBfsvFgixtSwC6QoPgxHlLAfa62Yn8dUsB0JJf/kB5SwN0J9l/nHVLA3CqIga4dUsDNlNbfEh5SwOVC5V/LHVLAMlUwKqkHUsCvlGWIYxlSwGUZ4lgXG1LAHvzEAfQYUsC/Q1GgTxlSwIlBYOXQOlLAi2zn+6k5UsAnwoanVw5SwCS5/If0F1LAlDKpoQ0LUsCv0XKghwtSwN3rpL4sC1LAbef7qfEWUsCitDf4whhSwEmdgCbCFlLAxY8xdy0ZUsCZKhiV1AVSwHRd+MH5E1LAjLlrCfkEUsD+1HjpJgVSwEhQ/BhzF1LAp3nHKToWUsDyQc9m1RdSwMsQx7q4BVLABTQRNjwdUsCkqgmi7gJSwMBeYcH9AlLA3gAz38ECUsCaIyu/DANSwGCvsOB+GFLA7IfYYOERUsCjI7n8hxhSwJHtfD81ElLAnzws1JoSUsBkO99PjRNSwE0VjErqFFLAgLdAguITUsDvkGKARARSwF3cRgN4O1LAVp+rrdgXUsAlCFdAoTJSwI9TdCSXM1LAzhlR2hs0UsAEVg4tsjVSwKMjufyHNFLADksDP6o0UsBuNIC3QC5SwKd5xyk6LlLA9GxWfa4uUsBAv+/fvDdSwH+EYcCSN1LAObTIdr43UsBqvHSTGBhSwHWTGARWFlLAbeLkfocVUsC5N79hohVSwMgHPZtVF1LAXkvIBz0XUsCGWtO84xRSwAwCK4cWFVLAUwWjkjoZUsDDZKpgVBpSwAhXQKGeGVLA7l2DvvQZUsDRItv5fiZSwBaiQ+BIEVLA9UpZhjgaUsDkFB3J5RNSwPAWSFD8BFLAi/1l9+QFUsA2qz5XWwVSwJhMFYxKBlLA7MA5I0ofUsAjSnuDLyBSwKJfWz/9E1LAkx0bgXgUUsDSx3xAoBNSwK+YEd4eFFLAKSZvgJkUUsDjNhrAWxxSwGPuWkI+DFLAkQ96NqsOUsDc14FzRhxSwLKd76fGC1LALpCg+DEOUsDncoOhDghSwIWWdf9YCFLAyXa+nxoIUsB3vp8aLwVSwAN4CyQoBlLAMLsnDwsFUsDf4AuTqQZSwIenV8oyEFLAqvHSTWIQUsDHuriNBhhSwCv2l92TF1LAIbByaJENUsAi/IugMRhSwDenkgGgGFLAfEj43t8bUsBgzQGCORxSwPjCZKpgGFLA3Qn2X+cxUsDjx5i7lgRSwH6MuWsJBVLAAd4CCYobUsCxUGuadxxSwAfOGVHaG1LAuECC4sccUsDV52or9htSwIZa07zjHFLAmPxP/u4JUsCcTUcANwpSwDFETl/PBlLAXJGYoIYGUsAEOShhphxSwBefAmA8HFLA3PRnP1IcUsAYz6ChfxdSwFpG6j2VF1LAKlYNwtwXUsD0/dR46RZSwIiFWtO8F1LAhpM0f0wXUsBsBrggWxdSwD2YFB+fHVLAW1t4XioTUsDOqs/VVgRSwLdif9k9HVLA+zpwzogeUsBuowG8BQ5SwKqCUUmdCFLAhLpIoSwEUsDOiNLe4ANSwFVtN8E3BFLA85Nqn44EUsDUK2UZ4hxSwKSnyCHiHFLAv0aSIFwdUsBzaJHtfAdSwNDVVuwvB1LAfh04Z0QJUsB3S3LArgNSwJhNgGH5A1LAW2H6XkMEUsCs4/ih0gNSwN82UyEeBFLA0Joff2kEUsCSCI1g4wNSwPrVHCCYA1LAjxoTYi4EUsBehZSfVARSwPilft5UBlLAJuSDns0KUsAeFmpN8wpSwKs+V1uxC1LAOdbFbTQEUsDF/rJ78gRSwAQ5KGGmBFLAWYY41sUVUsCamZmZmRlSwA+cM6K0H1LAHt5zYDkDUsA3UyEeiQNSwHEbDeAtHlLAho2yfjMeUsCFz9bBwQtSwAUVVb/SC1LAgQTFjzEPUsBq39xfPQRSwHNoke18A1LAZF3cRgMEUsCaCBueXjlSwEW8df7tOFLAdEaU9gY3UsAep+hILjdSwF66SQwCN1LATx4Wak03UsBI4XoUrjdSwKyt2F92N1LAutqK/WUvUsAhzO1e7i5SwESn591YOVLAJLn8h/QzUsBfB84ZUTZSwJeQD3o2N1LAF9nO91M3UsAjwOldvDZSwLLUer/RNlLAUkZcABo3UsDjx5i7ljBSwLkcr0D0GlLAbcX+snsaUsA4Z0RpbxhSwBe30QDeGlLASFD8GHMDUsC7K7tgcAhSwO9XAb7bCFLAUyKJXkYJUsCjWdk+5AhSwNLijGFOCVLAz6Chf4IIUsCqm4u/7QhSwALZ690fA1LAXrpJDAIDUsDlYaHWNANSwNjw9EpZFlLA8WPMXUsEUsDgS+FBsxtSwEoNbQA2G1LAFr1TAfcaUsCiQQqeQhtSwL1SliGOG1LAkNsvn6waUsBv8fCeAxtSwKJESx5PG1LAWp2cobgaUsCHFtnO9xtSwNc07zhFG1LA2IFzRpQaUsC62or9ZRtSwJwzorQ3HFLAejarPlcbUsCmm8QgsBpSwHL5D+m3G1LAX5hMFYwSUsCWsgxxrBNSwMgHPZtVA1LARxyygXQbUsBYcD/ggRtSwB7ec2A5G1LALzIBv0YbUsA2j8Ng/hpSwOdUMgBUG1LA7rH0oQsbUsCBlUOLbBtSwN0kBoGVG1LAtf6WAPwOUsD84ee/Bw9SwBBYObTIDlLArthfdk8OUsCV1AloIhBSwIbJVMGoEFLAWDm0yHYOUsDwp8ZLNxFSwIPAyqFFDlLA6Ugu/yERUsC7Jw8LtQ5SwNPe4AuTEVLAF7fRAN4OUsAvbqMBvBFSwAFNhA1PD1LA30+Nl24aUsBXW7G/7BpSwJYhjnVxA1LABwlRvqA8UsCRfvs6cAZSwGvWGd8XQlLAsi5uowEYUsCVZYhjXRhSwJLLf0i/EVLA1JrmHacYUsBaZDvfTxFSwOJYF7fRFFLAsb/snjwYUsBxGw3gLQxSwFuxv+yeGFLAGlHaG3wZUsCFfNCzWRlSwB+94T5yEFLA8nub/uwQUsBwBn+/mBBSwCDVsN8TEVLAA0Lr4csQUsBF9dbAVgxSwIKrPIGwEVLArOP4odIMUsCAnDBhNBFSwB/bMuAsElLA3+ALk6kKUsAQXVDfMgdSwFJGXAAaB1LAzse1oWIHUsDjVGthFgdSwAw/OJ86B1LA8bp+wW4HUsBanZyhuAdSwLk0fuGVEVLABRiWP98RUsAJUb6ghQpSwNwqiIGuClLA4C2QoPgKUsAWwJSBAxJSwGWmtP6WElLARbk0fuERUsB5Wn7gKhJSwCodrP9zElLAm1Wfq60QUsCwA+eMKBFSwDBMpgpGGVLAat5xio4cUsBSuB6F6xlSwKHWNO84HVLABOeMKO0RUsDY8PRKWRJSwIiFWtO8M1LAXynLEMcyUsDIl1DB4TJSwJIjnYGRM1LA4Qz+fjE0UsAA4q5eRTJSwL8K8N3mMlLAMzUJ3pAzUsALtaZ5xzFSwNEi2/l+MlLAoImw4ekxUsBm9+RhoTJSwCxlGeJYM1LAowG8BRI0UsD7y+7JwzJSwME5I0p7M1LAh6dXyjI0UsCQ9j/AWjJSwLxASYEFMlLAH73hPnIyUsCM9nghHTJSwE7yI37FMlLAZ/FiYYgyUsByNh0B3DJSwC1cVmEzMlLADDz3Hi4zUsA/5gMCnTJSwH9skh/xMlLALxfxnZgzUsAWokPgSDJSwO+QYoBEM1LAyJqRQe4zUsDgS+FBszJSwIWxhSAHM1LAyVht/l8yUsAkJqjhWzNSwIFdTZ6yM1LAgGPPnssyUsC6+NueIDNSwFEujV94MlLAiL1QwHYzUsBtyhXe5TJSwKBuoMA7M1LAiIVa07wzUsB56SYxCDRSwDEIrBxaNFLAwhcmUwUzUsBxPQrXozRSwI4G8BZINFLA48eYu5Y0UsDswDkjSjNSwOm3rwPnNFLAxY8xdy01UsDsaYe/JjVSwK+zIf/MNFLAvkwUIXU0UsDVzcXf9jRSwNLHfECgNFLAq5UJv9Q0UsDWxW00gDNSwEymCkYlNVLADk+vlGU0UsBUUiegiTRSwMcpOpLLM1LAwFsgQfEzUsC5jQbwFjRSwAlszsEzClLA5dAi2/kSUsCQMXctIRNSwPXb14FzClLAFD/G3LUUUsBwXwfOGRVSwIKo+wCkClLA7IfYYOEKUsC30QDeAgtSwOhqK/aXMVLAAAAAAAAMUsClTkATYQtSwD55WKg1BVLALpCg+DEGUsCrz9VW7A9SwP5D+u3rEFLATmIQWDkQUsDwp8ZLNxFSwL1SliGOEVLAj1N0JJcXUsDu68A5IxJSwPcGX5hMCVLAmEwVjEoKUsDvycNCrQlSwJEPejarClLAqaROQBMNUsCuR+F6FA5SwIEExY8xC1LA6GnAIOkHUsBPPdLgtgdSwEjgDz//B1LAsMvwn24HUsACEk2giAdSwB6lEp7QB1LA/tKiPskFUsCR8/4/ThZSwOuNWmH6F1LAG5/J/nkRUsD+8zRgkBFSwALZ690fClLAoUrNHmgKUsDxvb9BexZSwOlILv8hHVLAy4KJP4oDUsBD5sqg2gNSwLk0fuGVA1LAOWItPgUMUsCHpYEf1R1SwPXYlgFnH1LAYtaLoZwQUsAB+n3/5hBSwJoIG55eEFLAQNr/AGsQUsDX9+EgIQ1SwJIFTODWDFLA1/oioS0NUsBMFvcfmQxSwI0IxsGlDFLAByeiX1sMUsBQHEC/7wxSwE0QdR+AGFLAZr6DnzgYUsB0J9h/nRhSwMWRByKLAlLAibSNP1EcUsALJ2n+mBFSwBGN7iB2AlLAO8WqQZgVUsBVT+YffTFSwILix5i7FlLA2qz6XG0VUsB1WrdB7Q5SwK+UZYhjDVLAh6dXyjIMUsBhVFInoA1SwH0/NV66DVLAtvP91Hg1UsDSb18HzjVSwMpt+x71D1LAY3/ZPXk4UsBeS8gHPTdSwIrkK4GUKlLA61c6H54qUsCgGi/dJCpSwBe30QDeKlLAgEi/fR0kUsBBguLHmCNSwJM6AU2EFVLAPnlYqDUVUsALRiV1AhZSwOXQItv5IlLAJLn8h/QzUsBmiGNd3DJSwPjCZKpgKFLAmbuWkA8KUsDChqdXygpSwEvIBz2bGVLAqDXNO04ZUsD8GHPXEhpSwIzbaABvGVLALpCg+DEaUsD/If32dThSwA==",
          "dtype": "f8"
         },
         "marker": {
          "color": {
           "bdata": "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",
           "dtype": "f8"
          },
          "coloraxis": "coloraxis"
         },
         "mode": "markers",
         "name": "",
         "showlegend": false,
         "subplot": "mapbox",
         "type": "scattermapbox"
        }
       ],
       "layout": {
        "coloraxis": {
         "colorbar": {
          "title": {
           "text": "frp"
          }
         },
         "colorscale": [
          [
           0,
           "#0d0887"
          ],
          [
           0.1111111111111111,
           "#46039f"
          ],
          [
           0.2222222222222222,
           "#7201a8"
          ],
          [
           0.3333333333333333,
           "#9c179e"
          ],
          [
           0.4444444444444444,
           "#bd3786"
          ],
          [
           0.5555555555555556,
           "#d8576b"
          ],
          [
           0.6666666666666666,
           "#ed7953"
          ],
          [
           0.7777777777777778,
           "#fb9f3a"
          ],
          [
           0.8888888888888888,
           "#fdca26"
          ],
          [
           1,
           "#f0f921"
          ]
         ]
        },
        "height": 800,
        "legend": {
         "tracegroupgap": 0
        },
        "mapbox": {
         "accesstoken": "pk.eyJ1Ijoic2ViYXN0aWFudGFyZSIsImEiOiJjbHExcTUyOTUwOHA0MnJxbTQxNWx0cncwIn0.sQHfE5BiOUnPHPm7H6iVZw",
         "center": {
          "lat": -37.47873187404141,
          "lon": -72.53952566832822
         },
         "domain": {
          "x": [
           0,
           1
          ],
          "y": [
           0,
           1
          ]
         },
         "style": "satellite",
         "zoom": 3
        },
        "template": {
         "data": {
          "bar": [
           {
            "error_x": {
             "color": "#2a3f5f"
            },
            "error_y": {
             "color": "#2a3f5f"
            },
            "marker": {
             "line": {
              "color": "#E5ECF6",
              "width": 0.5
             },
             "pattern": {
              "fillmode": "overlay",
              "size": 10,
              "solidity": 0.2
             }
            },
            "type": "bar"
           }
          ],
          "barpolar": [
           {
            "marker": {
             "line": {
              "color": "#E5ECF6",
              "width": 0.5
             },
             "pattern": {
              "fillmode": "overlay",
              "size": 10,
              "solidity": 0.2
             }
            },
            "type": "barpolar"
           }
          ],
          "carpet": [
           {
            "aaxis": {
             "endlinecolor": "#2a3f5f",
             "gridcolor": "white",
             "linecolor": "white",
             "minorgridcolor": "white",
             "startlinecolor": "#2a3f5f"
            },
            "baxis": {
             "endlinecolor": "#2a3f5f",
             "gridcolor": "white",
             "linecolor": "white",
             "minorgridcolor": "white",
             "startlinecolor": "#2a3f5f"
            },
            "type": "carpet"
           }
          ],
          "choropleth": [
           {
            "colorbar": {
             "outlinewidth": 0,
             "ticks": ""
            },
            "type": "choropleth"
           }
          ],
          "contour": [
           {
            "colorbar": {
             "outlinewidth": 0,
             "ticks": ""
            },
            "colorscale": [
             [
              0,
              "#0d0887"
             ],
             [
              0.1111111111111111,
              "#46039f"
             ],
             [
              0.2222222222222222,
              "#7201a8"
             ],
             [
              0.3333333333333333,
              "#9c179e"
             ],
             [
              0.4444444444444444,
              "#bd3786"
             ],
             [
              0.5555555555555556,
              "#d8576b"
             ],
             [
              0.6666666666666666,
              "#ed7953"
             ],
             [
              0.7777777777777778,
              "#fb9f3a"
             ],
             [
              0.8888888888888888,
              "#fdca26"
             ],
             [
              1,
              "#f0f921"
             ]
            ],
            "type": "contour"
           }
          ],
          "contourcarpet": [
           {
            "colorbar": {
             "outlinewidth": 0,
             "ticks": ""
            },
            "type": "contourcarpet"
           }
          ],
          "heatmap": [
           {
            "colorbar": {
             "outlinewidth": 0,
             "ticks": ""
            },
            "colorscale": [
             [
              0,
              "#0d0887"
             ],
             [
              0.1111111111111111,
              "#46039f"
             ],
             [
              0.2222222222222222,
              "#7201a8"
             ],
             [
              0.3333333333333333,
              "#9c179e"
             ],
             [
              0.4444444444444444,
              "#bd3786"
             ],
             [
              0.5555555555555556,
              "#d8576b"
             ],
             [
              0.6666666666666666,
              "#ed7953"
             ],
             [
              0.7777777777777778,
              "#fb9f3a"
             ],
             [
              0.8888888888888888,
              "#fdca26"
             ],
             [
              1,
              "#f0f921"
             ]
            ],
            "type": "heatmap"
           }
          ],
          "histogram": [
           {
            "marker": {
             "pattern": {
              "fillmode": "overlay",
              "size": 10,
              "solidity": 0.2
             }
            },
            "type": "histogram"
           }
          ],
          "histogram2d": [
           {
            "colorbar": {
             "outlinewidth": 0,
             "ticks": ""
            },
            "colorscale": [
             [
              0,
              "#0d0887"
             ],
             [
              0.1111111111111111,
              "#46039f"
             ],
             [
              0.2222222222222222,
              "#7201a8"
             ],
             [
              0.3333333333333333,
              "#9c179e"
             ],
             [
              0.4444444444444444,
              "#bd3786"
             ],
             [
              0.5555555555555556,
              "#d8576b"
             ],
             [
              0.6666666666666666,
              "#ed7953"
             ],
             [
              0.7777777777777778,
              "#fb9f3a"
             ],
             [
              0.8888888888888888,
              "#fdca26"
             ],
             [
              1,
              "#f0f921"
             ]
            ],
            "type": "histogram2d"
           }
          ],
          "histogram2dcontour": [
           {
            "colorbar": {
             "outlinewidth": 0,
             "ticks": ""
            },
            "colorscale": [
             [
              0,
              "#0d0887"
             ],
             [
              0.1111111111111111,
              "#46039f"
             ],
             [
              0.2222222222222222,
              "#7201a8"
             ],
             [
              0.3333333333333333,
              "#9c179e"
             ],
             [
              0.4444444444444444,
              "#bd3786"
             ],
             [
              0.5555555555555556,
              "#d8576b"
             ],
             [
              0.6666666666666666,
              "#ed7953"
             ],
             [
              0.7777777777777778,
              "#fb9f3a"
             ],
             [
              0.8888888888888888,
              "#fdca26"
             ],
             [
              1,
              "#f0f921"
             ]
            ],
            "type": "histogram2dcontour"
           }
          ],
          "mesh3d": [
           {
            "colorbar": {
             "outlinewidth": 0,
             "ticks": ""
            },
            "type": "mesh3d"
           }
          ],
          "parcoords": [
           {
            "line": {
             "colorbar": {
              "outlinewidth": 0,
              "ticks": ""
             }
            },
            "type": "parcoords"
           }
          ],
          "pie": [
           {
            "automargin": true,
            "type": "pie"
           }
          ],
          "scatter": [
           {
            "fillpattern": {
             "fillmode": "overlay",
             "size": 10,
             "solidity": 0.2
            },
            "type": "scatter"
           }
          ],
          "scatter3d": [
           {
            "line": {
             "colorbar": {
              "outlinewidth": 0,
              "ticks": ""
             }
            },
            "marker": {
             "colorbar": {
              "outlinewidth": 0,
              "ticks": ""
             }
            },
            "type": "scatter3d"
           }
          ],
          "scattercarpet": [
           {
            "marker": {
             "colorbar": {
              "outlinewidth": 0,
              "ticks": ""
             }
            },
            "type": "scattercarpet"
           }
          ],
          "scattergeo": [
           {
            "marker": {
             "colorbar": {
              "outlinewidth": 0,
              "ticks": ""
             }
            },
            "type": "scattergeo"
           }
          ],
          "scattergl": [
           {
            "marker": {
             "colorbar": {
              "outlinewidth": 0,
              "ticks": ""
             }
            },
            "type": "scattergl"
           }
          ],
          "scattermap": [
           {
            "marker": {
             "colorbar": {
              "outlinewidth": 0,
              "ticks": ""
             }
            },
            "type": "scattermap"
           }
          ],
          "scattermapbox": [
           {
            "marker": {
             "colorbar": {
              "outlinewidth": 0,
              "ticks": ""
             }
            },
            "type": "scattermapbox"
           }
          ],
          "scatterpolar": [
           {
            "marker": {
             "colorbar": {
              "outlinewidth": 0,
              "ticks": ""
             }
            },
            "type": "scatterpolar"
           }
          ],
          "scatterpolargl": [
           {
            "marker": {
             "colorbar": {
              "outlinewidth": 0,
              "ticks": ""
             }
            },
            "type": "scatterpolargl"
           }
          ],
          "scatterternary": [
           {
            "marker": {
             "colorbar": {
              "outlinewidth": 0,
              "ticks": ""
             }
            },
            "type": "scatterternary"
           }
          ],
          "surface": [
           {
            "colorbar": {
             "outlinewidth": 0,
             "ticks": ""
            },
            "colorscale": [
             [
              0,
              "#0d0887"
             ],
             [
              0.1111111111111111,
              "#46039f"
             ],
             [
              0.2222222222222222,
              "#7201a8"
             ],
             [
              0.3333333333333333,
              "#9c179e"
             ],
             [
              0.4444444444444444,
              "#bd3786"
             ],
             [
              0.5555555555555556,
              "#d8576b"
             ],
             [
              0.6666666666666666,
              "#ed7953"
             ],
             [
              0.7777777777777778,
              "#fb9f3a"
             ],
             [
              0.8888888888888888,
              "#fdca26"
             ],
             [
              1,
              "#f0f921"
             ]
            ],
            "type": "surface"
           }
          ],
          "table": [
           {
            "cells": {
             "fill": {
              "color": "#EBF0F8"
             },
             "line": {
              "color": "white"
             }
            },
            "header": {
             "fill": {
              "color": "#C8D4E3"
             },
             "line": {
              "color": "white"
             }
            },
            "type": "table"
           }
          ]
         },
         "layout": {
          "annotationdefaults": {
           "arrowcolor": "#2a3f5f",
           "arrowhead": 0,
           "arrowwidth": 1
          },
          "autotypenumbers": "strict",
          "coloraxis": {
           "colorbar": {
            "outlinewidth": 0,
            "ticks": ""
           }
          },
          "colorscale": {
           "diverging": [
            [
             0,
             "#8e0152"
            ],
            [
             0.1,
             "#c51b7d"
            ],
            [
             0.2,
             "#de77ae"
            ],
            [
             0.3,
             "#f1b6da"
            ],
            [
             0.4,
             "#fde0ef"
            ],
            [
             0.5,
             "#f7f7f7"
            ],
            [
             0.6,
             "#e6f5d0"
            ],
            [
             0.7,
             "#b8e186"
            ],
            [
             0.8,
             "#7fbc41"
            ],
            [
             0.9,
             "#4d9221"
            ],
            [
             1,
             "#276419"
            ]
           ],
           "sequential": [
            [
             0,
             "#0d0887"
            ],
            [
             0.1111111111111111,
             "#46039f"
            ],
            [
             0.2222222222222222,
             "#7201a8"
            ],
            [
             0.3333333333333333,
             "#9c179e"
            ],
            [
             0.4444444444444444,
             "#bd3786"
            ],
            [
             0.5555555555555556,
             "#d8576b"
            ],
            [
             0.6666666666666666,
             "#ed7953"
            ],
            [
             0.7777777777777778,
             "#fb9f3a"
            ],
            [
             0.8888888888888888,
             "#fdca26"
            ],
            [
             1,
             "#f0f921"
            ]
           ],
           "sequentialminus": [
            [
             0,
             "#0d0887"
            ],
            [
             0.1111111111111111,
             "#46039f"
            ],
            [
             0.2222222222222222,
             "#7201a8"
            ],
            [
             0.3333333333333333,
             "#9c179e"
            ],
            [
             0.4444444444444444,
             "#bd3786"
            ],
            [
             0.5555555555555556,
             "#d8576b"
            ],
            [
             0.6666666666666666,
             "#ed7953"
            ],
            [
             0.7777777777777778,
             "#fb9f3a"
            ],
            [
             0.8888888888888888,
             "#fdca26"
            ],
            [
             1,
             "#f0f921"
            ]
           ]
          },
          "colorway": [
           "#636efa",
           "#EF553B",
           "#00cc96",
           "#ab63fa",
           "#FFA15A",
           "#19d3f3",
           "#FF6692",
           "#B6E880",
           "#FF97FF",
           "#FECB52"
          ],
          "font": {
           "color": "#2a3f5f"
          },
          "geo": {
           "bgcolor": "white",
           "lakecolor": "white",
           "landcolor": "#E5ECF6",
           "showlakes": true,
           "showland": true,
           "subunitcolor": "white"
          },
          "hoverlabel": {
           "align": "left"
          },
          "hovermode": "closest",
          "mapbox": {
           "style": "light"
          },
          "paper_bgcolor": "white",
          "plot_bgcolor": "#E5ECF6",
          "polar": {
           "angularaxis": {
            "gridcolor": "white",
            "linecolor": "white",
            "ticks": ""
           },
           "bgcolor": "#E5ECF6",
           "radialaxis": {
            "gridcolor": "white",
            "linecolor": "white",
            "ticks": ""
           }
          },
          "scene": {
           "xaxis": {
            "backgroundcolor": "#E5ECF6",
            "gridcolor": "white",
            "gridwidth": 2,
            "linecolor": "white",
            "showbackground": true,
            "ticks": "",
            "zerolinecolor": "white"
           },
           "yaxis": {
            "backgroundcolor": "#E5ECF6",
            "gridcolor": "white",
            "gridwidth": 2,
            "linecolor": "white",
            "showbackground": true,
            "ticks": "",
            "zerolinecolor": "white"
           },
           "zaxis": {
            "backgroundcolor": "#E5ECF6",
            "gridcolor": "white",
            "gridwidth": 2,
            "linecolor": "white",
            "showbackground": true,
            "ticks": "",
            "zerolinecolor": "white"
           }
          },
          "shapedefaults": {
           "line": {
            "color": "#2a3f5f"
           }
          },
          "ternary": {
           "aaxis": {
            "gridcolor": "white",
            "linecolor": "white",
            "ticks": ""
           },
           "baxis": {
            "gridcolor": "white",
            "linecolor": "white",
            "ticks": ""
           },
           "bgcolor": "#E5ECF6",
           "caxis": {
            "gridcolor": "white",
            "linecolor": "white",
            "ticks": ""
           }
          },
          "title": {
           "x": 0.05
          },
          "xaxis": {
           "automargin": true,
           "gridcolor": "white",
           "linecolor": "white",
           "ticks": "",
           "title": {
            "standoff": 15
           },
           "zerolinecolor": "white",
           "zerolinewidth": 2
          },
          "yaxis": {
           "automargin": true,
           "gridcolor": "white",
           "linecolor": "white",
           "ticks": "",
           "title": {
            "standoff": 15
           },
           "zerolinecolor": "white",
           "zerolinewidth": 2
          }
         }
        },
        "title": {
         "text": "Clusters Analysis for Static land source"
        }
       }
      }
     },
     "metadata": {},
     "output_type": "display_data"
    }
   ],
   "source": [
    "fig = px.scatter_mapbox(a[(a['type'] == 0) & ((a['comuna'] == 'CONCEPCION') | (a['comuna'] == 'VICTORIA') | (a['comuna'] == 'FLORIDA')  | (a['comuna'] == 'TOME'))], lat=\"latitude\", lon=\"longitude\", zoom=3, color='frp', title='Wildfires')\n",
    "fig.update_layout(mapbox_style='satellite', title='Clusters Analysis for Static land source', height=800)\n",
    "fig.show();"
   ]
  },
  {
   "cell_type": "code",
   "execution_count": 15,
   "metadata": {},
   "outputs": [
    {
     "data": {
      "text/html": [
       "<div>\n",
       "<style scoped>\n",
       "    .dataframe tbody tr th:only-of-type {\n",
       "        vertical-align: middle;\n",
       "    }\n",
       "\n",
       "    .dataframe tbody tr th {\n",
       "        vertical-align: top;\n",
       "    }\n",
       "\n",
       "    .dataframe thead th {\n",
       "        text-align: right;\n",
       "    }\n",
       "</style>\n",
       "<table border=\"1\" class=\"dataframe\">\n",
       "  <thead>\n",
       "    <tr style=\"text-align: right;\">\n",
       "      <th></th>\n",
       "      <th>latitude</th>\n",
       "      <th>longitude</th>\n",
       "      <th>brightness</th>\n",
       "      <th>scan</th>\n",
       "      <th>track</th>\n",
       "      <th>acq_date</th>\n",
       "      <th>acq_time</th>\n",
       "      <th>satellite</th>\n",
       "      <th>instrument</th>\n",
       "      <th>confidence</th>\n",
       "      <th>version</th>\n",
       "      <th>bright_t31</th>\n",
       "      <th>frp</th>\n",
       "      <th>daynight</th>\n",
       "      <th>type</th>\n",
       "      <th>comuna</th>\n",
       "      <th>acq_datetime_gmt_3</th>\n",
       "      <th>year</th>\n",
       "    </tr>\n",
       "  </thead>\n",
       "  <tbody>\n",
       "    <tr>\n",
       "      <th>31</th>\n",
       "      <td>-33.305400</td>\n",
       "      <td>-70.752300</td>\n",
       "      <td>326.70</td>\n",
       "      <td>2.20</td>\n",
       "      <td>1.40</td>\n",
       "      <td>2013-01-01</td>\n",
       "      <td>1521</td>\n",
       "      <td>Terra</td>\n",
       "      <td>MODIS</td>\n",
       "      <td>n</td>\n",
       "      <td>6.03</td>\n",
       "      <td>308.00</td>\n",
       "      <td>31.90</td>\n",
       "      <td>D</td>\n",
       "      <td>0.0</td>\n",
       "      <td>LAMPA</td>\n",
       "      <td>2013-01-01 12:21:00-03:00</td>\n",
       "      <td>2013</td>\n",
       "    </tr>\n",
       "    <tr>\n",
       "      <th>43</th>\n",
       "      <td>-33.309000</td>\n",
       "      <td>-70.753200</td>\n",
       "      <td>324.80</td>\n",
       "      <td>3.10</td>\n",
       "      <td>1.70</td>\n",
       "      <td>2013-01-01</td>\n",
       "      <td>1800</td>\n",
       "      <td>Aqua</td>\n",
       "      <td>MODIS</td>\n",
       "      <td>n</td>\n",
       "      <td>6.03</td>\n",
       "      <td>310.40</td>\n",
       "      <td>37.70</td>\n",
       "      <td>D</td>\n",
       "      <td>0.0</td>\n",
       "      <td>LAMPA</td>\n",
       "      <td>2013-01-01 15:00:00-03:00</td>\n",
       "      <td>2013</td>\n",
       "    </tr>\n",
       "    <tr>\n",
       "      <th>44</th>\n",
       "      <td>-34.471400</td>\n",
       "      <td>-71.336800</td>\n",
       "      <td>318.20</td>\n",
       "      <td>3.50</td>\n",
       "      <td>1.80</td>\n",
       "      <td>2013-01-01</td>\n",
       "      <td>1800</td>\n",
       "      <td>Aqua</td>\n",
       "      <td>MODIS</td>\n",
       "      <td>n</td>\n",
       "      <td>6.03</td>\n",
       "      <td>306.10</td>\n",
       "      <td>43.20</td>\n",
       "      <td>D</td>\n",
       "      <td>0.0</td>\n",
       "      <td>PALMILLA</td>\n",
       "      <td>2013-01-01 15:00:00-03:00</td>\n",
       "      <td>2013</td>\n",
       "    </tr>\n",
       "    <tr>\n",
       "      <th>48</th>\n",
       "      <td>-37.857079</td>\n",
       "      <td>-71.161934</td>\n",
       "      <td>333.99</td>\n",
       "      <td>0.48</td>\n",
       "      <td>0.40</td>\n",
       "      <td>2013-01-01</td>\n",
       "      <td>1848</td>\n",
       "      <td>N</td>\n",
       "      <td>VIIRS</td>\n",
       "      <td>n</td>\n",
       "      <td>1</td>\n",
       "      <td>301.94</td>\n",
       "      <td>20.16</td>\n",
       "      <td>D</td>\n",
       "      <td>0.0</td>\n",
       "      <td>SANTA BARBARA</td>\n",
       "      <td>2013-01-01 15:48:00-03:00</td>\n",
       "      <td>2013</td>\n",
       "    </tr>\n",
       "    <tr>\n",
       "      <th>54</th>\n",
       "      <td>-33.296406</td>\n",
       "      <td>-70.749161</td>\n",
       "      <td>355.82</td>\n",
       "      <td>0.40</td>\n",
       "      <td>0.44</td>\n",
       "      <td>2013-01-01</td>\n",
       "      <td>1854</td>\n",
       "      <td>N</td>\n",
       "      <td>VIIRS</td>\n",
       "      <td>n</td>\n",
       "      <td>1</td>\n",
       "      <td>315.79</td>\n",
       "      <td>23.86</td>\n",
       "      <td>D</td>\n",
       "      <td>0.0</td>\n",
       "      <td>LAMPA</td>\n",
       "      <td>2013-01-01 15:54:00-03:00</td>\n",
       "      <td>2013</td>\n",
       "    </tr>\n",
       "  </tbody>\n",
       "</table>\n",
       "</div>"
      ],
      "text/plain": [
       "     latitude  longitude  brightness  scan  track   acq_date  acq_time  \\\n",
       "31 -33.305400 -70.752300      326.70  2.20   1.40 2013-01-01      1521   \n",
       "43 -33.309000 -70.753200      324.80  3.10   1.70 2013-01-01      1800   \n",
       "44 -34.471400 -71.336800      318.20  3.50   1.80 2013-01-01      1800   \n",
       "48 -37.857079 -71.161934      333.99  0.48   0.40 2013-01-01      1848   \n",
       "54 -33.296406 -70.749161      355.82  0.40   0.44 2013-01-01      1854   \n",
       "\n",
       "   satellite instrument confidence version  bright_t31    frp daynight  type  \\\n",
       "31     Terra      MODIS          n    6.03      308.00  31.90        D   0.0   \n",
       "43      Aqua      MODIS          n    6.03      310.40  37.70        D   0.0   \n",
       "44      Aqua      MODIS          n    6.03      306.10  43.20        D   0.0   \n",
       "48         N      VIIRS          n       1      301.94  20.16        D   0.0   \n",
       "54         N      VIIRS          n       1      315.79  23.86        D   0.0   \n",
       "\n",
       "           comuna        acq_datetime_gmt_3  year  \n",
       "31          LAMPA 2013-01-01 12:21:00-03:00  2013  \n",
       "43          LAMPA 2013-01-01 15:00:00-03:00  2013  \n",
       "44       PALMILLA 2013-01-01 15:00:00-03:00  2013  \n",
       "48  SANTA BARBARA 2013-01-01 15:48:00-03:00  2013  \n",
       "54          LAMPA 2013-01-01 15:54:00-03:00  2013  "
      ]
     },
     "execution_count": 15,
     "metadata": {},
     "output_type": "execute_result"
    }
   ],
   "source": [
    "x = a.copy()\n",
    "x.head()"
   ]
  },
  {
   "cell_type": "code",
   "execution_count": 16,
   "metadata": {},
   "outputs": [],
   "source": [
    "x['mes'] = x['acq_date'].dt.month"
   ]
  },
  {
   "cell_type": "code",
   "execution_count": 17,
   "metadata": {},
   "outputs": [],
   "source": [
    "x = x[(x['mes'] >= 11) | (x['mes'] <= 3)]"
   ]
  },
  {
   "cell_type": "code",
   "execution_count": 18,
   "metadata": {},
   "outputs": [
    {
     "data": {
      "text/plain": [
       "(59722, 19)"
      ]
     },
     "execution_count": 18,
     "metadata": {},
     "output_type": "execute_result"
    }
   ],
   "source": [
    "x.shape"
   ]
  },
  {
   "cell_type": "code",
   "execution_count": 19,
   "metadata": {},
   "outputs": [
    {
     "name": "stderr",
     "output_type": "stream",
     "text": [
      "/tmp/ipykernel_150691/2421778495.py:1: DeprecationWarning:\n",
      "\n",
      "*scatter_mapbox* is deprecated! Use *scatter_map* instead. Learn more at: https://plotly.com/python/mapbox-to-maplibre/\n",
      "\n"
     ]
    },
    {
     "data": {
      "application/vnd.plotly.v1+json": {
       "config": {
        "plotlyServerURL": "https://plot.ly"
       },
       "data": [
        {
         "hovertemplate": "latitude=%{lat}<br>longitude=%{lon}<br>frp=%{marker.color}<extra></extra>",
         "lat": {
          "bdata": "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",
          "dtype": "f8"
         },
         "legendgroup": "",
         "lon": {
          "bdata": "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",
          "dtype": "f8"
         },
         "marker": {
          "color": {
           "bdata": "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",
           "dtype": "f8"
          },
          "coloraxis": "coloraxis"
         },
         "mode": "markers",
         "name": "",
         "showlegend": false,
         "subplot": "mapbox",
         "type": "scattermapbox"
        }
       ],
       "layout": {
        "coloraxis": {
         "colorbar": {
          "title": {
           "text": "frp"
          }
         },
         "colorscale": [
          [
           0,
           "#0d0887"
          ],
          [
           0.1111111111111111,
           "#46039f"
          ],
          [
           0.2222222222222222,
           "#7201a8"
          ],
          [
           0.3333333333333333,
           "#9c179e"
          ],
          [
           0.4444444444444444,
           "#bd3786"
          ],
          [
           0.5555555555555556,
           "#d8576b"
          ],
          [
           0.6666666666666666,
           "#ed7953"
          ],
          [
           0.7777777777777778,
           "#fb9f3a"
          ],
          [
           0.8888888888888888,
           "#fdca26"
          ],
          [
           1,
           "#f0f921"
          ]
         ]
        },
        "height": 800,
        "legend": {
         "tracegroupgap": 0
        },
        "mapbox": {
         "accesstoken": "pk.eyJ1Ijoic2ViYXN0aWFudGFyZSIsImEiOiJjbHExcTUyOTUwOHA0MnJxbTQxNWx0cncwIn0.sQHfE5BiOUnPHPm7H6iVZw",
         "center": {
          "lat": -38.278656031526545,
          "lon": -72.29381560232301
         },
         "domain": {
          "x": [
           0,
           1
          ],
          "y": [
           0,
           1
          ]
         },
         "style": "satellite",
         "zoom": 3
        },
        "template": {
         "data": {
          "bar": [
           {
            "error_x": {
             "color": "#2a3f5f"
            },
            "error_y": {
             "color": "#2a3f5f"
            },
            "marker": {
             "line": {
              "color": "#E5ECF6",
              "width": 0.5
             },
             "pattern": {
              "fillmode": "overlay",
              "size": 10,
              "solidity": 0.2
             }
            },
            "type": "bar"
           }
          ],
          "barpolar": [
           {
            "marker": {
             "line": {
              "color": "#E5ECF6",
              "width": 0.5
             },
             "pattern": {
              "fillmode": "overlay",
              "size": 10,
              "solidity": 0.2
             }
            },
            "type": "barpolar"
           }
          ],
          "carpet": [
           {
            "aaxis": {
             "endlinecolor": "#2a3f5f",
             "gridcolor": "white",
             "linecolor": "white",
             "minorgridcolor": "white",
             "startlinecolor": "#2a3f5f"
            },
            "baxis": {
             "endlinecolor": "#2a3f5f",
             "gridcolor": "white",
             "linecolor": "white",
             "minorgridcolor": "white",
             "startlinecolor": "#2a3f5f"
            },
            "type": "carpet"
           }
          ],
          "choropleth": [
           {
            "colorbar": {
             "outlinewidth": 0,
             "ticks": ""
            },
            "type": "choropleth"
           }
          ],
          "contour": [
           {
            "colorbar": {
             "outlinewidth": 0,
             "ticks": ""
            },
            "colorscale": [
             [
              0,
              "#0d0887"
             ],
             [
              0.1111111111111111,
              "#46039f"
             ],
             [
              0.2222222222222222,
              "#7201a8"
             ],
             [
              0.3333333333333333,
              "#9c179e"
             ],
             [
              0.4444444444444444,
              "#bd3786"
             ],
             [
              0.5555555555555556,
              "#d8576b"
             ],
             [
              0.6666666666666666,
              "#ed7953"
             ],
             [
              0.7777777777777778,
              "#fb9f3a"
             ],
             [
              0.8888888888888888,
              "#fdca26"
             ],
             [
              1,
              "#f0f921"
             ]
            ],
            "type": "contour"
           }
          ],
          "contourcarpet": [
           {
            "colorbar": {
             "outlinewidth": 0,
             "ticks": ""
            },
            "type": "contourcarpet"
           }
          ],
          "heatmap": [
           {
            "colorbar": {
             "outlinewidth": 0,
             "ticks": ""
            },
            "colorscale": [
             [
              0,
              "#0d0887"
             ],
             [
              0.1111111111111111,
              "#46039f"
             ],
             [
              0.2222222222222222,
              "#7201a8"
             ],
             [
              0.3333333333333333,
              "#9c179e"
             ],
             [
              0.4444444444444444,
              "#bd3786"
             ],
             [
              0.5555555555555556,
              "#d8576b"
             ],
             [
              0.6666666666666666,
              "#ed7953"
             ],
             [
              0.7777777777777778,
              "#fb9f3a"
             ],
             [
              0.8888888888888888,
              "#fdca26"
             ],
             [
              1,
              "#f0f921"
             ]
            ],
            "type": "heatmap"
           }
          ],
          "histogram": [
           {
            "marker": {
             "pattern": {
              "fillmode": "overlay",
              "size": 10,
              "solidity": 0.2
             }
            },
            "type": "histogram"
           }
          ],
          "histogram2d": [
           {
            "colorbar": {
             "outlinewidth": 0,
             "ticks": ""
            },
            "colorscale": [
             [
              0,
              "#0d0887"
             ],
             [
              0.1111111111111111,
              "#46039f"
             ],
             [
              0.2222222222222222,
              "#7201a8"
             ],
             [
              0.3333333333333333,
              "#9c179e"
             ],
             [
              0.4444444444444444,
              "#bd3786"
             ],
             [
              0.5555555555555556,
              "#d8576b"
             ],
             [
              0.6666666666666666,
              "#ed7953"
             ],
             [
              0.7777777777777778,
              "#fb9f3a"
             ],
             [
              0.8888888888888888,
              "#fdca26"
             ],
             [
              1,
              "#f0f921"
             ]
            ],
            "type": "histogram2d"
           }
          ],
          "histogram2dcontour": [
           {
            "colorbar": {
             "outlinewidth": 0,
             "ticks": ""
            },
            "colorscale": [
             [
              0,
              "#0d0887"
             ],
             [
              0.1111111111111111,
              "#46039f"
             ],
             [
              0.2222222222222222,
              "#7201a8"
             ],
             [
              0.3333333333333333,
              "#9c179e"
             ],
             [
              0.4444444444444444,
              "#bd3786"
             ],
             [
              0.5555555555555556,
              "#d8576b"
             ],
             [
              0.6666666666666666,
              "#ed7953"
             ],
             [
              0.7777777777777778,
              "#fb9f3a"
             ],
             [
              0.8888888888888888,
              "#fdca26"
             ],
             [
              1,
              "#f0f921"
             ]
            ],
            "type": "histogram2dcontour"
           }
          ],
          "mesh3d": [
           {
            "colorbar": {
             "outlinewidth": 0,
             "ticks": ""
            },
            "type": "mesh3d"
           }
          ],
          "parcoords": [
           {
            "line": {
             "colorbar": {
              "outlinewidth": 0,
              "ticks": ""
             }
            },
            "type": "parcoords"
           }
          ],
          "pie": [
           {
            "automargin": true,
            "type": "pie"
           }
          ],
          "scatter": [
           {
            "fillpattern": {
             "fillmode": "overlay",
             "size": 10,
             "solidity": 0.2
            },
            "type": "scatter"
           }
          ],
          "scatter3d": [
           {
            "line": {
             "colorbar": {
              "outlinewidth": 0,
              "ticks": ""
             }
            },
            "marker": {
             "colorbar": {
              "outlinewidth": 0,
              "ticks": ""
             }
            },
            "type": "scatter3d"
           }
          ],
          "scattercarpet": [
           {
            "marker": {
             "colorbar": {
              "outlinewidth": 0,
              "ticks": ""
             }
            },
            "type": "scattercarpet"
           }
          ],
          "scattergeo": [
           {
            "marker": {
             "colorbar": {
              "outlinewidth": 0,
              "ticks": ""
             }
            },
            "type": "scattergeo"
           }
          ],
          "scattergl": [
           {
            "marker": {
             "colorbar": {
              "outlinewidth": 0,
              "ticks": ""
             }
            },
            "type": "scattergl"
           }
          ],
          "scattermap": [
           {
            "marker": {
             "colorbar": {
              "outlinewidth": 0,
              "ticks": ""
             }
            },
            "type": "scattermap"
           }
          ],
          "scattermapbox": [
           {
            "marker": {
             "colorbar": {
              "outlinewidth": 0,
              "ticks": ""
             }
            },
            "type": "scattermapbox"
           }
          ],
          "scatterpolar": [
           {
            "marker": {
             "colorbar": {
              "outlinewidth": 0,
              "ticks": ""
             }
            },
            "type": "scatterpolar"
           }
          ],
          "scatterpolargl": [
           {
            "marker": {
             "colorbar": {
              "outlinewidth": 0,
              "ticks": ""
             }
            },
            "type": "scatterpolargl"
           }
          ],
          "scatterternary": [
           {
            "marker": {
             "colorbar": {
              "outlinewidth": 0,
              "ticks": ""
             }
            },
            "type": "scatterternary"
           }
          ],
          "surface": [
           {
            "colorbar": {
             "outlinewidth": 0,
             "ticks": ""
            },
            "colorscale": [
             [
              0,
              "#0d0887"
             ],
             [
              0.1111111111111111,
              "#46039f"
             ],
             [
              0.2222222222222222,
              "#7201a8"
             ],
             [
              0.3333333333333333,
              "#9c179e"
             ],
             [
              0.4444444444444444,
              "#bd3786"
             ],
             [
              0.5555555555555556,
              "#d8576b"
             ],
             [
              0.6666666666666666,
              "#ed7953"
             ],
             [
              0.7777777777777778,
              "#fb9f3a"
             ],
             [
              0.8888888888888888,
              "#fdca26"
             ],
             [
              1,
              "#f0f921"
             ]
            ],
            "type": "surface"
           }
          ],
          "table": [
           {
            "cells": {
             "fill": {
              "color": "#EBF0F8"
             },
             "line": {
              "color": "white"
             }
            },
            "header": {
             "fill": {
              "color": "#C8D4E3"
             },
             "line": {
              "color": "white"
             }
            },
            "type": "table"
           }
          ]
         },
         "layout": {
          "annotationdefaults": {
           "arrowcolor": "#2a3f5f",
           "arrowhead": 0,
           "arrowwidth": 1
          },
          "autotypenumbers": "strict",
          "coloraxis": {
           "colorbar": {
            "outlinewidth": 0,
            "ticks": ""
           }
          },
          "colorscale": {
           "diverging": [
            [
             0,
             "#8e0152"
            ],
            [
             0.1,
             "#c51b7d"
            ],
            [
             0.2,
             "#de77ae"
            ],
            [
             0.3,
             "#f1b6da"
            ],
            [
             0.4,
             "#fde0ef"
            ],
            [
             0.5,
             "#f7f7f7"
            ],
            [
             0.6,
             "#e6f5d0"
            ],
            [
             0.7,
             "#b8e186"
            ],
            [
             0.8,
             "#7fbc41"
            ],
            [
             0.9,
             "#4d9221"
            ],
            [
             1,
             "#276419"
            ]
           ],
           "sequential": [
            [
             0,
             "#0d0887"
            ],
            [
             0.1111111111111111,
             "#46039f"
            ],
            [
             0.2222222222222222,
             "#7201a8"
            ],
            [
             0.3333333333333333,
             "#9c179e"
            ],
            [
             0.4444444444444444,
             "#bd3786"
            ],
            [
             0.5555555555555556,
             "#d8576b"
            ],
            [
             0.6666666666666666,
             "#ed7953"
            ],
            [
             0.7777777777777778,
             "#fb9f3a"
            ],
            [
             0.8888888888888888,
             "#fdca26"
            ],
            [
             1,
             "#f0f921"
            ]
           ],
           "sequentialminus": [
            [
             0,
             "#0d0887"
            ],
            [
             0.1111111111111111,
             "#46039f"
            ],
            [
             0.2222222222222222,
             "#7201a8"
            ],
            [
             0.3333333333333333,
             "#9c179e"
            ],
            [
             0.4444444444444444,
             "#bd3786"
            ],
            [
             0.5555555555555556,
             "#d8576b"
            ],
            [
             0.6666666666666666,
             "#ed7953"
            ],
            [
             0.7777777777777778,
             "#fb9f3a"
            ],
            [
             0.8888888888888888,
             "#fdca26"
            ],
            [
             1,
             "#f0f921"
            ]
           ]
          },
          "colorway": [
           "#636efa",
           "#EF553B",
           "#00cc96",
           "#ab63fa",
           "#FFA15A",
           "#19d3f3",
           "#FF6692",
           "#B6E880",
           "#FF97FF",
           "#FECB52"
          ],
          "font": {
           "color": "#2a3f5f"
          },
          "geo": {
           "bgcolor": "white",
           "lakecolor": "white",
           "landcolor": "#E5ECF6",
           "showlakes": true,
           "showland": true,
           "subunitcolor": "white"
          },
          "hoverlabel": {
           "align": "left"
          },
          "hovermode": "closest",
          "mapbox": {
           "style": "light"
          },
          "paper_bgcolor": "white",
          "plot_bgcolor": "#E5ECF6",
          "polar": {
           "angularaxis": {
            "gridcolor": "white",
            "linecolor": "white",
            "ticks": ""
           },
           "bgcolor": "#E5ECF6",
           "radialaxis": {
            "gridcolor": "white",
            "linecolor": "white",
            "ticks": ""
           }
          },
          "scene": {
           "xaxis": {
            "backgroundcolor": "#E5ECF6",
            "gridcolor": "white",
            "gridwidth": 2,
            "linecolor": "white",
            "showbackground": true,
            "ticks": "",
            "zerolinecolor": "white"
           },
           "yaxis": {
            "backgroundcolor": "#E5ECF6",
            "gridcolor": "white",
            "gridwidth": 2,
            "linecolor": "white",
            "showbackground": true,
            "ticks": "",
            "zerolinecolor": "white"
           },
           "zaxis": {
            "backgroundcolor": "#E5ECF6",
            "gridcolor": "white",
            "gridwidth": 2,
            "linecolor": "white",
            "showbackground": true,
            "ticks": "",
            "zerolinecolor": "white"
           }
          },
          "shapedefaults": {
           "line": {
            "color": "#2a3f5f"
           }
          },
          "ternary": {
           "aaxis": {
            "gridcolor": "white",
            "linecolor": "white",
            "ticks": ""
           },
           "baxis": {
            "gridcolor": "white",
            "linecolor": "white",
            "ticks": ""
           },
           "bgcolor": "#E5ECF6",
           "caxis": {
            "gridcolor": "white",
            "linecolor": "white",
            "ticks": ""
           }
          },
          "title": {
           "x": 0.05
          },
          "xaxis": {
           "automargin": true,
           "gridcolor": "white",
           "linecolor": "white",
           "ticks": "",
           "title": {
            "standoff": 15
           },
           "zerolinecolor": "white",
           "zerolinewidth": 2
          },
          "yaxis": {
           "automargin": true,
           "gridcolor": "white",
           "linecolor": "white",
           "ticks": "",
           "title": {
            "standoff": 15
           },
           "zerolinecolor": "white",
           "zerolinewidth": 2
          }
         }
        },
        "title": {
         "text": "Clusters Analysis for Static land source"
        }
       }
      }
     },
     "metadata": {},
     "output_type": "display_data"
    }
   ],
   "source": [
    "fig = px.scatter_mapbox(x[(x['type'] == 0) & ((x['comuna'] == 'VICTORIA') )], lat=\"latitude\", lon=\"longitude\", zoom=3, color='frp', title='Wildfires')\n",
    "fig.update_layout(mapbox_style='satellite', title='Clusters Analysis for Static land source', height=800)\n",
    "fig.show();"
   ]
  },
  {
   "cell_type": "code",
   "execution_count": 20,
   "metadata": {},
   "outputs": [],
   "source": [
    "\n",
    "def find_intersections_across_years(df, radius_meters=300):\n",
    "    \"\"\"\n",
    "    Find points that intersect with points from other years, using a 300m radius.\n",
    "    \n",
    "    Parameters:\n",
    "    -----------\n",
    "    df : pandas DataFrame\n",
    "        Contains latitude, longitude, and year columns\n",
    "    radius_meters : float\n",
    "        Radius in meters to consider points as intersecting\n",
    "    \n",
    "    Returns:\n",
    "    --------\n",
    "    pd.DataFrame : All points that intersect with points from other years\n",
    "    \"\"\"\n",
    "    # Earth radius in meters\n",
    "    EARTH_RADIUS = 6371000\n",
    "    \n",
    "    # Convert radius to radians for haversine distance\n",
    "    radius_radians = radius_meters / EARTH_RADIUS\n",
    "    \n",
    "    # Group by year\n",
    "    years = sorted(df['year'].unique())\n",
    "    \n",
    "    # Keep track of intersecting points\n",
    "    intersecting_indices = set()\n",
    "    \n",
    "    # Process each year\n",
    "    for year in tqdm(years, desc=\"Processing years\"):\n",
    "        year_points = df[df['year'] == year]\n",
    "        \n",
    "        # Skip if empty\n",
    "        if len(year_points) == 0:\n",
    "            continue\n",
    "            \n",
    "        # Convert lat/lon to radians for the BallTree\n",
    "        year_coords = np.radians(year_points[['latitude', 'longitude']].values)\n",
    "        \n",
    "        # Create BallTree for current year\n",
    "        tree = BallTree(year_coords, metric='haversine')\n",
    "        \n",
    "        # Check against all other years\n",
    "        for other_year in years:\n",
    "            if other_year == year:\n",
    "                continue\n",
    "                \n",
    "            other_points = df[df['year'] == other_year]\n",
    "            \n",
    "            # Skip if empty\n",
    "            if len(other_points) == 0:\n",
    "                continue\n",
    "                \n",
    "            # Convert other year points to radians\n",
    "            other_coords = np.radians(other_points[['latitude', 'longitude']].values)\n",
    "            \n",
    "            # Find neighbors within radius\n",
    "            indices = tree.query_radius(other_coords, radius_radians)\n",
    "            \n",
    "            # Add points from current year that have neighbors\n",
    "            for i, idx_array in enumerate(indices):\n",
    "                if len(idx_array) > 0:\n",
    "                    # Get the original dataframe indices\n",
    "                    for idx in idx_array:\n",
    "                        intersecting_indices.add(year_points.iloc[idx].name)\n",
    "    \n",
    "    # Return the intersecting points\n",
    "    return df.loc[list(intersecting_indices)]"
   ]
  },
  {
   "cell_type": "code",
   "execution_count": 21,
   "metadata": {},
   "outputs": [
    {
     "data": {
      "text/plain": [
       "(78725, 18)"
      ]
     },
     "execution_count": 21,
     "metadata": {},
     "output_type": "execute_result"
    }
   ],
   "source": [
    "a.shape"
   ]
  },
  {
   "cell_type": "code",
   "execution_count": 22,
   "metadata": {},
   "outputs": [
    {
     "name": "stderr",
     "output_type": "stream",
     "text": [
      "Processing years: 100%|██████████| 11/11 [00:06<00:00,  1.63it/s]\n"
     ]
    }
   ],
   "source": [
    "b = find_intersections_across_years(a, RADIUS_FIRES)"
   ]
  },
  {
   "cell_type": "code",
   "execution_count": 23,
   "metadata": {},
   "outputs": [
    {
     "data": {
      "text/plain": [
       "(10443, 18)"
      ]
     },
     "execution_count": 23,
     "metadata": {},
     "output_type": "execute_result"
    }
   ],
   "source": [
    "b.shape"
   ]
  },
  {
   "cell_type": "code",
   "execution_count": 24,
   "metadata": {},
   "outputs": [
    {
     "data": {
      "text/plain": [
       "'fig = px.scatter_mapbox(b[(b[\\'type\\'] == 0) & (b[\\'comuna\\'] == \\'PENCO\\')], lat=\"latitude\", lon=\"longitude\", zoom=3, color=\\'frp\\', title=\\'Wildfires\\')\\nfig.update_layout(mapbox_style=\\'satellite\\', title=\\'Clusters Analysis for Static land source\\', height=800)\\nfig.show();'"
      ]
     },
     "execution_count": 24,
     "metadata": {},
     "output_type": "execute_result"
    }
   ],
   "source": [
    "\"\"\"fig = px.scatter_mapbox(b[(b['type'] == 0) & (b['comuna'] == 'PENCO')], lat=\"latitude\", lon=\"longitude\", zoom=3, color='frp', title='Wildfires')\n",
    "fig.update_layout(mapbox_style='satellite', title='Clusters Analysis for Static land source', height=800)\n",
    "fig.show();\"\"\""
   ]
  },
  {
   "cell_type": "code",
   "execution_count": 25,
   "metadata": {},
   "outputs": [],
   "source": [
    "def getClusterData(df):\n",
    "    def parse_time(value):\n",
    "        hours = value // 100\n",
    "        minutes = value % 100\n",
    "        return pd.to_timedelta(f\"{hours} hours {minutes} minutes\")\n",
    "\n",
    "    clustered_data = pd.DataFrame()\n",
    "    mbr_data = pd.DataFrame()\n",
    "\n",
    "    min_samples = 5\n",
    "    epsilon = 0.010\n",
    "\n",
    "    subset = df[['latitude', 'longitude', 'comuna', 'frp']].copy()\n",
    "    \n",
    "    if len(subset) >= min_samples:\n",
    "        db = DBSCAN(eps=epsilon, min_samples=min_samples).fit(subset[['latitude', 'longitude']])\n",
    "        subset['cluster'] = db.labels_\n",
    "\n",
    "        # Get the MBR data\n",
    "        for cluster_label in np.unique(db.labels_):\n",
    "            if cluster_label == -1:\n",
    "                continue\n",
    "            cluster_points = subset[subset['cluster'] == cluster_label][['latitude', 'longitude']]\n",
    "            comuna_points = subset[subset['cluster'] == cluster_label][['comuna', 'frp']]\n",
    "\n",
    "            mbr = MultiPoint(cluster_points.values).envelope\n",
    "\n",
    "            comuna_labels = comuna_points['comuna'].unique()\n",
    "            max_frp = comuna_points['frp'].max()\n",
    "            min_frp = comuna_points['frp'].min()\n",
    "            mean_frp = comuna_points['frp'].mean()\n",
    "\n",
    "            mbr_df = pd.DataFrame({\n",
    "                'cluster': [cluster_label],\n",
    "                'mbr': [mbr],\n",
    "                'comunas': [comuna_labels],\n",
    "                'max_frp': max_frp,\n",
    "                'min_frp': min_frp,\n",
    "                'mean_frp': mean_frp\n",
    "            })\n",
    "            mbr_data = pd.concat([mbr_data, mbr_df], axis=0)\n",
    "        clustered_data = pd.concat([clustered_data, subset], ignore_index=True)\n",
    "\n",
    "    return (clustered_data.reset_index(drop=True), mbr_data.reset_index(drop=True))"
   ]
  },
  {
   "cell_type": "code",
   "execution_count": 26,
   "metadata": {},
   "outputs": [],
   "source": [
    "clusters, mbrs = getClusterData(b)"
   ]
  },
  {
   "cell_type": "code",
   "execution_count": 27,
   "metadata": {},
   "outputs": [
    {
     "data": {
      "text/html": [
       "<div>\n",
       "<style scoped>\n",
       "    .dataframe tbody tr th:only-of-type {\n",
       "        vertical-align: middle;\n",
       "    }\n",
       "\n",
       "    .dataframe tbody tr th {\n",
       "        vertical-align: top;\n",
       "    }\n",
       "\n",
       "    .dataframe thead th {\n",
       "        text-align: right;\n",
       "    }\n",
       "</style>\n",
       "<table border=\"1\" class=\"dataframe\">\n",
       "  <thead>\n",
       "    <tr style=\"text-align: right;\">\n",
       "      <th></th>\n",
       "      <th>cluster</th>\n",
       "      <th>mbr</th>\n",
       "      <th>comunas</th>\n",
       "      <th>max_frp</th>\n",
       "      <th>min_frp</th>\n",
       "      <th>mean_frp</th>\n",
       "    </tr>\n",
       "  </thead>\n",
       "  <tbody>\n",
       "    <tr>\n",
       "      <th>0</th>\n",
       "      <td>0</td>\n",
       "      <td>POLYGON ((-38.8237 -72.3797, -38.814835 -72.37...</td>\n",
       "      <td>[VILCUN]</td>\n",
       "      <td>98.60</td>\n",
       "      <td>35.25</td>\n",
       "      <td>65.500000</td>\n",
       "    </tr>\n",
       "    <tr>\n",
       "      <th>1</th>\n",
       "      <td>1</td>\n",
       "      <td>POLYGON ((-38.4655 -72.8389, -38.430832 -72.83...</td>\n",
       "      <td>[GALVARINO]</td>\n",
       "      <td>958.40</td>\n",
       "      <td>20.30</td>\n",
       "      <td>86.992745</td>\n",
       "    </tr>\n",
       "    <tr>\n",
       "      <th>2</th>\n",
       "      <td>2</td>\n",
       "      <td>POLYGON ((-26.3829 -70.093, -26.3691 -70.093, ...</td>\n",
       "      <td>[CHANARAL]</td>\n",
       "      <td>100.80</td>\n",
       "      <td>20.19</td>\n",
       "      <td>32.328929</td>\n",
       "    </tr>\n",
       "    <tr>\n",
       "      <th>3</th>\n",
       "      <td>3</td>\n",
       "      <td>POLYGON ((-36.9935 -71.9645, -36.983803 -71.96...</td>\n",
       "      <td>[EL CARMEN]</td>\n",
       "      <td>297.20</td>\n",
       "      <td>20.04</td>\n",
       "      <td>78.990541</td>\n",
       "    </tr>\n",
       "    <tr>\n",
       "      <th>4</th>\n",
       "      <td>4</td>\n",
       "      <td>POLYGON ((-36.7806 -71.952568, -36.7597 -71.95...</td>\n",
       "      <td>[PINTO]</td>\n",
       "      <td>191.37</td>\n",
       "      <td>21.04</td>\n",
       "      <td>51.371471</td>\n",
       "    </tr>\n",
       "  </tbody>\n",
       "</table>\n",
       "</div>"
      ],
      "text/plain": [
       "   cluster                                                mbr      comunas  \\\n",
       "0        0  POLYGON ((-38.8237 -72.3797, -38.814835 -72.37...     [VILCUN]   \n",
       "1        1  POLYGON ((-38.4655 -72.8389, -38.430832 -72.83...  [GALVARINO]   \n",
       "2        2  POLYGON ((-26.3829 -70.093, -26.3691 -70.093, ...   [CHANARAL]   \n",
       "3        3  POLYGON ((-36.9935 -71.9645, -36.983803 -71.96...  [EL CARMEN]   \n",
       "4        4  POLYGON ((-36.7806 -71.952568, -36.7597 -71.95...      [PINTO]   \n",
       "\n",
       "   max_frp  min_frp   mean_frp  \n",
       "0    98.60    35.25  65.500000  \n",
       "1   958.40    20.30  86.992745  \n",
       "2   100.80    20.19  32.328929  \n",
       "3   297.20    20.04  78.990541  \n",
       "4   191.37    21.04  51.371471  "
      ]
     },
     "execution_count": 27,
     "metadata": {},
     "output_type": "execute_result"
    }
   ],
   "source": [
    "mbrs.head()"
   ]
  },
  {
   "cell_type": "code",
   "execution_count": 28,
   "metadata": {},
   "outputs": [],
   "source": [
    "geo_df = gpd.GeoDataFrame(geometry=mbrs['mbr'], data=mbrs.drop(columns=['mbr']))"
   ]
  },
  {
   "cell_type": "code",
   "execution_count": 29,
   "metadata": {},
   "outputs": [
    {
     "data": {
      "text/html": [
       "<div>\n",
       "<style scoped>\n",
       "    .dataframe tbody tr th:only-of-type {\n",
       "        vertical-align: middle;\n",
       "    }\n",
       "\n",
       "    .dataframe tbody tr th {\n",
       "        vertical-align: top;\n",
       "    }\n",
       "\n",
       "    .dataframe thead th {\n",
       "        text-align: right;\n",
       "    }\n",
       "</style>\n",
       "<table border=\"1\" class=\"dataframe\">\n",
       "  <thead>\n",
       "    <tr style=\"text-align: right;\">\n",
       "      <th></th>\n",
       "      <th>cluster</th>\n",
       "      <th>comunas</th>\n",
       "      <th>max_frp</th>\n",
       "      <th>min_frp</th>\n",
       "      <th>mean_frp</th>\n",
       "      <th>geometry</th>\n",
       "    </tr>\n",
       "  </thead>\n",
       "  <tbody>\n",
       "    <tr>\n",
       "      <th>0</th>\n",
       "      <td>0</td>\n",
       "      <td>[VILCUN]</td>\n",
       "      <td>98.60</td>\n",
       "      <td>35.25</td>\n",
       "      <td>65.500000</td>\n",
       "      <td>POLYGON ((-38.8237 -72.3797, -38.81484 -72.379...</td>\n",
       "    </tr>\n",
       "    <tr>\n",
       "      <th>1</th>\n",
       "      <td>1</td>\n",
       "      <td>[GALVARINO]</td>\n",
       "      <td>958.40</td>\n",
       "      <td>20.30</td>\n",
       "      <td>86.992745</td>\n",
       "      <td>POLYGON ((-38.4655 -72.8389, -38.43083 -72.838...</td>\n",
       "    </tr>\n",
       "    <tr>\n",
       "      <th>2</th>\n",
       "      <td>2</td>\n",
       "      <td>[CHANARAL]</td>\n",
       "      <td>100.80</td>\n",
       "      <td>20.19</td>\n",
       "      <td>32.328929</td>\n",
       "      <td>POLYGON ((-26.3829 -70.093, -26.3691 -70.093, ...</td>\n",
       "    </tr>\n",
       "    <tr>\n",
       "      <th>3</th>\n",
       "      <td>3</td>\n",
       "      <td>[EL CARMEN]</td>\n",
       "      <td>297.20</td>\n",
       "      <td>20.04</td>\n",
       "      <td>78.990541</td>\n",
       "      <td>POLYGON ((-36.9935 -71.9645, -36.9838 -71.9645...</td>\n",
       "    </tr>\n",
       "    <tr>\n",
       "      <th>4</th>\n",
       "      <td>4</td>\n",
       "      <td>[PINTO]</td>\n",
       "      <td>191.37</td>\n",
       "      <td>21.04</td>\n",
       "      <td>51.371471</td>\n",
       "      <td>POLYGON ((-36.7806 -71.95257, -36.7597 -71.952...</td>\n",
       "    </tr>\n",
       "  </tbody>\n",
       "</table>\n",
       "</div>"
      ],
      "text/plain": [
       "   cluster      comunas  max_frp  min_frp   mean_frp  \\\n",
       "0        0     [VILCUN]    98.60    35.25  65.500000   \n",
       "1        1  [GALVARINO]   958.40    20.30  86.992745   \n",
       "2        2   [CHANARAL]   100.80    20.19  32.328929   \n",
       "3        3  [EL CARMEN]   297.20    20.04  78.990541   \n",
       "4        4      [PINTO]   191.37    21.04  51.371471   \n",
       "\n",
       "                                            geometry  \n",
       "0  POLYGON ((-38.8237 -72.3797, -38.81484 -72.379...  \n",
       "1  POLYGON ((-38.4655 -72.8389, -38.43083 -72.838...  \n",
       "2  POLYGON ((-26.3829 -70.093, -26.3691 -70.093, ...  \n",
       "3  POLYGON ((-36.9935 -71.9645, -36.9838 -71.9645...  \n",
       "4  POLYGON ((-36.7806 -71.95257, -36.7597 -71.952...  "
      ]
     },
     "execution_count": 29,
     "metadata": {},
     "output_type": "execute_result"
    }
   ],
   "source": [
    "geo_df.head()"
   ]
  },
  {
   "cell_type": "code",
   "execution_count": 30,
   "metadata": {},
   "outputs": [],
   "source": [
    "geo_df.to_parquet('./incendios_por_comuna_frp.parquet', index=None)"
   ]
  },
  {
   "cell_type": "code",
   "execution_count": 31,
   "metadata": {},
   "outputs": [
    {
     "name": "stdout",
     "output_type": "stream",
     "text": [
      "<class 'geopandas.geodataframe.GeoDataFrame'>\n",
      "RangeIndex: 491 entries, 0 to 490\n",
      "Data columns (total 6 columns):\n",
      " #   Column    Non-Null Count  Dtype   \n",
      "---  ------    --------------  -----   \n",
      " 0   cluster   491 non-null    int64   \n",
      " 1   comunas   491 non-null    object  \n",
      " 2   max_frp   491 non-null    float64 \n",
      " 3   min_frp   491 non-null    float64 \n",
      " 4   mean_frp  491 non-null    float64 \n",
      " 5   geometry  491 non-null    geometry\n",
      "dtypes: float64(3), geometry(1), int64(1), object(1)\n",
      "memory usage: 23.1+ KB\n"
     ]
    }
   ],
   "source": [
    "geo_df.info()"
   ]
  },
  {
   "cell_type": "code",
   "execution_count": 32,
   "metadata": {},
   "outputs": [
    {
     "data": {
      "text/html": [
       "<div>\n",
       "<style scoped>\n",
       "    .dataframe tbody tr th:only-of-type {\n",
       "        vertical-align: middle;\n",
       "    }\n",
       "\n",
       "    .dataframe tbody tr th {\n",
       "        vertical-align: top;\n",
       "    }\n",
       "\n",
       "    .dataframe thead th {\n",
       "        text-align: right;\n",
       "    }\n",
       "</style>\n",
       "<table border=\"1\" class=\"dataframe\">\n",
       "  <thead>\n",
       "    <tr style=\"text-align: right;\">\n",
       "      <th></th>\n",
       "      <th>latitude</th>\n",
       "      <th>longitude</th>\n",
       "      <th>comuna</th>\n",
       "      <th>frp</th>\n",
       "      <th>cluster</th>\n",
       "    </tr>\n",
       "  </thead>\n",
       "  <tbody>\n",
       "    <tr>\n",
       "      <th>0</th>\n",
       "      <td>-35.516949</td>\n",
       "      <td>-72.10276</td>\n",
       "      <td>SAN JAVIER</td>\n",
       "      <td>27.21</td>\n",
       "      <td>-1</td>\n",
       "    </tr>\n",
       "    <tr>\n",
       "      <th>1</th>\n",
       "      <td>-34.296900</td>\n",
       "      <td>-71.38000</td>\n",
       "      <td>PICHIDEGUA</td>\n",
       "      <td>29.50</td>\n",
       "      <td>-1</td>\n",
       "    </tr>\n",
       "    <tr>\n",
       "      <th>2</th>\n",
       "      <td>-38.816200</td>\n",
       "      <td>-72.37650</td>\n",
       "      <td>VILCUN</td>\n",
       "      <td>98.60</td>\n",
       "      <td>0</td>\n",
       "    </tr>\n",
       "    <tr>\n",
       "      <th>3</th>\n",
       "      <td>-38.817400</td>\n",
       "      <td>-72.37970</td>\n",
       "      <td>VILCUN</td>\n",
       "      <td>95.10</td>\n",
       "      <td>0</td>\n",
       "    </tr>\n",
       "    <tr>\n",
       "      <th>4</th>\n",
       "      <td>-38.441700</td>\n",
       "      <td>-72.79540</td>\n",
       "      <td>GALVARINO</td>\n",
       "      <td>68.20</td>\n",
       "      <td>1</td>\n",
       "    </tr>\n",
       "  </tbody>\n",
       "</table>\n",
       "</div>"
      ],
      "text/plain": [
       "    latitude  longitude      comuna    frp  cluster\n",
       "0 -35.516949  -72.10276  SAN JAVIER  27.21       -1\n",
       "1 -34.296900  -71.38000  PICHIDEGUA  29.50       -1\n",
       "2 -38.816200  -72.37650      VILCUN  98.60        0\n",
       "3 -38.817400  -72.37970      VILCUN  95.10        0\n",
       "4 -38.441700  -72.79540   GALVARINO  68.20        1"
      ]
     },
     "execution_count": 32,
     "metadata": {},
     "output_type": "execute_result"
    }
   ],
   "source": [
    "clusters.head()"
   ]
  },
  {
   "cell_type": "code",
   "execution_count": 33,
   "metadata": {},
   "outputs": [
    {
     "name": "stdout",
     "output_type": "stream",
     "text": [
      "<class 'pandas.core.frame.DataFrame'>\n",
      "RangeIndex: 10443 entries, 0 to 10442\n",
      "Data columns (total 5 columns):\n",
      " #   Column     Non-Null Count  Dtype  \n",
      "---  ------     --------------  -----  \n",
      " 0   latitude   10443 non-null  float64\n",
      " 1   longitude  10443 non-null  float64\n",
      " 2   comuna     10443 non-null  object \n",
      " 3   frp        10443 non-null  float64\n",
      " 4   cluster    10443 non-null  int64  \n",
      "dtypes: float64(3), int64(1), object(1)\n",
      "memory usage: 408.1+ KB\n"
     ]
    }
   ],
   "source": [
    "clusters.info()"
   ]
  },
  {
   "cell_type": "code",
   "execution_count": 34,
   "metadata": {},
   "outputs": [],
   "source": [
    "clusters_sample = clusters.sample(1000)"
   ]
  },
  {
   "cell_type": "code",
   "execution_count": 35,
   "metadata": {},
   "outputs": [
    {
     "name": "stderr",
     "output_type": "stream",
     "text": [
      "/tmp/ipykernel_150691/3620456498.py:1: DeprecationWarning:\n",
      "\n",
      "*scatter_mapbox* is deprecated! Use *scatter_map* instead. Learn more at: https://plotly.com/python/mapbox-to-maplibre/\n",
      "\n",
      "/tmp/ipykernel_150691/3620456498.py:14: DeprecationWarning:\n",
      "\n",
      "*scattermapbox* is deprecated! Use *scattermap* instead. Learn more at: https://plotly.com/python/mapbox-to-maplibre/\n",
      "\n"
     ]
    },
    {
     "data": {
      "application/vnd.plotly.v1+json": {
       "config": {
        "plotlyServerURL": "https://plot.ly"
       },
       "data": [
        {
         "hovertemplate": "latitude=%{lat}<br>longitude=%{lon}<extra></extra>",
         "lat": {
          "bdata": "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",
          "dtype": "f8"
         },
         "legendgroup": "",
         "lon": {
          "bdata": "7MA5I0r/UcD/I9Oh0wlSwFD8GHPX+lHARx/zAYFBUsCwcmiR7RBSwOpCrP4IM1LACDwwgPD9UcCsxacAGCBSwEi/fR04G1LAv30dOGcgUsDMf0i/fb1RwM2RlV8G/lHAU5YhjnVZUsC+FvTeGBlSwIyiBz4GMFLAtObHX1r/UcAYz6ChfxFSwMh5/x8nE1LAPdF14QcVUsCmgLT/AXdRwGfTEcDNBFLABVH3AUgrUsA4ZW6+EV5SwP8h/fZ19FHAS+oENBEaUsAd5PVgUitSwHP3OT5a91HAF7fRAN47UsA0gLdAgv5RwI0o7Q2+NFLAhcyVQbX5UcC9/iQ+dylSwG1Wfa62BlLAV1uxv+xSUsAPYJFfP/dRwGfuIeF7IlLA3NYWnpfFUcCppE5AEyhSwE9Y4gFlCVLA6nsNwXEmUsAibHh6pRRSwIOKql/pI1LAgQTFjzEPUsCCc0aU9hJSwCPYuP5d0VHAfH4YITwEUsCV88XeiwNSwGfV52orBlLAH4XrUbgKUsC1wvS9hglSwGoV/aGZ/VHAZ9MRwM00UsC5N79hohJSwK2JBb6iE1LA1sVtNIAXUsAyO4veqQNSwGTo2EEl/lHADFpIwOgtUsCFlnX/WGBSwAZLdQEv81HAQtE8gEUjUsDxY8xdSwBSwNNNYhBY2VHAHqfoSC5PUsB7FK5H4QpSwDJZ3H9k+1HA1xLyQc8yUsByTuyhfSNSwDFETl/PCVLA1a90PjwLUsBoA7ABEQVSwIQNT6+U2VHAQKTfvg5XUcA0Spf+JU5SwCbhQh7BDlLAey3ovTEFUsBJLv8h/f5RwHUeFf93KVLAJy8yAb/2UcAJ+aBnsxpSwBjMXyFzG1LA3NlXHqQAUsATYcPTKylSwMNkqmBUHlLArIvbaAATUsCX/5B++yxSwDiGAODYWVLA85ApH4INUsD6CPzh5wVSwMU6Vb5nIlLAwm1t4XleUcDU1ohgHChSwEHXvoBeL1LAC7WmeceBUcCsrdhfdhxSwKt6+Z0mEFLAy2d5Htz6UcCW7UPecv5RwFJJnYAmPlLAC7WmeccZUsCcU8kAUCJSwGa7Qh8s+VHAIv32deAcUsA2zTtO0flRwAMJih9jSlLAnl4pyxATUsDtDb4wmfZRwCUC1T+IIFLABaOSOgGBUcBm9+RhoQJSwN4CCYofM1LAaK8+HvoiUsCxwi0fSQ1SwImWPJ6WIVLARwN4CyTQUcCmCkYldQ5SwArXo3A9KlLAQ/6ZQXwCUsDBH37+exdSwEOtad5xGlLAdjbknxnzUcBio6zfTBpSwA4tsp3v51HAHPD5YYT9UcBvgQTFjwVSwCTVd35ReVHAQBNhw9P3UcCL/WX35B1SwCpTzEHQF1LAbjSAt0AaUsCYLy/APkFSwEku/yH9/lHAo4/5gEC6UcAuGjIepflRwJZDi2znF1LArIvbaAArUsBxAz4/jO1RwBufyf55ulHAXoWUn1QUUsB7gy9MphJSwD0s1Jrm9VHAFajF4GEdUsB0RSkhWN1RwJpBfGDHDVLAmgtcHmsTUsC0WfW52l5RwLCtn/6zI1LACKwcWmQHUsA7AU2EDTNSwLByaJHtBFLAE2HD0ytdUsD2twTgn+9RwOI/3UCBNFLANqs+V1sJUsA4hgDg2CtSwGgibHh6KVLAvAUSFD/iUcCYTBWMSgpSwHnpJjEIDFLA+dueILEmUsBj7lpCPvxRwMcpOpLLE1LAByRh304SUsDrc7UV+0NSwJpfzQGCBlLAoDU//tLtUcBWn6ut2ANSwCsXKv9aMFLAZmZmZmYCUsCmCkYldQZSwGgG8YEdGlLAYqHWNO8kUsBEi2zn+w1SwBGo/kEkBVLAD37iAPorUsCRD3o2qyJSwBb7y+7J81HALA5nfjUtUsDrOel94/lRwIV4JF6e+FHA6GZ/oNz+UcDiAPp9/wxSwPCl8KDZXlLA5Euo4PA4UsCsrdhfdhtSwJYhjnVx81HAseHplbJYUsDc2VcepAVSwMoyxLEu9lHAVmR0QBIKUsBg5dAi2yFSwJLM6h1uW1LAJxHhXwQmUsBbW3heKidSwEOtad5xHlLAck7soX0VUsDZPXlYqDlSwFpkO99PElLAqb9eYcH9UcDcKoiBrulRwLcKYqBr7FHAG9gqweIJUsCjI7n8h/hRwFkXt9EAFlLAN4lBYOX8UcBZhc0AFw1SwMbctYR8GFLAUwWjkjpFUsCP/MHAc/tRwFuXGqGfD1LAY+5aQj4UUsCwA+eMKC1SwH9pUZ/kP1LA2gOtwJAXUsDU7lcBvvpRwGlv8IXJIFLAf6Xz4VldUsBdiNUfYU1SwEp7gy9MWlLAc9cS8kHzUcD7sUl+xDtSwMBbIEHxA1LAJzEIrBwqUsAm5IOezSxSwOZatABtEVLA7MA5I0pHUsDQs1n1uTJSwK+w4H7AD1LAi+HqAIgUUsBDyHn/H/hRwNLHfECg91HAFYxK6gQcUsCutmJ/2R1SwP2H9NvXGVLAP1dbsb8cUsA9CtejcBVSwBfZzvdTG1LAasGLvoIaUsD7rgj+txpSwMFSXcDLE1LAXaYmwRsWUsBu+rMfKXlRwLfvUX+9ElLA76tyofL+UcAUeCefHjxSwIiFWtO8G1LARIts5/sdUsBU46WbxBRSwHUhVn+EHlLAoImw4ekhUsANNnUeFTVSwH0/NV663VHA2gOtwJAaUsCZYg6Cjv9RwJ9x4UBIClLAui784HwtUsBJ10y+2TJSwGsr9pfdW1LATPvm/uowUsAFo5I6ARFSwAQeGED4+lHASOAPP/8HUsD/BYIAGR5SwAAAAAAAHlLAP1dbsb/IUcAXt9EA3l5RwKhuLv62HVLAVklkH2QAUsBfKcsQxyJSwO91Ul+WBlLAPdF14Qf+UcCIhVrTvCNSwNoeveE+HlLA9KW3PxcIUsAhsHJokRlSwJM6AU2ELVLAn3QiwVQjUsDCMcueBDpSwGgG8YEdOVLAqFfKMsT9UcDoaiv2l1VSwC5W1GAa+FHAkDF3LSHzUcDaHr3hPupRwAaBlUOL/FHA8tJNYhAYUsDCNAwfES5SwGKdKt8zV1LAtRX7y+4hUsDCaixhbZRRwAwCK4cWFVLAZ+4h4XtBUsBorz4e+gxSwC1DHOviIlLA2QbuQJ0TUsAFUfcBSBtSwLWmeccp+lHAUrgehes9UsArhxbZzs9RwAisHFpk51HA1CtlGeIoUsAuO8Q/bBtSwFhwP+CB+lHAh8CRQIMSUsDZBu5AnR5SwDNTWn9LCVLAuCIxQQ0bUsDVCWgibChSwDvfT42XIlLAyJi7lpATUsA51sVtNAhSwJUsJ6H0E1LAbhgFweMlUsAW+8vuyVdSwP8j06HTO1LAINJvXwf6UcCJt86/Xf9RwO+NIQA4DVLAIGPuWkISUsAkC5jArRVSwJxNRwA3ClLAGlHaG3wBUsCsrdhfdgtSwKd0sP7P8lHAMo/8wcAGUsAVHcnlPwBSwKyt2F92F1LA4C2QoPgJUsBb07zjFBVSwEoofSHkFVLAak3zjlP4UcBmoDL+fQZSwLsnDwu1ClLAlrIMcaz/UcDdCfZf5/JRwNv5fmq8LFLAHcnlP6QfUsCz6nO1FRtSwCBB8WPMBVLAqoB7nj/8UcCN8PYgBBhSwNc07zhFG1LAdjOjHw3jUcBRTx+BPwtSwKkT0ETYLFLAWYY41sURUsC4H/DAABxSwDlFR3L5I1LA3bWEfNAbUsCTOgFNhC1SwAisHFpkw1HA3Qw34PP+UcB7FK5H4c5RwMuhRbbzTVLA61c6H574UcCwcmiR7RRSwOiE0EGXA1LAzF1LyAc5UsBpxw2/m/lRwMpS6/1GMFHAqI/AH34iUsBcdoh/2ARSwNBE2PD0+lHAF7fRAN4ZUsDFILByaBVSwD2bVZ+rBVLAIo51cRsRUsDR6A5iZyhSwJMCC2DKFVLAOPjCZKosUsBanZyhuBlSwAx4mWGj+1HAUFWhgVhbUsD4U+Olm0BSwA+cM6K0D1LAMGghAaMAUsDChqdXyvpRwMdMol7wH1LAw4L7AQ8fUsBoImx4el1SwEOqKF5lKVLAS+mZXmIXUsBtVn2utgJSwEGC4seYF1LANqs+V1sFUsCcMjffiCJSwG8MAcCx+lHAnu+nxksLUsCx4H7AAxBSwGKh1jTvBFLAPujZrPo0UsBGtvP91AxSwLaEfNCzBVLABAMIH0oRUsDxn26gwB9SwBrDnKBNXFLAtyizQSb1UcAXnwJgPAJSwEn1nV+UHFLADXGsi9sEUsBZhjjWxSFSwOXyH9Jvd1HA93XgnBEZUsD+1HjpJhVSwLhAguLHgFHAfEW3XtMOUsBqTfOOUxBSwK36XG3FXlHAN4lBYOUBUsAvF/GdmPlRwDeq04GsAFLAk6mCUUklUsA6evzephRSwAhXQKGeGVLAJlMFo5IaUsBkXdxGAwxSwLyWkA96JlLA+aBns+ozUsDqP2t+/CRSwIrJG2DmWVLABB4YQPgsUsAJih9j7hpSwPmgZ7PqD1LApgpGJXUmUsCgU5CfjfpRwAAAAAAA+1HAgqj7AKQmUsAyO4veqftRwDuPiv87+VHAnYAmwobvUcA5RUdy+RdSwAUVVb/SD1LAKzV7oBUPUsBKKH0h5BRSwMoyxLEu7lHAgo3r3/ULUsASg8DKoS1SwPtcbcX+GlLArK3YX3b/UcAQXVDfMjVSwLwEpz6QLlLAhlrTvOMcUsAUsYhhh/tRwB7/BYIAClLADTM0ngiwUcAN4C2QoMRRwLO2KR4X4VHACCEgX0JKUsB1V3bB4ARSwCk+PiE7LVLAr7DgfsAdUsCtad5xil5SwDxO0ZFcLlLA1J0nnrMSUsBoke18PxlSwDFETl/PE1LAW3nJ/+QXUsCEns2qzx1SwJpEveDT71HALUFGQIWUUcBDrWnecfpRwKabxCCwHVLAejarPlcXUsA91/fhICtSwLH4TWGlFlLAVFInoIkLUsCKq8q+KwVSwHMPCd/7FlLAcjPcgM/7UcDn+6nx0jFSwF9/Ep87/1HACKwcWmRHUsCAft+/eS5SwAAbECGuI1LAG7rZHygqUsBXW7G/7C5SwAQeGED4/1HAd76fGi/VUcCPF9LhIRNSwLtGy4Ee0FHA2spL/icVUsB+jLlrCS1SwBb7y+7JN1LA93XgnBEhUsDlYaHWNA9SwHlafuAqF1LAYOXQItsJUsBt5SX/k3hRwN/6sN6oIlLAJQaBlUP7UcBR2ht8YeJRwOauJeSD+lHAIvyLoDEYUsDmIVM+BCJSwI3w9iAEGlLAMX2vITgbUsDVzcXf9iFSwDlFR3L5M1LAQ8U4fxMbUsAkJqjhWxpSwJxu2SH+FlLAteBFX0EOUsCsHFpkO6tRwArXo3A9+lHAsvLLYIzXUcB/arx0kzxSwJAxdy0hE1LAl/+Qfvs6UsDiBnx+GPtRwEVHcvkPxVHAUwWjkjpFUsA9fQT+8A9SwD19BP7weFHAfT81XrpBUsAdWmQ73z9SwAhXQKGeGlLAVn2utmL7UcA6kst/SEpSwDcawFsgVVLAcAnAP6UPUsAJih9j7gJSwHhCrz+JIVLAKe0NvjAhUsBGlPYGX/xRwKuwGeCC+lHAIGPuWkLqUcBiu3uA7gVSwPRsVn2uGlLAJeoFn+ZbUsChhm9h3RpSwPfJUYAoG1LASRPvAE8UUsDpSC7/Ie1RwFvTvOMUHVLAIsZrXtX+UcB88rBQax5SwFxzR//L+VHAppvEILAaUsA9mBQfnx1SwD55WKg1NVLA1/fhICGwUcA0hjlBmxJSwEkQroBCGVLAmFDB4QUxUsC0y7c+rFpSwJQvaCEBAVLA2IFzRpRaUsAsSgnBqv5RwLbz/dR4AVLA3jzVITf6UcDEQq1p3gFSwAN4CyQo+lHAJQLVP4j/UcBhwf2ABw9SwNqs+lxtEVLAZOWXwRj8UcDSAN4CCQ5SwEfLgR5qFVLAVUyln3AYUsD2l92Th01SwKRQFr6+DFLA/yPTodP5UcDLZDiezxdSwFMFo5I6+VHAAg8MIHwSUsBWfa62YgNSwA5Pr5RlFFLAe0s5X+wfUsAYmYBfIxFSwJLLf0i/HVLA+1xtxf7mUcBx6C0e3vlRwBrAWyBB+VHA6GwBofV2UcDRkVz+QxVSwNQrZRniBFLAol9bP/35UcC/DpwzokRSwJY+dEF9+FHAbAn5oGdXUsCYbhKDwEJSwDm2niEculHABFYOLbIpUsA3cXK/QxNSwNCaH39pBFLAbCQJwhVOUsCNz2T/PAJSwGDl0CLbHVLAzqYjgJsUUsAOMPMd/CxSwNfc0f9yFlLANIC3QIIGUsACLV3BNiJSwKAaL90kElLA/OHnvwcaUsAH8BZIUCxSwHk/br98+VHAeV2/YDcpUsDIXu/+eChSwBi0kIDRGFLAqMZLN4mFUcDNlNbfEiRSwLkZbsDnIVLAeVioNc3nUcBEwvf+BhFSwMUgsHJo/VHAfGDHf4H5UcAhzO1e7iRSwH9LAP4pRlLAgqj7AKQMUsDhC5OpgglSwHRd+MH5IFLACfmgZ7P6UcCq8dJNYhhSwI/k8h/SC1LAs+pztRXbUcDrckpATAtSwH9qvHSTNFLA2T15WKjxUcA0gLdAguJRwHkkXp7OLlLAu+8YHvsPUsCEnPf/cUJSwKJ9rOC3GlLAI9v5fmoQUsDV0AZgAxFSwNv9KsB3H1LAnDOitDewUcBTJcreUj1SwM/ZAkLr+FHAwoanV8riUcAHzhlR2htSwIofY+5aAlLAvTeGAOAQUsCW6gJeZiFSwNUD5iFTJFLAKe0NvjDRUcAJG55eKf9RwFFrmnecvlHAIGPuWkIKUsAaUdobfA1SwMIXJlMFG1LANWJmn8cbUsBWfa62YiNSwDcawFsgDVLAe4MvTKYaUsBbQj7o2SxSwISezarPLVLA5fIf0m8jUsBhMlUwKgVSwHZxGw3gKVLAATPfwU8jUsCDpbqAlxpSwPPJiuHqAVLARPtYwW/vUcAf2zLgLCpSwKWkh6HVAVLAUmFsIcgCUsCyne+nxhtSwC/dJAaBRVLAnKIjufwjUsDNdoU+WB5SwIbJVMGoAFLAahX9oZlNUsDPhZFe1CJSwCLhe3+D/FHArWnecYoaUsCXOzPBcANSwA8LtaZ5I1LAeAskKH4oUsCHqMKf4RpSwFxV9l0R/1HAvAfovpwUUsDqlbIMcTBSwOQUHcnlE1LApl8i3joUUsB5Vz1gHg1SwOZd9YB5SlLAVOOlm8QcUsAJ+aBnswJSwLhAguLHLFLAM8SxLm4LUsCphv2eWPtRwLXgRV9BDlLAARWOIJUMUsCoV8oyxEVSwCLhe3+DNVLAX7hzYaQEUsCBBMWPMRNSwLgehetR2FHAoImw4enRUcDc14FzRmBSwCv8Gd6sIVLAu7iNBvBeUsBR2ht8YS5SwIMvTKYK9lHAqbwd4bT2UcDAPc+fNhhSwO1jBb8NHFLAEqW9wRcGUsA51sVtNAhSwHAJwD+lHVLA5SfVPh0QUsCDL0ymChZSwEXY8PRKHVLAS+oENBEGUsBPQBNhwztSwLb4FADjXVLAe4fboWEjUsDgvg6cMy5SwOIA+n3/z1HAsKpefqf7UcAzUBn/PhtSwKabxCCwAVLAUPwYc9cWUsBORpVh3DVSwHtmSYCaeFHA8GyP3nAbUsCJt86/XTJSwEsEqn8QQlLA1J0nnrMAUsDoMF9egAVSwNJvXwfOKVLAklz+Q/opUsCgOIB+3wRSwKWhRiHJQVLA2QbuQJ32UcDOqWQAqPlRwOZXc4BgHlLAArwFEhQTUsBv9DEfEBpSwLyWkA96FlLAGw3gLZA0UsB/+zpwzlxSwHDurx73P1LA0H8PXrtCUsBDHOviNhpSwN0nRwGiAFLAtvKS/8knUsAm5IOezf5RwLmNBvAW+FHAG70aoDQNUsD36uOh7xlSwME6jh8qL1LA4UVfQZrtUcB/hGHAkiBSwBOc+kDyG1LA4UIewY0AUsCCb5o+OyxSwGfV52orMlLAg8DKoUXiUcC77xge+x9SwAyTqYJRFVLAdT+nID8FUsB90LNZ9VVSwMVYpl8iM1LAeekmMQgoUsCZKhiV1BlSwFdAoZ4+NVLAMX2vITgbUsB/arx0kwBSwOI/3UCBF1LAKT4+ITt4UcC8QEmBBRZSwB+94T5yIVLAKe0NvjDlUcC044bfTfhRwOtU+Z6R+lHA9pfdk4cNUsCoV8oyxC1SwFNb6iCv7lHAowG8BRIMUsA0orQ3+ApSwJYhjnVx/1HA3NlXHqQEUsAxRE5fzylSwE8EcR5ODlLAejarPldHUsAe4bTgRQdSwF5LyAc9E1LArp6T3jcAUsCsi9toAONRwKVOQBNh/1HA9dvXgXPuUcD3qwDfbStSwD7L8+DuE1LATDeJQWAEUsDM7snDQnlRwG76sx8pxlHAnn3lQXoEUsDWAKWhRjdSwDRlpx/UIVLAxm00gLcoUsBqvko+dilSwIC3QILi/1HAQKTfvg4gUsA2lUVhFylSwIOHad/c+1HARPtYwW8UUsCZu5aQDyJSwOhqK/aXGVLAYHZPHhYCUsBvKlJhbABSwNkG7kCdMFLAqI/AH34hUsBUUiegiVxSwHyBWaFIDFLAPL1SliFeUcCWQ4ts5yNSwNkh/mFLFlLAZF3cRgMkUsCQFJFhFf1RwMP1KFyPIlLA9GxWfa4OUsDOqs/VVnhRwM9m1edqF1LAF4GxvoEIUsCK52wBoRtSwIJvmj47GFLA/OHnvwcZUsCQoPgx5u5RwAXFjzF3CVLADWyVYHEFUsBLIvsgywRSwAyTqYJRWVLA1xLyQc8KUsBJLv8h/RJSwHZsBOJ1AlLATx4Wak0vUsBoA7ABER5SwGrecYqOBFLAm1Wfq638UcCPwvUoXBdSwKWD9X8O/lHAMVwdAHH4UcDFjzF3LflRwNXKhF/q/FHAINWw3xMFUsA5tMh2vgtSwHNoke18M1LArthfdk8aUsBv8IXJVP1RwNxoAG+B+FHAQdR9AFIAUsBseHqlLANSwIy5awn5HFLAC7WmeccpUsBvDAHAsRVSwJyiI7n8K1LAHLRXHw8SUsACEk2giBRSwAcJUb6gIVLAYJSgv9D/UcC2+BQA4y1SwEccsoF0IFLAINJvXwfGUcAgC9EhcLpRwKA1P/7SPlLApoC0/wH5UcCX/5B++xVSwAAbECGuLlLAQNr/AGs9UsBKe4MvTF5RwF1qhH6mI1LAexSuR+EKUsDjx5i7lhhSwN7lIr4TGlLA24r9ZfdUUsCLw5lfzd1RwLngDP5+FFLAzo5U3/nXUcCOBvAWSBRSwLgf8MAAElLAXkvIBz0nUsCFtMagEx1SwGHB/YAHE1LAMzMzMzMnUsA6lQwAVfhRwNCzWfW5WlLAFLTJ4ZP5UcAQejarPv9RwOQtVz82IVLAObNdoQ8DUsDwFkhQ/AhSwNKOG343+FHAvAUSFD8aUsCw/s9hvnlRwD0s1JrmMVLAEFg5tMgiUsBhiJy+njdSwOEkzR/T9FHAYVRSJ6BhUcDQRNjw9CZSwEvIBz2bPVLArcJmgAv7UcA9m1Wfq/1RwBKDwMqhEVLAIxEawcYOUsDWVuwvuy9SwKWhRiHJBlLAo5I6AU0cUsDTo6mezAlSwMNkqmBUQVLAxEKtad79UcD5oGez6htSwN9PjZduMlLA/g5FgT4aUsDX2ZB/ZvtRwE1J1uHoGFLABhIUP8Z4UcA2qz5XWwFSwESLbOf7DVLAtf6WAPxWUcC7uI0G8FJSwGgibHh6IVLAEHUfgNQUUsD9+bZgqeNRwN7lIr4TB1LABi0kYHQhUsBCs+veivhRwLPviuB/JFLA0m9fB84pUsDoaiv2lw1SwC5Tk+ANBVLAx7q4jQYcUsBkyoegahtSwPWc9L7xGFLAYOXQItuhUcCSCI1g4wRSwFNA2v8AMVLACjAsf744UsDVCWgibAhSwOVjd4GSDVLAmFDB4QX7UcCppE5AE1VSwO58PzVe+lHAe0s5X+z2UcA7qpog6tJRwE0uxsA6QFLAC0YldQIGUsAm/FI/bwBSwDGZKhiVAFLAKe0NvjApUsCpwp/hzf9RwHEbDeAtIFLAzLIngc0SUsB1kxgEVh5SwGFUUieg+VHAjLrW3qcXUsBNFYxK6jhSwFR0JJf/zFHAJ/kRv2IMUsDBOSNKewtSwPrS25+LIVLAzczMzMwsUsCNCwdCshtSwBgmUwWjXlHAi/1l9+QFUsAhsHJokfFRwE1J1uHo+1HA/vDz34P/UcCTGARWDjVSwKYKRiV1HlLAqG4u/raEUcBaSSu+oQpSwB78xAH0E1LAHVpkO9/7UcB+HThnRPlRwHUhVn+E+VHAL2tiga/4UcDIlA9B1SJSwAAAAAAAAFLA1Lt4P278UcB5IR0ewhtSwJXUCWgiKFLAsi5uowEgUsBrD3uhgE1SwMbctYR8YFLAdk8eFmphUsDMeca+ZPdRwPT91HjpllHAPpXTnpL8UcCkUBa+vgVSwAowLH++MlLAJQUWwJQhUsCdSgaAKiNSwM7HtaFiHVLAZapgVFIHUsAj2/l+aj1SwDSAt0CCElLAniYz3lb/UcBa9bnaiilSwDAvwD46DVLALNSa5h0zUsDAWyBB8TdSwKkT0ETYMFLADTM0nggBUsDZX3ZPHiJSwKOSOgFNAFLA46WbxCAAUsA=",
          "dtype": "f8"
         },
         "marker": {
          "color": "#636efa"
         },
         "mode": "markers",
         "name": "",
         "showlegend": false,
         "subplot": "mapbox",
         "type": "scattermapbox"
        },
        {
         "fill": "toself",
         "fillcolor": "rgba(255,0,0,0.3)",
         "lat": [
          -38.8237,
          -38.814835,
          -38.814835,
          -38.8237,
          -38.8237
         ],
         "line": {
          "color": "white"
         },
         "lon": [
          -72.3797,
          -72.3797,
          -72.375191,
          -72.375191,
          -72.3797
         ],
         "mode": "lines",
         "showlegend": false,
         "type": "scattermapbox"
        },
        {
         "fill": "toself",
         "fillcolor": "rgba(255,0,0,0.3)",
         "lat": [
          -38.4655,
          -38.430832,
          -38.430832,
          -38.4655,
          -38.4655
         ],
         "line": {
          "color": "white"
         },
         "lon": [
          -72.8389,
          -72.8389,
          -72.7901,
          -72.7901,
          -72.8389
         ],
         "mode": "lines",
         "showlegend": false,
         "type": "scattermapbox"
        },
        {
         "fill": "toself",
         "fillcolor": "rgba(255,0,0,0.3)",
         "lat": [
          -26.3829,
          -26.3691,
          -26.3691,
          -26.3829,
          -26.3829
         ],
         "line": {
          "color": "white"
         },
         "lon": [
          -70.093,
          -70.093,
          -70.072701,
          -70.072701,
          -70.093
         ],
         "mode": "lines",
         "showlegend": false,
         "type": "scattermapbox"
        },
        {
         "fill": "toself",
         "fillcolor": "rgba(255,0,0,0.3)",
         "lat": [
          -36.9935,
          -36.983803,
          -36.983803,
          -36.9935,
          -36.9935
         ],
         "line": {
          "color": "white"
         },
         "lon": [
          -71.9645,
          -71.9645,
          -71.9176,
          -71.9176,
          -71.9645
         ],
         "mode": "lines",
         "showlegend": false,
         "type": "scattermapbox"
        },
        {
         "fill": "toself",
         "fillcolor": "rgba(255,0,0,0.3)",
         "lat": [
          -36.7806,
          -36.7597,
          -36.7597,
          -36.7806,
          -36.7806
         ],
         "line": {
          "color": "white"
         },
         "lon": [
          -71.952568,
          -71.952568,
          -71.928024,
          -71.928024,
          -71.952568
         ],
         "mode": "lines",
         "showlegend": false,
         "type": "scattermapbox"
        },
        {
         "fill": "toself",
         "fillcolor": "rgba(255,0,0,0.3)",
         "lat": [
          -36.7968,
          -36.745338,
          -36.745338,
          -36.7968,
          -36.7968
         ],
         "line": {
          "color": "white"
         },
         "lon": [
          -71.9167,
          -71.9167,
          -71.873512,
          -71.873512,
          -71.9167
         ],
         "mode": "lines",
         "showlegend": false,
         "type": "scattermapbox"
        },
        {
         "fill": "toself",
         "fillcolor": "rgba(255,0,0,0.3)",
         "lat": [
          -38.1007,
          -38.0229,
          -38.0229,
          -38.1007,
          -38.1007
         ],
         "line": {
          "color": "white"
         },
         "lon": [
          -72.565163,
          -72.565163,
          -72.491684,
          -72.491684,
          -72.565163
         ],
         "mode": "lines",
         "showlegend": false,
         "type": "scattermapbox"
        },
        {
         "fill": "toself",
         "fillcolor": "rgba(255,0,0,0.3)",
         "lat": [
          -34.8164,
          -34.806,
          -34.806,
          -34.8164,
          -34.8164
         ],
         "line": {
          "color": "white"
         },
         "lon": [
          -72.099838,
          -72.099838,
          -72.0938,
          -72.0938,
          -72.099838
         ],
         "mode": "lines",
         "showlegend": false,
         "type": "scattermapbox"
        },
        {
         "fill": "toself",
         "fillcolor": "rgba(255,0,0,0.3)",
         "lat": [
          -37.857906,
          -37.856602,
          -37.856602,
          -37.857906,
          -37.857906
         ],
         "line": {
          "color": "white"
         },
         "lon": [
          -71.162132,
          -71.162132,
          -71.158455,
          -71.158455,
          -71.162132
         ],
         "mode": "lines",
         "showlegend": false,
         "type": "scattermapbox"
        },
        {
         "fill": "toself",
         "fillcolor": "rgba(255,0,0,0.3)",
         "lat": [
          -38.019772,
          -38.0021,
          -38.0021,
          -38.019772,
          -38.019772
         ],
         "line": {
          "color": "white"
         },
         "lon": [
          -72.1955,
          -72.1955,
          -72.1657,
          -72.1657,
          -72.1955
         ],
         "mode": "lines",
         "showlegend": false,
         "type": "scattermapbox"
        },
        {
         "fill": "toself",
         "fillcolor": "rgba(255,0,0,0.3)",
         "lat": [
          -38.061989,
          -37.978,
          -37.978,
          -38.061989,
          -38.061989
         ],
         "line": {
          "color": "white"
         },
         "lon": [
          -72.440643,
          -72.440643,
          -72.394211,
          -72.394211,
          -72.440643
         ],
         "mode": "lines",
         "showlegend": false,
         "type": "scattermapbox"
        },
        {
         "fill": "toself",
         "fillcolor": "rgba(255,0,0,0.3)",
         "lat": [
          -35.4518,
          -35.426598,
          -35.426598,
          -35.4518,
          -35.4518
         ],
         "line": {
          "color": "white"
         },
         "lon": [
          -72.0931,
          -72.0931,
          -72.075638,
          -72.075638,
          -72.0931
         ],
         "mode": "lines",
         "showlegend": false,
         "type": "scattermapbox"
        },
        {
         "fill": "toself",
         "fillcolor": "rgba(255,0,0,0.3)",
         "lat": [
          -33.1131,
          -33.1017,
          -33.1017,
          -33.1131,
          -33.1131
         ],
         "line": {
          "color": "white"
         },
         "lon": [
          -70.683418,
          -70.683418,
          -70.6748,
          -70.6748,
          -70.683418
         ],
         "mode": "lines",
         "showlegend": false,
         "type": "scattermapbox"
        },
        {
         "fill": "toself",
         "fillcolor": "rgba(255,0,0,0.3)",
         "lat": [
          -36.913357,
          -36.8635,
          -36.8635,
          -36.913357,
          -36.913357
         ],
         "line": {
          "color": "white"
         },
         "lon": [
          -71.932343,
          -71.932343,
          -71.8603,
          -71.8603,
          -71.932343
         ],
         "mode": "lines",
         "showlegend": false,
         "type": "scattermapbox"
        },
        {
         "fill": "toself",
         "fillcolor": "rgba(255,0,0,0.3)",
         "lat": [
          -35.3493,
          -35.337177,
          -35.337177,
          -35.3493,
          -35.3493
         ],
         "line": {
          "color": "white"
         },
         "lon": [
          -72.0432,
          -72.0432,
          -72.029381,
          -72.029381,
          -72.0432
         ],
         "mode": "lines",
         "showlegend": false,
         "type": "scattermapbox"
        },
        {
         "fill": "toself",
         "fillcolor": "rgba(255,0,0,0.3)",
         "lat": [
          -36.8044,
          -36.7938,
          -36.7938,
          -36.8044,
          -36.8044
         ],
         "line": {
          "color": "white"
         },
         "lon": [
          -71.929146,
          -71.929146,
          -71.922577,
          -71.922577,
          -71.929146
         ],
         "mode": "lines",
         "showlegend": false,
         "type": "scattermapbox"
        },
        {
         "fill": "toself",
         "fillcolor": "rgba(255,0,0,0.3)",
         "lat": [
          -34.689426,
          -34.671486,
          -34.671486,
          -34.689426,
          -34.689426
         ],
         "line": {
          "color": "white"
         },
         "lon": [
          -71.8586,
          -71.8586,
          -71.8488,
          -71.8488,
          -71.8586
         ],
         "mode": "lines",
         "showlegend": false,
         "type": "scattermapbox"
        },
        {
         "fill": "toself",
         "fillcolor": "rgba(255,0,0,0.3)",
         "lat": [
          -26.3198,
          -26.3136,
          -26.3136,
          -26.3198,
          -26.3198
         ],
         "line": {
          "color": "white"
         },
         "lon": [
          -69.8731,
          -69.8731,
          -69.863,
          -69.863,
          -69.8731
         ],
         "mode": "lines",
         "showlegend": false,
         "type": "scattermapbox"
        },
        {
         "fill": "toself",
         "fillcolor": "rgba(255,0,0,0.3)",
         "lat": [
          -35.422974,
          -35.381107,
          -35.381107,
          -35.422974,
          -35.422974
         ],
         "line": {
          "color": "white"
         },
         "lon": [
          -72.3167,
          -72.3167,
          -72.2771,
          -72.2771,
          -72.3167
         ],
         "mode": "lines",
         "showlegend": false,
         "type": "scattermapbox"
        },
        {
         "fill": "toself",
         "fillcolor": "rgba(255,0,0,0.3)",
         "lat": [
          -35.396545,
          -35.38031,
          -35.38031,
          -35.396545,
          -35.396545
         ],
         "line": {
          "color": "white"
         },
         "lon": [
          -72.081779,
          -72.081779,
          -72.06501,
          -72.06501,
          -72.081779
         ],
         "mode": "lines",
         "showlegend": false,
         "type": "scattermapbox"
        },
        {
         "fill": "toself",
         "fillcolor": "rgba(255,0,0,0.3)",
         "lat": [
          -37.9343,
          -37.9042,
          -37.9042,
          -37.9343,
          -37.9343
         ],
         "line": {
          "color": "white"
         },
         "lon": [
          -72.511055,
          -72.511055,
          -72.4676,
          -72.4676,
          -72.511055
         ],
         "mode": "lines",
         "showlegend": false,
         "type": "scattermapbox"
        },
        {
         "fill": "toself",
         "fillcolor": "rgba(255,0,0,0.3)",
         "lat": [
          -26.3127,
          -26.3012,
          -26.3012,
          -26.3127,
          -26.3127
         ],
         "line": {
          "color": "white"
         },
         "lon": [
          -70.2335,
          -70.2335,
          -70.2169,
          -70.2169,
          -70.2335
         ],
         "mode": "lines",
         "showlegend": false,
         "type": "scattermapbox"
        },
        {
         "fill": "toself",
         "fillcolor": "rgba(255,0,0,0.3)",
         "lat": [
          -38.0553,
          -38.038303,
          -38.038303,
          -38.0553,
          -38.0553
         ],
         "line": {
          "color": "white"
         },
         "lon": [
          -72.3405,
          -72.3405,
          -72.3281,
          -72.3281,
          -72.3405
         ],
         "mode": "lines",
         "showlegend": false,
         "type": "scattermapbox"
        },
        {
         "fill": "toself",
         "fillcolor": "rgba(255,0,0,0.3)",
         "lat": [
          -37.9399,
          -37.913544,
          -37.913544,
          -37.9399,
          -37.9399
         ],
         "line": {
          "color": "white"
         },
         "lon": [
          -72.4423,
          -72.4423,
          -72.4159,
          -72.4159,
          -72.4423
         ],
         "mode": "lines",
         "showlegend": false,
         "type": "scattermapbox"
        },
        {
         "fill": "toself",
         "fillcolor": "rgba(255,0,0,0.3)",
         "lat": [
          -26.4368,
          -26.4252,
          -26.4252,
          -26.4368,
          -26.4368
         ],
         "line": {
          "color": "white"
         },
         "lon": [
          -69.4823,
          -69.4823,
          -69.4676,
          -69.4676,
          -69.4823
         ],
         "mode": "lines",
         "showlegend": false,
         "type": "scattermapbox"
        },
        {
         "fill": "toself",
         "fillcolor": "rgba(255,0,0,0.3)",
         "lat": [
          -37.2971,
          -37.276741,
          -37.276741,
          -37.2971,
          -37.2971
         ],
         "line": {
          "color": "white"
         },
         "lon": [
          -71.8833,
          -71.8833,
          -71.871918,
          -71.871918,
          -71.8833
         ],
         "mode": "lines",
         "showlegend": false,
         "type": "scattermapbox"
        },
        {
         "fill": "toself",
         "fillcolor": "rgba(255,0,0,0.3)",
         "lat": [
          -37.041378,
          -36.984,
          -36.984,
          -37.041378,
          -37.041378
         ],
         "line": {
          "color": "white"
         },
         "lon": [
          -72.0613,
          -72.0613,
          -72.015244,
          -72.015244,
          -72.0613
         ],
         "mode": "lines",
         "showlegend": false,
         "type": "scattermapbox"
        },
        {
         "fill": "toself",
         "fillcolor": "rgba(255,0,0,0.3)",
         "lat": [
          -36.939491,
          -36.9245,
          -36.9245,
          -36.939491,
          -36.939491
         ],
         "line": {
          "color": "white"
         },
         "lon": [
          -72.057243,
          -72.057243,
          -72.0232,
          -72.0232,
          -72.057243
         ],
         "mode": "lines",
         "showlegend": false,
         "type": "scattermapbox"
        },
        {
         "fill": "toself",
         "fillcolor": "rgba(255,0,0,0.3)",
         "lat": [
          -38.1801,
          -38.15192,
          -38.15192,
          -38.1801,
          -38.1801
         ],
         "line": {
          "color": "white"
         },
         "lon": [
          -72.4345,
          -72.4345,
          -72.3945,
          -72.3945,
          -72.4345
         ],
         "mode": "lines",
         "showlegend": false,
         "type": "scattermapbox"
        },
        {
         "fill": "toself",
         "fillcolor": "rgba(255,0,0,0.3)",
         "lat": [
          -35.41,
          -35.4041,
          -35.4041,
          -35.41,
          -35.41
         ],
         "line": {
          "color": "white"
         },
         "lon": [
          -72.1475,
          -72.1475,
          -72.1295,
          -72.1295,
          -72.1475
         ],
         "mode": "lines",
         "showlegend": false,
         "type": "scattermapbox"
        },
        {
         "fill": "toself",
         "fillcolor": "rgba(255,0,0,0.3)",
         "lat": [
          -39.420925,
          -39.417099,
          -39.417099,
          -39.420925,
          -39.420925
         ],
         "line": {
          "color": "white"
         },
         "lon": [
          -71.943954,
          -71.943954,
          -71.937523,
          -71.937523,
          -71.943954
         ],
         "mode": "lines",
         "showlegend": false,
         "type": "scattermapbox"
        },
        {
         "fill": "toself",
         "fillcolor": "rgba(255,0,0,0.3)",
         "lat": [
          -36.443,
          -36.4375,
          -36.4375,
          -36.443,
          -36.443
         ],
         "line": {
          "color": "white"
         },
         "lon": [
          -71.9107,
          -71.9107,
          -71.9044,
          -71.9044,
          -71.9107
         ],
         "mode": "lines",
         "showlegend": false,
         "type": "scattermapbox"
        },
        {
         "fill": "toself",
         "fillcolor": "rgba(255,0,0,0.3)",
         "lat": [
          -37.9399,
          -37.9106,
          -37.9106,
          -37.9399,
          -37.9399
         ],
         "line": {
          "color": "white"
         },
         "lon": [
          -72.6927,
          -72.6927,
          -72.6701,
          -72.6701,
          -72.6927
         ],
         "mode": "lines",
         "showlegend": false,
         "type": "scattermapbox"
        },
        {
         "fill": "toself",
         "fillcolor": "rgba(255,0,0,0.3)",
         "lat": [
          -38.030991,
          -38.023556,
          -38.023556,
          -38.030991,
          -38.030991
         ],
         "line": {
          "color": "white"
         },
         "lon": [
          -72.0976,
          -72.0976,
          -72.085556,
          -72.085556,
          -72.0976
         ],
         "mode": "lines",
         "showlegend": false,
         "type": "scattermapbox"
        },
        {
         "fill": "toself",
         "fillcolor": "rgba(255,0,0,0.3)",
         "lat": [
          -38.185963,
          -38.164795,
          -38.164795,
          -38.185963,
          -38.185963
         ],
         "line": {
          "color": "white"
         },
         "lon": [
          -73.443916,
          -73.443916,
          -73.4281,
          -73.4281,
          -73.443916
         ],
         "mode": "lines",
         "showlegend": false,
         "type": "scattermapbox"
        },
        {
         "fill": "toself",
         "fillcolor": "rgba(255,0,0,0.3)",
         "lat": [
          -37.8471,
          -37.7981,
          -37.7981,
          -37.8471,
          -37.8471
         ],
         "line": {
          "color": "white"
         },
         "lon": [
          -72.2495,
          -72.2495,
          -72.2005,
          -72.2005,
          -72.2495
         ],
         "mode": "lines",
         "showlegend": false,
         "type": "scattermapbox"
        },
        {
         "fill": "toself",
         "fillcolor": "rgba(255,0,0,0.3)",
         "lat": [
          -35.500507,
          -35.491131,
          -35.491131,
          -35.500507,
          -35.500507
         ],
         "line": {
          "color": "white"
         },
         "lon": [
          -72.213097,
          -72.213097,
          -72.171448,
          -72.171448,
          -72.213097
         ],
         "mode": "lines",
         "showlegend": false,
         "type": "scattermapbox"
        },
        {
         "fill": "toself",
         "fillcolor": "rgba(255,0,0,0.3)",
         "lat": [
          -35.350838,
          -35.3321,
          -35.3321,
          -35.350838,
          -35.350838
         ],
         "line": {
          "color": "white"
         },
         "lon": [
          -72.097305,
          -72.097305,
          -72.085144,
          -72.085144,
          -72.097305
         ],
         "mode": "lines",
         "showlegend": false,
         "type": "scattermapbox"
        },
        {
         "fill": "toself",
         "fillcolor": "rgba(255,0,0,0.3)",
         "lat": [
          -27.0413,
          -27.0156,
          -27.0156,
          -27.0413,
          -27.0413
         ],
         "line": {
          "color": "white"
         },
         "lon": [
          -69.9107,
          -69.9107,
          -69.877419,
          -69.877419,
          -69.9107
         ],
         "mode": "lines",
         "showlegend": false,
         "type": "scattermapbox"
        },
        {
         "fill": "toself",
         "fillcolor": "rgba(255,0,0,0.3)",
         "lat": [
          -38.782478,
          -38.775997,
          -38.775997,
          -38.782478,
          -38.782478
         ],
         "line": {
          "color": "white"
         },
         "lon": [
          -72.2843,
          -72.2843,
          -72.273,
          -72.273,
          -72.2843
         ],
         "mode": "lines",
         "showlegend": false,
         "type": "scattermapbox"
        },
        {
         "fill": "toself",
         "fillcolor": "rgba(255,0,0,0.3)",
         "lat": [
          -37.75037,
          -37.7328,
          -37.7328,
          -37.75037,
          -37.75037
         ],
         "line": {
          "color": "white"
         },
         "lon": [
          -72.063934,
          -72.063934,
          -72.048607,
          -72.048607,
          -72.063934
         ],
         "mode": "lines",
         "showlegend": false,
         "type": "scattermapbox"
        },
        {
         "fill": "toself",
         "fillcolor": "rgba(255,0,0,0.3)",
         "lat": [
          -38.8952,
          -38.878708,
          -38.878708,
          -38.8952,
          -38.8952
         ],
         "line": {
          "color": "white"
         },
         "lon": [
          -72.3722,
          -72.3722,
          -72.340508,
          -72.340508,
          -72.3722
         ],
         "mode": "lines",
         "showlegend": false,
         "type": "scattermapbox"
        },
        {
         "fill": "toself",
         "fillcolor": "rgba(255,0,0,0.3)",
         "lat": [
          -38.1983,
          -38.1896,
          -38.1896,
          -38.1983,
          -38.1983
         ],
         "line": {
          "color": "white"
         },
         "lon": [
          -73.4099,
          -73.4099,
          -73.3851,
          -73.3851,
          -73.4099
         ],
         "mode": "lines",
         "showlegend": false,
         "type": "scattermapbox"
        },
        {
         "fill": "toself",
         "fillcolor": "rgba(255,0,0,0.3)",
         "lat": [
          -37.9073,
          -37.900478,
          -37.900478,
          -37.9073,
          -37.9073
         ],
         "line": {
          "color": "white"
         },
         "lon": [
          -72.097794,
          -72.097794,
          -72.089241,
          -72.089241,
          -72.097794
         ],
         "mode": "lines",
         "showlegend": false,
         "type": "scattermapbox"
        },
        {
         "fill": "toself",
         "fillcolor": "rgba(255,0,0,0.3)",
         "lat": [
          -37.8977,
          -37.892857,
          -37.892857,
          -37.8977,
          -37.8977
         ],
         "line": {
          "color": "white"
         },
         "lon": [
          -72.1444,
          -72.1444,
          -72.1383,
          -72.1383,
          -72.1444
         ],
         "mode": "lines",
         "showlegend": false,
         "type": "scattermapbox"
        },
        {
         "fill": "toself",
         "fillcolor": "rgba(255,0,0,0.3)",
         "lat": [
          -35.3122,
          -35.3025,
          -35.3025,
          -35.3122,
          -35.3122
         ],
         "line": {
          "color": "white"
         },
         "lon": [
          -72.3295,
          -72.3295,
          -72.3217,
          -72.3217,
          -72.3295
         ],
         "mode": "lines",
         "showlegend": false,
         "type": "scattermapbox"
        },
        {
         "fill": "toself",
         "fillcolor": "rgba(255,0,0,0.3)",
         "lat": [
          -37.705093,
          -37.7012,
          -37.7012,
          -37.705093,
          -37.705093
         ],
         "line": {
          "color": "white"
         },
         "lon": [
          -72.1495,
          -72.1495,
          -72.1471,
          -72.1471,
          -72.1495
         ],
         "mode": "lines",
         "showlegend": false,
         "type": "scattermapbox"
        },
        {
         "fill": "toself",
         "fillcolor": "rgba(255,0,0,0.3)",
         "lat": [
          -35.022579,
          -34.9944,
          -34.9944,
          -35.022579,
          -35.022579
         ],
         "line": {
          "color": "white"
         },
         "lon": [
          -70.994072,
          -70.994072,
          -70.9682,
          -70.9682,
          -70.994072
         ],
         "mode": "lines",
         "showlegend": false,
         "type": "scattermapbox"
        },
        {
         "fill": "toself",
         "fillcolor": "rgba(255,0,0,0.3)",
         "lat": [
          -34.99865,
          -34.9916,
          -34.9916,
          -34.99865,
          -34.99865
         ],
         "line": {
          "color": "white"
         },
         "lon": [
          -71.0085,
          -71.0085,
          -71.0043,
          -71.0043,
          -71.0085
         ],
         "mode": "lines",
         "showlegend": false,
         "type": "scattermapbox"
        },
        {
         "fill": "toself",
         "fillcolor": "rgba(255,0,0,0.3)",
         "lat": [
          -38.0713,
          -38.0665,
          -38.0665,
          -38.0713,
          -38.0713
         ],
         "line": {
          "color": "white"
         },
         "lon": [
          -72.4916,
          -72.4916,
          -72.4879,
          -72.4879,
          -72.4916
         ],
         "mode": "lines",
         "showlegend": false,
         "type": "scattermapbox"
        },
        {
         "fill": "toself",
         "fillcolor": "rgba(255,0,0,0.3)",
         "lat": [
          -20.4637,
          -20.4524,
          -20.4524,
          -20.4637,
          -20.4637
         ],
         "line": {
          "color": "white"
         },
         "lon": [
          -69.5367,
          -69.5367,
          -69.5249,
          -69.5249,
          -69.5367
         ],
         "mode": "lines",
         "showlegend": false,
         "type": "scattermapbox"
        },
        {
         "fill": "toself",
         "fillcolor": "rgba(255,0,0,0.3)",
         "lat": [
          -38.2154,
          -38.210686,
          -38.210686,
          -38.2154,
          -38.2154
         ],
         "line": {
          "color": "white"
         },
         "lon": [
          -72.351273,
          -72.351273,
          -72.3325,
          -72.3325,
          -72.351273
         ],
         "mode": "lines",
         "showlegend": false,
         "type": "scattermapbox"
        },
        {
         "fill": "toself",
         "fillcolor": "rgba(255,0,0,0.3)",
         "lat": [
          -37.944515,
          -37.9315,
          -37.9315,
          -37.944515,
          -37.944515
         ],
         "line": {
          "color": "white"
         },
         "lon": [
          -73.4853,
          -73.4853,
          -73.479836,
          -73.479836,
          -73.4853
         ],
         "mode": "lines",
         "showlegend": false,
         "type": "scattermapbox"
        },
        {
         "fill": "toself",
         "fillcolor": "rgba(255,0,0,0.3)",
         "lat": [
          -37.034527,
          -37.029896,
          -37.029896,
          -37.034527,
          -37.034527
         ],
         "line": {
          "color": "white"
         },
         "lon": [
          -71.906555,
          -71.906555,
          -71.894356,
          -71.894356,
          -71.906555
         ],
         "mode": "lines",
         "showlegend": false,
         "type": "scattermapbox"
        },
        {
         "fill": "toself",
         "fillcolor": "rgba(255,0,0,0.3)",
         "lat": [
          -36.9134,
          -36.895565,
          -36.895565,
          -36.9134,
          -36.9134
         ],
         "line": {
          "color": "white"
         },
         "lon": [
          -71.8466,
          -71.8466,
          -71.8279,
          -71.8279,
          -71.8466
         ],
         "mode": "lines",
         "showlegend": false,
         "type": "scattermapbox"
        },
        {
         "fill": "toself",
         "fillcolor": "rgba(255,0,0,0.3)",
         "lat": [
          -36.6577,
          -36.6557,
          -36.6557,
          -36.6577,
          -36.6577
         ],
         "line": {
          "color": "white"
         },
         "lon": [
          -71.882645,
          -71.882645,
          -71.8691,
          -71.8691,
          -71.882645
         ],
         "mode": "lines",
         "showlegend": false,
         "type": "scattermapbox"
        },
        {
         "fill": "toself",
         "fillcolor": "rgba(255,0,0,0.3)",
         "lat": [
          -26.3903,
          -26.3807,
          -26.3807,
          -26.3903,
          -26.3903
         ],
         "line": {
          "color": "white"
         },
         "lon": [
          -70.0163,
          -70.0163,
          -70.0122,
          -70.0122,
          -70.0163
         ],
         "mode": "lines",
         "showlegend": false,
         "type": "scattermapbox"
        },
        {
         "fill": "toself",
         "fillcolor": "rgba(255,0,0,0.3)",
         "lat": [
          -34.32,
          -34.3161,
          -34.3161,
          -34.32,
          -34.32
         ],
         "line": {
          "color": "white"
         },
         "lon": [
          -71.3724,
          -71.3724,
          -71.368828,
          -71.368828,
          -71.3724
         ],
         "mode": "lines",
         "showlegend": false,
         "type": "scattermapbox"
        },
        {
         "fill": "toself",
         "fillcolor": "rgba(255,0,0,0.3)",
         "lat": [
          -37.385979,
          -37.383991,
          -37.383991,
          -37.385979,
          -37.385979
         ],
         "line": {
          "color": "white"
         },
         "lon": [
          -72.356186,
          -72.356186,
          -72.350769,
          -72.350769,
          -72.356186
         ],
         "mode": "lines",
         "showlegend": false,
         "type": "scattermapbox"
        },
        {
         "fill": "toself",
         "fillcolor": "rgba(255,0,0,0.3)",
         "lat": [
          -37.803761,
          -37.7489,
          -37.7489,
          -37.803761,
          -37.803761
         ],
         "line": {
          "color": "white"
         },
         "lon": [
          -72.130524,
          -72.130524,
          -72.0772,
          -72.0772,
          -72.130524
         ],
         "mode": "lines",
         "showlegend": false,
         "type": "scattermapbox"
        },
        {
         "fill": "toself",
         "fillcolor": "rgba(255,0,0,0.3)",
         "lat": [
          -37.2359,
          -37.2213,
          -37.2213,
          -37.2359,
          -37.2359
         ],
         "line": {
          "color": "white"
         },
         "lon": [
          -71.9161,
          -71.9161,
          -71.9042,
          -71.9042,
          -71.9161
         ],
         "mode": "lines",
         "showlegend": false,
         "type": "scattermapbox"
        },
        {
         "fill": "toself",
         "fillcolor": "rgba(255,0,0,0.3)",
         "lat": [
          -36.865021,
          -36.842098,
          -36.842098,
          -36.865021,
          -36.865021
         ],
         "line": {
          "color": "white"
         },
         "lon": [
          -72.732201,
          -72.732201,
          -72.709976,
          -72.709976,
          -72.732201
         ],
         "mode": "lines",
         "showlegend": false,
         "type": "scattermapbox"
        },
        {
         "fill": "toself",
         "fillcolor": "rgba(255,0,0,0.3)",
         "lat": [
          -37.193623,
          -37.1928,
          -37.1928,
          -37.193623,
          -37.193623
         ],
         "line": {
          "color": "white"
         },
         "lon": [
          -72.6138,
          -72.6138,
          -72.604561,
          -72.604561,
          -72.6138
         ],
         "mode": "lines",
         "showlegend": false,
         "type": "scattermapbox"
        },
        {
         "fill": "toself",
         "fillcolor": "rgba(255,0,0,0.3)",
         "lat": [
          -34.565243,
          -34.5396,
          -34.5396,
          -34.565243,
          -34.565243
         ],
         "line": {
          "color": "white"
         },
         "lon": [
          -71.5471,
          -71.5471,
          -71.5278,
          -71.5278,
          -71.5471
         ],
         "mode": "lines",
         "showlegend": false,
         "type": "scattermapbox"
        },
        {
         "fill": "toself",
         "fillcolor": "rgba(255,0,0,0.3)",
         "lat": [
          -34.5408,
          -34.534962,
          -34.534962,
          -34.5408,
          -34.5408
         ],
         "line": {
          "color": "white"
         },
         "lon": [
          -71.51416,
          -71.51416,
          -71.509209,
          -71.509209,
          -71.51416
         ],
         "mode": "lines",
         "showlegend": false,
         "type": "scattermapbox"
        },
        {
         "fill": "toself",
         "fillcolor": "rgba(255,0,0,0.3)",
         "lat": [
          -35.301971,
          -35.288872,
          -35.288872,
          -35.301971,
          -35.301971
         ],
         "line": {
          "color": "white"
         },
         "lon": [
          -72.354378,
          -72.354378,
          -72.3424,
          -72.3424,
          -72.354378
         ],
         "mode": "lines",
         "showlegend": false,
         "type": "scattermapbox"
        },
        {
         "fill": "toself",
         "fillcolor": "rgba(255,0,0,0.3)",
         "lat": [
          -37.1843,
          -37.1639,
          -37.1639,
          -37.1843,
          -37.1843
         ],
         "line": {
          "color": "white"
         },
         "lon": [
          -71.998032,
          -71.998032,
          -71.979401,
          -71.979401,
          -71.998032
         ],
         "mode": "lines",
         "showlegend": false,
         "type": "scattermapbox"
        },
        {
         "fill": "toself",
         "fillcolor": "rgba(255,0,0,0.3)",
         "lat": [
          -37.862423,
          -37.860191,
          -37.860191,
          -37.862423,
          -37.862423
         ],
         "line": {
          "color": "white"
         },
         "lon": [
          -73.511559,
          -73.511559,
          -73.503998,
          -73.503998,
          -73.511559
         ],
         "mode": "lines",
         "showlegend": false,
         "type": "scattermapbox"
        },
        {
         "fill": "toself",
         "fillcolor": "rgba(255,0,0,0.3)",
         "lat": [
          -36.965752,
          -36.9165,
          -36.9165,
          -36.965752,
          -36.965752
         ],
         "line": {
          "color": "white"
         },
         "lon": [
          -72.010147,
          -72.010147,
          -71.967628,
          -71.967628,
          -72.010147
         ],
         "mode": "lines",
         "showlegend": false,
         "type": "scattermapbox"
        },
        {
         "fill": "toself",
         "fillcolor": "rgba(255,0,0,0.3)",
         "lat": [
          -35.3899,
          -35.3805,
          -35.3805,
          -35.3899,
          -35.3899
         ],
         "line": {
          "color": "white"
         },
         "lon": [
          -72.144112,
          -72.144112,
          -72.1303,
          -72.1303,
          -72.144112
         ],
         "mode": "lines",
         "showlegend": false,
         "type": "scattermapbox"
        },
        {
         "fill": "toself",
         "fillcolor": "rgba(255,0,0,0.3)",
         "lat": [
          -37.9231,
          -37.906185,
          -37.906185,
          -37.9231,
          -37.9231
         ],
         "line": {
          "color": "white"
         },
         "lon": [
          -72.185249,
          -72.185249,
          -72.1675,
          -72.1675,
          -72.185249
         ],
         "mode": "lines",
         "showlegend": false,
         "type": "scattermapbox"
        },
        {
         "fill": "toself",
         "fillcolor": "rgba(255,0,0,0.3)",
         "lat": [
          -37.891083,
          -37.875092,
          -37.875092,
          -37.891083,
          -37.891083
         ],
         "line": {
          "color": "white"
         },
         "lon": [
          -73.5146,
          -73.5146,
          -73.484818,
          -73.484818,
          -73.5146
         ],
         "mode": "lines",
         "showlegend": false,
         "type": "scattermapbox"
        },
        {
         "fill": "toself",
         "fillcolor": "rgba(255,0,0,0.3)",
         "lat": [
          -38.392395,
          -38.387806,
          -38.387806,
          -38.392395,
          -38.392395
         ],
         "line": {
          "color": "white"
         },
         "lon": [
          -71.893021,
          -71.893021,
          -71.890747,
          -71.890747,
          -71.893021
         ],
         "mode": "lines",
         "showlegend": false,
         "type": "scattermapbox"
        },
        {
         "fill": "toself",
         "fillcolor": "rgba(255,0,0,0.3)",
         "lat": [
          -37.8116,
          -37.7935,
          -37.7935,
          -37.8116,
          -37.8116
         ],
         "line": {
          "color": "white"
         },
         "lon": [
          -72.1552,
          -72.1552,
          -72.1441,
          -72.1441,
          -72.1552
         ],
         "mode": "lines",
         "showlegend": false,
         "type": "scattermapbox"
        },
        {
         "fill": "toself",
         "fillcolor": "rgba(255,0,0,0.3)",
         "lat": [
          -35.3763,
          -35.3598,
          -35.3598,
          -35.3763,
          -35.3763
         ],
         "line": {
          "color": "white"
         },
         "lon": [
          -72.3226,
          -72.3226,
          -72.29953,
          -72.29953,
          -72.3226
         ],
         "mode": "lines",
         "showlegend": false,
         "type": "scattermapbox"
        },
        {
         "fill": "toself",
         "fillcolor": "rgba(255,0,0,0.3)",
         "lat": [
          -34.4502,
          -34.43961,
          -34.43961,
          -34.4502,
          -34.4502
         ],
         "line": {
          "color": "white"
         },
         "lon": [
          -70.7727,
          -70.7727,
          -70.7652,
          -70.7652,
          -70.7727
         ],
         "mode": "lines",
         "showlegend": false,
         "type": "scattermapbox"
        },
        {
         "fill": "toself",
         "fillcolor": "rgba(255,0,0,0.3)",
         "lat": [
          -37.9721,
          -37.9521,
          -37.9521,
          -37.9721,
          -37.9721
         ],
         "line": {
          "color": "white"
         },
         "lon": [
          -72.294098,
          -72.294098,
          -72.265015,
          -72.265015,
          -72.294098
         ],
         "mode": "lines",
         "showlegend": false,
         "type": "scattermapbox"
        },
        {
         "fill": "toself",
         "fillcolor": "rgba(255,0,0,0.3)",
         "lat": [
          -37.0245,
          -37.0173,
          -37.0173,
          -37.0245,
          -37.0245
         ],
         "line": {
          "color": "white"
         },
         "lon": [
          -71.9919,
          -71.9919,
          -71.9859,
          -71.9859,
          -71.9919
         ],
         "mode": "lines",
         "showlegend": false,
         "type": "scattermapbox"
        },
        {
         "fill": "toself",
         "fillcolor": "rgba(255,0,0,0.3)",
         "lat": [
          -33.6265,
          -33.6179,
          -33.6179,
          -33.6265,
          -33.6265
         ],
         "line": {
          "color": "white"
         },
         "lon": [
          -70.366226,
          -70.366226,
          -70.357201,
          -70.357201,
          -70.366226
         ],
         "mode": "lines",
         "showlegend": false,
         "type": "scattermapbox"
        },
        {
         "fill": "toself",
         "fillcolor": "rgba(255,0,0,0.3)",
         "lat": [
          -35.388309,
          -35.3794,
          -35.3794,
          -35.388309,
          -35.388309
         ],
         "line": {
          "color": "white"
         },
         "lon": [
          -72.3291,
          -72.3291,
          -72.3242,
          -72.3242,
          -72.3291
         ],
         "mode": "lines",
         "showlegend": false,
         "type": "scattermapbox"
        },
        {
         "fill": "toself",
         "fillcolor": "rgba(255,0,0,0.3)",
         "lat": [
          -35.3116,
          -35.3025,
          -35.3025,
          -35.3116,
          -35.3116
         ],
         "line": {
          "color": "white"
         },
         "lon": [
          -72.2948,
          -72.2948,
          -72.292419,
          -72.292419,
          -72.2948
         ],
         "mode": "lines",
         "showlegend": false,
         "type": "scattermapbox"
        },
        {
         "fill": "toself",
         "fillcolor": "rgba(255,0,0,0.3)",
         "lat": [
          -39.605797,
          -39.6009,
          -39.6009,
          -39.605797,
          -39.605797
         ],
         "line": {
          "color": "white"
         },
         "lon": [
          -73.023499,
          -73.023499,
          -73.0208,
          -73.0208,
          -73.023499
         ],
         "mode": "lines",
         "showlegend": false,
         "type": "scattermapbox"
        },
        {
         "fill": "toself",
         "fillcolor": "rgba(255,0,0,0.3)",
         "lat": [
          -36.1121,
          -36.0924,
          -36.0924,
          -36.1121,
          -36.1121
         ],
         "line": {
          "color": "white"
         },
         "lon": [
          -72.3636,
          -72.3636,
          -72.358604,
          -72.358604,
          -72.3636
         ],
         "mode": "lines",
         "showlegend": false,
         "type": "scattermapbox"
        },
        {
         "fill": "toself",
         "fillcolor": "rgba(255,0,0,0.3)",
         "lat": [
          -36.1217,
          -36.0959,
          -36.0959,
          -36.1217,
          -36.1217
         ],
         "line": {
          "color": "white"
         },
         "lon": [
          -72.3779,
          -72.3779,
          -72.365013,
          -72.365013,
          -72.3779
         ],
         "mode": "lines",
         "showlegend": false,
         "type": "scattermapbox"
        },
        {
         "fill": "toself",
         "fillcolor": "rgba(255,0,0,0.3)",
         "lat": [
          -37.106804,
          -37.1015,
          -37.1015,
          -37.106804,
          -37.106804
         ],
         "line": {
          "color": "white"
         },
         "lon": [
          -71.9132,
          -71.9132,
          -71.9089,
          -71.9089,
          -71.9132
         ],
         "mode": "lines",
         "showlegend": false,
         "type": "scattermapbox"
        },
        {
         "fill": "toself",
         "fillcolor": "rgba(255,0,0,0.3)",
         "lat": [
          -38.1468,
          -38.1153,
          -38.1153,
          -38.1468,
          -38.1468
         ],
         "line": {
          "color": "white"
         },
         "lon": [
          -72.544,
          -72.544,
          -72.5183,
          -72.5183,
          -72.544
         ],
         "mode": "lines",
         "showlegend": false,
         "type": "scattermapbox"
        },
        {
         "fill": "toself",
         "fillcolor": "rgba(255,0,0,0.3)",
         "lat": [
          -38.2346,
          -38.222176,
          -38.222176,
          -38.2346,
          -38.2346
         ],
         "line": {
          "color": "white"
         },
         "lon": [
          -72.820961,
          -72.820961,
          -72.8162,
          -72.8162,
          -72.820961
         ],
         "mode": "lines",
         "showlegend": false,
         "type": "scattermapbox"
        },
        {
         "fill": "toself",
         "fillcolor": "rgba(255,0,0,0.3)",
         "lat": [
          -35.4811,
          -35.4587,
          -35.4587,
          -35.4811,
          -35.4811
         ],
         "line": {
          "color": "white"
         },
         "lon": [
          -72.1824,
          -72.1824,
          -72.1688,
          -72.1688,
          -72.1824
         ],
         "mode": "lines",
         "showlegend": false,
         "type": "scattermapbox"
        },
        {
         "fill": "toself",
         "fillcolor": "rgba(255,0,0,0.3)",
         "lat": [
          -38.2361,
          -38.214039,
          -38.214039,
          -38.2361,
          -38.2361
         ],
         "line": {
          "color": "white"
         },
         "lon": [
          -73.453934,
          -73.453934,
          -73.415199,
          -73.415199,
          -73.453934
         ],
         "mode": "lines",
         "showlegend": false,
         "type": "scattermapbox"
        },
        {
         "fill": "toself",
         "fillcolor": "rgba(255,0,0,0.3)",
         "lat": [
          -34.482414,
          -34.4748,
          -34.4748,
          -34.482414,
          -34.482414
         ],
         "line": {
          "color": "white"
         },
         "lon": [
          -70.7397,
          -70.7397,
          -70.7332,
          -70.7332,
          -70.7397
         ],
         "mode": "lines",
         "showlegend": false,
         "type": "scattermapbox"
        },
        {
         "fill": "toself",
         "fillcolor": "rgba(255,0,0,0.3)",
         "lat": [
          -37.2362,
          -37.224007,
          -37.224007,
          -37.2362,
          -37.2362
         ],
         "line": {
          "color": "white"
         },
         "lon": [
          -71.943329,
          -71.943329,
          -71.9335,
          -71.9335,
          -71.943329
         ],
         "mode": "lines",
         "showlegend": false,
         "type": "scattermapbox"
        },
        {
         "fill": "toself",
         "fillcolor": "rgba(255,0,0,0.3)",
         "lat": [
          -35.3867,
          -35.3749,
          -35.3749,
          -35.3867,
          -35.3867
         ],
         "line": {
          "color": "white"
         },
         "lon": [
          -72.1807,
          -72.1807,
          -72.1689,
          -72.1689,
          -72.1807
         ],
         "mode": "lines",
         "showlegend": false,
         "type": "scattermapbox"
        },
        {
         "fill": "toself",
         "fillcolor": "rgba(255,0,0,0.3)",
         "lat": [
          -37.778629,
          -37.760036,
          -37.760036,
          -37.778629,
          -37.778629
         ],
         "line": {
          "color": "white"
         },
         "lon": [
          -71.9697,
          -71.9697,
          -71.931503,
          -71.931503,
          -71.9697
         ],
         "mode": "lines",
         "showlegend": false,
         "type": "scattermapbox"
        },
        {
         "fill": "toself",
         "fillcolor": "rgba(255,0,0,0.3)",
         "lat": [
          -37.024227,
          -37.003815,
          -37.003815,
          -37.024227,
          -37.024227
         ],
         "line": {
          "color": "white"
         },
         "lon": [
          -72.008484,
          -72.008484,
          -71.966476,
          -71.966476,
          -72.008484
         ],
         "mode": "lines",
         "showlegend": false,
         "type": "scattermapbox"
        },
        {
         "fill": "toself",
         "fillcolor": "rgba(255,0,0,0.3)",
         "lat": [
          -36.9926,
          -36.970181,
          -36.970181,
          -36.9926,
          -36.9926
         ],
         "line": {
          "color": "white"
         },
         "lon": [
          -71.911163,
          -71.911163,
          -71.8984,
          -71.8984,
          -71.911163
         ],
         "mode": "lines",
         "showlegend": false,
         "type": "scattermapbox"
        },
        {
         "fill": "toself",
         "fillcolor": "rgba(255,0,0,0.3)",
         "lat": [
          -36.921707,
          -36.916264,
          -36.916264,
          -36.921707,
          -36.921707
         ],
         "line": {
          "color": "white"
         },
         "lon": [
          -72.0622,
          -72.0622,
          -72.057823,
          -72.057823,
          -72.0622
         ],
         "mode": "lines",
         "showlegend": false,
         "type": "scattermapbox"
        },
        {
         "fill": "toself",
         "fillcolor": "rgba(255,0,0,0.3)",
         "lat": [
          -36.652,
          -36.639656,
          -36.639656,
          -36.652,
          -36.652
         ],
         "line": {
          "color": "white"
         },
         "lon": [
          -71.8973,
          -71.8973,
          -71.884689,
          -71.884689,
          -71.8973
         ],
         "mode": "lines",
         "showlegend": false,
         "type": "scattermapbox"
        },
        {
         "fill": "toself",
         "fillcolor": "rgba(255,0,0,0.3)",
         "lat": [
          -40.5224,
          -40.518723,
          -40.518723,
          -40.5224,
          -40.5224
         ],
         "line": {
          "color": "white"
         },
         "lon": [
          -73.2273,
          -73.2273,
          -73.2161,
          -73.2161,
          -73.2273
         ],
         "mode": "lines",
         "showlegend": false,
         "type": "scattermapbox"
        },
        {
         "fill": "toself",
         "fillcolor": "rgba(255,0,0,0.3)",
         "lat": [
          -40.1987,
          -40.190853,
          -40.190853,
          -40.1987,
          -40.1987
         ],
         "line": {
          "color": "white"
         },
         "lon": [
          -72.775055,
          -72.775055,
          -72.765305,
          -72.765305,
          -72.775055
         ],
         "mode": "lines",
         "showlegend": false,
         "type": "scattermapbox"
        },
        {
         "fill": "toself",
         "fillcolor": "rgba(255,0,0,0.3)",
         "lat": [
          -35.094364,
          -35.082134,
          -35.082134,
          -35.094364,
          -35.094364
         ],
         "line": {
          "color": "white"
         },
         "lon": [
          -71.533,
          -71.533,
          -71.527245,
          -71.527245,
          -71.533
         ],
         "mode": "lines",
         "showlegend": false,
         "type": "scattermapbox"
        },
        {
         "fill": "toself",
         "fillcolor": "rgba(255,0,0,0.3)",
         "lat": [
          -36.758553,
          -36.7562,
          -36.7562,
          -36.758553,
          -36.758553
         ],
         "line": {
          "color": "white"
         },
         "lon": [
          -71.8633,
          -71.8633,
          -71.8567,
          -71.8567,
          -71.8633
         ],
         "mode": "lines",
         "showlegend": false,
         "type": "scattermapbox"
        },
        {
         "fill": "toself",
         "fillcolor": "rgba(255,0,0,0.3)",
         "lat": [
          -38.090488,
          -38.086964,
          -38.086964,
          -38.090488,
          -38.090488
         ],
         "line": {
          "color": "white"
         },
         "lon": [
          -72.48291,
          -72.48291,
          -72.4794,
          -72.4794,
          -72.48291
         ],
         "mode": "lines",
         "showlegend": false,
         "type": "scattermapbox"
        },
        {
         "fill": "toself",
         "fillcolor": "rgba(255,0,0,0.3)",
         "lat": [
          -37.791157,
          -37.7832,
          -37.7832,
          -37.791157,
          -37.791157
         ],
         "line": {
          "color": "white"
         },
         "lon": [
          -73.2923,
          -73.2923,
          -73.2863,
          -73.2863,
          -73.2923
         ],
         "mode": "lines",
         "showlegend": false,
         "type": "scattermapbox"
        },
        {
         "fill": "toself",
         "fillcolor": "rgba(255,0,0,0.3)",
         "lat": [
          -38.309464,
          -38.28912,
          -38.28912,
          -38.309464,
          -38.309464
         ],
         "line": {
          "color": "white"
         },
         "lon": [
          -72.645836,
          -72.645836,
          -72.622749,
          -72.622749,
          -72.645836
         ],
         "mode": "lines",
         "showlegend": false,
         "type": "scattermapbox"
        },
        {
         "fill": "toself",
         "fillcolor": "rgba(255,0,0,0.3)",
         "lat": [
          -38.0373,
          -38.0234,
          -38.0234,
          -38.0373,
          -38.0373
         ],
         "line": {
          "color": "white"
         },
         "lon": [
          -73.3078,
          -73.3078,
          -73.282982,
          -73.282982,
          -73.3078
         ],
         "mode": "lines",
         "showlegend": false,
         "type": "scattermapbox"
        },
        {
         "fill": "toself",
         "fillcolor": "rgba(255,0,0,0.3)",
         "lat": [
          -38.053455,
          -38.03442,
          -38.03442,
          -38.053455,
          -38.053455
         ],
         "line": {
          "color": "white"
         },
         "lon": [
          -72.0772,
          -72.0772,
          -72.072517,
          -72.072517,
          -72.0772
         ],
         "mode": "lines",
         "showlegend": false,
         "type": "scattermapbox"
        },
        {
         "fill": "toself",
         "fillcolor": "rgba(255,0,0,0.3)",
         "lat": [
          -38.861553,
          -38.8392,
          -38.8392,
          -38.861553,
          -38.861553
         ],
         "line": {
          "color": "white"
         },
         "lon": [
          -72.3666,
          -72.3666,
          -72.348297,
          -72.348297,
          -72.3666
         ],
         "mode": "lines",
         "showlegend": false,
         "type": "scattermapbox"
        },
        {
         "fill": "toself",
         "fillcolor": "rgba(255,0,0,0.3)",
         "lat": [
          -27.0157,
          -26.9995,
          -26.9995,
          -27.0157,
          -27.0157
         ],
         "line": {
          "color": "white"
         },
         "lon": [
          -69.8801,
          -69.8801,
          -69.8542,
          -69.8542,
          -69.8801
         ],
         "mode": "lines",
         "showlegend": false,
         "type": "scattermapbox"
        },
        {
         "fill": "toself",
         "fillcolor": "rgba(255,0,0,0.3)",
         "lat": [
          -37.8798,
          -37.873913,
          -37.873913,
          -37.8798,
          -37.8798
         ],
         "line": {
          "color": "white"
         },
         "lon": [
          -72.44281,
          -72.44281,
          -72.4369,
          -72.4369,
          -72.44281
         ],
         "mode": "lines",
         "showlegend": false,
         "type": "scattermapbox"
        },
        {
         "fill": "toself",
         "fillcolor": "rgba(255,0,0,0.3)",
         "lat": [
          -40.449726,
          -40.4357,
          -40.4357,
          -40.449726,
          -40.449726
         ],
         "line": {
          "color": "white"
         },
         "lon": [
          -73.2437,
          -73.2437,
          -73.212502,
          -73.212502,
          -73.2437
         ],
         "mode": "lines",
         "showlegend": false,
         "type": "scattermapbox"
        },
        {
         "fill": "toself",
         "fillcolor": "rgba(255,0,0,0.3)",
         "lat": [
          -37.99033,
          -37.965,
          -37.965,
          -37.99033,
          -37.99033
         ],
         "line": {
          "color": "white"
         },
         "lon": [
          -73.381348,
          -73.381348,
          -73.363335,
          -73.363335,
          -73.381348
         ],
         "mode": "lines",
         "showlegend": false,
         "type": "scattermapbox"
        },
        {
         "fill": "toself",
         "fillcolor": "rgba(255,0,0,0.3)",
         "lat": [
          -38.4059,
          -38.392483,
          -38.392483,
          -38.4059,
          -38.4059
         ],
         "line": {
          "color": "white"
         },
         "lon": [
          -72.174606,
          -72.174606,
          -72.159607,
          -72.159607,
          -72.174606
         ],
         "mode": "lines",
         "showlegend": false,
         "type": "scattermapbox"
        },
        {
         "fill": "toself",
         "fillcolor": "rgba(255,0,0,0.3)",
         "lat": [
          -37.997375,
          -37.982323,
          -37.982323,
          -37.997375,
          -37.997375
         ],
         "line": {
          "color": "white"
         },
         "lon": [
          -73.46698,
          -73.46698,
          -73.453384,
          -73.453384,
          -73.46698
         ],
         "mode": "lines",
         "showlegend": false,
         "type": "scattermapbox"
        },
        {
         "fill": "toself",
         "fillcolor": "rgba(255,0,0,0.3)",
         "lat": [
          -35.538059,
          -35.51825,
          -35.51825,
          -35.538059,
          -35.538059
         ],
         "line": {
          "color": "white"
         },
         "lon": [
          -72.271599,
          -72.271599,
          -72.260353,
          -72.260353,
          -72.271599
         ],
         "mode": "lines",
         "showlegend": false,
         "type": "scattermapbox"
        },
        {
         "fill": "toself",
         "fillcolor": "rgba(255,0,0,0.3)",
         "lat": [
          -38.2288,
          -38.2218,
          -38.2218,
          -38.2288,
          -38.2288
         ],
         "line": {
          "color": "white"
         },
         "lon": [
          -72.443596,
          -72.443596,
          -72.4203,
          -72.4203,
          -72.443596
         ],
         "mode": "lines",
         "showlegend": false,
         "type": "scattermapbox"
        },
        {
         "fill": "toself",
         "fillcolor": "rgba(255,0,0,0.3)",
         "lat": [
          -38.4879,
          -38.4767,
          -38.4767,
          -38.4879,
          -38.4879
         ],
         "line": {
          "color": "white"
         },
         "lon": [
          -71.968536,
          -71.968536,
          -71.9586,
          -71.9586,
          -71.968536
         ],
         "mode": "lines",
         "showlegend": false,
         "type": "scattermapbox"
        },
        {
         "fill": "toself",
         "fillcolor": "rgba(255,0,0,0.3)",
         "lat": [
          -38.3478,
          -38.3164,
          -38.3164,
          -38.3478,
          -38.3478
         ],
         "line": {
          "color": "white"
         },
         "lon": [
          -72.4734,
          -72.4734,
          -72.448,
          -72.448,
          -72.4734
         ],
         "mode": "lines",
         "showlegend": false,
         "type": "scattermapbox"
        },
        {
         "fill": "toself",
         "fillcolor": "rgba(255,0,0,0.3)",
         "lat": [
          -35.3159,
          -35.3117,
          -35.3117,
          -35.3159,
          -35.3159
         ],
         "line": {
          "color": "white"
         },
         "lon": [
          -72.3712,
          -72.3712,
          -72.3593,
          -72.3593,
          -72.3712
         ],
         "mode": "lines",
         "showlegend": false,
         "type": "scattermapbox"
        },
        {
         "fill": "toself",
         "fillcolor": "rgba(255,0,0,0.3)",
         "lat": [
          -38.416866,
          -38.406796,
          -38.406796,
          -38.416866,
          -38.416866
         ],
         "line": {
          "color": "white"
         },
         "lon": [
          -72.306961,
          -72.306961,
          -72.284798,
          -72.284798,
          -72.306961
         ],
         "mode": "lines",
         "showlegend": false,
         "type": "scattermapbox"
        },
        {
         "fill": "toself",
         "fillcolor": "rgba(255,0,0,0.3)",
         "lat": [
          -35.4742,
          -35.454247,
          -35.454247,
          -35.4742,
          -35.4742
         ],
         "line": {
          "color": "white"
         },
         "lon": [
          -72.351967,
          -72.351967,
          -72.3204,
          -72.3204,
          -72.351967
         ],
         "mode": "lines",
         "showlegend": false,
         "type": "scattermapbox"
        },
        {
         "fill": "toself",
         "fillcolor": "rgba(255,0,0,0.3)",
         "lat": [
          -38.3924,
          -38.362946,
          -38.362946,
          -38.3924,
          -38.3924
         ],
         "line": {
          "color": "white"
         },
         "lon": [
          -72.457916,
          -72.457916,
          -72.44767,
          -72.44767,
          -72.457916
         ],
         "mode": "lines",
         "showlegend": false,
         "type": "scattermapbox"
        },
        {
         "fill": "toself",
         "fillcolor": "rgba(255,0,0,0.3)",
         "lat": [
          -37.809315,
          -37.803,
          -37.803,
          -37.809315,
          -37.809315
         ],
         "line": {
          "color": "white"
         },
         "lon": [
          -72.059151,
          -72.059151,
          -72.056107,
          -72.056107,
          -72.059151
         ],
         "mode": "lines",
         "showlegend": false,
         "type": "scattermapbox"
        },
        {
         "fill": "toself",
         "fillcolor": "rgba(255,0,0,0.3)",
         "lat": [
          -38.3009,
          -38.295647,
          -38.295647,
          -38.3009,
          -38.3009
         ],
         "line": {
          "color": "white"
         },
         "lon": [
          -72.4998,
          -72.4998,
          -72.482887,
          -72.482887,
          -72.4998
         ],
         "mode": "lines",
         "showlegend": false,
         "type": "scattermapbox"
        },
        {
         "fill": "toself",
         "fillcolor": "rgba(255,0,0,0.3)",
         "lat": [
          -38.298973,
          -38.2395,
          -38.2395,
          -38.298973,
          -38.298973
         ],
         "line": {
          "color": "white"
         },
         "lon": [
          -72.435799,
          -72.435799,
          -72.403664,
          -72.403664,
          -72.435799
         ],
         "mode": "lines",
         "showlegend": false,
         "type": "scattermapbox"
        },
        {
         "fill": "toself",
         "fillcolor": "rgba(255,0,0,0.3)",
         "lat": [
          -38.386265,
          -38.361481,
          -38.361481,
          -38.386265,
          -38.386265
         ],
         "line": {
          "color": "white"
         },
         "lon": [
          -72.438263,
          -72.438263,
          -72.420265,
          -72.420265,
          -72.438263
         ],
         "mode": "lines",
         "showlegend": false,
         "type": "scattermapbox"
        },
        {
         "fill": "toself",
         "fillcolor": "rgba(255,0,0,0.3)",
         "lat": [
          -38.176716,
          -38.1531,
          -38.1531,
          -38.176716,
          -38.176716
         ],
         "line": {
          "color": "white"
         },
         "lon": [
          -72.3647,
          -72.3647,
          -72.319084,
          -72.319084,
          -72.3647
         ],
         "mode": "lines",
         "showlegend": false,
         "type": "scattermapbox"
        },
        {
         "fill": "toself",
         "fillcolor": "rgba(255,0,0,0.3)",
         "lat": [
          -29.1291,
          -29.102005,
          -29.102005,
          -29.1291,
          -29.1291
         ],
         "line": {
          "color": "white"
         },
         "lon": [
          -70.913696,
          -70.913696,
          -70.895287,
          -70.895287,
          -70.913696
         ],
         "mode": "lines",
         "showlegend": false,
         "type": "scattermapbox"
        },
        {
         "fill": "toself",
         "fillcolor": "rgba(255,0,0,0.3)",
         "lat": [
          -35.572731,
          -35.56599,
          -35.56599,
          -35.572731,
          -35.572731
         ],
         "line": {
          "color": "white"
         },
         "lon": [
          -72.383583,
          -72.383583,
          -72.373352,
          -72.373352,
          -72.383583
         ],
         "mode": "lines",
         "showlegend": false,
         "type": "scattermapbox"
        },
        {
         "fill": "toself",
         "fillcolor": "rgba(255,0,0,0.3)",
         "lat": [
          -35.6189,
          -35.6079,
          -35.6079,
          -35.6189,
          -35.6189
         ],
         "line": {
          "color": "white"
         },
         "lon": [
          -72.385315,
          -72.385315,
          -72.365845,
          -72.365845,
          -72.385315
         ],
         "mode": "lines",
         "showlegend": false,
         "type": "scattermapbox"
        },
        {
         "fill": "toself",
         "fillcolor": "rgba(255,0,0,0.3)",
         "lat": [
          -34.6653,
          -34.6479,
          -34.6479,
          -34.6653,
          -34.6653
         ],
         "line": {
          "color": "white"
         },
         "lon": [
          -71.8324,
          -71.8324,
          -71.8231,
          -71.8231,
          -71.8324
         ],
         "mode": "lines",
         "showlegend": false,
         "type": "scattermapbox"
        },
        {
         "fill": "toself",
         "fillcolor": "rgba(255,0,0,0.3)",
         "lat": [
          -38.1948,
          -38.1867,
          -38.1867,
          -38.1948,
          -38.1948
         ],
         "line": {
          "color": "white"
         },
         "lon": [
          -72.1667,
          -72.1667,
          -72.1558,
          -72.1558,
          -72.1667
         ],
         "mode": "lines",
         "showlegend": false,
         "type": "scattermapbox"
        },
        {
         "fill": "toself",
         "fillcolor": "rgba(255,0,0,0.3)",
         "lat": [
          -38.2125,
          -38.1965,
          -38.1965,
          -38.2125,
          -38.2125
         ],
         "line": {
          "color": "white"
         },
         "lon": [
          -72.4764,
          -72.4764,
          -72.4661,
          -72.4661,
          -72.4764
         ],
         "mode": "lines",
         "showlegend": false,
         "type": "scattermapbox"
        },
        {
         "fill": "toself",
         "fillcolor": "rgba(255,0,0,0.3)",
         "lat": [
          -37.1803,
          -37.167583,
          -37.167583,
          -37.1803,
          -37.1803
         ],
         "line": {
          "color": "white"
         },
         "lon": [
          -73.16613,
          -73.16613,
          -73.1564,
          -73.1564,
          -73.16613
         ],
         "mode": "lines",
         "showlegend": false,
         "type": "scattermapbox"
        },
        {
         "fill": "toself",
         "fillcolor": "rgba(255,0,0,0.3)",
         "lat": [
          -27.1278,
          -27.120234,
          -27.120234,
          -27.1278,
          -27.1278
         ],
         "line": {
          "color": "white"
         },
         "lon": [
          -70.172806,
          -70.172806,
          -70.1669,
          -70.1669,
          -70.172806
         ],
         "mode": "lines",
         "showlegend": false,
         "type": "scattermapbox"
        },
        {
         "fill": "toself",
         "fillcolor": "rgba(255,0,0,0.3)",
         "lat": [
          -38.3138,
          -38.29,
          -38.29,
          -38.3138,
          -38.3138
         ],
         "line": {
          "color": "white"
         },
         "lon": [
          -72.7667,
          -72.7667,
          -72.7406,
          -72.7406,
          -72.7667
         ],
         "mode": "lines",
         "showlegend": false,
         "type": "scattermapbox"
        },
        {
         "fill": "toself",
         "fillcolor": "rgba(255,0,0,0.3)",
         "lat": [
          -35.576199,
          -35.542175,
          -35.542175,
          -35.576199,
          -35.576199
         ],
         "line": {
          "color": "white"
         },
         "lon": [
          -72.1497,
          -72.1497,
          -72.13311,
          -72.13311,
          -72.1497
         ],
         "mode": "lines",
         "showlegend": false,
         "type": "scattermapbox"
        },
        {
         "fill": "toself",
         "fillcolor": "rgba(255,0,0,0.3)",
         "lat": [
          -38.4715,
          -38.4343,
          -38.4343,
          -38.4715,
          -38.4715
         ],
         "line": {
          "color": "white"
         },
         "lon": [
          -72.739639,
          -72.739639,
          -72.6886,
          -72.6886,
          -72.739639
         ],
         "mode": "lines",
         "showlegend": false,
         "type": "scattermapbox"
        },
        {
         "fill": "toself",
         "fillcolor": "rgba(255,0,0,0.3)",
         "lat": [
          -37.821033,
          -37.817459,
          -37.817459,
          -37.821033,
          -37.821033
         ],
         "line": {
          "color": "white"
         },
         "lon": [
          -72.088501,
          -72.088501,
          -72.086372,
          -72.086372,
          -72.088501
         ],
         "mode": "lines",
         "showlegend": false,
         "type": "scattermapbox"
        },
        {
         "fill": "toself",
         "fillcolor": "rgba(255,0,0,0.3)",
         "lat": [
          -36.0657,
          -36.053524,
          -36.053524,
          -36.0657,
          -36.0657
         ],
         "line": {
          "color": "white"
         },
         "lon": [
          -72.378937,
          -72.378937,
          -72.371185,
          -72.371185,
          -72.378937
         ],
         "mode": "lines",
         "showlegend": false,
         "type": "scattermapbox"
        },
        {
         "fill": "toself",
         "fillcolor": "rgba(255,0,0,0.3)",
         "lat": [
          -38.284946,
          -38.274,
          -38.274,
          -38.284946,
          -38.284946
         ],
         "line": {
          "color": "white"
         },
         "lon": [
          -72.740211,
          -72.740211,
          -72.732018,
          -72.732018,
          -72.740211
         ],
         "mode": "lines",
         "showlegend": false,
         "type": "scattermapbox"
        },
        {
         "fill": "toself",
         "fillcolor": "rgba(255,0,0,0.3)",
         "lat": [
          -38.301723,
          -38.289116,
          -38.289116,
          -38.301723,
          -38.301723
         ],
         "line": {
          "color": "white"
         },
         "lon": [
          -72.432907,
          -72.432907,
          -72.422585,
          -72.422585,
          -72.432907
         ],
         "mode": "lines",
         "showlegend": false,
         "type": "scattermapbox"
        },
        {
         "fill": "toself",
         "fillcolor": "rgba(255,0,0,0.3)",
         "lat": [
          -35.706814,
          -35.6987,
          -35.6987,
          -35.706814,
          -35.706814
         ],
         "line": {
          "color": "white"
         },
         "lon": [
          -72.3491,
          -72.3491,
          -72.331291,
          -72.331291,
          -72.3491
         ],
         "mode": "lines",
         "showlegend": false,
         "type": "scattermapbox"
        },
        {
         "fill": "toself",
         "fillcolor": "rgba(255,0,0,0.3)",
         "lat": [
          -36.6282,
          -36.622467,
          -36.622467,
          -36.6282,
          -36.6282
         ],
         "line": {
          "color": "white"
         },
         "lon": [
          -72.7551,
          -72.7551,
          -72.750992,
          -72.750992,
          -72.7551
         ],
         "mode": "lines",
         "showlegend": false,
         "type": "scattermapbox"
        },
        {
         "fill": "toself",
         "fillcolor": "rgba(255,0,0,0.3)",
         "lat": [
          -38.213257,
          -38.210102,
          -38.210102,
          -38.213257,
          -38.213257
         ],
         "line": {
          "color": "white"
         },
         "lon": [
          -72.430382,
          -72.430382,
          -72.419113,
          -72.419113,
          -72.430382
         ],
         "mode": "lines",
         "showlegend": false,
         "type": "scattermapbox"
        },
        {
         "fill": "toself",
         "fillcolor": "rgba(255,0,0,0.3)",
         "lat": [
          -38.119171,
          -38.110401,
          -38.110401,
          -38.119171,
          -38.119171
         ],
         "line": {
          "color": "white"
         },
         "lon": [
          -72.578995,
          -72.578995,
          -72.561523,
          -72.561523,
          -72.578995
         ],
         "mode": "lines",
         "showlegend": false,
         "type": "scattermapbox"
        },
        {
         "fill": "toself",
         "fillcolor": "rgba(255,0,0,0.3)",
         "lat": [
          -25.538115,
          -25.534363,
          -25.534363,
          -25.538115,
          -25.538115
         ],
         "line": {
          "color": "white"
         },
         "lon": [
          -70.177795,
          -70.177795,
          -70.173477,
          -70.173477,
          -70.177795
         ],
         "mode": "lines",
         "showlegend": false,
         "type": "scattermapbox"
        },
        {
         "fill": "toself",
         "fillcolor": "rgba(255,0,0,0.3)",
         "lat": [
          -38.2425,
          -38.22892,
          -38.22892,
          -38.2425,
          -38.2425
         ],
         "line": {
          "color": "white"
         },
         "lon": [
          -72.301414,
          -72.301414,
          -72.274254,
          -72.274254,
          -72.301414
         ],
         "mode": "lines",
         "showlegend": false,
         "type": "scattermapbox"
        },
        {
         "fill": "toself",
         "fillcolor": "rgba(255,0,0,0.3)",
         "lat": [
          -38.235,
          -38.222282,
          -38.222282,
          -38.235,
          -38.235
         ],
         "line": {
          "color": "white"
         },
         "lon": [
          -72.315323,
          -72.315323,
          -72.306656,
          -72.306656,
          -72.315323
         ],
         "mode": "lines",
         "showlegend": false,
         "type": "scattermapbox"
        },
        {
         "fill": "toself",
         "fillcolor": "rgba(255,0,0,0.3)",
         "lat": [
          -36.701,
          -36.680214,
          -36.680214,
          -36.701,
          -36.701
         ],
         "line": {
          "color": "white"
         },
         "lon": [
          -72.707642,
          -72.707642,
          -72.686798,
          -72.686798,
          -72.707642
         ],
         "mode": "lines",
         "showlegend": false,
         "type": "scattermapbox"
        },
        {
         "fill": "toself",
         "fillcolor": "rgba(255,0,0,0.3)",
         "lat": [
          -38.1423,
          -38.127785,
          -38.127785,
          -38.1423,
          -38.1423
         ],
         "line": {
          "color": "white"
         },
         "lon": [
          -72.425301,
          -72.425301,
          -72.4151,
          -72.4151,
          -72.425301
         ],
         "mode": "lines",
         "showlegend": false,
         "type": "scattermapbox"
        },
        {
         "fill": "toself",
         "fillcolor": "rgba(255,0,0,0.3)",
         "lat": [
          -37.750526,
          -37.731918,
          -37.731918,
          -37.750526,
          -37.750526
         ],
         "line": {
          "color": "white"
         },
         "lon": [
          -72.4654,
          -72.4654,
          -72.4369,
          -72.4369,
          -72.4654
         ],
         "mode": "lines",
         "showlegend": false,
         "type": "scattermapbox"
        },
        {
         "fill": "toself",
         "fillcolor": "rgba(255,0,0,0.3)",
         "lat": [
          -38.547169,
          -38.541016,
          -38.541016,
          -38.547169,
          -38.547169
         ],
         "line": {
          "color": "white"
         },
         "lon": [
          -72.733513,
          -72.733513,
          -72.725906,
          -72.725906,
          -72.733513
         ],
         "mode": "lines",
         "showlegend": false,
         "type": "scattermapbox"
        },
        {
         "fill": "toself",
         "fillcolor": "rgba(255,0,0,0.3)",
         "lat": [
          -38.6644,
          -38.649899,
          -38.649899,
          -38.6644,
          -38.6644
         ],
         "line": {
          "color": "white"
         },
         "lon": [
          -72.0891,
          -72.0891,
          -72.06617,
          -72.06617,
          -72.0891
         ],
         "mode": "lines",
         "showlegend": false,
         "type": "scattermapbox"
        },
        {
         "fill": "toself",
         "fillcolor": "rgba(255,0,0,0.3)",
         "lat": [
          -37.8747,
          -37.86805,
          -37.86805,
          -37.8747,
          -37.8747
         ],
         "line": {
          "color": "white"
         },
         "lon": [
          -72.748291,
          -72.748291,
          -72.728256,
          -72.728256,
          -72.748291
         ],
         "mode": "lines",
         "showlegend": false,
         "type": "scattermapbox"
        },
        {
         "fill": "toself",
         "fillcolor": "rgba(255,0,0,0.3)",
         "lat": [
          -38.3565,
          -38.3421,
          -38.3421,
          -38.3565,
          -38.3565
         ],
         "line": {
          "color": "white"
         },
         "lon": [
          -72.0729,
          -72.0729,
          -72.05574,
          -72.05574,
          -72.0729
         ],
         "mode": "lines",
         "showlegend": false,
         "type": "scattermapbox"
        },
        {
         "fill": "toself",
         "fillcolor": "rgba(255,0,0,0.3)",
         "lat": [
          -40.5268,
          -40.5144,
          -40.5144,
          -40.5268,
          -40.5268
         ],
         "line": {
          "color": "white"
         },
         "lon": [
          -73.123932,
          -73.123932,
          -73.1096,
          -73.1096,
          -73.123932
         ],
         "mode": "lines",
         "showlegend": false,
         "type": "scattermapbox"
        },
        {
         "fill": "toself",
         "fillcolor": "rgba(255,0,0,0.3)",
         "lat": [
          -36.888153,
          -36.864532,
          -36.864532,
          -36.888153,
          -36.888153
         ],
         "line": {
          "color": "white"
         },
         "lon": [
          -72.620979,
          -72.620979,
          -72.604,
          -72.604,
          -72.620979
         ],
         "mode": "lines",
         "showlegend": false,
         "type": "scattermapbox"
        },
        {
         "fill": "toself",
         "fillcolor": "rgba(255,0,0,0.3)",
         "lat": [
          -38.271301,
          -38.269333,
          -38.269333,
          -38.271301,
          -38.271301
         ],
         "line": {
          "color": "white"
         },
         "lon": [
          -73.38913,
          -73.38913,
          -73.384117,
          -73.384117,
          -73.38913
         ],
         "mode": "lines",
         "showlegend": false,
         "type": "scattermapbox"
        },
        {
         "fill": "toself",
         "fillcolor": "rgba(255,0,0,0.3)",
         "lat": [
          -34.680164,
          -34.6744,
          -34.6744,
          -34.680164,
          -34.680164
         ],
         "line": {
          "color": "white"
         },
         "lon": [
          -71.889534,
          -71.889534,
          -71.8803,
          -71.8803,
          -71.889534
         ],
         "mode": "lines",
         "showlegend": false,
         "type": "scattermapbox"
        },
        {
         "fill": "toself",
         "fillcolor": "rgba(255,0,0,0.3)",
         "lat": [
          -39.0651,
          -39.052,
          -39.052,
          -39.0651,
          -39.0651
         ],
         "line": {
          "color": "white"
         },
         "lon": [
          -72.3731,
          -72.3731,
          -72.3596,
          -72.3596,
          -72.3731
         ],
         "mode": "lines",
         "showlegend": false,
         "type": "scattermapbox"
        },
        {
         "fill": "toself",
         "fillcolor": "rgba(255,0,0,0.3)",
         "lat": [
          -38.2847,
          -38.258484,
          -38.258484,
          -38.2847,
          -38.2847
         ],
         "line": {
          "color": "white"
         },
         "lon": [
          -72.6595,
          -72.6595,
          -72.642746,
          -72.642746,
          -72.6595
         ],
         "mode": "lines",
         "showlegend": false,
         "type": "scattermapbox"
        },
        {
         "fill": "toself",
         "fillcolor": "rgba(255,0,0,0.3)",
         "lat": [
          -36.866264,
          -36.8599,
          -36.8599,
          -36.866264,
          -36.866264
         ],
         "line": {
          "color": "white"
         },
         "lon": [
          -72.6017,
          -72.6017,
          -72.591637,
          -72.591637,
          -72.6017
         ],
         "mode": "lines",
         "showlegend": false,
         "type": "scattermapbox"
        },
        {
         "fill": "toself",
         "fillcolor": "rgba(255,0,0,0.3)",
         "lat": [
          -38.4867,
          -38.458385,
          -38.458385,
          -38.4867,
          -38.4867
         ],
         "line": {
          "color": "white"
         },
         "lon": [
          -72.6817,
          -72.6817,
          -72.627037,
          -72.627037,
          -72.6817
         ],
         "mode": "lines",
         "showlegend": false,
         "type": "scattermapbox"
        },
        {
         "fill": "toself",
         "fillcolor": "rgba(255,0,0,0.3)",
         "lat": [
          -38.311363,
          -38.30434,
          -38.30434,
          -38.311363,
          -38.311363
         ],
         "line": {
          "color": "white"
         },
         "lon": [
          -72.201126,
          -72.201126,
          -72.16954,
          -72.16954,
          -72.201126
         ],
         "mode": "lines",
         "showlegend": false,
         "type": "scattermapbox"
        },
        {
         "fill": "toself",
         "fillcolor": "rgba(255,0,0,0.3)",
         "lat": [
          -22.320164,
          -22.319338,
          -22.319338,
          -22.320164,
          -22.320164
         ],
         "line": {
          "color": "white"
         },
         "lon": [
          -68.88562,
          -68.88562,
          -68.882774,
          -68.882774,
          -68.88562
         ],
         "mode": "lines",
         "showlegend": false,
         "type": "scattermapbox"
        },
        {
         "fill": "toself",
         "fillcolor": "rgba(255,0,0,0.3)",
         "lat": [
          -40.630531,
          -40.619743,
          -40.619743,
          -40.630531,
          -40.630531
         ],
         "line": {
          "color": "white"
         },
         "lon": [
          -73.209053,
          -73.209053,
          -73.20533,
          -73.20533,
          -73.209053
         ],
         "mode": "lines",
         "showlegend": false,
         "type": "scattermapbox"
        },
        {
         "fill": "toself",
         "fillcolor": "rgba(255,0,0,0.3)",
         "lat": [
          -38.4467,
          -38.433975,
          -38.433975,
          -38.4467,
          -38.4467
         ],
         "line": {
          "color": "white"
         },
         "lon": [
          -72.6601,
          -72.6601,
          -72.635422,
          -72.635422,
          -72.6601
         ],
         "mode": "lines",
         "showlegend": false,
         "type": "scattermapbox"
        },
        {
         "fill": "toself",
         "fillcolor": "rgba(255,0,0,0.3)",
         "lat": [
          -34.9025,
          -34.8875,
          -34.8875,
          -34.9025,
          -34.9025
         ],
         "line": {
          "color": "white"
         },
         "lon": [
          -72.0307,
          -72.0307,
          -72.018608,
          -72.018608,
          -72.0307
         ],
         "mode": "lines",
         "showlegend": false,
         "type": "scattermapbox"
        },
        {
         "fill": "toself",
         "fillcolor": "rgba(255,0,0,0.3)",
         "lat": [
          -37.26799,
          -37.260426,
          -37.260426,
          -37.26799,
          -37.26799
         ],
         "line": {
          "color": "white"
         },
         "lon": [
          -73.490967,
          -73.490967,
          -73.4891,
          -73.4891,
          -73.490967
         ],
         "mode": "lines",
         "showlegend": false,
         "type": "scattermapbox"
        },
        {
         "fill": "toself",
         "fillcolor": "rgba(255,0,0,0.3)",
         "lat": [
          -38.3982,
          -38.3779,
          -38.3779,
          -38.3982,
          -38.3982
         ],
         "line": {
          "color": "white"
         },
         "lon": [
          -72.594017,
          -72.594017,
          -72.585472,
          -72.585472,
          -72.594017
         ],
         "mode": "lines",
         "showlegend": false,
         "type": "scattermapbox"
        },
        {
         "fill": "toself",
         "fillcolor": "rgba(255,0,0,0.3)",
         "lat": [
          -38.042362,
          -38.028999,
          -38.028999,
          -38.042362,
          -38.042362
         ],
         "line": {
          "color": "white"
         },
         "lon": [
          -72.66114,
          -72.66114,
          -72.6515,
          -72.6515,
          -72.66114
         ],
         "mode": "lines",
         "showlegend": false,
         "type": "scattermapbox"
        },
        {
         "fill": "toself",
         "fillcolor": "rgba(255,0,0,0.3)",
         "lat": [
          -38.00209,
          -37.990517,
          -37.990517,
          -38.00209,
          -38.00209
         ],
         "line": {
          "color": "white"
         },
         "lon": [
          -72.344086,
          -72.344086,
          -72.337654,
          -72.337654,
          -72.344086
         ],
         "mode": "lines",
         "showlegend": false,
         "type": "scattermapbox"
        },
        {
         "fill": "toself",
         "fillcolor": "rgba(255,0,0,0.3)",
         "lat": [
          -34.414261,
          -34.407375,
          -34.407375,
          -34.414261,
          -34.414261
         ],
         "line": {
          "color": "white"
         },
         "lon": [
          -71.753159,
          -71.753159,
          -71.741196,
          -71.741196,
          -71.753159
         ],
         "mode": "lines",
         "showlegend": false,
         "type": "scattermapbox"
        },
        {
         "fill": "toself",
         "fillcolor": "rgba(255,0,0,0.3)",
         "lat": [
          -38.0038,
          -37.994366,
          -37.994366,
          -38.0038,
          -38.0038
         ],
         "line": {
          "color": "white"
         },
         "lon": [
          -72.390701,
          -72.390701,
          -72.3721,
          -72.3721,
          -72.390701
         ],
         "mode": "lines",
         "showlegend": false,
         "type": "scattermapbox"
        },
        {
         "fill": "toself",
         "fillcolor": "rgba(255,0,0,0.3)",
         "lat": [
          -37.0342,
          -37.01881,
          -37.01881,
          -37.0342,
          -37.0342
         ],
         "line": {
          "color": "white"
         },
         "lon": [
          -72.8904,
          -72.8904,
          -72.884308,
          -72.884308,
          -72.8904
         ],
         "mode": "lines",
         "showlegend": false,
         "type": "scattermapbox"
        },
        {
         "fill": "toself",
         "fillcolor": "rgba(255,0,0,0.3)",
         "lat": [
          -34.878326,
          -34.8666,
          -34.8666,
          -34.878326,
          -34.878326
         ],
         "line": {
          "color": "white"
         },
         "lon": [
          -72.038033,
          -72.038033,
          -72.024391,
          -72.024391,
          -72.038033
         ],
         "mode": "lines",
         "showlegend": false,
         "type": "scattermapbox"
        },
        {
         "fill": "toself",
         "fillcolor": "rgba(255,0,0,0.3)",
         "lat": [
          -38.1126,
          -38.099525,
          -38.099525,
          -38.1126,
          -38.1126
         ],
         "line": {
          "color": "white"
         },
         "lon": [
          -72.3842,
          -72.3842,
          -72.374573,
          -72.374573,
          -72.3842
         ],
         "mode": "lines",
         "showlegend": false,
         "type": "scattermapbox"
        },
        {
         "fill": "toself",
         "fillcolor": "rgba(255,0,0,0.3)",
         "lat": [
          -38.8362,
          -38.8181,
          -38.8181,
          -38.8362,
          -38.8362
         ],
         "line": {
          "color": "white"
         },
         "lon": [
          -72.442986,
          -72.442986,
          -72.4232,
          -72.4232,
          -72.442986
         ],
         "mode": "lines",
         "showlegend": false,
         "type": "scattermapbox"
        },
        {
         "fill": "toself",
         "fillcolor": "rgba(255,0,0,0.3)",
         "lat": [
          -37.9299,
          -37.9199,
          -37.9199,
          -37.9299,
          -37.9299
         ],
         "line": {
          "color": "white"
         },
         "lon": [
          -72.3071,
          -72.3071,
          -72.2966,
          -72.2966,
          -72.3071
         ],
         "mode": "lines",
         "showlegend": false,
         "type": "scattermapbox"
        },
        {
         "fill": "toself",
         "fillcolor": "rgba(255,0,0,0.3)",
         "lat": [
          -38.690907,
          -38.667683,
          -38.667683,
          -38.690907,
          -38.690907
         ],
         "line": {
          "color": "white"
         },
         "lon": [
          -73.082222,
          -73.082222,
          -73.067871,
          -73.067871,
          -73.082222
         ],
         "mode": "lines",
         "showlegend": false,
         "type": "scattermapbox"
        },
        {
         "fill": "toself",
         "fillcolor": "rgba(255,0,0,0.3)",
         "lat": [
          -38.684879,
          -38.6767,
          -38.6767,
          -38.684879,
          -38.684879
         ],
         "line": {
          "color": "white"
         },
         "lon": [
          -72.307907,
          -72.307907,
          -72.303413,
          -72.303413,
          -72.307907
         ],
         "mode": "lines",
         "showlegend": false,
         "type": "scattermapbox"
        },
        {
         "fill": "toself",
         "fillcolor": "rgba(255,0,0,0.3)",
         "lat": [
          -38.53474,
          -38.4885,
          -38.4885,
          -38.53474,
          -38.53474
         ],
         "line": {
          "color": "white"
         },
         "lon": [
          -72.5736,
          -72.5736,
          -72.5399,
          -72.5399,
          -72.5736
         ],
         "mode": "lines",
         "showlegend": false,
         "type": "scattermapbox"
        },
        {
         "fill": "toself",
         "fillcolor": "rgba(255,0,0,0.3)",
         "lat": [
          -38.947773,
          -38.9432,
          -38.9432,
          -38.947773,
          -38.947773
         ],
         "line": {
          "color": "white"
         },
         "lon": [
          -72.328583,
          -72.328583,
          -72.3206,
          -72.3206,
          -72.328583
         ],
         "mode": "lines",
         "showlegend": false,
         "type": "scattermapbox"
        },
        {
         "fill": "toself",
         "fillcolor": "rgba(255,0,0,0.3)",
         "lat": [
          -34.648,
          -34.6301,
          -34.6301,
          -34.648,
          -34.648
         ],
         "line": {
          "color": "white"
         },
         "lon": [
          -71.8519,
          -71.8519,
          -71.843735,
          -71.843735,
          -71.8519
         ],
         "mode": "lines",
         "showlegend": false,
         "type": "scattermapbox"
        },
        {
         "fill": "toself",
         "fillcolor": "rgba(255,0,0,0.3)",
         "lat": [
          -38.8462,
          -38.840282,
          -38.840282,
          -38.8462,
          -38.8462
         ],
         "line": {
          "color": "white"
         },
         "lon": [
          -72.4143,
          -72.4143,
          -72.409195,
          -72.409195,
          -72.4143
         ],
         "mode": "lines",
         "showlegend": false,
         "type": "scattermapbox"
        },
        {
         "fill": "toself",
         "fillcolor": "rgba(255,0,0,0.3)",
         "lat": [
          -35.910728,
          -35.89814,
          -35.89814,
          -35.910728,
          -35.910728
         ],
         "line": {
          "color": "white"
         },
         "lon": [
          -72.416092,
          -72.416092,
          -72.4123,
          -72.4123,
          -72.416092
         ],
         "mode": "lines",
         "showlegend": false,
         "type": "scattermapbox"
        },
        {
         "fill": "toself",
         "fillcolor": "rgba(255,0,0,0.3)",
         "lat": [
          -38.2969,
          -38.280567,
          -38.280567,
          -38.2969,
          -38.2969
         ],
         "line": {
          "color": "white"
         },
         "lon": [
          -72.47155,
          -72.47155,
          -72.437279,
          -72.437279,
          -72.47155
         ],
         "mode": "lines",
         "showlegend": false,
         "type": "scattermapbox"
        },
        {
         "fill": "toself",
         "fillcolor": "rgba(255,0,0,0.3)",
         "lat": [
          -35.886162,
          -35.875942,
          -35.875942,
          -35.886162,
          -35.886162
         ],
         "line": {
          "color": "white"
         },
         "lon": [
          -72.4312,
          -72.4312,
          -72.407028,
          -72.407028,
          -72.4312
         ],
         "mode": "lines",
         "showlegend": false,
         "type": "scattermapbox"
        },
        {
         "fill": "toself",
         "fillcolor": "rgba(255,0,0,0.3)",
         "lat": [
          -36.478535,
          -36.472198,
          -36.472198,
          -36.478535,
          -36.478535
         ],
         "line": {
          "color": "white"
         },
         "lon": [
          -71.624046,
          -71.624046,
          -71.6169,
          -71.6169,
          -71.624046
         ],
         "mode": "lines",
         "showlegend": false,
         "type": "scattermapbox"
        },
        {
         "fill": "toself",
         "fillcolor": "rgba(255,0,0,0.3)",
         "lat": [
          -34.957245,
          -34.94313,
          -34.94313,
          -34.957245,
          -34.957245
         ],
         "line": {
          "color": "white"
         },
         "lon": [
          -71.929527,
          -71.929527,
          -71.91053,
          -71.91053,
          -71.929527
         ],
         "mode": "lines",
         "showlegend": false,
         "type": "scattermapbox"
        },
        {
         "fill": "toself",
         "fillcolor": "rgba(255,0,0,0.3)",
         "lat": [
          -38.4444,
          -38.4372,
          -38.4372,
          -38.4444,
          -38.4444
         ],
         "line": {
          "color": "white"
         },
         "lon": [
          -72.7429,
          -72.7429,
          -72.7374,
          -72.7374,
          -72.7429
         ],
         "mode": "lines",
         "showlegend": false,
         "type": "scattermapbox"
        },
        {
         "fill": "toself",
         "fillcolor": "rgba(255,0,0,0.3)",
         "lat": [
          -38.5653,
          -38.5393,
          -38.5393,
          -38.5653,
          -38.5653
         ],
         "line": {
          "color": "white"
         },
         "lon": [
          -72.5337,
          -72.5337,
          -72.5126,
          -72.5126,
          -72.5337
         ],
         "mode": "lines",
         "showlegend": false,
         "type": "scattermapbox"
        },
        {
         "fill": "toself",
         "fillcolor": "rgba(255,0,0,0.3)",
         "lat": [
          -38.2704,
          -38.266518,
          -38.266518,
          -38.2704,
          -38.2704
         ],
         "line": {
          "color": "white"
         },
         "lon": [
          -72.588646,
          -72.588646,
          -72.5776,
          -72.5776,
          -72.588646
         ],
         "mode": "lines",
         "showlegend": false,
         "type": "scattermapbox"
        },
        {
         "fill": "toself",
         "fillcolor": "rgba(255,0,0,0.3)",
         "lat": [
          -39.1179,
          -39.112511,
          -39.112511,
          -39.1179,
          -39.1179
         ],
         "line": {
          "color": "white"
         },
         "lon": [
          -72.5447,
          -72.5447,
          -72.523323,
          -72.523323,
          -72.5447
         ],
         "mode": "lines",
         "showlegend": false,
         "type": "scattermapbox"
        },
        {
         "fill": "toself",
         "fillcolor": "rgba(255,0,0,0.3)",
         "lat": [
          -38.439953,
          -38.4345,
          -38.4345,
          -38.439953,
          -38.439953
         ],
         "line": {
          "color": "white"
         },
         "lon": [
          -72.459274,
          -72.459274,
          -72.4502,
          -72.4502,
          -72.459274
         ],
         "mode": "lines",
         "showlegend": false,
         "type": "scattermapbox"
        },
        {
         "fill": "toself",
         "fillcolor": "rgba(255,0,0,0.3)",
         "lat": [
          -38.2112,
          -38.2023,
          -38.2023,
          -38.2112,
          -38.2112
         ],
         "line": {
          "color": "white"
         },
         "lon": [
          -72.4517,
          -72.4517,
          -72.4497,
          -72.4497,
          -72.4517
         ],
         "mode": "lines",
         "showlegend": false,
         "type": "scattermapbox"
        },
        {
         "fill": "toself",
         "fillcolor": "rgba(255,0,0,0.3)",
         "lat": [
          -35.6137,
          -35.602642,
          -35.602642,
          -35.6137,
          -35.6137
         ],
         "line": {
          "color": "white"
         },
         "lon": [
          -72.4198,
          -72.4198,
          -72.40535,
          -72.40535,
          -72.4198
         ],
         "mode": "lines",
         "showlegend": false,
         "type": "scattermapbox"
        },
        {
         "fill": "toself",
         "fillcolor": "rgba(255,0,0,0.3)",
         "lat": [
          -38.3985,
          -38.394142,
          -38.394142,
          -38.3985,
          -38.3985
         ],
         "line": {
          "color": "white"
         },
         "lon": [
          -72.528275,
          -72.528275,
          -72.5211,
          -72.5211,
          -72.528275
         ],
         "mode": "lines",
         "showlegend": false,
         "type": "scattermapbox"
        },
        {
         "fill": "toself",
         "fillcolor": "rgba(255,0,0,0.3)",
         "lat": [
          -39.105465,
          -39.1038,
          -39.1038,
          -39.105465,
          -39.105465
         ],
         "line": {
          "color": "white"
         },
         "lon": [
          -72.344444,
          -72.344444,
          -72.336693,
          -72.336693,
          -72.344444
         ],
         "mode": "lines",
         "showlegend": false,
         "type": "scattermapbox"
        },
        {
         "fill": "toself",
         "fillcolor": "rgba(255,0,0,0.3)",
         "lat": [
          -38.5497,
          -38.499355,
          -38.499355,
          -38.5497,
          -38.5497
         ],
         "line": {
          "color": "white"
         },
         "lon": [
          -72.343,
          -72.343,
          -72.2635,
          -72.2635,
          -72.343
         ],
         "mode": "lines",
         "showlegend": false,
         "type": "scattermapbox"
        },
        {
         "fill": "toself",
         "fillcolor": "rgba(255,0,0,0.3)",
         "lat": [
          -38.9179,
          -38.9062,
          -38.9062,
          -38.9179,
          -38.9179
         ],
         "line": {
          "color": "white"
         },
         "lon": [
          -72.2389,
          -72.2389,
          -72.2229,
          -72.2229,
          -72.2389
         ],
         "mode": "lines",
         "showlegend": false,
         "type": "scattermapbox"
        },
        {
         "fill": "toself",
         "fillcolor": "rgba(255,0,0,0.3)",
         "lat": [
          -38.942665,
          -38.920818,
          -38.920818,
          -38.942665,
          -38.942665
         ],
         "line": {
          "color": "white"
         },
         "lon": [
          -72.3855,
          -72.3855,
          -72.348862,
          -72.348862,
          -72.3855
         ],
         "mode": "lines",
         "showlegend": false,
         "type": "scattermapbox"
        },
        {
         "fill": "toself",
         "fillcolor": "rgba(255,0,0,0.3)",
         "lat": [
          -38.37635,
          -38.362442,
          -38.362442,
          -38.37635,
          -38.37635
         ],
         "line": {
          "color": "white"
         },
         "lon": [
          -72.4115,
          -72.4115,
          -72.39035,
          -72.39035,
          -72.4115
         ],
         "mode": "lines",
         "showlegend": false,
         "type": "scattermapbox"
        },
        {
         "fill": "toself",
         "fillcolor": "rgba(255,0,0,0.3)",
         "lat": [
          -38.5161,
          -38.510624,
          -38.510624,
          -38.5161,
          -38.5161
         ],
         "line": {
          "color": "white"
         },
         "lon": [
          -72.20961,
          -72.20961,
          -72.1982,
          -72.1982,
          -72.20961
         ],
         "mode": "lines",
         "showlegend": false,
         "type": "scattermapbox"
        },
        {
         "fill": "toself",
         "fillcolor": "rgba(255,0,0,0.3)",
         "lat": [
          -38.459759,
          -38.448105,
          -38.448105,
          -38.459759,
          -38.459759
         ],
         "line": {
          "color": "white"
         },
         "lon": [
          -72.7815,
          -72.7815,
          -72.759598,
          -72.759598,
          -72.7815
         ],
         "mode": "lines",
         "showlegend": false,
         "type": "scattermapbox"
        },
        {
         "fill": "toself",
         "fillcolor": "rgba(255,0,0,0.3)",
         "lat": [
          -38.044659,
          -38.036991,
          -38.036991,
          -38.044659,
          -38.044659
         ],
         "line": {
          "color": "white"
         },
         "lon": [
          -72.3972,
          -72.3972,
          -72.3868,
          -72.3868,
          -72.3972
         ],
         "mode": "lines",
         "showlegend": false,
         "type": "scattermapbox"
        },
        {
         "fill": "toself",
         "fillcolor": "rgba(255,0,0,0.3)",
         "lat": [
          -36.650127,
          -36.639854,
          -36.639854,
          -36.650127,
          -36.650127
         ],
         "line": {
          "color": "white"
         },
         "lon": [
          -72.7346,
          -72.7346,
          -72.732605,
          -72.732605,
          -72.7346
         ],
         "mode": "lines",
         "showlegend": false,
         "type": "scattermapbox"
        },
        {
         "fill": "toself",
         "fillcolor": "rgba(255,0,0,0.3)",
         "lat": [
          -38.5654,
          -38.5582,
          -38.5582,
          -38.5654,
          -38.5654
         ],
         "line": {
          "color": "white"
         },
         "lon": [
          -72.5459,
          -72.5459,
          -72.54,
          -72.54,
          -72.5459
         ],
         "mode": "lines",
         "showlegend": false,
         "type": "scattermapbox"
        },
        {
         "fill": "toself",
         "fillcolor": "rgba(255,0,0,0.3)",
         "lat": [
          -38.215977,
          -38.201962,
          -38.201962,
          -38.215977,
          -38.215977
         ],
         "line": {
          "color": "white"
         },
         "lon": [
          -73.405,
          -73.405,
          -73.3859,
          -73.3859,
          -73.405
         ],
         "mode": "lines",
         "showlegend": false,
         "type": "scattermapbox"
        },
        {
         "fill": "toself",
         "fillcolor": "rgba(255,0,0,0.3)",
         "lat": [
          -38.476048,
          -38.4151,
          -38.4151,
          -38.476048,
          -38.476048
         ],
         "line": {
          "color": "white"
         },
         "lon": [
          -72.50029,
          -72.50029,
          -72.411354,
          -72.411354,
          -72.50029
         ],
         "mode": "lines",
         "showlegend": false,
         "type": "scattermapbox"
        },
        {
         "fill": "toself",
         "fillcolor": "rgba(255,0,0,0.3)",
         "lat": [
          -39.161385,
          -39.152401,
          -39.152401,
          -39.161385,
          -39.161385
         ],
         "line": {
          "color": "white"
         },
         "lon": [
          -72.4588,
          -72.4588,
          -72.442963,
          -72.442963,
          -72.4588
         ],
         "mode": "lines",
         "showlegend": false,
         "type": "scattermapbox"
        },
        {
         "fill": "toself",
         "fillcolor": "rgba(255,0,0,0.3)",
         "lat": [
          -39.16333,
          -39.155128,
          -39.155128,
          -39.16333,
          -39.16333
         ],
         "line": {
          "color": "white"
         },
         "lon": [
          -72.53334,
          -72.53334,
          -72.524696,
          -72.524696,
          -72.53334
         ],
         "mode": "lines",
         "showlegend": false,
         "type": "scattermapbox"
        },
        {
         "fill": "toself",
         "fillcolor": "rgba(255,0,0,0.3)",
         "lat": [
          -38.6364,
          -38.6316,
          -38.6316,
          -38.6364,
          -38.6364
         ],
         "line": {
          "color": "white"
         },
         "lon": [
          -72.3342,
          -72.3342,
          -72.3267,
          -72.3267,
          -72.3342
         ],
         "mode": "lines",
         "showlegend": false,
         "type": "scattermapbox"
        },
        {
         "fill": "toself",
         "fillcolor": "rgba(255,0,0,0.3)",
         "lat": [
          -34.970776,
          -34.964752,
          -34.964752,
          -34.970776,
          -34.970776
         ],
         "line": {
          "color": "white"
         },
         "lon": [
          -71.910866,
          -71.910866,
          -71.904182,
          -71.904182,
          -71.910866
         ],
         "mode": "lines",
         "showlegend": false,
         "type": "scattermapbox"
        },
        {
         "fill": "toself",
         "fillcolor": "rgba(255,0,0,0.3)",
         "lat": [
          -38.605,
          -38.586861,
          -38.586861,
          -38.605,
          -38.605
         ],
         "line": {
          "color": "white"
         },
         "lon": [
          -72.223976,
          -72.223976,
          -72.212318,
          -72.212318,
          -72.223976
         ],
         "mode": "lines",
         "showlegend": false,
         "type": "scattermapbox"
        },
        {
         "fill": "toself",
         "fillcolor": "rgba(255,0,0,0.3)",
         "lat": [
          -36.9138,
          -36.898926,
          -36.898926,
          -36.9138,
          -36.9138
         ],
         "line": {
          "color": "white"
         },
         "lon": [
          -72.5977,
          -72.5977,
          -72.589081,
          -72.589081,
          -72.5977
         ],
         "mode": "lines",
         "showlegend": false,
         "type": "scattermapbox"
        },
        {
         "fill": "toself",
         "fillcolor": "rgba(255,0,0,0.3)",
         "lat": [
          -38.4351,
          -38.4255,
          -38.4255,
          -38.4351,
          -38.4351
         ],
         "line": {
          "color": "white"
         },
         "lon": [
          -72.901024,
          -72.901024,
          -72.894112,
          -72.894112,
          -72.901024
         ],
         "mode": "lines",
         "showlegend": false,
         "type": "scattermapbox"
        },
        {
         "fill": "toself",
         "fillcolor": "rgba(255,0,0,0.3)",
         "lat": [
          -38.950565,
          -38.9319,
          -38.9319,
          -38.950565,
          -38.950565
         ],
         "line": {
          "color": "white"
         },
         "lon": [
          -72.308,
          -72.308,
          -72.275223,
          -72.275223,
          -72.308
         ],
         "mode": "lines",
         "showlegend": false,
         "type": "scattermapbox"
        },
        {
         "fill": "toself",
         "fillcolor": "rgba(255,0,0,0.3)",
         "lat": [
          -38.4759,
          -38.4491,
          -38.4491,
          -38.4759,
          -38.4759
         ],
         "line": {
          "color": "white"
         },
         "lon": [
          -72.092278,
          -72.092278,
          -72.069962,
          -72.069962,
          -72.092278
         ],
         "mode": "lines",
         "showlegend": false,
         "type": "scattermapbox"
        },
        {
         "fill": "toself",
         "fillcolor": "rgba(255,0,0,0.3)",
         "lat": [
          -38.2274,
          -38.207317,
          -38.207317,
          -38.2274,
          -38.2274
         ],
         "line": {
          "color": "white"
         },
         "lon": [
          -73.3419,
          -73.3419,
          -73.315331,
          -73.315331,
          -73.3419
         ],
         "mode": "lines",
         "showlegend": false,
         "type": "scattermapbox"
        },
        {
         "fill": "toself",
         "fillcolor": "rgba(255,0,0,0.3)",
         "lat": [
          -40.513596,
          -40.508614,
          -40.508614,
          -40.513596,
          -40.513596
         ],
         "line": {
          "color": "white"
         },
         "lon": [
          -73.09687,
          -73.09687,
          -73.090569,
          -73.090569,
          -73.09687
         ],
         "mode": "lines",
         "showlegend": false,
         "type": "scattermapbox"
        },
        {
         "fill": "toself",
         "fillcolor": "rgba(255,0,0,0.3)",
         "lat": [
          -33.522064,
          -33.5187,
          -33.5187,
          -33.522064,
          -33.522064
         ],
         "line": {
          "color": "white"
         },
         "lon": [
          -70.910187,
          -70.910187,
          -70.894,
          -70.894,
          -70.910187
         ],
         "mode": "lines",
         "showlegend": false,
         "type": "scattermapbox"
        },
        {
         "fill": "toself",
         "fillcolor": "rgba(255,0,0,0.3)",
         "lat": [
          -38.4428,
          -38.41684,
          -38.41684,
          -38.4428,
          -38.4428
         ],
         "line": {
          "color": "white"
         },
         "lon": [
          -72.081116,
          -72.081116,
          -72.050522,
          -72.050522,
          -72.081116
         ],
         "mode": "lines",
         "showlegend": false,
         "type": "scattermapbox"
        },
        {
         "fill": "toself",
         "fillcolor": "rgba(255,0,0,0.3)",
         "lat": [
          -36.14436,
          -36.129292,
          -36.129292,
          -36.14436,
          -36.14436
         ],
         "line": {
          "color": "white"
         },
         "lon": [
          -72.6315,
          -72.6315,
          -72.60376,
          -72.60376,
          -72.6315
         ],
         "mode": "lines",
         "showlegend": false,
         "type": "scattermapbox"
        },
        {
         "fill": "toself",
         "fillcolor": "rgba(255,0,0,0.3)",
         "lat": [
          -38.4439,
          -38.416275,
          -38.416275,
          -38.4439,
          -38.4439
         ],
         "line": {
          "color": "white"
         },
         "lon": [
          -72.678581,
          -72.678581,
          -72.6641,
          -72.6641,
          -72.678581
         ],
         "mode": "lines",
         "showlegend": false,
         "type": "scattermapbox"
        },
        {
         "fill": "toself",
         "fillcolor": "rgba(255,0,0,0.3)",
         "lat": [
          -35.5498,
          -35.5399,
          -35.5399,
          -35.5498,
          -35.5498
         ],
         "line": {
          "color": "white"
         },
         "lon": [
          -72.2993,
          -72.2993,
          -72.2967,
          -72.2967,
          -72.2993
         ],
         "mode": "lines",
         "showlegend": false,
         "type": "scattermapbox"
        },
        {
         "fill": "toself",
         "fillcolor": "rgba(255,0,0,0.3)",
         "lat": [
          -38.6244,
          -38.6129,
          -38.6129,
          -38.6244,
          -38.6244
         ],
         "line": {
          "color": "white"
         },
         "lon": [
          -72.255,
          -72.255,
          -72.24395,
          -72.24395,
          -72.255
         ],
         "mode": "lines",
         "showlegend": false,
         "type": "scattermapbox"
        },
        {
         "fill": "toself",
         "fillcolor": "rgba(255,0,0,0.3)",
         "lat": [
          -38.569527,
          -38.565369,
          -38.565369,
          -38.569527,
          -38.569527
         ],
         "line": {
          "color": "white"
         },
         "lon": [
          -72.2133,
          -72.2133,
          -72.198074,
          -72.198074,
          -72.2133
         ],
         "mode": "lines",
         "showlegend": false,
         "type": "scattermapbox"
        },
        {
         "fill": "toself",
         "fillcolor": "rgba(255,0,0,0.3)",
         "lat": [
          -36.937187,
          -36.9132,
          -36.9132,
          -36.937187,
          -36.937187
         ],
         "line": {
          "color": "white"
         },
         "lon": [
          -72.8417,
          -72.8417,
          -72.8093,
          -72.8093,
          -72.8417
         ],
         "mode": "lines",
         "showlegend": false,
         "type": "scattermapbox"
        },
        {
         "fill": "toself",
         "fillcolor": "rgba(255,0,0,0.3)",
         "lat": [
          -38.8245,
          -38.813938,
          -38.813938,
          -38.8245,
          -38.8245
         ],
         "line": {
          "color": "white"
         },
         "lon": [
          -72.354759,
          -72.354759,
          -72.3478,
          -72.3478,
          -72.354759
         ],
         "mode": "lines",
         "showlegend": false,
         "type": "scattermapbox"
        },
        {
         "fill": "toself",
         "fillcolor": "rgba(255,0,0,0.3)",
         "lat": [
          -38.6608,
          -38.650696,
          -38.650696,
          -38.6608,
          -38.6608
         ],
         "line": {
          "color": "white"
         },
         "lon": [
          -72.2997,
          -72.2997,
          -72.28466,
          -72.28466,
          -72.2997
         ],
         "mode": "lines",
         "showlegend": false,
         "type": "scattermapbox"
        },
        {
         "fill": "toself",
         "fillcolor": "rgba(255,0,0,0.3)",
         "lat": [
          -38.412502,
          -38.393154,
          -38.393154,
          -38.412502,
          -38.412502
         ],
         "line": {
          "color": "white"
         },
         "lon": [
          -72.1315,
          -72.1315,
          -72.1141,
          -72.1141,
          -72.1315
         ],
         "mode": "lines",
         "showlegend": false,
         "type": "scattermapbox"
        },
        {
         "fill": "toself",
         "fillcolor": "rgba(255,0,0,0.3)",
         "lat": [
          -38.422756,
          -38.417557,
          -38.417557,
          -38.422756,
          -38.422756
         ],
         "line": {
          "color": "white"
         },
         "lon": [
          -72.230156,
          -72.230156,
          -72.201,
          -72.201,
          -72.230156
         ],
         "mode": "lines",
         "showlegend": false,
         "type": "scattermapbox"
        },
        {
         "fill": "toself",
         "fillcolor": "rgba(255,0,0,0.3)",
         "lat": [
          -38.3884,
          -38.382332,
          -38.382332,
          -38.3884,
          -38.3884
         ],
         "line": {
          "color": "white"
         },
         "lon": [
          -72.0983,
          -72.0983,
          -72.0837,
          -72.0837,
          -72.0983
         ],
         "mode": "lines",
         "showlegend": false,
         "type": "scattermapbox"
        },
        {
         "fill": "toself",
         "fillcolor": "rgba(255,0,0,0.3)",
         "lat": [
          -38.271294,
          -38.2672,
          -38.2672,
          -38.271294,
          -38.271294
         ],
         "line": {
          "color": "white"
         },
         "lon": [
          -72.4472,
          -72.4472,
          -72.4376,
          -72.4376,
          -72.4472
         ],
         "mode": "lines",
         "showlegend": false,
         "type": "scattermapbox"
        },
        {
         "fill": "toself",
         "fillcolor": "rgba(255,0,0,0.3)",
         "lat": [
          -34.710686,
          -34.704746,
          -34.704746,
          -34.710686,
          -34.710686
         ],
         "line": {
          "color": "white"
         },
         "lon": [
          -71.278709,
          -71.278709,
          -71.271362,
          -71.271362,
          -71.278709
         ],
         "mode": "lines",
         "showlegend": false,
         "type": "scattermapbox"
        },
        {
         "fill": "toself",
         "fillcolor": "rgba(255,0,0,0.3)",
         "lat": [
          -38.7337,
          -38.720074,
          -38.720074,
          -38.7337,
          -38.7337
         ],
         "line": {
          "color": "white"
         },
         "lon": [
          -72.3294,
          -72.3294,
          -72.3036,
          -72.3036,
          -72.3294
         ],
         "mode": "lines",
         "showlegend": false,
         "type": "scattermapbox"
        },
        {
         "fill": "toself",
         "fillcolor": "rgba(255,0,0,0.3)",
         "lat": [
          -36.827927,
          -36.820812,
          -36.820812,
          -36.827927,
          -36.827927
         ],
         "line": {
          "color": "white"
         },
         "lon": [
          -72.693199,
          -72.693199,
          -72.682297,
          -72.682297,
          -72.693199
         ],
         "mode": "lines",
         "showlegend": false,
         "type": "scattermapbox"
        },
        {
         "fill": "toself",
         "fillcolor": "rgba(255,0,0,0.3)",
         "lat": [
          -37.7319,
          -37.7206,
          -37.7206,
          -37.7319,
          -37.7319
         ],
         "line": {
          "color": "white"
         },
         "lon": [
          -72.170555,
          -72.170555,
          -72.1594,
          -72.1594,
          -72.170555
         ],
         "mode": "lines",
         "showlegend": false,
         "type": "scattermapbox"
        },
        {
         "fill": "toself",
         "fillcolor": "rgba(255,0,0,0.3)",
         "lat": [
          -38.477322,
          -38.460999,
          -38.460999,
          -38.477322,
          -38.477322
         ],
         "line": {
          "color": "white"
         },
         "lon": [
          -72.5392,
          -72.5392,
          -72.509605,
          -72.509605,
          -72.5392
         ],
         "mode": "lines",
         "showlegend": false,
         "type": "scattermapbox"
        },
        {
         "fill": "toself",
         "fillcolor": "rgba(255,0,0,0.3)",
         "lat": [
          -38.38921,
          -38.3479,
          -38.3479,
          -38.38921,
          -38.38921
         ],
         "line": {
          "color": "white"
         },
         "lon": [
          -72.274,
          -72.274,
          -72.2551,
          -72.2551,
          -72.274
         ],
         "mode": "lines",
         "showlegend": false,
         "type": "scattermapbox"
        },
        {
         "fill": "toself",
         "fillcolor": "rgba(255,0,0,0.3)",
         "lat": [
          -38.358631,
          -38.347519,
          -38.347519,
          -38.358631,
          -38.358631
         ],
         "line": {
          "color": "white"
         },
         "lon": [
          -72.51046,
          -72.51046,
          -72.5,
          -72.5,
          -72.51046
         ],
         "mode": "lines",
         "showlegend": false,
         "type": "scattermapbox"
        },
        {
         "fill": "toself",
         "fillcolor": "rgba(255,0,0,0.3)",
         "lat": [
          -38.4391,
          -38.419861,
          -38.419861,
          -38.4391,
          -38.4391
         ],
         "line": {
          "color": "white"
         },
         "lon": [
          -72.5909,
          -72.5909,
          -72.565681,
          -72.565681,
          -72.5909
         ],
         "mode": "lines",
         "showlegend": false,
         "type": "scattermapbox"
        },
        {
         "fill": "toself",
         "fillcolor": "rgba(255,0,0,0.3)",
         "lat": [
          -38.194538,
          -38.180855,
          -38.180855,
          -38.194538,
          -38.194538
         ],
         "line": {
          "color": "white"
         },
         "lon": [
          -72.6715,
          -72.6715,
          -72.658989,
          -72.658989,
          -72.6715
         ],
         "mode": "lines",
         "showlegend": false,
         "type": "scattermapbox"
        },
        {
         "fill": "toself",
         "fillcolor": "rgba(255,0,0,0.3)",
         "lat": [
          -38.3685,
          -38.3609,
          -38.3609,
          -38.3685,
          -38.3685
         ],
         "line": {
          "color": "white"
         },
         "lon": [
          -72.858299,
          -72.858299,
          -72.8512,
          -72.8512,
          -72.858299
         ],
         "mode": "lines",
         "showlegend": false,
         "type": "scattermapbox"
        },
        {
         "fill": "toself",
         "fillcolor": "rgba(255,0,0,0.3)",
         "lat": [
          -33.13081,
          -33.1208,
          -33.1208,
          -33.13081,
          -33.13081
         ],
         "line": {
          "color": "white"
         },
         "lon": [
          -71.470085,
          -71.470085,
          -71.4604,
          -71.4604,
          -71.470085
         ],
         "mode": "lines",
         "showlegend": false,
         "type": "scattermapbox"
        },
        {
         "fill": "toself",
         "fillcolor": "rgba(255,0,0,0.3)",
         "lat": [
          -36.7035,
          -36.702168,
          -36.702168,
          -36.7035,
          -36.7035
         ],
         "line": {
          "color": "white"
         },
         "lon": [
          -72.767487,
          -72.767487,
          -72.760353,
          -72.760353,
          -72.767487
         ],
         "mode": "lines",
         "showlegend": false,
         "type": "scattermapbox"
        },
        {
         "fill": "toself",
         "fillcolor": "rgba(255,0,0,0.3)",
         "lat": [
          -33.461441,
          -33.4477,
          -33.4477,
          -33.461441,
          -33.461441
         ],
         "line": {
          "color": "white"
         },
         "lon": [
          -70.8167,
          -70.8167,
          -70.807556,
          -70.807556,
          -70.8167
         ],
         "mode": "lines",
         "showlegend": false,
         "type": "scattermapbox"
        },
        {
         "fill": "toself",
         "fillcolor": "rgba(255,0,0,0.3)",
         "lat": [
          -38.519,
          -38.508331,
          -38.508331,
          -38.519,
          -38.519
         ],
         "line": {
          "color": "white"
         },
         "lon": [
          -72.942184,
          -72.942184,
          -72.923813,
          -72.923813,
          -72.942184
         ],
         "mode": "lines",
         "showlegend": false,
         "type": "scattermapbox"
        },
        {
         "fill": "toself",
         "fillcolor": "rgba(255,0,0,0.3)",
         "lat": [
          -39.1193,
          -39.111641,
          -39.111641,
          -39.1193,
          -39.1193
         ],
         "line": {
          "color": "white"
         },
         "lon": [
          -72.393517,
          -72.393517,
          -72.385849,
          -72.385849,
          -72.393517
         ],
         "mode": "lines",
         "showlegend": false,
         "type": "scattermapbox"
        },
        {
         "fill": "toself",
         "fillcolor": "rgba(255,0,0,0.3)",
         "lat": [
          -38.404316,
          -38.3986,
          -38.3986,
          -38.404316,
          -38.404316
         ],
         "line": {
          "color": "white"
         },
         "lon": [
          -72.5629,
          -72.5629,
          -72.546761,
          -72.546761,
          -72.5629
         ],
         "mode": "lines",
         "showlegend": false,
         "type": "scattermapbox"
        },
        {
         "fill": "toself",
         "fillcolor": "rgba(255,0,0,0.3)",
         "lat": [
          -40.401894,
          -40.394768,
          -40.394768,
          -40.401894,
          -40.401894
         ],
         "line": {
          "color": "white"
         },
         "lon": [
          -73.047,
          -73.047,
          -73.044159,
          -73.044159,
          -73.047
         ],
         "mode": "lines",
         "showlegend": false,
         "type": "scattermapbox"
        },
        {
         "fill": "toself",
         "fillcolor": "rgba(255,0,0,0.3)",
         "lat": [
          -38.197887,
          -38.1908,
          -38.1908,
          -38.197887,
          -38.197887
         ],
         "line": {
          "color": "white"
         },
         "lon": [
          -72.93251,
          -72.93251,
          -72.911713,
          -72.911713,
          -72.93251
         ],
         "mode": "lines",
         "showlegend": false,
         "type": "scattermapbox"
        },
        {
         "fill": "toself",
         "fillcolor": "rgba(255,0,0,0.3)",
         "lat": [
          -38.232925,
          -38.2167,
          -38.2167,
          -38.232925,
          -38.232925
         ],
         "line": {
          "color": "white"
         },
         "lon": [
          -73.305252,
          -73.305252,
          -73.2872,
          -73.2872,
          -73.305252
         ],
         "mode": "lines",
         "showlegend": false,
         "type": "scattermapbox"
        },
        {
         "fill": "toself",
         "fillcolor": "rgba(255,0,0,0.3)",
         "lat": [
          -38.517742,
          -38.512783,
          -38.512783,
          -38.517742,
          -38.517742
         ],
         "line": {
          "color": "white"
         },
         "lon": [
          -72.448326,
          -72.448326,
          -72.437546,
          -72.437546,
          -72.448326
         ],
         "mode": "lines",
         "showlegend": false,
         "type": "scattermapbox"
        },
        {
         "fill": "toself",
         "fillcolor": "rgba(255,0,0,0.3)",
         "lat": [
          -36.1995,
          -36.191,
          -36.191,
          -36.1995,
          -36.1995
         ],
         "line": {
          "color": "white"
         },
         "lon": [
          -72.6174,
          -72.6174,
          -72.6083,
          -72.6083,
          -72.6174
         ],
         "mode": "lines",
         "showlegend": false,
         "type": "scattermapbox"
        },
        {
         "fill": "toself",
         "fillcolor": "rgba(255,0,0,0.3)",
         "lat": [
          -38.362507,
          -38.334167,
          -38.334167,
          -38.362507,
          -38.362507
         ],
         "line": {
          "color": "white"
         },
         "lon": [
          -72.7672,
          -72.7672,
          -72.7436,
          -72.7436,
          -72.7672
         ],
         "mode": "lines",
         "showlegend": false,
         "type": "scattermapbox"
        },
        {
         "fill": "toself",
         "fillcolor": "rgba(255,0,0,0.3)",
         "lat": [
          -38.1149,
          -38.102772,
          -38.102772,
          -38.1149,
          -38.1149
         ],
         "line": {
          "color": "white"
         },
         "lon": [
          -72.2437,
          -72.2437,
          -72.2367,
          -72.2367,
          -72.2437
         ],
         "mode": "lines",
         "showlegend": false,
         "type": "scattermapbox"
        },
        {
         "fill": "toself",
         "fillcolor": "rgba(255,0,0,0.3)",
         "lat": [
          -38.526779,
          -38.525024,
          -38.525024,
          -38.526779,
          -38.526779
         ],
         "line": {
          "color": "white"
         },
         "lon": [
          -72.398,
          -72.398,
          -72.390182,
          -72.390182,
          -72.398
         ],
         "mode": "lines",
         "showlegend": false,
         "type": "scattermapbox"
        },
        {
         "fill": "toself",
         "fillcolor": "rgba(255,0,0,0.3)",
         "lat": [
          -38.55101,
          -38.518688,
          -38.518688,
          -38.55101,
          -38.55101
         ],
         "line": {
          "color": "white"
         },
         "lon": [
          -72.504822,
          -72.504822,
          -72.462,
          -72.462,
          -72.504822
         ],
         "mode": "lines",
         "showlegend": false,
         "type": "scattermapbox"
        },
        {
         "fill": "toself",
         "fillcolor": "rgba(255,0,0,0.3)",
         "lat": [
          -39.092941,
          -39.087,
          -39.087,
          -39.092941,
          -39.092941
         ],
         "line": {
          "color": "white"
         },
         "lon": [
          -72.368599,
          -72.368599,
          -72.342072,
          -72.342072,
          -72.368599
         ],
         "mode": "lines",
         "showlegend": false,
         "type": "scattermapbox"
        },
        {
         "fill": "toself",
         "fillcolor": "rgba(255,0,0,0.3)",
         "lat": [
          -38.406,
          -38.394535,
          -38.394535,
          -38.406,
          -38.406
         ],
         "line": {
          "color": "white"
         },
         "lon": [
          -72.3992,
          -72.3992,
          -72.3922,
          -72.3922,
          -72.3992
         ],
         "mode": "lines",
         "showlegend": false,
         "type": "scattermapbox"
        },
        {
         "fill": "toself",
         "fillcolor": "rgba(255,0,0,0.3)",
         "lat": [
          -38.106869,
          -38.0978,
          -38.0978,
          -38.106869,
          -38.106869
         ],
         "line": {
          "color": "white"
         },
         "lon": [
          -72.3048,
          -72.3048,
          -72.285217,
          -72.285217,
          -72.3048
         ],
         "mode": "lines",
         "showlegend": false,
         "type": "scattermapbox"
        },
        {
         "fill": "toself",
         "fillcolor": "rgba(255,0,0,0.3)",
         "lat": [
          -37.972954,
          -37.961239,
          -37.961239,
          -37.972954,
          -37.972954
         ],
         "line": {
          "color": "white"
         },
         "lon": [
          -72.464935,
          -72.464935,
          -72.4539,
          -72.4539,
          -72.464935
         ],
         "mode": "lines",
         "showlegend": false,
         "type": "scattermapbox"
        },
        {
         "fill": "toself",
         "fillcolor": "rgba(255,0,0,0.3)",
         "lat": [
          -38.263687,
          -38.261036,
          -38.261036,
          -38.263687,
          -38.263687
         ],
         "line": {
          "color": "white"
         },
         "lon": [
          -72.537056,
          -72.537056,
          -72.519653,
          -72.519653,
          -72.537056
         ],
         "mode": "lines",
         "showlegend": false,
         "type": "scattermapbox"
        },
        {
         "fill": "toself",
         "fillcolor": "rgba(255,0,0,0.3)",
         "lat": [
          -38.4207,
          -38.411217,
          -38.411217,
          -38.4207,
          -38.4207
         ],
         "line": {
          "color": "white"
         },
         "lon": [
          -72.654556,
          -72.654556,
          -72.637894,
          -72.637894,
          -72.654556
         ],
         "mode": "lines",
         "showlegend": false,
         "type": "scattermapbox"
        },
        {
         "fill": "toself",
         "fillcolor": "rgba(255,0,0,0.3)",
         "lat": [
          -35.597549,
          -35.576992,
          -35.576992,
          -35.597549,
          -35.597549
         ],
         "line": {
          "color": "white"
         },
         "lon": [
          -72.328239,
          -72.328239,
          -72.3013,
          -72.3013,
          -72.328239
         ],
         "mode": "lines",
         "showlegend": false,
         "type": "scattermapbox"
        },
        {
         "fill": "toself",
         "fillcolor": "rgba(255,0,0,0.3)",
         "lat": [
          -35.5803,
          -35.567898,
          -35.567898,
          -35.5803,
          -35.5803
         ],
         "line": {
          "color": "white"
         },
         "lon": [
          -72.4625,
          -72.4625,
          -72.454369,
          -72.454369,
          -72.4625
         ],
         "mode": "lines",
         "showlegend": false,
         "type": "scattermapbox"
        },
        {
         "fill": "toself",
         "fillcolor": "rgba(255,0,0,0.3)",
         "lat": [
          -35.8416,
          -35.83078,
          -35.83078,
          -35.8416,
          -35.8416
         ],
         "line": {
          "color": "white"
         },
         "lon": [
          -71.834702,
          -71.834702,
          -71.825363,
          -71.825363,
          -71.834702
         ],
         "mode": "lines",
         "showlegend": false,
         "type": "scattermapbox"
        },
        {
         "fill": "toself",
         "fillcolor": "rgba(255,0,0,0.3)",
         "lat": [
          -35.3221,
          -35.30761,
          -35.30761,
          -35.3221,
          -35.3221
         ],
         "line": {
          "color": "white"
         },
         "lon": [
          -70.768394,
          -70.768394,
          -70.745491,
          -70.745491,
          -70.768394
         ],
         "mode": "lines",
         "showlegend": false,
         "type": "scattermapbox"
        },
        {
         "fill": "toself",
         "fillcolor": "rgba(255,0,0,0.3)",
         "lat": [
          -37.915577,
          -37.9091,
          -37.9091,
          -37.915577,
          -37.915577
         ],
         "line": {
          "color": "white"
         },
         "lon": [
          -72.649414,
          -72.649414,
          -72.643372,
          -72.643372,
          -72.649414
         ],
         "mode": "lines",
         "showlegend": false,
         "type": "scattermapbox"
        },
        {
         "fill": "toself",
         "fillcolor": "rgba(255,0,0,0.3)",
         "lat": [
          -38.9068,
          -38.9005,
          -38.9005,
          -38.9068,
          -38.9068
         ],
         "line": {
          "color": "white"
         },
         "lon": [
          -72.852577,
          -72.852577,
          -72.845863,
          -72.845863,
          -72.852577
         ],
         "mode": "lines",
         "showlegend": false,
         "type": "scattermapbox"
        },
        {
         "fill": "toself",
         "fillcolor": "rgba(255,0,0,0.3)",
         "lat": [
          -38.72382,
          -38.714939,
          -38.714939,
          -38.72382,
          -38.72382
         ],
         "line": {
          "color": "white"
         },
         "lon": [
          -72.391724,
          -72.391724,
          -72.378822,
          -72.378822,
          -72.391724
         ],
         "mode": "lines",
         "showlegend": false,
         "type": "scattermapbox"
        },
        {
         "fill": "toself",
         "fillcolor": "rgba(255,0,0,0.3)",
         "lat": [
          -38.471622,
          -38.467724,
          -38.467724,
          -38.471622,
          -38.471622
         ],
         "line": {
          "color": "white"
         },
         "lon": [
          -71.8197,
          -71.8197,
          -71.803146,
          -71.803146,
          -71.8197
         ],
         "mode": "lines",
         "showlegend": false,
         "type": "scattermapbox"
        },
        {
         "fill": "toself",
         "fillcolor": "rgba(255,0,0,0.3)",
         "lat": [
          -38.5074,
          -38.5,
          -38.5,
          -38.5074,
          -38.5074
         ],
         "line": {
          "color": "white"
         },
         "lon": [
          -72.0939,
          -72.0939,
          -72.069199,
          -72.069199,
          -72.0939
         ],
         "mode": "lines",
         "showlegend": false,
         "type": "scattermapbox"
        },
        {
         "fill": "toself",
         "fillcolor": "rgba(255,0,0,0.3)",
         "lat": [
          -38.1951,
          -38.1837,
          -38.1837,
          -38.1951,
          -38.1951
         ],
         "line": {
          "color": "white"
         },
         "lon": [
          -72.35,
          -72.35,
          -72.3476,
          -72.3476,
          -72.35
         ],
         "mode": "lines",
         "showlegend": false,
         "type": "scattermapbox"
        },
        {
         "fill": "toself",
         "fillcolor": "rgba(255,0,0,0.3)",
         "lat": [
          -38.3772,
          -38.373,
          -38.373,
          -38.3772,
          -38.3772
         ],
         "line": {
          "color": "white"
         },
         "lon": [
          -72.3207,
          -72.3207,
          -72.311455,
          -72.311455,
          -72.3207
         ],
         "mode": "lines",
         "showlegend": false,
         "type": "scattermapbox"
        },
        {
         "fill": "toself",
         "fillcolor": "rgba(255,0,0,0.3)",
         "lat": [
          -38.356251,
          -38.330963,
          -38.330963,
          -38.356251,
          -38.356251
         ],
         "line": {
          "color": "white"
         },
         "lon": [
          -72.803207,
          -72.803207,
          -72.7797,
          -72.7797,
          -72.803207
         ],
         "mode": "lines",
         "showlegend": false,
         "type": "scattermapbox"
        },
        {
         "fill": "toself",
         "fillcolor": "rgba(255,0,0,0.3)",
         "lat": [
          -33.100445,
          -33.0814,
          -33.0814,
          -33.100445,
          -33.100445
         ],
         "line": {
          "color": "white"
         },
         "lon": [
          -71.558311,
          -71.558311,
          -71.534111,
          -71.534111,
          -71.558311
         ],
         "mode": "lines",
         "showlegend": false,
         "type": "scattermapbox"
        },
        {
         "fill": "toself",
         "fillcolor": "rgba(255,0,0,0.3)",
         "lat": [
          -38.7147,
          -38.7101,
          -38.7101,
          -38.7147,
          -38.7147
         ],
         "line": {
          "color": "white"
         },
         "lon": [
          -72.188889,
          -72.188889,
          -72.186,
          -72.186,
          -72.188889
         ],
         "mode": "lines",
         "showlegend": false,
         "type": "scattermapbox"
        },
        {
         "fill": "toself",
         "fillcolor": "rgba(255,0,0,0.3)",
         "lat": [
          -38.7868,
          -38.775936,
          -38.775936,
          -38.7868,
          -38.7868
         ],
         "line": {
          "color": "white"
         },
         "lon": [
          -72.322403,
          -72.322403,
          -72.313278,
          -72.313278,
          -72.322403
         ],
         "mode": "lines",
         "showlegend": false,
         "type": "scattermapbox"
        },
        {
         "fill": "toself",
         "fillcolor": "rgba(255,0,0,0.3)",
         "lat": [
          -35.405357,
          -35.403706,
          -35.403706,
          -35.405357,
          -35.405357
         ],
         "line": {
          "color": "white"
         },
         "lon": [
          -72.167763,
          -72.167763,
          -72.16597,
          -72.16597,
          -72.167763
         ],
         "mode": "lines",
         "showlegend": false,
         "type": "scattermapbox"
        },
        {
         "fill": "toself",
         "fillcolor": "rgba(255,0,0,0.3)",
         "lat": [
          -38.143,
          -38.1226,
          -38.1226,
          -38.143,
          -38.143
         ],
         "line": {
          "color": "white"
         },
         "lon": [
          -73.023735,
          -73.023735,
          -73.0008,
          -73.0008,
          -73.023735
         ],
         "mode": "lines",
         "showlegend": false,
         "type": "scattermapbox"
        },
        {
         "fill": "toself",
         "fillcolor": "rgba(255,0,0,0.3)",
         "lat": [
          -38.4331,
          -38.4314,
          -38.4314,
          -38.4331,
          -38.4331
         ],
         "line": {
          "color": "white"
         },
         "lon": [
          -72.149704,
          -72.149704,
          -72.1357,
          -72.1357,
          -72.149704
         ],
         "mode": "lines",
         "showlegend": false,
         "type": "scattermapbox"
        },
        {
         "fill": "toself",
         "fillcolor": "rgba(255,0,0,0.3)",
         "lat": [
          -37.7596,
          -37.725327,
          -37.725327,
          -37.7596,
          -37.7596
         ],
         "line": {
          "color": "white"
         },
         "lon": [
          -72.209473,
          -72.209473,
          -72.200974,
          -72.200974,
          -72.209473
         ],
         "mode": "lines",
         "showlegend": false,
         "type": "scattermapbox"
        },
        {
         "fill": "toself",
         "fillcolor": "rgba(255,0,0,0.3)",
         "lat": [
          -38.5314,
          -38.5217,
          -38.5217,
          -38.5314,
          -38.5314
         ],
         "line": {
          "color": "white"
         },
         "lon": [
          -72.834389,
          -72.834389,
          -72.828308,
          -72.828308,
          -72.834389
         ],
         "mode": "lines",
         "showlegend": false,
         "type": "scattermapbox"
        },
        {
         "fill": "toself",
         "fillcolor": "rgba(255,0,0,0.3)",
         "lat": [
          -38.811008,
          -38.795719,
          -38.795719,
          -38.811008,
          -38.811008
         ],
         "line": {
          "color": "white"
         },
         "lon": [
          -73.0399,
          -73.0399,
          -73.019608,
          -73.019608,
          -73.0399
         ],
         "mode": "lines",
         "showlegend": false,
         "type": "scattermapbox"
        },
        {
         "fill": "toself",
         "fillcolor": "rgba(255,0,0,0.3)",
         "lat": [
          -37.0989,
          -37.062141,
          -37.062141,
          -37.0989,
          -37.0989
         ],
         "line": {
          "color": "white"
         },
         "lon": [
          -71.9574,
          -71.9574,
          -71.8669,
          -71.8669,
          -71.9574
         ],
         "mode": "lines",
         "showlegend": false,
         "type": "scattermapbox"
        },
        {
         "fill": "toself",
         "fillcolor": "rgba(255,0,0,0.3)",
         "lat": [
          -36.9617,
          -36.955246,
          -36.955246,
          -36.9617,
          -36.9617
         ],
         "line": {
          "color": "white"
         },
         "lon": [
          -71.9465,
          -71.9465,
          -71.9347,
          -71.9347,
          -71.9465
         ],
         "mode": "lines",
         "showlegend": false,
         "type": "scattermapbox"
        },
        {
         "fill": "toself",
         "fillcolor": "rgba(255,0,0,0.3)",
         "lat": [
          -38.0158,
          -38.0116,
          -38.0116,
          -38.0158,
          -38.0158
         ],
         "line": {
          "color": "white"
         },
         "lon": [
          -72.3227,
          -72.3227,
          -72.3068,
          -72.3068,
          -72.3227
         ],
         "mode": "lines",
         "showlegend": false,
         "type": "scattermapbox"
        },
        {
         "fill": "toself",
         "fillcolor": "rgba(255,0,0,0.3)",
         "lat": [
          -35.2358,
          -35.229053,
          -35.229053,
          -35.2358,
          -35.2358
         ],
         "line": {
          "color": "white"
         },
         "lon": [
          -71.3883,
          -71.3883,
          -71.3839,
          -71.3839,
          -71.3883
         ],
         "mode": "lines",
         "showlegend": false,
         "type": "scattermapbox"
        },
        {
         "fill": "toself",
         "fillcolor": "rgba(255,0,0,0.3)",
         "lat": [
          -37.1583,
          -37.1231,
          -37.1231,
          -37.1583,
          -37.1583
         ],
         "line": {
          "color": "white"
         },
         "lon": [
          -72.010803,
          -72.010803,
          -71.958641,
          -71.958641,
          -72.010803
         ],
         "mode": "lines",
         "showlegend": false,
         "type": "scattermapbox"
        },
        {
         "fill": "toself",
         "fillcolor": "rgba(255,0,0,0.3)",
         "lat": [
          -38.3669,
          -38.343468,
          -38.343468,
          -38.3669,
          -38.3669
         ],
         "line": {
          "color": "white"
         },
         "lon": [
          -72.835373,
          -72.835373,
          -72.813,
          -72.813,
          -72.835373
         ],
         "mode": "lines",
         "showlegend": false,
         "type": "scattermapbox"
        },
        {
         "fill": "toself",
         "fillcolor": "rgba(255,0,0,0.3)",
         "lat": [
          -38.2296,
          -38.219524,
          -38.219524,
          -38.2296,
          -38.2296
         ],
         "line": {
          "color": "white"
         },
         "lon": [
          -72.365379,
          -72.365379,
          -72.356461,
          -72.356461,
          -72.365379
         ],
         "mode": "lines",
         "showlegend": false,
         "type": "scattermapbox"
        },
        {
         "fill": "toself",
         "fillcolor": "rgba(255,0,0,0.3)",
         "lat": [
          -37.792934,
          -37.7844,
          -37.7844,
          -37.792934,
          -37.792934
         ],
         "line": {
          "color": "white"
         },
         "lon": [
          -72.0828,
          -72.0828,
          -72.0784,
          -72.0784,
          -72.0828
         ],
         "mode": "lines",
         "showlegend": false,
         "type": "scattermapbox"
        },
        {
         "fill": "toself",
         "fillcolor": "rgba(255,0,0,0.3)",
         "lat": [
          -38.702011,
          -38.696701,
          -38.696701,
          -38.702011,
          -38.702011
         ],
         "line": {
          "color": "white"
         },
         "lon": [
          -72.200577,
          -72.200577,
          -72.1857,
          -72.1857,
          -72.200577
         ],
         "mode": "lines",
         "showlegend": false,
         "type": "scattermapbox"
        },
        {
         "fill": "toself",
         "fillcolor": "rgba(255,0,0,0.3)",
         "lat": [
          -40.259205,
          -40.25547,
          -40.25547,
          -40.259205,
          -40.259205
         ],
         "line": {
          "color": "white"
         },
         "lon": [
          -72.853058,
          -72.853058,
          -72.845894,
          -72.845894,
          -72.853058
         ],
         "mode": "lines",
         "showlegend": false,
         "type": "scattermapbox"
        },
        {
         "fill": "toself",
         "fillcolor": "rgba(255,0,0,0.3)",
         "lat": [
          -38.760811,
          -38.752327,
          -38.752327,
          -38.760811,
          -38.760811
         ],
         "line": {
          "color": "white"
         },
         "lon": [
          -72.365,
          -72.365,
          -72.360779,
          -72.360779,
          -72.365
         ],
         "mode": "lines",
         "showlegend": false,
         "type": "scattermapbox"
        },
        {
         "fill": "toself",
         "fillcolor": "rgba(255,0,0,0.3)",
         "lat": [
          -37.082565,
          -37.039665,
          -37.039665,
          -37.082565,
          -37.082565
         ],
         "line": {
          "color": "white"
         },
         "lon": [
          -72.0173,
          -72.0173,
          -71.954323,
          -71.954323,
          -72.0173
         ],
         "mode": "lines",
         "showlegend": false,
         "type": "scattermapbox"
        },
        {
         "fill": "toself",
         "fillcolor": "rgba(255,0,0,0.3)",
         "lat": [
          -38.4919,
          -38.482704,
          -38.482704,
          -38.4919,
          -38.4919
         ],
         "line": {
          "color": "white"
         },
         "lon": [
          -72.4779,
          -72.4779,
          -72.4686,
          -72.4686,
          -72.4779
         ],
         "mode": "lines",
         "showlegend": false,
         "type": "scattermapbox"
        },
        {
         "fill": "toself",
         "fillcolor": "rgba(255,0,0,0.3)",
         "lat": [
          -33.535435,
          -33.5336,
          -33.5336,
          -33.535435,
          -33.535435
         ],
         "line": {
          "color": "white"
         },
         "lon": [
          -70.9277,
          -70.9277,
          -70.918396,
          -70.918396,
          -70.9277
         ],
         "mode": "lines",
         "showlegend": false,
         "type": "scattermapbox"
        },
        {
         "fill": "toself",
         "fillcolor": "rgba(255,0,0,0.3)",
         "lat": [
          -35.68486,
          -35.682,
          -35.682,
          -35.68486,
          -35.68486
         ],
         "line": {
          "color": "white"
         },
         "lon": [
          -72.0689,
          -72.0689,
          -72.055183,
          -72.055183,
          -72.0689
         ],
         "mode": "lines",
         "showlegend": false,
         "type": "scattermapbox"
        },
        {
         "fill": "toself",
         "fillcolor": "rgba(255,0,0,0.3)",
         "lat": [
          -37.1679,
          -37.149456,
          -37.149456,
          -37.1679,
          -37.1679
         ],
         "line": {
          "color": "white"
         },
         "lon": [
          -72.04174,
          -72.04174,
          -72.0154,
          -72.0154,
          -72.04174
         ],
         "mode": "lines",
         "showlegend": false,
         "type": "scattermapbox"
        },
        {
         "fill": "toself",
         "fillcolor": "rgba(255,0,0,0.3)",
         "lat": [
          -37.155514,
          -37.1432,
          -37.1432,
          -37.155514,
          -37.155514
         ],
         "line": {
          "color": "white"
         },
         "lon": [
          -71.914833,
          -71.914833,
          -71.874,
          -71.874,
          -71.914833
         ],
         "mode": "lines",
         "showlegend": false,
         "type": "scattermapbox"
        },
        {
         "fill": "toself",
         "fillcolor": "rgba(255,0,0,0.3)",
         "lat": [
          -37.835682,
          -37.81937,
          -37.81937,
          -37.835682,
          -37.835682
         ],
         "line": {
          "color": "white"
         },
         "lon": [
          -72.2769,
          -72.2769,
          -72.261894,
          -72.261894,
          -72.2769
         ],
         "mode": "lines",
         "showlegend": false,
         "type": "scattermapbox"
        },
        {
         "fill": "toself",
         "fillcolor": "rgba(255,0,0,0.3)",
         "lat": [
          -38.3841,
          -38.3789,
          -38.3789,
          -38.3841,
          -38.3841
         ],
         "line": {
          "color": "white"
         },
         "lon": [
          -72.7374,
          -72.7374,
          -72.730789,
          -72.730789,
          -72.7374
         ],
         "mode": "lines",
         "showlegend": false,
         "type": "scattermapbox"
        },
        {
         "fill": "toself",
         "fillcolor": "rgba(255,0,0,0.3)",
         "lat": [
          -38.412514,
          -38.4057,
          -38.4057,
          -38.412514,
          -38.412514
         ],
         "line": {
          "color": "white"
         },
         "lon": [
          -72.100655,
          -72.100655,
          -72.0921,
          -72.0921,
          -72.100655
         ],
         "mode": "lines",
         "showlegend": false,
         "type": "scattermapbox"
        },
        {
         "fill": "toself",
         "fillcolor": "rgba(255,0,0,0.3)",
         "lat": [
          -38.3497,
          -38.3182,
          -38.3182,
          -38.3497,
          -38.3497
         ],
         "line": {
          "color": "white"
         },
         "lon": [
          -72.2387,
          -72.2387,
          -72.195679,
          -72.195679,
          -72.2387
         ],
         "mode": "lines",
         "showlegend": false,
         "type": "scattermapbox"
        },
        {
         "fill": "toself",
         "fillcolor": "rgba(255,0,0,0.3)",
         "lat": [
          -37.212822,
          -37.1977,
          -37.1977,
          -37.212822,
          -37.212822
         ],
         "line": {
          "color": "white"
         },
         "lon": [
          -71.9423,
          -71.9423,
          -71.9259,
          -71.9259,
          -71.9423
         ],
         "mode": "lines",
         "showlegend": false,
         "type": "scattermapbox"
        },
        {
         "fill": "toself",
         "fillcolor": "rgba(255,0,0,0.3)",
         "lat": [
          -38.317318,
          -38.295967,
          -38.295967,
          -38.317318,
          -38.317318
         ],
         "line": {
          "color": "white"
         },
         "lon": [
          -72.0669,
          -72.0669,
          -72.055412,
          -72.055412,
          -72.0669
         ],
         "mode": "lines",
         "showlegend": false,
         "type": "scattermapbox"
        },
        {
         "fill": "toself",
         "fillcolor": "rgba(255,0,0,0.3)",
         "lat": [
          -38.507332,
          -38.49308,
          -38.49308,
          -38.507332,
          -38.507332
         ],
         "line": {
          "color": "white"
         },
         "lon": [
          -72.383194,
          -72.383194,
          -72.351273,
          -72.351273,
          -72.383194
         ],
         "mode": "lines",
         "showlegend": false,
         "type": "scattermapbox"
        },
        {
         "fill": "toself",
         "fillcolor": "rgba(255,0,0,0.3)",
         "lat": [
          -37.7066,
          -37.687622,
          -37.687622,
          -37.7066,
          -37.7066
         ],
         "line": {
          "color": "white"
         },
         "lon": [
          -72.24752,
          -72.24752,
          -72.195496,
          -72.195496,
          -72.24752
         ],
         "mode": "lines",
         "showlegend": false,
         "type": "scattermapbox"
        },
        {
         "fill": "toself",
         "fillcolor": "rgba(255,0,0,0.3)",
         "lat": [
          -38.480747,
          -38.470394,
          -38.470394,
          -38.480747,
          -38.480747
         ],
         "line": {
          "color": "white"
         },
         "lon": [
          -72.2607,
          -72.2607,
          -72.248215,
          -72.248215,
          -72.2607
         ],
         "mode": "lines",
         "showlegend": false,
         "type": "scattermapbox"
        },
        {
         "fill": "toself",
         "fillcolor": "rgba(255,0,0,0.3)",
         "lat": [
          -36.960125,
          -36.949081,
          -36.949081,
          -36.960125,
          -36.960125
         ],
         "line": {
          "color": "white"
         },
         "lon": [
          -72.7892,
          -72.7892,
          -72.774918,
          -72.774918,
          -72.7892
         ],
         "mode": "lines",
         "showlegend": false,
         "type": "scattermapbox"
        },
        {
         "fill": "toself",
         "fillcolor": "rgba(255,0,0,0.3)",
         "lat": [
          -38.7479,
          -38.7426,
          -38.7426,
          -38.7479,
          -38.7479
         ],
         "line": {
          "color": "white"
         },
         "lon": [
          -72.837776,
          -72.837776,
          -72.8229,
          -72.8229,
          -72.837776
         ],
         "mode": "lines",
         "showlegend": false,
         "type": "scattermapbox"
        },
        {
         "fill": "toself",
         "fillcolor": "rgba(255,0,0,0.3)",
         "lat": [
          -38.6574,
          -38.653545,
          -38.653545,
          -38.6574,
          -38.6574
         ],
         "line": {
          "color": "white"
         },
         "lon": [
          -72.1796,
          -72.1796,
          -72.168343,
          -72.168343,
          -72.1796
         ],
         "mode": "lines",
         "showlegend": false,
         "type": "scattermapbox"
        },
        {
         "fill": "toself",
         "fillcolor": "rgba(255,0,0,0.3)",
         "lat": [
          -38.5983,
          -38.592163,
          -38.592163,
          -38.5983,
          -38.5983
         ],
         "line": {
          "color": "white"
         },
         "lon": [
          -72.239815,
          -72.239815,
          -72.2376,
          -72.2376,
          -72.239815
         ],
         "mode": "lines",
         "showlegend": false,
         "type": "scattermapbox"
        },
        {
         "fill": "toself",
         "fillcolor": "rgba(255,0,0,0.3)",
         "lat": [
          -38.5173,
          -38.5042,
          -38.5042,
          -38.5173,
          -38.5173
         ],
         "line": {
          "color": "white"
         },
         "lon": [
          -72.5144,
          -72.5144,
          -72.504356,
          -72.504356,
          -72.5144
         ],
         "mode": "lines",
         "showlegend": false,
         "type": "scattermapbox"
        },
        {
         "fill": "toself",
         "fillcolor": "rgba(255,0,0,0.3)",
         "lat": [
          -39.090332,
          -39.078758,
          -39.078758,
          -39.090332,
          -39.090332
         ],
         "line": {
          "color": "white"
         },
         "lon": [
          -72.15921,
          -72.15921,
          -72.149918,
          -72.149918,
          -72.15921
         ],
         "mode": "lines",
         "showlegend": false,
         "type": "scattermapbox"
        },
        {
         "fill": "toself",
         "fillcolor": "rgba(255,0,0,0.3)",
         "lat": [
          -38.4548,
          -38.4413,
          -38.4413,
          -38.4548,
          -38.4548
         ],
         "line": {
          "color": "white"
         },
         "lon": [
          -72.314865,
          -72.314865,
          -72.2975,
          -72.2975,
          -72.314865
         ],
         "mode": "lines",
         "showlegend": false,
         "type": "scattermapbox"
        },
        {
         "fill": "toself",
         "fillcolor": "rgba(255,0,0,0.3)",
         "lat": [
          -38.396,
          -38.39,
          -38.39,
          -38.396,
          -38.396
         ],
         "line": {
          "color": "white"
         },
         "lon": [
          -71.9313,
          -71.9313,
          -71.9145,
          -71.9145,
          -71.9313
         ],
         "mode": "lines",
         "showlegend": false,
         "type": "scattermapbox"
        },
        {
         "fill": "toself",
         "fillcolor": "rgba(255,0,0,0.3)",
         "lat": [
          -37.7632,
          -37.741924,
          -37.741924,
          -37.7632,
          -37.7632
         ],
         "line": {
          "color": "white"
         },
         "lon": [
          -72.1483,
          -72.1483,
          -72.123482,
          -72.123482,
          -72.1483
         ],
         "mode": "lines",
         "showlegend": false,
         "type": "scattermapbox"
        },
        {
         "fill": "toself",
         "fillcolor": "rgba(255,0,0,0.3)",
         "lat": [
          -38.658192,
          -38.655853,
          -38.655853,
          -38.658192,
          -38.658192
         ],
         "line": {
          "color": "white"
         },
         "lon": [
          -73.066925,
          -73.066925,
          -73.061226,
          -73.061226,
          -73.066925
         ],
         "mode": "lines",
         "showlegend": false,
         "type": "scattermapbox"
        },
        {
         "fill": "toself",
         "fillcolor": "rgba(255,0,0,0.3)",
         "lat": [
          -38.4133,
          -38.400181,
          -38.400181,
          -38.4133,
          -38.4133
         ],
         "line": {
          "color": "white"
         },
         "lon": [
          -72.253952,
          -72.253952,
          -72.249954,
          -72.249954,
          -72.253952
         ],
         "mode": "lines",
         "showlegend": false,
         "type": "scattermapbox"
        },
        {
         "fill": "toself",
         "fillcolor": "rgba(255,0,0,0.3)",
         "lat": [
          -36.5567,
          -36.554333,
          -36.554333,
          -36.5567,
          -36.5567
         ],
         "line": {
          "color": "white"
         },
         "lon": [
          -71.5811,
          -71.5811,
          -71.572151,
          -71.572151,
          -71.5811
         ],
         "mode": "lines",
         "showlegend": false,
         "type": "scattermapbox"
        },
        {
         "fill": "toself",
         "fillcolor": "rgba(255,0,0,0.3)",
         "lat": [
          -38.243538,
          -38.2389,
          -38.2389,
          -38.243538,
          -38.243538
         ],
         "line": {
          "color": "white"
         },
         "lon": [
          -73.3657,
          -73.3657,
          -73.3608,
          -73.3608,
          -73.3657
         ],
         "mode": "lines",
         "showlegend": false,
         "type": "scattermapbox"
        },
        {
         "fill": "toself",
         "fillcolor": "rgba(255,0,0,0.3)",
         "lat": [
          -38.403694,
          -38.395275,
          -38.395275,
          -38.403694,
          -38.403694
         ],
         "line": {
          "color": "white"
         },
         "lon": [
          -72.281563,
          -72.281563,
          -72.277206,
          -72.277206,
          -72.281563
         ],
         "mode": "lines",
         "showlegend": false,
         "type": "scattermapbox"
        },
        {
         "fill": "toself",
         "fillcolor": "rgba(255,0,0,0.3)",
         "lat": [
          -37.8565,
          -37.8518,
          -37.8518,
          -37.8565,
          -37.8565
         ],
         "line": {
          "color": "white"
         },
         "lon": [
          -73.4877,
          -73.4877,
          -73.4834,
          -73.4834,
          -73.4877
         ],
         "mode": "lines",
         "showlegend": false,
         "type": "scattermapbox"
        },
        {
         "fill": "toself",
         "fillcolor": "rgba(255,0,0,0.3)",
         "lat": [
          -36.625198,
          -36.6234,
          -36.6234,
          -36.625198,
          -36.625198
         ],
         "line": {
          "color": "white"
         },
         "lon": [
          -72.8236,
          -72.8236,
          -72.816658,
          -72.816658,
          -72.8236
         ],
         "mode": "lines",
         "showlegend": false,
         "type": "scattermapbox"
        },
        {
         "fill": "toself",
         "fillcolor": "rgba(255,0,0,0.3)",
         "lat": [
          -40.5556,
          -40.5434,
          -40.5434,
          -40.5556,
          -40.5556
         ],
         "line": {
          "color": "white"
         },
         "lon": [
          -73.2408,
          -73.2408,
          -73.2324,
          -73.2324,
          -73.2408
         ],
         "mode": "lines",
         "showlegend": false,
         "type": "scattermapbox"
        },
        {
         "fill": "toself",
         "fillcolor": "rgba(255,0,0,0.3)",
         "lat": [
          -38.662632,
          -38.6451,
          -38.6451,
          -38.662632,
          -38.662632
         ],
         "line": {
          "color": "white"
         },
         "lon": [
          -72.2742,
          -72.2742,
          -72.262955,
          -72.262955,
          -72.2742
         ],
         "mode": "lines",
         "showlegend": false,
         "type": "scattermapbox"
        },
        {
         "fill": "toself",
         "fillcolor": "rgba(255,0,0,0.3)",
         "lat": [
          -33.108,
          -33.100071,
          -33.100071,
          -33.108,
          -33.108
         ],
         "line": {
          "color": "white"
         },
         "lon": [
          -70.6435,
          -70.6435,
          -70.6338,
          -70.6338,
          -70.6435
         ],
         "mode": "lines",
         "showlegend": false,
         "type": "scattermapbox"
        },
        {
         "fill": "toself",
         "fillcolor": "rgba(255,0,0,0.3)",
         "lat": [
          -38.483,
          -38.470352,
          -38.470352,
          -38.483,
          -38.483
         ],
         "line": {
          "color": "white"
         },
         "lon": [
          -72.4113,
          -72.4113,
          -72.396,
          -72.396,
          -72.4113
         ],
         "mode": "lines",
         "showlegend": false,
         "type": "scattermapbox"
        },
        {
         "fill": "toself",
         "fillcolor": "rgba(255,0,0,0.3)",
         "lat": [
          -38.963108,
          -38.952,
          -38.952,
          -38.963108,
          -38.963108
         ],
         "line": {
          "color": "white"
         },
         "lon": [
          -72.3418,
          -72.3418,
          -72.3382,
          -72.3382,
          -72.3418
         ],
         "mode": "lines",
         "showlegend": false,
         "type": "scattermapbox"
        },
        {
         "fill": "toself",
         "fillcolor": "rgba(255,0,0,0.3)",
         "lat": [
          -38.9728,
          -38.953888,
          -38.953888,
          -38.9728,
          -38.9728
         ],
         "line": {
          "color": "white"
         },
         "lon": [
          -72.3675,
          -72.3675,
          -72.358635,
          -72.358635,
          -72.3675
         ],
         "mode": "lines",
         "showlegend": false,
         "type": "scattermapbox"
        },
        {
         "fill": "toself",
         "fillcolor": "rgba(255,0,0,0.3)",
         "lat": [
          -38.641609,
          -38.6197,
          -38.6197,
          -38.641609,
          -38.641609
         ],
         "line": {
          "color": "white"
         },
         "lon": [
          -72.1727,
          -72.1727,
          -72.159569,
          -72.159569,
          -72.1727
         ],
         "mode": "lines",
         "showlegend": false,
         "type": "scattermapbox"
        },
        {
         "fill": "toself",
         "fillcolor": "rgba(255,0,0,0.3)",
         "lat": [
          -37.880215,
          -37.8624,
          -37.8624,
          -37.880215,
          -37.880215
         ],
         "line": {
          "color": "white"
         },
         "lon": [
          -72.421844,
          -72.421844,
          -72.403549,
          -72.403549,
          -72.421844
         ],
         "mode": "lines",
         "showlegend": false,
         "type": "scattermapbox"
        },
        {
         "fill": "toself",
         "fillcolor": "rgba(255,0,0,0.3)",
         "lat": [
          -38.638435,
          -38.630718,
          -38.630718,
          -38.638435,
          -38.638435
         ],
         "line": {
          "color": "white"
         },
         "lon": [
          -72.232086,
          -72.232086,
          -72.225586,
          -72.225586,
          -72.232086
         ],
         "mode": "lines",
         "showlegend": false,
         "type": "scattermapbox"
        },
        {
         "fill": "toself",
         "fillcolor": "rgba(255,0,0,0.3)",
         "lat": [
          -38.6142,
          -38.600384,
          -38.600384,
          -38.6142,
          -38.6142
         ],
         "line": {
          "color": "white"
         },
         "lon": [
          -72.2006,
          -72.2006,
          -72.187294,
          -72.187294,
          -72.2006
         ],
         "mode": "lines",
         "showlegend": false,
         "type": "scattermapbox"
        },
        {
         "fill": "toself",
         "fillcolor": "rgba(255,0,0,0.3)",
         "lat": [
          -36.1647,
          -36.154572,
          -36.154572,
          -36.1647,
          -36.1647
         ],
         "line": {
          "color": "white"
         },
         "lon": [
          -72.579285,
          -72.579285,
          -72.563484,
          -72.563484,
          -72.579285
         ],
         "mode": "lines",
         "showlegend": false,
         "type": "scattermapbox"
        },
        {
         "fill": "toself",
         "fillcolor": "rgba(255,0,0,0.3)",
         "lat": [
          -37.6459,
          -37.6356,
          -37.6356,
          -37.6459,
          -37.6459
         ],
         "line": {
          "color": "white"
         },
         "lon": [
          -71.981,
          -71.981,
          -71.9629,
          -71.9629,
          -71.981
         ],
         "mode": "lines",
         "showlegend": false,
         "type": "scattermapbox"
        },
        {
         "fill": "toself",
         "fillcolor": "rgba(255,0,0,0.3)",
         "lat": [
          -41.371,
          -41.360111,
          -41.360111,
          -41.371,
          -41.371
         ],
         "line": {
          "color": "white"
         },
         "lon": [
          -72.897,
          -72.897,
          -72.889122,
          -72.889122,
          -72.897
         ],
         "mode": "lines",
         "showlegend": false,
         "type": "scattermapbox"
        },
        {
         "fill": "toself",
         "fillcolor": "rgba(255,0,0,0.3)",
         "lat": [
          -34.05471,
          -34.040794,
          -34.040794,
          -34.05471,
          -34.05471
         ],
         "line": {
          "color": "white"
         },
         "lon": [
          -71.927116,
          -71.927116,
          -71.91877,
          -71.91877,
          -71.927116
         ],
         "mode": "lines",
         "showlegend": false,
         "type": "scattermapbox"
        },
        {
         "fill": "toself",
         "fillcolor": "rgba(255,0,0,0.3)",
         "lat": [
          -38.314171,
          -38.308125,
          -38.308125,
          -38.314171,
          -38.314171
         ],
         "line": {
          "color": "white"
         },
         "lon": [
          -72.078423,
          -72.078423,
          -72.0735,
          -72.0735,
          -72.078423
         ],
         "mode": "lines",
         "showlegend": false,
         "type": "scattermapbox"
        },
        {
         "fill": "toself",
         "fillcolor": "rgba(255,0,0,0.3)",
         "lat": [
          -38.408665,
          -38.404957,
          -38.404957,
          -38.408665,
          -38.408665
         ],
         "line": {
          "color": "white"
         },
         "lon": [
          -72.2659,
          -72.2659,
          -72.263489,
          -72.263489,
          -72.2659
         ],
         "mode": "lines",
         "showlegend": false,
         "type": "scattermapbox"
        },
        {
         "fill": "toself",
         "fillcolor": "rgba(255,0,0,0.3)",
         "lat": [
          -36.381351,
          -36.376156,
          -36.376156,
          -36.381351,
          -36.381351
         ],
         "line": {
          "color": "white"
         },
         "lon": [
          -71.744423,
          -71.744423,
          -71.742531,
          -71.742531,
          -71.744423
         ],
         "mode": "lines",
         "showlegend": false,
         "type": "scattermapbox"
        },
        {
         "fill": "toself",
         "fillcolor": "rgba(255,0,0,0.3)",
         "lat": [
          -37.873631,
          -37.8606,
          -37.8606,
          -37.873631,
          -37.873631
         ],
         "line": {
          "color": "white"
         },
         "lon": [
          -72.238,
          -72.238,
          -72.2355,
          -72.2355,
          -72.238
         ],
         "mode": "lines",
         "showlegend": false,
         "type": "scattermapbox"
        },
        {
         "fill": "toself",
         "fillcolor": "rgba(255,0,0,0.3)",
         "lat": [
          -37.9983,
          -37.9893,
          -37.9893,
          -37.9983,
          -37.9983
         ],
         "line": {
          "color": "white"
         },
         "lon": [
          -72.557,
          -72.557,
          -72.543449,
          -72.543449,
          -72.557
         ],
         "mode": "lines",
         "showlegend": false,
         "type": "scattermapbox"
        },
        {
         "fill": "toself",
         "fillcolor": "rgba(255,0,0,0.3)",
         "lat": [
          -39.0862,
          -39.0813,
          -39.0813,
          -39.0862,
          -39.0862
         ],
         "line": {
          "color": "white"
         },
         "lon": [
          -73.249817,
          -73.249817,
          -73.2376,
          -73.2376,
          -73.249817
         ],
         "mode": "lines",
         "showlegend": false,
         "type": "scattermapbox"
        },
        {
         "fill": "toself",
         "fillcolor": "rgba(255,0,0,0.3)",
         "lat": [
          -38.334568,
          -38.332199,
          -38.332199,
          -38.334568,
          -38.334568
         ],
         "line": {
          "color": "white"
         },
         "lon": [
          -72.494225,
          -72.494225,
          -72.48674,
          -72.48674,
          -72.494225
         ],
         "mode": "lines",
         "showlegend": false,
         "type": "scattermapbox"
        },
        {
         "fill": "toself",
         "fillcolor": "rgba(255,0,0,0.3)",
         "lat": [
          -35.554783,
          -35.545845,
          -35.545845,
          -35.554783,
          -35.554783
         ],
         "line": {
          "color": "white"
         },
         "lon": [
          -72.250229,
          -72.250229,
          -72.244812,
          -72.244812,
          -72.250229
         ],
         "mode": "lines",
         "showlegend": false,
         "type": "scattermapbox"
        },
        {
         "fill": "toself",
         "fillcolor": "rgba(255,0,0,0.3)",
         "lat": [
          -38.2428,
          -38.236588,
          -38.236588,
          -38.2428,
          -38.2428
         ],
         "line": {
          "color": "white"
         },
         "lon": [
          -72.4514,
          -72.4514,
          -72.441109,
          -72.441109,
          -72.4514
         ],
         "mode": "lines",
         "showlegend": false,
         "type": "scattermapbox"
        },
        {
         "fill": "toself",
         "fillcolor": "rgba(255,0,0,0.3)",
         "lat": [
          -35.4459,
          -35.4397,
          -35.4397,
          -35.4459,
          -35.4459
         ],
         "line": {
          "color": "white"
         },
         "lon": [
          -72.171638,
          -72.171638,
          -72.166649,
          -72.166649,
          -72.171638
         ],
         "mode": "lines",
         "showlegend": false,
         "type": "scattermapbox"
        },
        {
         "fill": "toself",
         "fillcolor": "rgba(255,0,0,0.3)",
         "lat": [
          -37.0169,
          -37.0026,
          -37.0026,
          -37.0169,
          -37.0169
         ],
         "line": {
          "color": "white"
         },
         "lon": [
          -71.923,
          -71.923,
          -71.903069,
          -71.903069,
          -71.923
         ],
         "mode": "lines",
         "showlegend": false,
         "type": "scattermapbox"
        },
        {
         "fill": "toself",
         "fillcolor": "rgba(255,0,0,0.3)",
         "lat": [
          -34.5852,
          -34.5753,
          -34.5753,
          -34.5852,
          -34.5852
         ],
         "line": {
          "color": "white"
         },
         "lon": [
          -71.8029,
          -71.8029,
          -71.7994,
          -71.7994,
          -71.8029
         ],
         "mode": "lines",
         "showlegend": false,
         "type": "scattermapbox"
        },
        {
         "fill": "toself",
         "fillcolor": "rgba(255,0,0,0.3)",
         "lat": [
          -34.5866,
          -34.5812,
          -34.5812,
          -34.5866,
          -34.5866
         ],
         "line": {
          "color": "white"
         },
         "lon": [
          -71.8272,
          -71.8272,
          -71.814301,
          -71.814301,
          -71.8272
         ],
         "mode": "lines",
         "showlegend": false,
         "type": "scattermapbox"
        },
        {
         "fill": "toself",
         "fillcolor": "rgba(255,0,0,0.3)",
         "lat": [
          -38.406033,
          -38.400391,
          -38.400391,
          -38.406033,
          -38.406033
         ],
         "line": {
          "color": "white"
         },
         "lon": [
          -72.0807,
          -72.0807,
          -72.062592,
          -72.062592,
          -72.0807
         ],
         "mode": "lines",
         "showlegend": false,
         "type": "scattermapbox"
        },
        {
         "fill": "toself",
         "fillcolor": "rgba(255,0,0,0.3)",
         "lat": [
          -38.447514,
          -38.439,
          -38.439,
          -38.447514,
          -38.447514
         ],
         "line": {
          "color": "white"
         },
         "lon": [
          -73.083282,
          -73.083282,
          -73.077797,
          -73.077797,
          -73.083282
         ],
         "mode": "lines",
         "showlegend": false,
         "type": "scattermapbox"
        },
        {
         "fill": "toself",
         "fillcolor": "rgba(255,0,0,0.3)",
         "lat": [
          -34.8829,
          -34.878536,
          -34.878536,
          -34.8829,
          -34.8829
         ],
         "line": {
          "color": "white"
         },
         "lon": [
          -71.967781,
          -71.967781,
          -71.9631,
          -71.9631,
          -71.967781
         ],
         "mode": "lines",
         "showlegend": false,
         "type": "scattermapbox"
        },
        {
         "fill": "toself",
         "fillcolor": "rgba(255,0,0,0.3)",
         "lat": [
          -38.4394,
          -38.4302,
          -38.4302,
          -38.4394,
          -38.4394
         ],
         "line": {
          "color": "white"
         },
         "lon": [
          -72.6186,
          -72.6186,
          -72.602104,
          -72.602104,
          -72.6186
         ],
         "mode": "lines",
         "showlegend": false,
         "type": "scattermapbox"
        },
        {
         "fill": "toself",
         "fillcolor": "rgba(255,0,0,0.3)",
         "lat": [
          -37.8469,
          -37.8431,
          -37.8431,
          -37.8469,
          -37.8469
         ],
         "line": {
          "color": "white"
         },
         "lon": [
          -72.2447,
          -72.2447,
          -72.2366,
          -72.2366,
          -72.2447
         ],
         "mode": "lines",
         "showlegend": false,
         "type": "scattermapbox"
        },
        {
         "fill": "toself",
         "fillcolor": "rgba(255,0,0,0.3)",
         "lat": [
          -38.2396,
          -38.2315,
          -38.2315,
          -38.2396,
          -38.2396
         ],
         "line": {
          "color": "white"
         },
         "lon": [
          -72.4814,
          -72.4814,
          -72.4654,
          -72.4654,
          -72.4814
         ],
         "mode": "lines",
         "showlegend": false,
         "type": "scattermapbox"
        },
        {
         "fill": "toself",
         "fillcolor": "rgba(255,0,0,0.3)",
         "lat": [
          -38.42226,
          -38.4187,
          -38.4187,
          -38.42226,
          -38.42226
         ],
         "line": {
          "color": "white"
         },
         "lon": [
          -72.4794,
          -72.4794,
          -72.469658,
          -72.469658,
          -72.4794
         ],
         "mode": "lines",
         "showlegend": false,
         "type": "scattermapbox"
        },
        {
         "fill": "toself",
         "fillcolor": "rgba(255,0,0,0.3)",
         "lat": [
          -37.510712,
          -37.506672,
          -37.506672,
          -37.510712,
          -37.510712
         ],
         "line": {
          "color": "white"
         },
         "lon": [
          -71.905197,
          -71.905197,
          -71.903671,
          -71.903671,
          -71.905197
         ],
         "mode": "lines",
         "showlegend": false,
         "type": "scattermapbox"
        },
        {
         "fill": "toself",
         "fillcolor": "rgba(255,0,0,0.3)",
         "lat": [
          -34.39275,
          -34.385731,
          -34.385731,
          -34.39275,
          -34.39275
         ],
         "line": {
          "color": "white"
         },
         "lon": [
          -70.650101,
          -70.650101,
          -70.63958,
          -70.63958,
          -70.650101
         ],
         "mode": "lines",
         "showlegend": false,
         "type": "scattermapbox"
        },
        {
         "fill": "toself",
         "fillcolor": "rgba(255,0,0,0.3)",
         "lat": [
          -38.4618,
          -38.444263,
          -38.444263,
          -38.4618,
          -38.4618
         ],
         "line": {
          "color": "white"
         },
         "lon": [
          -72.563,
          -72.563,
          -72.538643,
          -72.538643,
          -72.563
         ],
         "mode": "lines",
         "showlegend": false,
         "type": "scattermapbox"
        },
        {
         "fill": "toself",
         "fillcolor": "rgba(255,0,0,0.3)",
         "lat": [
          -37.238243,
          -37.2275,
          -37.2275,
          -37.238243,
          -37.238243
         ],
         "line": {
          "color": "white"
         },
         "lon": [
          -71.86911,
          -71.86911,
          -71.863388,
          -71.863388,
          -71.86911
         ],
         "mode": "lines",
         "showlegend": false,
         "type": "scattermapbox"
        },
        {
         "fill": "toself",
         "fillcolor": "rgba(255,0,0,0.3)",
         "lat": [
          -38.773899,
          -38.7713,
          -38.7713,
          -38.773899,
          -38.773899
         ],
         "line": {
          "color": "white"
         },
         "lon": [
          -73.020134,
          -73.020134,
          -73.013733,
          -73.013733,
          -73.020134
         ],
         "mode": "lines",
         "showlegend": false,
         "type": "scattermapbox"
        },
        {
         "fill": "toself",
         "fillcolor": "rgba(255,0,0,0.3)",
         "lat": [
          -37.7822,
          -37.769768,
          -37.769768,
          -37.7822,
          -37.7822
         ],
         "line": {
          "color": "white"
         },
         "lon": [
          -72.147964,
          -72.147964,
          -72.1413,
          -72.1413,
          -72.147964
         ],
         "mode": "lines",
         "showlegend": false,
         "type": "scattermapbox"
        },
        {
         "fill": "toself",
         "fillcolor": "rgba(255,0,0,0.3)",
         "lat": [
          -38.031307,
          -38.023178,
          -38.023178,
          -38.031307,
          -38.031307
         ],
         "line": {
          "color": "white"
         },
         "lon": [
          -72.154465,
          -72.154465,
          -72.1483,
          -72.1483,
          -72.154465
         ],
         "mode": "lines",
         "showlegend": false,
         "type": "scattermapbox"
        },
        {
         "fill": "toself",
         "fillcolor": "rgba(255,0,0,0.3)",
         "lat": [
          -38.3357,
          -38.3272,
          -38.3272,
          -38.3357,
          -38.3357
         ],
         "line": {
          "color": "white"
         },
         "lon": [
          -73.3362,
          -73.3362,
          -73.325813,
          -73.325813,
          -73.3362
         ],
         "mode": "lines",
         "showlegend": false,
         "type": "scattermapbox"
        },
        {
         "fill": "toself",
         "fillcolor": "rgba(255,0,0,0.3)",
         "lat": [
          -36.331654,
          -36.3156,
          -36.3156,
          -36.331654,
          -36.331654
         ],
         "line": {
          "color": "white"
         },
         "lon": [
          -72.2032,
          -72.2032,
          -72.193527,
          -72.193527,
          -72.2032
         ],
         "mode": "lines",
         "showlegend": false,
         "type": "scattermapbox"
        },
        {
         "fill": "toself",
         "fillcolor": "rgba(255,0,0,0.3)",
         "lat": [
          -36.826,
          -36.8189,
          -36.8189,
          -36.826,
          -36.826
         ],
         "line": {
          "color": "white"
         },
         "lon": [
          -71.888168,
          -71.888168,
          -71.873222,
          -71.873222,
          -71.888168
         ],
         "mode": "lines",
         "showlegend": false,
         "type": "scattermapbox"
        },
        {
         "fill": "toself",
         "fillcolor": "rgba(255,0,0,0.3)",
         "lat": [
          -34.869812,
          -34.8673,
          -34.8673,
          -34.869812,
          -34.869812
         ],
         "line": {
          "color": "white"
         },
         "lon": [
          -71.9905,
          -71.9905,
          -71.9692,
          -71.9692,
          -71.9905
         ],
         "mode": "lines",
         "showlegend": false,
         "type": "scattermapbox"
        },
        {
         "fill": "toself",
         "fillcolor": "rgba(255,0,0,0.3)",
         "lat": [
          -38.1418,
          -38.1344,
          -38.1344,
          -38.1418,
          -38.1418
         ],
         "line": {
          "color": "white"
         },
         "lon": [
          -73.430008,
          -73.430008,
          -73.3984,
          -73.3984,
          -73.430008
         ],
         "mode": "lines",
         "showlegend": false,
         "type": "scattermapbox"
        },
        {
         "fill": "toself",
         "fillcolor": "rgba(255,0,0,0.3)",
         "lat": [
          -35.6516,
          -35.640858,
          -35.640858,
          -35.6516,
          -35.6516
         ],
         "line": {
          "color": "white"
         },
         "lon": [
          -71.4638,
          -71.4638,
          -71.455452,
          -71.455452,
          -71.4638
         ],
         "mode": "lines",
         "showlegend": false,
         "type": "scattermapbox"
        },
        {
         "fill": "toself",
         "fillcolor": "rgba(255,0,0,0.3)",
         "lat": [
          -38.490849,
          -38.469936,
          -38.469936,
          -38.490849,
          -38.490849
         ],
         "line": {
          "color": "white"
         },
         "lon": [
          -72.117172,
          -72.117172,
          -72.101593,
          -72.101593,
          -72.117172
         ],
         "mode": "lines",
         "showlegend": false,
         "type": "scattermapbox"
        },
        {
         "fill": "toself",
         "fillcolor": "rgba(255,0,0,0.3)",
         "lat": [
          -39.0486,
          -39.043221,
          -39.043221,
          -39.0486,
          -39.0486
         ],
         "line": {
          "color": "white"
         },
         "lon": [
          -72.4752,
          -72.4752,
          -72.47184,
          -72.47184,
          -72.4752
         ],
         "mode": "lines",
         "showlegend": false,
         "type": "scattermapbox"
        },
        {
         "fill": "toself",
         "fillcolor": "rgba(255,0,0,0.3)",
         "lat": [
          -38.905384,
          -38.893459,
          -38.893459,
          -38.905384,
          -38.905384
         ],
         "line": {
          "color": "white"
         },
         "lon": [
          -72.4132,
          -72.4132,
          -72.401947,
          -72.401947,
          -72.4132
         ],
         "mode": "lines",
         "showlegend": false,
         "type": "scattermapbox"
        },
        {
         "fill": "toself",
         "fillcolor": "rgba(255,0,0,0.3)",
         "lat": [
          -37.342026,
          -37.335,
          -37.335,
          -37.342026,
          -37.342026
         ],
         "line": {
          "color": "white"
         },
         "lon": [
          -72.87767,
          -72.87767,
          -72.863686,
          -72.863686,
          -72.87767
         ],
         "mode": "lines",
         "showlegend": false,
         "type": "scattermapbox"
        },
        {
         "fill": "toself",
         "fillcolor": "rgba(255,0,0,0.3)",
         "lat": [
          -38.051506,
          -38.047684,
          -38.047684,
          -38.051506,
          -38.051506
         ],
         "line": {
          "color": "white"
         },
         "lon": [
          -72.3072,
          -72.3072,
          -72.305161,
          -72.305161,
          -72.3072
         ],
         "mode": "lines",
         "showlegend": false,
         "type": "scattermapbox"
        },
        {
         "fill": "toself",
         "fillcolor": "rgba(255,0,0,0.3)",
         "lat": [
          -38.3021,
          -38.2919,
          -38.2919,
          -38.3021,
          -38.3021
         ],
         "line": {
          "color": "white"
         },
         "lon": [
          -72.7031,
          -72.7031,
          -72.6971,
          -72.6971,
          -72.7031
         ],
         "mode": "lines",
         "showlegend": false,
         "type": "scattermapbox"
        },
        {
         "fill": "toself",
         "fillcolor": "rgba(255,0,0,0.3)",
         "lat": [
          -37.326,
          -37.32045,
          -37.32045,
          -37.326,
          -37.326
         ],
         "line": {
          "color": "white"
         },
         "lon": [
          -71.9368,
          -71.9368,
          -71.9291,
          -71.9291,
          -71.9368
         ],
         "mode": "lines",
         "showlegend": false,
         "type": "scattermapbox"
        },
        {
         "fill": "toself",
         "fillcolor": "rgba(255,0,0,0.3)",
         "lat": [
          -37.893734,
          -37.888378,
          -37.888378,
          -37.893734,
          -37.893734
         ],
         "line": {
          "color": "white"
         },
         "lon": [
          -72.0496,
          -72.0496,
          -72.0424,
          -72.0424,
          -72.0496
         ],
         "mode": "lines",
         "showlegend": false,
         "type": "scattermapbox"
        },
        {
         "fill": "toself",
         "fillcolor": "rgba(255,0,0,0.3)",
         "lat": [
          -38.346,
          -38.339211,
          -38.339211,
          -38.346,
          -38.346
         ],
         "line": {
          "color": "white"
         },
         "lon": [
          -72.4069,
          -72.4069,
          -72.4,
          -72.4,
          -72.4069
         ],
         "mode": "lines",
         "showlegend": false,
         "type": "scattermapbox"
        },
        {
         "fill": "toself",
         "fillcolor": "rgba(255,0,0,0.3)",
         "lat": [
          -38.1454,
          -38.138485,
          -38.138485,
          -38.1454,
          -38.1454
         ],
         "line": {
          "color": "white"
         },
         "lon": [
          -72.304283,
          -72.304283,
          -72.293,
          -72.293,
          -72.304283
         ],
         "mode": "lines",
         "showlegend": false,
         "type": "scattermapbox"
        },
        {
         "fill": "toself",
         "fillcolor": "rgba(255,0,0,0.3)",
         "lat": [
          -37.2631,
          -37.247192,
          -37.247192,
          -37.2631,
          -37.2631
         ],
         "line": {
          "color": "white"
         },
         "lon": [
          -71.929703,
          -71.929703,
          -71.917099,
          -71.917099,
          -71.929703
         ],
         "mode": "lines",
         "showlegend": false,
         "type": "scattermapbox"
        },
        {
         "fill": "toself",
         "fillcolor": "rgba(255,0,0,0.3)",
         "lat": [
          -36.659,
          -36.6498,
          -36.6498,
          -36.659,
          -36.659
         ],
         "line": {
          "color": "white"
         },
         "lon": [
          -71.9371,
          -71.9371,
          -71.928543,
          -71.928543,
          -71.9371
         ],
         "mode": "lines",
         "showlegend": false,
         "type": "scattermapbox"
        },
        {
         "fill": "toself",
         "fillcolor": "rgba(255,0,0,0.3)",
         "lat": [
          -36.634,
          -36.6183,
          -36.6183,
          -36.634,
          -36.634
         ],
         "line": {
          "color": "white"
         },
         "lon": [
          -71.927231,
          -71.927231,
          -71.91346,
          -71.91346,
          -71.927231
         ],
         "mode": "lines",
         "showlegend": false,
         "type": "scattermapbox"
        },
        {
         "fill": "toself",
         "fillcolor": "rgba(255,0,0,0.3)",
         "lat": [
          -38.320591,
          -38.300377,
          -38.300377,
          -38.320591,
          -38.320591
         ],
         "line": {
          "color": "white"
         },
         "lon": [
          -72.61998,
          -72.61998,
          -72.606636,
          -72.606636,
          -72.61998
         ],
         "mode": "lines",
         "showlegend": false,
         "type": "scattermapbox"
        },
        {
         "fill": "toself",
         "fillcolor": "rgba(255,0,0,0.3)",
         "lat": [
          -38.2357,
          -38.2264,
          -38.2264,
          -38.2357,
          -38.2357
         ],
         "line": {
          "color": "white"
         },
         "lon": [
          -72.5192,
          -72.5192,
          -72.501602,
          -72.501602,
          -72.5192
         ],
         "mode": "lines",
         "showlegend": false,
         "type": "scattermapbox"
        },
        {
         "fill": "toself",
         "fillcolor": "rgba(255,0,0,0.3)",
         "lat": [
          -36.230835,
          -36.228241,
          -36.228241,
          -36.230835,
          -36.230835
         ],
         "line": {
          "color": "white"
         },
         "lon": [
          -71.094566,
          -71.094566,
          -71.092758,
          -71.092758,
          -71.094566
         ],
         "mode": "lines",
         "showlegend": false,
         "type": "scattermapbox"
        },
        {
         "fill": "toself",
         "fillcolor": "rgba(255,0,0,0.3)",
         "lat": [
          -38.532074,
          -38.529133,
          -38.529133,
          -38.532074,
          -38.532074
         ],
         "line": {
          "color": "white"
         },
         "lon": [
          -72.687302,
          -72.687302,
          -72.675697,
          -72.675697,
          -72.687302
         ],
         "mode": "lines",
         "showlegend": false,
         "type": "scattermapbox"
        },
        {
         "fill": "toself",
         "fillcolor": "rgba(255,0,0,0.3)",
         "lat": [
          -38.2547,
          -38.246964,
          -38.246964,
          -38.2547,
          -38.2547
         ],
         "line": {
          "color": "white"
         },
         "lon": [
          -72.0514,
          -72.0514,
          -72.0448,
          -72.0448,
          -72.0514
         ],
         "mode": "lines",
         "showlegend": false,
         "type": "scattermapbox"
        },
        {
         "fill": "toself",
         "fillcolor": "rgba(255,0,0,0.3)",
         "lat": [
          -36.549553,
          -36.543034,
          -36.543034,
          -36.549553,
          -36.549553
         ],
         "line": {
          "color": "white"
         },
         "lon": [
          -71.71254,
          -71.71254,
          -71.7009,
          -71.7009,
          -71.71254
         ],
         "mode": "lines",
         "showlegend": false,
         "type": "scattermapbox"
        },
        {
         "fill": "toself",
         "fillcolor": "rgba(255,0,0,0.3)",
         "lat": [
          -37.806686,
          -37.804886,
          -37.804886,
          -37.806686,
          -37.806686
         ],
         "line": {
          "color": "white"
         },
         "lon": [
          -71.814484,
          -71.814484,
          -71.811089,
          -71.811089,
          -71.814484
         ],
         "mode": "lines",
         "showlegend": false,
         "type": "scattermapbox"
        },
        {
         "fill": "toself",
         "fillcolor": "rgba(255,0,0,0.3)",
         "lat": [
          -39.039993,
          -39.034397,
          -39.034397,
          -39.039993,
          -39.039993
         ],
         "line": {
          "color": "white"
         },
         "lon": [
          -72.3508,
          -72.3508,
          -72.339195,
          -72.339195,
          -72.3508
         ],
         "mode": "lines",
         "showlegend": false,
         "type": "scattermapbox"
        },
        {
         "fill": "toself",
         "fillcolor": "rgba(255,0,0,0.3)",
         "lat": [
          -38.6119,
          -38.602848,
          -38.602848,
          -38.6119,
          -38.6119
         ],
         "line": {
          "color": "white"
         },
         "lon": [
          -72.317665,
          -72.317665,
          -72.296204,
          -72.296204,
          -72.317665
         ],
         "mode": "lines",
         "showlegend": false,
         "type": "scattermapbox"
        },
        {
         "fill": "toself",
         "fillcolor": "rgba(255,0,0,0.3)",
         "lat": [
          -38.525158,
          -38.511715,
          -38.511715,
          -38.525158,
          -38.525158
         ],
         "line": {
          "color": "white"
         },
         "lon": [
          -72.661896,
          -72.661896,
          -72.6509,
          -72.6509,
          -72.661896
         ],
         "mode": "lines",
         "showlegend": false,
         "type": "scattermapbox"
        },
        {
         "fill": "toself",
         "fillcolor": "rgba(255,0,0,0.3)",
         "lat": [
          -39.039787,
          -39.030712,
          -39.030712,
          -39.039787,
          -39.039787
         ],
         "line": {
          "color": "white"
         },
         "lon": [
          -72.260078,
          -72.260078,
          -72.2446,
          -72.2446,
          -72.260078
         ],
         "mode": "lines",
         "showlegend": false,
         "type": "scattermapbox"
        },
        {
         "fill": "toself",
         "fillcolor": "rgba(255,0,0,0.3)",
         "lat": [
          -34.699284,
          -34.6835,
          -34.6835,
          -34.699284,
          -34.699284
         ],
         "line": {
          "color": "white"
         },
         "lon": [
          -71.268,
          -71.268,
          -71.2627,
          -71.2627,
          -71.268
         ],
         "mode": "lines",
         "showlegend": false,
         "type": "scattermapbox"
        },
        {
         "fill": "toself",
         "fillcolor": "rgba(255,0,0,0.3)",
         "lat": [
          -36.9978,
          -36.986172,
          -36.986172,
          -36.9978,
          -36.9978
         ],
         "line": {
          "color": "white"
         },
         "lon": [
          -71.8858,
          -71.8858,
          -71.870506,
          -71.870506,
          -71.8858
         ],
         "mode": "lines",
         "showlegend": false,
         "type": "scattermapbox"
        },
        {
         "fill": "toself",
         "fillcolor": "rgba(255,0,0,0.3)",
         "lat": [
          -38.1131,
          -38.1025,
          -38.1025,
          -38.1131,
          -38.1131
         ],
         "line": {
          "color": "white"
         },
         "lon": [
          -72.33519,
          -72.33519,
          -72.3243,
          -72.3243,
          -72.33519
         ],
         "mode": "lines",
         "showlegend": false,
         "type": "scattermapbox"
        },
        {
         "fill": "toself",
         "fillcolor": "rgba(255,0,0,0.3)",
         "lat": [
          -39.4374,
          -39.4268,
          -39.4268,
          -39.4374,
          -39.4374
         ],
         "line": {
          "color": "white"
         },
         "lon": [
          -73.0291,
          -73.0291,
          -73.026253,
          -73.026253,
          -73.0291
         ],
         "mode": "lines",
         "showlegend": false,
         "type": "scattermapbox"
        },
        {
         "fill": "toself",
         "fillcolor": "rgba(255,0,0,0.3)",
         "lat": [
          -36.736027,
          -36.728207,
          -36.728207,
          -36.736027,
          -36.736027
         ],
         "line": {
          "color": "white"
         },
         "lon": [
          -71.878098,
          -71.878098,
          -71.868408,
          -71.868408,
          -71.878098
         ],
         "mode": "lines",
         "showlegend": false,
         "type": "scattermapbox"
        },
        {
         "fill": "toself",
         "fillcolor": "rgba(255,0,0,0.3)",
         "lat": [
          -36.999496,
          -36.9848,
          -36.9848,
          -36.999496,
          -36.999496
         ],
         "line": {
          "color": "white"
         },
         "lon": [
          -71.831558,
          -71.831558,
          -71.8204,
          -71.8204,
          -71.831558
         ],
         "mode": "lines",
         "showlegend": false,
         "type": "scattermapbox"
        },
        {
         "fill": "toself",
         "fillcolor": "rgba(255,0,0,0.3)",
         "lat": [
          -36.8722,
          -36.861359,
          -36.861359,
          -36.8722,
          -36.8722
         ],
         "line": {
          "color": "white"
         },
         "lon": [
          -71.9503,
          -71.9503,
          -71.933441,
          -71.933441,
          -71.9503
         ],
         "mode": "lines",
         "showlegend": false,
         "type": "scattermapbox"
        },
        {
         "fill": "toself",
         "fillcolor": "rgba(255,0,0,0.3)",
         "lat": [
          -36.7958,
          -36.793667,
          -36.793667,
          -36.7958,
          -36.7958
         ],
         "line": {
          "color": "white"
         },
         "lon": [
          -72.079826,
          -72.079826,
          -72.073334,
          -72.073334,
          -72.079826
         ],
         "mode": "lines",
         "showlegend": false,
         "type": "scattermapbox"
        },
        {
         "fill": "toself",
         "fillcolor": "rgba(255,0,0,0.3)",
         "lat": [
          -37.85128,
          -37.839405,
          -37.839405,
          -37.85128,
          -37.85128
         ],
         "line": {
          "color": "white"
         },
         "lon": [
          -72.7295,
          -72.7295,
          -72.721298,
          -72.721298,
          -72.7295
         ],
         "mode": "lines",
         "showlegend": false,
         "type": "scattermapbox"
        },
        {
         "fill": "toself",
         "fillcolor": "rgba(255,0,0,0.3)",
         "lat": [
          -36.729244,
          -36.711975,
          -36.711975,
          -36.729244,
          -36.729244
         ],
         "line": {
          "color": "white"
         },
         "lon": [
          -72.235474,
          -72.235474,
          -72.225601,
          -72.225601,
          -72.235474
         ],
         "mode": "lines",
         "showlegend": false,
         "type": "scattermapbox"
        },
        {
         "fill": "toself",
         "fillcolor": "rgba(255,0,0,0.3)",
         "lat": [
          -37.3292,
          -37.3153,
          -37.3153,
          -37.3292,
          -37.3292
         ],
         "line": {
          "color": "white"
         },
         "lon": [
          -72.332695,
          -72.332695,
          -72.321106,
          -72.321106,
          -72.332695
         ],
         "mode": "lines",
         "showlegend": false,
         "type": "scattermapbox"
        },
        {
         "fill": "toself",
         "fillcolor": "rgba(255,0,0,0.3)",
         "lat": [
          -38.222446,
          -38.21072,
          -38.21072,
          -38.222446,
          -38.222446
         ],
         "line": {
          "color": "white"
         },
         "lon": [
          -72.8378,
          -72.8378,
          -72.836151,
          -72.836151,
          -72.8378
         ],
         "mode": "lines",
         "showlegend": false,
         "type": "scattermapbox"
        },
        {
         "fill": "toself",
         "fillcolor": "rgba(255,0,0,0.3)",
         "lat": [
          -34.6906,
          -34.683624,
          -34.683624,
          -34.6906,
          -34.6906
         ],
         "line": {
          "color": "white"
         },
         "lon": [
          -71.2522,
          -71.2522,
          -71.250214,
          -71.250214,
          -71.2522
         ],
         "mode": "lines",
         "showlegend": false,
         "type": "scattermapbox"
        },
        {
         "fill": "toself",
         "fillcolor": "rgba(255,0,0,0.3)",
         "lat": [
          -38.1567,
          -38.1553,
          -38.1553,
          -38.1567,
          -38.1567
         ],
         "line": {
          "color": "white"
         },
         "lon": [
          -72.936,
          -72.936,
          -72.9255,
          -72.9255,
          -72.936
         ],
         "mode": "lines",
         "showlegend": false,
         "type": "scattermapbox"
        },
        {
         "fill": "toself",
         "fillcolor": "rgba(255,0,0,0.3)",
         "lat": [
          -37.9418,
          -37.928585,
          -37.928585,
          -37.9418,
          -37.9418
         ],
         "line": {
          "color": "white"
         },
         "lon": [
          -73.364738,
          -73.364738,
          -73.35305,
          -73.35305,
          -73.364738
         ],
         "mode": "lines",
         "showlegend": false,
         "type": "scattermapbox"
        },
        {
         "fill": "toself",
         "fillcolor": "rgba(255,0,0,0.3)",
         "lat": [
          -33.0957,
          -33.088081,
          -33.088081,
          -33.0957,
          -33.0957
         ],
         "line": {
          "color": "white"
         },
         "lon": [
          -71.622635,
          -71.622635,
          -71.60849,
          -71.60849,
          -71.622635
         ],
         "mode": "lines",
         "showlegend": false,
         "type": "scattermapbox"
        },
        {
         "fill": "toself",
         "fillcolor": "rgba(255,0,0,0.3)",
         "lat": [
          -38.436058,
          -38.4342,
          -38.4342,
          -38.436058,
          -38.436058
         ],
         "line": {
          "color": "white"
         },
         "lon": [
          -72.010963,
          -72.010963,
          -72.00502,
          -72.00502,
          -72.010963
         ],
         "mode": "lines",
         "showlegend": false,
         "type": "scattermapbox"
        },
        {
         "fill": "toself",
         "fillcolor": "rgba(255,0,0,0.3)",
         "lat": [
          -36.905548,
          -36.8943,
          -36.8943,
          -36.905548,
          -36.905548
         ],
         "line": {
          "color": "white"
         },
         "lon": [
          -72.578232,
          -72.578232,
          -72.576263,
          -72.576263,
          -72.578232
         ],
         "mode": "lines",
         "showlegend": false,
         "type": "scattermapbox"
        },
        {
         "fill": "toself",
         "fillcolor": "rgba(255,0,0,0.3)",
         "lat": [
          -36.6073,
          -36.591,
          -36.591,
          -36.6073,
          -36.6073
         ],
         "line": {
          "color": "white"
         },
         "lon": [
          -71.96917,
          -71.96917,
          -71.9603,
          -71.9603,
          -71.96917
         ],
         "mode": "lines",
         "showlegend": false,
         "type": "scattermapbox"
        },
        {
         "fill": "toself",
         "fillcolor": "rgba(255,0,0,0.3)",
         "lat": [
          -38.419003,
          -38.417664,
          -38.417664,
          -38.419003,
          -38.419003
         ],
         "line": {
          "color": "white"
         },
         "lon": [
          -72.508812,
          -72.508812,
          -72.499954,
          -72.499954,
          -72.508812
         ],
         "mode": "lines",
         "showlegend": false,
         "type": "scattermapbox"
        },
        {
         "fill": "toself",
         "fillcolor": "rgba(255,0,0,0.3)",
         "lat": [
          -36.170269,
          -36.1663,
          -36.1663,
          -36.170269,
          -36.170269
         ],
         "line": {
          "color": "white"
         },
         "lon": [
          -72.647072,
          -72.647072,
          -72.641983,
          -72.641983,
          -72.647072
         ],
         "mode": "lines",
         "showlegend": false,
         "type": "scattermapbox"
        },
        {
         "fill": "toself",
         "fillcolor": "rgba(255,0,0,0.3)",
         "lat": [
          -35.5253,
          -35.508987,
          -35.508987,
          -35.5253,
          -35.5253
         ],
         "line": {
          "color": "white"
         },
         "lon": [
          -72.1289,
          -72.1289,
          -72.1145,
          -72.1145,
          -72.1289
         ],
         "mode": "lines",
         "showlegend": false,
         "type": "scattermapbox"
        },
        {
         "fill": "toself",
         "fillcolor": "rgba(255,0,0,0.3)",
         "lat": [
          -38.5179,
          -38.501064,
          -38.501064,
          -38.5179,
          -38.5179
         ],
         "line": {
          "color": "white"
         },
         "lon": [
          -72.1756,
          -72.1756,
          -72.1417,
          -72.1417,
          -72.1756
         ],
         "mode": "lines",
         "showlegend": false,
         "type": "scattermapbox"
        },
        {
         "fill": "toself",
         "fillcolor": "rgba(255,0,0,0.3)",
         "lat": [
          -35.7948,
          -35.7905,
          -35.7905,
          -35.7948,
          -35.7948
         ],
         "line": {
          "color": "white"
         },
         "lon": [
          -72.3037,
          -72.3037,
          -72.282127,
          -72.282127,
          -72.3037
         ],
         "mode": "lines",
         "showlegend": false,
         "type": "scattermapbox"
        },
        {
         "fill": "toself",
         "fillcolor": "rgba(255,0,0,0.3)",
         "lat": [
          -36.9625,
          -36.956951,
          -36.956951,
          -36.9625,
          -36.9625
         ],
         "line": {
          "color": "white"
         },
         "lon": [
          -72.0964,
          -72.0964,
          -72.08638,
          -72.08638,
          -72.0964
         ],
         "mode": "lines",
         "showlegend": false,
         "type": "scattermapbox"
        },
        {
         "fill": "toself",
         "fillcolor": "rgba(255,0,0,0.3)",
         "lat": [
          -38.329731,
          -38.324337,
          -38.324337,
          -38.329731,
          -38.329731
         ],
         "line": {
          "color": "white"
         },
         "lon": [
          -72.921837,
          -72.921837,
          -72.919006,
          -72.919006,
          -72.921837
         ],
         "mode": "lines",
         "showlegend": false,
         "type": "scattermapbox"
        },
        {
         "fill": "toself",
         "fillcolor": "rgba(255,0,0,0.3)",
         "lat": [
          -35.616,
          -35.6095,
          -35.6095,
          -35.616,
          -35.616
         ],
         "line": {
          "color": "white"
         },
         "lon": [
          -71.9725,
          -71.9725,
          -71.9627,
          -71.9627,
          -71.9725
         ],
         "mode": "lines",
         "showlegend": false,
         "type": "scattermapbox"
        },
        {
         "fill": "toself",
         "fillcolor": "rgba(255,0,0,0.3)",
         "lat": [
          -38.1878,
          -38.1698,
          -38.1698,
          -38.1878,
          -38.1878
         ],
         "line": {
          "color": "white"
         },
         "lon": [
          -72.9675,
          -72.9675,
          -72.959167,
          -72.959167,
          -72.9675
         ],
         "mode": "lines",
         "showlegend": false,
         "type": "scattermapbox"
        },
        {
         "fill": "toself",
         "fillcolor": "rgba(255,0,0,0.3)",
         "lat": [
          -39.1202,
          -39.112068,
          -39.112068,
          -39.1202,
          -39.1202
         ],
         "line": {
          "color": "white"
         },
         "lon": [
          -72.485291,
          -72.485291,
          -72.478607,
          -72.478607,
          -72.485291
         ],
         "mode": "lines",
         "showlegend": false,
         "type": "scattermapbox"
        },
        {
         "fill": "toself",
         "fillcolor": "rgba(255,0,0,0.3)",
         "lat": [
          -35.6319,
          -35.620972,
          -35.620972,
          -35.6319,
          -35.6319
         ],
         "line": {
          "color": "white"
         },
         "lon": [
          -72.234566,
          -72.234566,
          -72.230537,
          -72.230537,
          -72.234566
         ],
         "mode": "lines",
         "showlegend": false,
         "type": "scattermapbox"
        },
        {
         "fill": "toself",
         "fillcolor": "rgba(255,0,0,0.3)",
         "lat": [
          -35.4798,
          -35.45742,
          -35.45742,
          -35.4798,
          -35.4798
         ],
         "line": {
          "color": "white"
         },
         "lon": [
          -72.12751,
          -72.12751,
          -72.081139,
          -72.081139,
          -72.12751
         ],
         "mode": "lines",
         "showlegend": false,
         "type": "scattermapbox"
        },
        {
         "fill": "toself",
         "fillcolor": "rgba(255,0,0,0.3)",
         "lat": [
          -37.9543,
          -37.9422,
          -37.9422,
          -37.9543,
          -37.9543
         ],
         "line": {
          "color": "white"
         },
         "lon": [
          -73.323341,
          -73.323341,
          -73.3127,
          -73.3127,
          -73.323341
         ],
         "mode": "lines",
         "showlegend": false,
         "type": "scattermapbox"
        },
        {
         "fill": "toself",
         "fillcolor": "rgba(255,0,0,0.3)",
         "lat": [
          -35.3739,
          -35.3587,
          -35.3587,
          -35.3739,
          -35.3739
         ],
         "line": {
          "color": "white"
         },
         "lon": [
          -71.0973,
          -71.0973,
          -71.081,
          -71.081,
          -71.0973
         ],
         "mode": "lines",
         "showlegend": false,
         "type": "scattermapbox"
        },
        {
         "fill": "toself",
         "fillcolor": "rgba(255,0,0,0.3)",
         "lat": [
          -36.6371,
          -36.6264,
          -36.6264,
          -36.6371,
          -36.6371
         ],
         "line": {
          "color": "white"
         },
         "lon": [
          -72.8431,
          -72.8431,
          -72.8403,
          -72.8403,
          -72.8431
         ],
         "mode": "lines",
         "showlegend": false,
         "type": "scattermapbox"
        },
        {
         "fill": "toself",
         "fillcolor": "rgba(255,0,0,0.3)",
         "lat": [
          -36.97662,
          -36.967823,
          -36.967823,
          -36.97662,
          -36.97662
         ],
         "line": {
          "color": "white"
         },
         "lon": [
          -71.995712,
          -71.995712,
          -71.9816,
          -71.9816,
          -71.995712
         ],
         "mode": "lines",
         "showlegend": false,
         "type": "scattermapbox"
        },
        {
         "fill": "toself",
         "fillcolor": "rgba(255,0,0,0.3)",
         "lat": [
          -36.9949,
          -36.9778,
          -36.9778,
          -36.9949,
          -36.9949
         ],
         "line": {
          "color": "white"
         },
         "lon": [
          -72.015633,
          -72.015633,
          -71.9991,
          -71.9991,
          -72.015633
         ],
         "mode": "lines",
         "showlegend": false,
         "type": "scattermapbox"
        },
        {
         "fill": "toself",
         "fillcolor": "rgba(255,0,0,0.3)",
         "lat": [
          -36.5017,
          -36.491028,
          -36.491028,
          -36.5017,
          -36.5017
         ],
         "line": {
          "color": "white"
         },
         "lon": [
          -72.1815,
          -72.1815,
          -72.1773,
          -72.1773,
          -72.1815
         ],
         "mode": "lines",
         "showlegend": false,
         "type": "scattermapbox"
        },
        {
         "fill": "toself",
         "fillcolor": "rgba(255,0,0,0.3)",
         "lat": [
          -35.388893,
          -35.376122,
          -35.376122,
          -35.388893,
          -35.388893
         ],
         "line": {
          "color": "white"
         },
         "lon": [
          -71.0777,
          -71.0777,
          -71.050949,
          -71.050949,
          -71.0777
         ],
         "mode": "lines",
         "showlegend": false,
         "type": "scattermapbox"
        },
        {
         "fill": "toself",
         "fillcolor": "rgba(255,0,0,0.3)",
         "lat": [
          -37.9294,
          -37.9198,
          -37.9198,
          -37.9294,
          -37.9294
         ],
         "line": {
          "color": "white"
         },
         "lon": [
          -72.101601,
          -72.101601,
          -72.094,
          -72.094,
          -72.101601
         ],
         "mode": "lines",
         "showlegend": false,
         "type": "scattermapbox"
        },
        {
         "fill": "toself",
         "fillcolor": "rgba(255,0,0,0.3)",
         "lat": [
          -34.5717,
          -34.5567,
          -34.5567,
          -34.5717,
          -34.5717
         ],
         "line": {
          "color": "white"
         },
         "lon": [
          -71.851158,
          -71.851158,
          -71.8475,
          -71.8475,
          -71.851158
         ],
         "mode": "lines",
         "showlegend": false,
         "type": "scattermapbox"
        },
        {
         "fill": "toself",
         "fillcolor": "rgba(255,0,0,0.3)",
         "lat": [
          -39.1112,
          -39.0993,
          -39.0993,
          -39.1112,
          -39.1112
         ],
         "line": {
          "color": "white"
         },
         "lon": [
          -72.319321,
          -72.319321,
          -72.3147,
          -72.3147,
          -72.319321
         ],
         "mode": "lines",
         "showlegend": false,
         "type": "scattermapbox"
        },
        {
         "fill": "toself",
         "fillcolor": "rgba(255,0,0,0.3)",
         "lat": [
          -36.779922,
          -36.7791,
          -36.7791,
          -36.779922,
          -36.779922
         ],
         "line": {
          "color": "white"
         },
         "lon": [
          -72.784561,
          -72.784561,
          -72.7726,
          -72.7726,
          -72.784561
         ],
         "mode": "lines",
         "showlegend": false,
         "type": "scattermapbox"
        },
        {
         "fill": "toself",
         "fillcolor": "rgba(255,0,0,0.3)",
         "lat": [
          -39.131485,
          -39.1279,
          -39.1279,
          -39.131485,
          -39.131485
         ],
         "line": {
          "color": "white"
         },
         "lon": [
          -72.6367,
          -72.6367,
          -72.623581,
          -72.623581,
          -72.6367
         ],
         "mode": "lines",
         "showlegend": false,
         "type": "scattermapbox"
        },
        {
         "fill": "toself",
         "fillcolor": "rgba(255,0,0,0.3)",
         "lat": [
          -37.7981,
          -37.776,
          -37.776,
          -37.7981,
          -37.7981
         ],
         "line": {
          "color": "white"
         },
         "lon": [
          -72.3873,
          -72.3873,
          -72.373398,
          -72.373398,
          -72.3873
         ],
         "mode": "lines",
         "showlegend": false,
         "type": "scattermapbox"
        },
        {
         "fill": "toself",
         "fillcolor": "rgba(255,0,0,0.3)",
         "lat": [
          -36.2458,
          -36.240486,
          -36.240486,
          -36.2458,
          -36.2458
         ],
         "line": {
          "color": "white"
         },
         "lon": [
          -72.5323,
          -72.5323,
          -72.525528,
          -72.525528,
          -72.5323
         ],
         "mode": "lines",
         "showlegend": false,
         "type": "scattermapbox"
        },
        {
         "fill": "toself",
         "fillcolor": "rgba(255,0,0,0.3)",
         "lat": [
          -37.982693,
          -37.9683,
          -37.9683,
          -37.982693,
          -37.982693
         ],
         "line": {
          "color": "white"
         },
         "lon": [
          -72.3086,
          -72.3086,
          -72.2999,
          -72.2999,
          -72.3086
         ],
         "mode": "lines",
         "showlegend": false,
         "type": "scattermapbox"
        },
        {
         "fill": "toself",
         "fillcolor": "rgba(255,0,0,0.3)",
         "lat": [
          -36.924492,
          -36.913036,
          -36.913036,
          -36.924492,
          -36.924492
         ],
         "line": {
          "color": "white"
         },
         "lon": [
          -72.122757,
          -72.122757,
          -72.1121,
          -72.1121,
          -72.122757
         ],
         "mode": "lines",
         "showlegend": false,
         "type": "scattermapbox"
        },
        {
         "fill": "toself",
         "fillcolor": "rgba(255,0,0,0.3)",
         "lat": [
          -38.52,
          -38.5084,
          -38.5084,
          -38.52,
          -38.52
         ],
         "line": {
          "color": "white"
         },
         "lon": [
          -72.1881,
          -72.1881,
          -72.186729,
          -72.186729,
          -72.1881
         ],
         "mode": "lines",
         "showlegend": false,
         "type": "scattermapbox"
        },
        {
         "fill": "toself",
         "fillcolor": "rgba(255,0,0,0.3)",
         "lat": [
          -38.5607,
          -38.5539,
          -38.5539,
          -38.5607,
          -38.5607
         ],
         "line": {
          "color": "white"
         },
         "lon": [
          -72.565,
          -72.565,
          -72.5608,
          -72.5608,
          -72.565
         ],
         "mode": "lines",
         "showlegend": false,
         "type": "scattermapbox"
        },
        {
         "fill": "toself",
         "fillcolor": "rgba(255,0,0,0.3)",
         "lat": [
          -33.922,
          -33.917503,
          -33.917503,
          -33.922,
          -33.922
         ],
         "line": {
          "color": "white"
         },
         "lon": [
          -71.555893,
          -71.555893,
          -71.547585,
          -71.547585,
          -71.555893
         ],
         "mode": "lines",
         "showlegend": false,
         "type": "scattermapbox"
        },
        {
         "fill": "toself",
         "fillcolor": "rgba(255,0,0,0.3)",
         "lat": [
          -36.6871,
          -36.67588,
          -36.67588,
          -36.6871,
          -36.6871
         ],
         "line": {
          "color": "white"
         },
         "lon": [
          -71.855408,
          -71.855408,
          -71.8445,
          -71.8445,
          -71.855408
         ],
         "mode": "lines",
         "showlegend": false,
         "type": "scattermapbox"
        },
        {
         "fill": "toself",
         "fillcolor": "rgba(255,0,0,0.3)",
         "lat": [
          -38.109722,
          -38.100376,
          -38.100376,
          -38.109722,
          -38.109722
         ],
         "line": {
          "color": "white"
         },
         "lon": [
          -72.654976,
          -72.654976,
          -72.647903,
          -72.647903,
          -72.654976
         ],
         "mode": "lines",
         "showlegend": false,
         "type": "scattermapbox"
        },
        {
         "fill": "toself",
         "fillcolor": "rgba(255,0,0,0.3)",
         "lat": [
          -39.049477,
          -39.047325,
          -39.047325,
          -39.049477,
          -39.049477
         ],
         "line": {
          "color": "white"
         },
         "lon": [
          -72.2258,
          -72.2258,
          -72.220543,
          -72.220543,
          -72.2258
         ],
         "mode": "lines",
         "showlegend": false,
         "type": "scattermapbox"
        },
        {
         "fill": "toself",
         "fillcolor": "rgba(255,0,0,0.3)",
         "lat": [
          -38.9696,
          -38.954945,
          -38.954945,
          -38.9696,
          -38.9696
         ],
         "line": {
          "color": "white"
         },
         "lon": [
          -72.2522,
          -72.2522,
          -72.243134,
          -72.243134,
          -72.2522
         ],
         "mode": "lines",
         "showlegend": false,
         "type": "scattermapbox"
        },
        {
         "fill": "toself",
         "fillcolor": "rgba(255,0,0,0.3)",
         "lat": [
          -38.227383,
          -38.2172,
          -38.2172,
          -38.227383,
          -38.227383
         ],
         "line": {
          "color": "white"
         },
         "lon": [
          -72.3852,
          -72.3852,
          -72.3751,
          -72.3751,
          -72.3852
         ],
         "mode": "lines",
         "showlegend": false,
         "type": "scattermapbox"
        },
        {
         "fill": "toself",
         "fillcolor": "rgba(255,0,0,0.3)",
         "lat": [
          -41.0995,
          -41.0886,
          -41.0886,
          -41.0995,
          -41.0995
         ],
         "line": {
          "color": "white"
         },
         "lon": [
          -73.3739,
          -73.3739,
          -73.359055,
          -73.359055,
          -73.3739
         ],
         "mode": "lines",
         "showlegend": false,
         "type": "scattermapbox"
        },
        {
         "fill": "toself",
         "fillcolor": "rgba(255,0,0,0.3)",
         "lat": [
          -38.5392,
          -38.5313,
          -38.5313,
          -38.5392,
          -38.5392
         ],
         "line": {
          "color": "white"
         },
         "lon": [
          -72.62944,
          -72.62944,
          -72.6176,
          -72.6176,
          -72.62944
         ],
         "mode": "lines",
         "showlegend": false,
         "type": "scattermapbox"
        },
        {
         "fill": "toself",
         "fillcolor": "rgba(255,0,0,0.3)",
         "lat": [
          -37.651875,
          -37.637524,
          -37.637524,
          -37.651875,
          -37.651875
         ],
         "line": {
          "color": "white"
         },
         "lon": [
          -72.017136,
          -72.017136,
          -72.0091,
          -72.0091,
          -72.017136
         ],
         "mode": "lines",
         "showlegend": false,
         "type": "scattermapbox"
        },
        {
         "fill": "toself",
         "fillcolor": "rgba(255,0,0,0.3)",
         "lat": [
          -40.500591,
          -40.499626,
          -40.499626,
          -40.500591,
          -40.500591
         ],
         "line": {
          "color": "white"
         },
         "lon": [
          -73.211792,
          -73.211792,
          -73.203835,
          -73.203835,
          -73.211792
         ],
         "mode": "lines",
         "showlegend": false,
         "type": "scattermapbox"
        },
        {
         "fill": "toself",
         "fillcolor": "rgba(255,0,0,0.3)",
         "lat": [
          -38.1193,
          -38.114674,
          -38.114674,
          -38.1193,
          -38.1193
         ],
         "line": {
          "color": "white"
         },
         "lon": [
          -73.4138,
          -73.4138,
          -73.4061,
          -73.4061,
          -73.4138
         ],
         "mode": "lines",
         "showlegend": false,
         "type": "scattermapbox"
        },
        {
         "fill": "toself",
         "fillcolor": "rgba(255,0,0,0.3)",
         "lat": [
          -37.6966,
          -37.672783,
          -37.672783,
          -37.6966,
          -37.6966
         ],
         "line": {
          "color": "white"
         },
         "lon": [
          -72.373924,
          -72.373924,
          -72.362709,
          -72.362709,
          -72.373924
         ],
         "mode": "lines",
         "showlegend": false,
         "type": "scattermapbox"
        },
        {
         "fill": "toself",
         "fillcolor": "rgba(255,0,0,0.3)",
         "lat": [
          -38.532478,
          -38.527,
          -38.527,
          -38.532478,
          -38.532478
         ],
         "line": {
          "color": "white"
         },
         "lon": [
          -72.0869,
          -72.0869,
          -72.0694,
          -72.0694,
          -72.0869
         ],
         "mode": "lines",
         "showlegend": false,
         "type": "scattermapbox"
        },
        {
         "fill": "toself",
         "fillcolor": "rgba(255,0,0,0.3)",
         "lat": [
          -36.386021,
          -36.374149,
          -36.374149,
          -36.386021,
          -36.386021
         ],
         "line": {
          "color": "white"
         },
         "lon": [
          -71.7242,
          -71.7242,
          -71.71244,
          -71.71244,
          -71.7242
         ],
         "mode": "lines",
         "showlegend": false,
         "type": "scattermapbox"
        },
        {
         "fill": "toself",
         "fillcolor": "rgba(255,0,0,0.3)",
         "lat": [
          -38.3737,
          -38.361912,
          -38.361912,
          -38.3737,
          -38.3737
         ],
         "line": {
          "color": "white"
         },
         "lon": [
          -72.006615,
          -72.006615,
          -71.9998,
          -71.9998,
          -72.006615
         ],
         "mode": "lines",
         "showlegend": false,
         "type": "scattermapbox"
        },
        {
         "fill": "toself",
         "fillcolor": "rgba(255,0,0,0.3)",
         "lat": [
          -36.3586,
          -36.341972,
          -36.341972,
          -36.3586,
          -36.3586
         ],
         "line": {
          "color": "white"
         },
         "lon": [
          -71.7367,
          -71.7367,
          -71.717697,
          -71.717697,
          -71.7367
         ],
         "mode": "lines",
         "showlegend": false,
         "type": "scattermapbox"
        },
        {
         "fill": "toself",
         "fillcolor": "rgba(255,0,0,0.3)",
         "lat": [
          -38.797787,
          -38.7897,
          -38.7897,
          -38.797787,
          -38.797787
         ],
         "line": {
          "color": "white"
         },
         "lon": [
          -72.298645,
          -72.298645,
          -72.2955,
          -72.2955,
          -72.298645
         ],
         "mode": "lines",
         "showlegend": false,
         "type": "scattermapbox"
        },
        {
         "fill": "toself",
         "fillcolor": "rgba(255,0,0,0.3)",
         "lat": [
          -37.730755,
          -37.721889,
          -37.721889,
          -37.730755,
          -37.730755
         ],
         "line": {
          "color": "white"
         },
         "lon": [
          -72.121529,
          -72.121529,
          -72.109428,
          -72.109428,
          -72.121529
         ],
         "mode": "lines",
         "showlegend": false,
         "type": "scattermapbox"
        },
        {
         "fill": "toself",
         "fillcolor": "rgba(255,0,0,0.3)",
         "lat": [
          -37.962318,
          -37.9593,
          -37.9593,
          -37.962318,
          -37.962318
         ],
         "line": {
          "color": "white"
         },
         "lon": [
          -73.338074,
          -73.338074,
          -73.329292,
          -73.329292,
          -73.338074
         ],
         "mode": "lines",
         "showlegend": false,
         "type": "scattermapbox"
        },
        {
         "fill": "toself",
         "fillcolor": "rgba(255,0,0,0.3)",
         "lat": [
          -35.6354,
          -35.6255,
          -35.6255,
          -35.6354,
          -35.6354
         ],
         "line": {
          "color": "white"
         },
         "lon": [
          -72.322,
          -72.322,
          -72.3183,
          -72.3183,
          -72.322
         ],
         "mode": "lines",
         "showlegend": false,
         "type": "scattermapbox"
        },
        {
         "fill": "toself",
         "fillcolor": "rgba(255,0,0,0.3)",
         "lat": [
          -38.1706,
          -38.165,
          -38.165,
          -38.1706,
          -38.1706
         ],
         "line": {
          "color": "white"
         },
         "lon": [
          -72.9465,
          -72.9465,
          -72.9441,
          -72.9441,
          -72.9465
         ],
         "mode": "lines",
         "showlegend": false,
         "type": "scattermapbox"
        },
        {
         "fill": "toself",
         "fillcolor": "rgba(255,0,0,0.3)",
         "lat": [
          -36.9373,
          -36.9273,
          -36.9273,
          -36.9373,
          -36.9373
         ],
         "line": {
          "color": "white"
         },
         "lon": [
          -72.709,
          -72.709,
          -72.705292,
          -72.705292,
          -72.709
         ],
         "mode": "lines",
         "showlegend": false,
         "type": "scattermapbox"
        },
        {
         "fill": "toself",
         "fillcolor": "rgba(255,0,0,0.3)",
         "lat": [
          -38.3782,
          -38.373814,
          -38.373814,
          -38.3782,
          -38.3782
         ],
         "line": {
          "color": "white"
         },
         "lon": [
          -72.0318,
          -72.0318,
          -72.0205,
          -72.0205,
          -72.0318
         ],
         "mode": "lines",
         "showlegend": false,
         "type": "scattermapbox"
        },
        {
         "fill": "toself",
         "fillcolor": "rgba(255,0,0,0.3)",
         "lat": [
          -38.1497,
          -38.1402,
          -38.1402,
          -38.1497,
          -38.1497
         ],
         "line": {
          "color": "white"
         },
         "lon": [
          -72.5932,
          -72.5932,
          -72.587135,
          -72.587135,
          -72.5932
         ],
         "mode": "lines",
         "showlegend": false,
         "type": "scattermapbox"
        },
        {
         "fill": "toself",
         "fillcolor": "rgba(255,0,0,0.3)",
         "lat": [
          -38.339897,
          -38.328632,
          -38.328632,
          -38.339897,
          -38.339897
         ],
         "line": {
          "color": "white"
         },
         "lon": [
          -73.469833,
          -73.469833,
          -73.458504,
          -73.458504,
          -73.469833
         ],
         "mode": "lines",
         "showlegend": false,
         "type": "scattermapbox"
        },
        {
         "fill": "toself",
         "fillcolor": "rgba(255,0,0,0.3)",
         "lat": [
          -39.046093,
          -39.042984,
          -39.042984,
          -39.046093,
          -39.046093
         ],
         "line": {
          "color": "white"
         },
         "lon": [
          -72.419533,
          -72.419533,
          -72.411026,
          -72.411026,
          -72.419533
         ],
         "mode": "lines",
         "showlegend": false,
         "type": "scattermapbox"
        },
        {
         "fill": "toself",
         "fillcolor": "rgba(255,0,0,0.3)",
         "lat": [
          -36.7915,
          -36.7873,
          -36.7873,
          -36.7915,
          -36.7915
         ],
         "line": {
          "color": "white"
         },
         "lon": [
          -72.122261,
          -72.122261,
          -72.116295,
          -72.116295,
          -72.122261
         ],
         "mode": "lines",
         "showlegend": false,
         "type": "scattermapbox"
        },
        {
         "fill": "toself",
         "fillcolor": "rgba(255,0,0,0.3)",
         "lat": [
          -37.132351,
          -37.131317,
          -37.131317,
          -37.132351,
          -37.132351
         ],
         "line": {
          "color": "white"
         },
         "lon": [
          -71.893806,
          -71.893806,
          -71.8817,
          -71.8817,
          -71.893806
         ],
         "mode": "lines",
         "showlegend": false,
         "type": "scattermapbox"
        },
        {
         "fill": "toself",
         "fillcolor": "rgba(255,0,0,0.3)",
         "lat": [
          -36.9443,
          -36.9414,
          -36.9414,
          -36.9443,
          -36.9443
         ],
         "line": {
          "color": "white"
         },
         "lon": [
          -71.9662,
          -71.9662,
          -71.955521,
          -71.955521,
          -71.9662
         ],
         "mode": "lines",
         "showlegend": false,
         "type": "scattermapbox"
        },
        {
         "fill": "toself",
         "fillcolor": "rgba(255,0,0,0.3)",
         "lat": [
          -36.841114,
          -36.83604,
          -36.83604,
          -36.841114,
          -36.841114
         ],
         "line": {
          "color": "white"
         },
         "lon": [
          -71.865517,
          -71.865517,
          -71.857887,
          -71.857887,
          -71.865517
         ],
         "mode": "lines",
         "showlegend": false,
         "type": "scattermapbox"
        },
        {
         "fill": "toself",
         "fillcolor": "rgba(255,0,0,0.3)",
         "lat": [
          -37.623081,
          -37.617538,
          -37.617538,
          -37.623081,
          -37.623081
         ],
         "line": {
          "color": "white"
         },
         "lon": [
          -71.923538,
          -71.923538,
          -71.915138,
          -71.915138,
          -71.923538
         ],
         "mode": "lines",
         "showlegend": false,
         "type": "scattermapbox"
        },
        {
         "fill": "toself",
         "fillcolor": "rgba(255,0,0,0.3)",
         "lat": [
          -35.64613,
          -35.641712,
          -35.641712,
          -35.64613,
          -35.64613
         ],
         "line": {
          "color": "white"
         },
         "lon": [
          -72.1605,
          -72.1605,
          -72.152435,
          -72.152435,
          -72.1605
         ],
         "mode": "lines",
         "showlegend": false,
         "type": "scattermapbox"
        },
        {
         "fill": "toself",
         "fillcolor": "rgba(255,0,0,0.3)",
         "lat": [
          -34.5561,
          -34.5554,
          -34.5554,
          -34.5561,
          -34.5561
         ],
         "line": {
          "color": "white"
         },
         "lon": [
          -71.8459,
          -71.8459,
          -71.8358,
          -71.8358,
          -71.8459
         ],
         "mode": "lines",
         "showlegend": false,
         "type": "scattermapbox"
        },
        {
         "fill": "toself",
         "fillcolor": "rgba(255,0,0,0.3)",
         "lat": [
          -36.4361,
          -36.424763,
          -36.424763,
          -36.4361,
          -36.4361
         ],
         "line": {
          "color": "white"
         },
         "lon": [
          -71.6652,
          -71.6652,
          -71.660088,
          -71.660088,
          -71.6652
         ],
         "mode": "lines",
         "showlegend": false,
         "type": "scattermapbox"
        },
        {
         "fill": "toself",
         "fillcolor": "rgba(255,0,0,0.3)",
         "lat": [
          -36.8636,
          -36.8582,
          -36.8582,
          -36.8636,
          -36.8636
         ],
         "line": {
          "color": "white"
         },
         "lon": [
          -72.7054,
          -72.7054,
          -72.685,
          -72.685,
          -72.7054
         ],
         "mode": "lines",
         "showlegend": false,
         "type": "scattermapbox"
        },
        {
         "fill": "toself",
         "fillcolor": "rgba(255,0,0,0.3)",
         "lat": [
          -33.6062,
          -33.604164,
          -33.604164,
          -33.6062,
          -33.6062
         ],
         "line": {
          "color": "white"
         },
         "lon": [
          -70.4391,
          -70.4391,
          -70.433525,
          -70.433525,
          -70.4391
         ],
         "mode": "lines",
         "showlegend": false,
         "type": "scattermapbox"
        },
        {
         "fill": "toself",
         "fillcolor": "rgba(255,0,0,0.3)",
         "lat": [
          -35.5363,
          -35.5085,
          -35.5085,
          -35.5363,
          -35.5363
         ],
         "line": {
          "color": "white"
         },
         "lon": [
          -72.191933,
          -72.191933,
          -72.1572,
          -72.1572,
          -72.191933
         ],
         "mode": "lines",
         "showlegend": false,
         "type": "scattermapbox"
        },
        {
         "fill": "toself",
         "fillcolor": "rgba(255,0,0,0.3)",
         "lat": [
          -36.816589,
          -36.809452,
          -36.809452,
          -36.816589,
          -36.816589
         ],
         "line": {
          "color": "white"
         },
         "lon": [
          -72.524017,
          -72.524017,
          -72.5188,
          -72.5188,
          -72.524017
         ],
         "mode": "lines",
         "showlegend": false,
         "type": "scattermapbox"
        },
        {
         "fill": "toself",
         "fillcolor": "rgba(255,0,0,0.3)",
         "lat": [
          -35.70369,
          -35.702408,
          -35.702408,
          -35.70369,
          -35.70369
         ],
         "line": {
          "color": "white"
         },
         "lon": [
          -72.374344,
          -72.374344,
          -72.363914,
          -72.363914,
          -72.374344
         ],
         "mode": "lines",
         "showlegend": false,
         "type": "scattermapbox"
        },
        {
         "fill": "toself",
         "fillcolor": "rgba(255,0,0,0.3)",
         "lat": [
          -38.4611,
          -38.4492,
          -38.4492,
          -38.4611,
          -38.4611
         ],
         "line": {
          "color": "white"
         },
         "lon": [
          -73.0724,
          -73.0724,
          -73.0681,
          -73.0681,
          -73.0724
         ],
         "mode": "lines",
         "showlegend": false,
         "type": "scattermapbox"
        },
        {
         "fill": "toself",
         "fillcolor": "rgba(255,0,0,0.3)",
         "lat": [
          -33.146824,
          -33.139874,
          -33.139874,
          -33.146824,
          -33.146824
         ],
         "line": {
          "color": "white"
         },
         "lon": [
          -71.58654,
          -71.58654,
          -71.576561,
          -71.576561,
          -71.58654
         ],
         "mode": "lines",
         "showlegend": false,
         "type": "scattermapbox"
        },
        {
         "fill": "toself",
         "fillcolor": "rgba(255,0,0,0.3)",
         "lat": [
          -37.013199,
          -37.009506,
          -37.009506,
          -37.013199,
          -37.013199
         ],
         "line": {
          "color": "white"
         },
         "lon": [
          -72.087685,
          -72.087685,
          -72.076141,
          -72.076141,
          -72.087685
         ],
         "mode": "lines",
         "showlegend": false,
         "type": "scattermapbox"
        }
       ],
       "layout": {
        "height": 800,
        "legend": {
         "tracegroupgap": 0
        },
        "mapbox": {
         "accesstoken": "pk.eyJ1Ijoic2ViYXN0aWFudGFyZSIsImEiOiJjbHExcTUyOTUwOHA0MnJxbTQxNWx0cncwIn0.sQHfE5BiOUnPHPm7H6iVZw",
         "center": {
          "lat": -37.135712178,
          "lon": -72.23679699499999
         },
         "domain": {
          "x": [
           0,
           1
          ],
          "y": [
           0,
           1
          ]
         },
         "style": "satellite",
         "zoom": 10
        },
        "template": {
         "data": {
          "bar": [
           {
            "error_x": {
             "color": "#2a3f5f"
            },
            "error_y": {
             "color": "#2a3f5f"
            },
            "marker": {
             "line": {
              "color": "#E5ECF6",
              "width": 0.5
             },
             "pattern": {
              "fillmode": "overlay",
              "size": 10,
              "solidity": 0.2
             }
            },
            "type": "bar"
           }
          ],
          "barpolar": [
           {
            "marker": {
             "line": {
              "color": "#E5ECF6",
              "width": 0.5
             },
             "pattern": {
              "fillmode": "overlay",
              "size": 10,
              "solidity": 0.2
             }
            },
            "type": "barpolar"
           }
          ],
          "carpet": [
           {
            "aaxis": {
             "endlinecolor": "#2a3f5f",
             "gridcolor": "white",
             "linecolor": "white",
             "minorgridcolor": "white",
             "startlinecolor": "#2a3f5f"
            },
            "baxis": {
             "endlinecolor": "#2a3f5f",
             "gridcolor": "white",
             "linecolor": "white",
             "minorgridcolor": "white",
             "startlinecolor": "#2a3f5f"
            },
            "type": "carpet"
           }
          ],
          "choropleth": [
           {
            "colorbar": {
             "outlinewidth": 0,
             "ticks": ""
            },
            "type": "choropleth"
           }
          ],
          "contour": [
           {
            "colorbar": {
             "outlinewidth": 0,
             "ticks": ""
            },
            "colorscale": [
             [
              0,
              "#0d0887"
             ],
             [
              0.1111111111111111,
              "#46039f"
             ],
             [
              0.2222222222222222,
              "#7201a8"
             ],
             [
              0.3333333333333333,
              "#9c179e"
             ],
             [
              0.4444444444444444,
              "#bd3786"
             ],
             [
              0.5555555555555556,
              "#d8576b"
             ],
             [
              0.6666666666666666,
              "#ed7953"
             ],
             [
              0.7777777777777778,
              "#fb9f3a"
             ],
             [
              0.8888888888888888,
              "#fdca26"
             ],
             [
              1,
              "#f0f921"
             ]
            ],
            "type": "contour"
           }
          ],
          "contourcarpet": [
           {
            "colorbar": {
             "outlinewidth": 0,
             "ticks": ""
            },
            "type": "contourcarpet"
           }
          ],
          "heatmap": [
           {
            "colorbar": {
             "outlinewidth": 0,
             "ticks": ""
            },
            "colorscale": [
             [
              0,
              "#0d0887"
             ],
             [
              0.1111111111111111,
              "#46039f"
             ],
             [
              0.2222222222222222,
              "#7201a8"
             ],
             [
              0.3333333333333333,
              "#9c179e"
             ],
             [
              0.4444444444444444,
              "#bd3786"
             ],
             [
              0.5555555555555556,
              "#d8576b"
             ],
             [
              0.6666666666666666,
              "#ed7953"
             ],
             [
              0.7777777777777778,
              "#fb9f3a"
             ],
             [
              0.8888888888888888,
              "#fdca26"
             ],
             [
              1,
              "#f0f921"
             ]
            ],
            "type": "heatmap"
           }
          ],
          "histogram": [
           {
            "marker": {
             "pattern": {
              "fillmode": "overlay",
              "size": 10,
              "solidity": 0.2
             }
            },
            "type": "histogram"
           }
          ],
          "histogram2d": [
           {
            "colorbar": {
             "outlinewidth": 0,
             "ticks": ""
            },
            "colorscale": [
             [
              0,
              "#0d0887"
             ],
             [
              0.1111111111111111,
              "#46039f"
             ],
             [
              0.2222222222222222,
              "#7201a8"
             ],
             [
              0.3333333333333333,
              "#9c179e"
             ],
             [
              0.4444444444444444,
              "#bd3786"
             ],
             [
              0.5555555555555556,
              "#d8576b"
             ],
             [
              0.6666666666666666,
              "#ed7953"
             ],
             [
              0.7777777777777778,
              "#fb9f3a"
             ],
             [
              0.8888888888888888,
              "#fdca26"
             ],
             [
              1,
              "#f0f921"
             ]
            ],
            "type": "histogram2d"
           }
          ],
          "histogram2dcontour": [
           {
            "colorbar": {
             "outlinewidth": 0,
             "ticks": ""
            },
            "colorscale": [
             [
              0,
              "#0d0887"
             ],
             [
              0.1111111111111111,
              "#46039f"
             ],
             [
              0.2222222222222222,
              "#7201a8"
             ],
             [
              0.3333333333333333,
              "#9c179e"
             ],
             [
              0.4444444444444444,
              "#bd3786"
             ],
             [
              0.5555555555555556,
              "#d8576b"
             ],
             [
              0.6666666666666666,
              "#ed7953"
             ],
             [
              0.7777777777777778,
              "#fb9f3a"
             ],
             [
              0.8888888888888888,
              "#fdca26"
             ],
             [
              1,
              "#f0f921"
             ]
            ],
            "type": "histogram2dcontour"
           }
          ],
          "mesh3d": [
           {
            "colorbar": {
             "outlinewidth": 0,
             "ticks": ""
            },
            "type": "mesh3d"
           }
          ],
          "parcoords": [
           {
            "line": {
             "colorbar": {
              "outlinewidth": 0,
              "ticks": ""
             }
            },
            "type": "parcoords"
           }
          ],
          "pie": [
           {
            "automargin": true,
            "type": "pie"
           }
          ],
          "scatter": [
           {
            "fillpattern": {
             "fillmode": "overlay",
             "size": 10,
             "solidity": 0.2
            },
            "type": "scatter"
           }
          ],
          "scatter3d": [
           {
            "line": {
             "colorbar": {
              "outlinewidth": 0,
              "ticks": ""
             }
            },
            "marker": {
             "colorbar": {
              "outlinewidth": 0,
              "ticks": ""
             }
            },
            "type": "scatter3d"
           }
          ],
          "scattercarpet": [
           {
            "marker": {
             "colorbar": {
              "outlinewidth": 0,
              "ticks": ""
             }
            },
            "type": "scattercarpet"
           }
          ],
          "scattergeo": [
           {
            "marker": {
             "colorbar": {
              "outlinewidth": 0,
              "ticks": ""
             }
            },
            "type": "scattergeo"
           }
          ],
          "scattergl": [
           {
            "marker": {
             "colorbar": {
              "outlinewidth": 0,
              "ticks": ""
             }
            },
            "type": "scattergl"
           }
          ],
          "scattermap": [
           {
            "marker": {
             "colorbar": {
              "outlinewidth": 0,
              "ticks": ""
             }
            },
            "type": "scattermap"
           }
          ],
          "scattermapbox": [
           {
            "marker": {
             "colorbar": {
              "outlinewidth": 0,
              "ticks": ""
             }
            },
            "type": "scattermapbox"
           }
          ],
          "scatterpolar": [
           {
            "marker": {
             "colorbar": {
              "outlinewidth": 0,
              "ticks": ""
             }
            },
            "type": "scatterpolar"
           }
          ],
          "scatterpolargl": [
           {
            "marker": {
             "colorbar": {
              "outlinewidth": 0,
              "ticks": ""
             }
            },
            "type": "scatterpolargl"
           }
          ],
          "scatterternary": [
           {
            "marker": {
             "colorbar": {
              "outlinewidth": 0,
              "ticks": ""
             }
            },
            "type": "scatterternary"
           }
          ],
          "surface": [
           {
            "colorbar": {
             "outlinewidth": 0,
             "ticks": ""
            },
            "colorscale": [
             [
              0,
              "#0d0887"
             ],
             [
              0.1111111111111111,
              "#46039f"
             ],
             [
              0.2222222222222222,
              "#7201a8"
             ],
             [
              0.3333333333333333,
              "#9c179e"
             ],
             [
              0.4444444444444444,
              "#bd3786"
             ],
             [
              0.5555555555555556,
              "#d8576b"
             ],
             [
              0.6666666666666666,
              "#ed7953"
             ],
             [
              0.7777777777777778,
              "#fb9f3a"
             ],
             [
              0.8888888888888888,
              "#fdca26"
             ],
             [
              1,
              "#f0f921"
             ]
            ],
            "type": "surface"
           }
          ],
          "table": [
           {
            "cells": {
             "fill": {
              "color": "#EBF0F8"
             },
             "line": {
              "color": "white"
             }
            },
            "header": {
             "fill": {
              "color": "#C8D4E3"
             },
             "line": {
              "color": "white"
             }
            },
            "type": "table"
           }
          ]
         },
         "layout": {
          "annotationdefaults": {
           "arrowcolor": "#2a3f5f",
           "arrowhead": 0,
           "arrowwidth": 1
          },
          "autotypenumbers": "strict",
          "coloraxis": {
           "colorbar": {
            "outlinewidth": 0,
            "ticks": ""
           }
          },
          "colorscale": {
           "diverging": [
            [
             0,
             "#8e0152"
            ],
            [
             0.1,
             "#c51b7d"
            ],
            [
             0.2,
             "#de77ae"
            ],
            [
             0.3,
             "#f1b6da"
            ],
            [
             0.4,
             "#fde0ef"
            ],
            [
             0.5,
             "#f7f7f7"
            ],
            [
             0.6,
             "#e6f5d0"
            ],
            [
             0.7,
             "#b8e186"
            ],
            [
             0.8,
             "#7fbc41"
            ],
            [
             0.9,
             "#4d9221"
            ],
            [
             1,
             "#276419"
            ]
           ],
           "sequential": [
            [
             0,
             "#0d0887"
            ],
            [
             0.1111111111111111,
             "#46039f"
            ],
            [
             0.2222222222222222,
             "#7201a8"
            ],
            [
             0.3333333333333333,
             "#9c179e"
            ],
            [
             0.4444444444444444,
             "#bd3786"
            ],
            [
             0.5555555555555556,
             "#d8576b"
            ],
            [
             0.6666666666666666,
             "#ed7953"
            ],
            [
             0.7777777777777778,
             "#fb9f3a"
            ],
            [
             0.8888888888888888,
             "#fdca26"
            ],
            [
             1,
             "#f0f921"
            ]
           ],
           "sequentialminus": [
            [
             0,
             "#0d0887"
            ],
            [
             0.1111111111111111,
             "#46039f"
            ],
            [
             0.2222222222222222,
             "#7201a8"
            ],
            [
             0.3333333333333333,
             "#9c179e"
            ],
            [
             0.4444444444444444,
             "#bd3786"
            ],
            [
             0.5555555555555556,
             "#d8576b"
            ],
            [
             0.6666666666666666,
             "#ed7953"
            ],
            [
             0.7777777777777778,
             "#fb9f3a"
            ],
            [
             0.8888888888888888,
             "#fdca26"
            ],
            [
             1,
             "#f0f921"
            ]
           ]
          },
          "colorway": [
           "#636efa",
           "#EF553B",
           "#00cc96",
           "#ab63fa",
           "#FFA15A",
           "#19d3f3",
           "#FF6692",
           "#B6E880",
           "#FF97FF",
           "#FECB52"
          ],
          "font": {
           "color": "#2a3f5f"
          },
          "geo": {
           "bgcolor": "white",
           "lakecolor": "white",
           "landcolor": "#E5ECF6",
           "showlakes": true,
           "showland": true,
           "subunitcolor": "white"
          },
          "hoverlabel": {
           "align": "left"
          },
          "hovermode": "closest",
          "mapbox": {
           "style": "light"
          },
          "paper_bgcolor": "white",
          "plot_bgcolor": "#E5ECF6",
          "polar": {
           "angularaxis": {
            "gridcolor": "white",
            "linecolor": "white",
            "ticks": ""
           },
           "bgcolor": "#E5ECF6",
           "radialaxis": {
            "gridcolor": "white",
            "linecolor": "white",
            "ticks": ""
           }
          },
          "scene": {
           "xaxis": {
            "backgroundcolor": "#E5ECF6",
            "gridcolor": "white",
            "gridwidth": 2,
            "linecolor": "white",
            "showbackground": true,
            "ticks": "",
            "zerolinecolor": "white"
           },
           "yaxis": {
            "backgroundcolor": "#E5ECF6",
            "gridcolor": "white",
            "gridwidth": 2,
            "linecolor": "white",
            "showbackground": true,
            "ticks": "",
            "zerolinecolor": "white"
           },
           "zaxis": {
            "backgroundcolor": "#E5ECF6",
            "gridcolor": "white",
            "gridwidth": 2,
            "linecolor": "white",
            "showbackground": true,
            "ticks": "",
            "zerolinecolor": "white"
           }
          },
          "shapedefaults": {
           "line": {
            "color": "#2a3f5f"
           }
          },
          "ternary": {
           "aaxis": {
            "gridcolor": "white",
            "linecolor": "white",
            "ticks": ""
           },
           "baxis": {
            "gridcolor": "white",
            "linecolor": "white",
            "ticks": ""
           },
           "bgcolor": "#E5ECF6",
           "caxis": {
            "gridcolor": "white",
            "linecolor": "white",
            "ticks": ""
           }
          },
          "title": {
           "x": 0.05
          },
          "xaxis": {
           "automargin": true,
           "gridcolor": "white",
           "linecolor": "white",
           "ticks": "",
           "title": {
            "standoff": 15
           },
           "zerolinecolor": "white",
           "zerolinewidth": 2
          },
          "yaxis": {
           "automargin": true,
           "gridcolor": "white",
           "linecolor": "white",
           "ticks": "",
           "title": {
            "standoff": 15
           },
           "zerolinecolor": "white",
           "zerolinewidth": 2
          }
         }
        },
        "title": {
         "text": "Fires Clustered by DBSCAN"
        }
       }
      }
     },
     "metadata": {},
     "output_type": "display_data"
    }
   ],
   "source": [
    "fig = px.scatter_mapbox(\n",
    "    clusters_sample,\n",
    "    lat=\"latitude\",\n",
    "    lon=\"longitude\",\n",
    "    color_continuous_scale=px.colors.cyclical.IceFire,\n",
    "    size_max=15,\n",
    "    zoom=10,\n",
    "    title='Fires Clustered by DBSCAN'\n",
    ")\n",
    "\n",
    "for i, row in geo_df.iterrows():\n",
    "    min_lat, min_lon, max_lat, max_lon = row['geometry'].bounds\n",
    "\n",
    "    rectangle = go.Scattermapbox(\n",
    "        lat=[min_lat, max_lat, max_lat, min_lat, min_lat],\n",
    "        lon=[min_lon, min_lon, max_lon, max_lon, min_lon],\n",
    "        mode=\"lines\",\n",
    "        line=dict(color='white'),\n",
    "        fill='toself',\n",
    "        fillcolor='rgba(255,0,0,0.3)',\n",
    "        showlegend=False\n",
    "    )\n",
    "    fig.add_trace(rectangle)\n",
    "\n",
    "fig.update_layout(\n",
    "    mapbox_style='satellite',\n",
    "    title='Fires Clustered by DBSCAN',\n",
    "    height=800\n",
    ")\n",
    "\n",
    "# Show the plot\n",
    "fig.show()"
   ]
  },
  {
   "cell_type": "code",
   "execution_count": null,
   "metadata": {},
   "outputs": [],
   "source": []
  }
 ],
 "metadata": {
  "kernelspec": {
   "display_name": "env",
   "language": "python",
   "name": "python3"
  },
  "language_info": {
   "codemirror_mode": {
    "name": "ipython",
    "version": 3
   },
   "file_extension": ".py",
   "mimetype": "text/x-python",
   "name": "python",
   "nbconvert_exporter": "python",
   "pygments_lexer": "ipython3",
   "version": "3.9.13"
  }
 },
 "nbformat": 4,
 "nbformat_minor": 2
}

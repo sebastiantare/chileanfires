{
 "cells": [
  {
   "cell_type": "code",
   "execution_count": 27,
   "metadata": {},
   "outputs": [],
   "source": [
    "import pandas as pd\n",
    "import plotly.express as px\n",
    "import plotly.graph_objects as go\n",
    "import seaborn as sns\n",
    "import matplotlib.pyplot as plt\n",
    "import geopandas as gpd\n",
    "from shapely.geometry import Point, MultiPoint\n",
    "from shapely.ops import unary_union\n",
    "import numpy as np\n",
    "from sklearn.neighbors import BallTree\n",
    "import math\n",
    "from tqdm import tqdm\n",
    "from sklearn.cluster import DBSCAN\n",
    "from matplotlib.patches import Patch\n",
    "from shapely import wkt"
   ]
  },
  {
   "cell_type": "code",
   "execution_count": 28,
   "metadata": {},
   "outputs": [],
   "source": [
    "FRP_FILTER = 25\n",
    "RADIUS_FIRES = 150"
   ]
  },
  {
   "cell_type": "code",
   "execution_count": 29,
   "metadata": {},
   "outputs": [],
   "source": [
    "with open('./token.txt', 'r') as f:\n",
    "    TOKEN = f.read()\n",
    "    px.set_mapbox_access_token(TOKEN)"
   ]
  },
  {
   "cell_type": "code",
   "execution_count": 30,
   "metadata": {},
   "outputs": [],
   "source": [
    "df = pd.read_parquet('../data/fires_merged_comunas_timezone.parquet')"
   ]
  },
  {
   "cell_type": "code",
   "execution_count": 31,
   "metadata": {},
   "outputs": [
    {
     "data": {
      "text/html": [
       "<div>\n",
       "<style scoped>\n",
       "    .dataframe tbody tr th:only-of-type {\n",
       "        vertical-align: middle;\n",
       "    }\n",
       "\n",
       "    .dataframe tbody tr th {\n",
       "        vertical-align: top;\n",
       "    }\n",
       "\n",
       "    .dataframe thead th {\n",
       "        text-align: right;\n",
       "    }\n",
       "</style>\n",
       "<table border=\"1\" class=\"dataframe\">\n",
       "  <thead>\n",
       "    <tr style=\"text-align: right;\">\n",
       "      <th></th>\n",
       "      <th>latitude</th>\n",
       "      <th>longitude</th>\n",
       "      <th>brightness</th>\n",
       "      <th>scan</th>\n",
       "      <th>track</th>\n",
       "      <th>acq_date</th>\n",
       "      <th>acq_time</th>\n",
       "      <th>satellite</th>\n",
       "      <th>instrument</th>\n",
       "      <th>confidence</th>\n",
       "      <th>version</th>\n",
       "      <th>bright_t31</th>\n",
       "      <th>frp</th>\n",
       "      <th>daynight</th>\n",
       "      <th>type</th>\n",
       "      <th>comuna</th>\n",
       "      <th>acq_datetime_gmt_3</th>\n",
       "    </tr>\n",
       "  </thead>\n",
       "  <tbody>\n",
       "    <tr>\n",
       "      <th>0</th>\n",
       "      <td>-23.820446</td>\n",
       "      <td>-70.320282</td>\n",
       "      <td>301.51</td>\n",
       "      <td>0.74</td>\n",
       "      <td>0.76</td>\n",
       "      <td>2013-01-01</td>\n",
       "      <td>448</td>\n",
       "      <td>N</td>\n",
       "      <td>VIIRS</td>\n",
       "      <td>n</td>\n",
       "      <td>1</td>\n",
       "      <td>285.54</td>\n",
       "      <td>2.38</td>\n",
       "      <td>N</td>\n",
       "      <td>2.0</td>\n",
       "      <td>ANTOFAGASTA</td>\n",
       "      <td>2013-01-01 01:48:00-03:00</td>\n",
       "    </tr>\n",
       "    <tr>\n",
       "      <th>1</th>\n",
       "      <td>-23.823833</td>\n",
       "      <td>-70.318871</td>\n",
       "      <td>306.90</td>\n",
       "      <td>0.74</td>\n",
       "      <td>0.76</td>\n",
       "      <td>2013-01-01</td>\n",
       "      <td>448</td>\n",
       "      <td>N</td>\n",
       "      <td>VIIRS</td>\n",
       "      <td>n</td>\n",
       "      <td>1</td>\n",
       "      <td>285.80</td>\n",
       "      <td>2.33</td>\n",
       "      <td>N</td>\n",
       "      <td>2.0</td>\n",
       "      <td>ANTOFAGASTA</td>\n",
       "      <td>2013-01-01 01:48:00-03:00</td>\n",
       "    </tr>\n",
       "    <tr>\n",
       "      <th>2</th>\n",
       "      <td>-26.430983</td>\n",
       "      <td>-69.475632</td>\n",
       "      <td>299.73</td>\n",
       "      <td>0.58</td>\n",
       "      <td>0.70</td>\n",
       "      <td>2013-01-01</td>\n",
       "      <td>448</td>\n",
       "      <td>N</td>\n",
       "      <td>VIIRS</td>\n",
       "      <td>n</td>\n",
       "      <td>1</td>\n",
       "      <td>279.61</td>\n",
       "      <td>2.86</td>\n",
       "      <td>N</td>\n",
       "      <td>2.0</td>\n",
       "      <td>DIEGO DE ALMAGRO</td>\n",
       "      <td>2013-01-01 01:48:00-03:00</td>\n",
       "    </tr>\n",
       "    <tr>\n",
       "      <th>3</th>\n",
       "      <td>-32.760929</td>\n",
       "      <td>-71.476440</td>\n",
       "      <td>309.70</td>\n",
       "      <td>0.52</td>\n",
       "      <td>0.67</td>\n",
       "      <td>2013-01-01</td>\n",
       "      <td>448</td>\n",
       "      <td>N</td>\n",
       "      <td>VIIRS</td>\n",
       "      <td>n</td>\n",
       "      <td>1</td>\n",
       "      <td>285.42</td>\n",
       "      <td>2.50</td>\n",
       "      <td>N</td>\n",
       "      <td>3.0</td>\n",
       "      <td>PUCHUNCAVI</td>\n",
       "      <td>2013-01-01 01:48:00-03:00</td>\n",
       "    </tr>\n",
       "    <tr>\n",
       "      <th>4</th>\n",
       "      <td>-34.624073</td>\n",
       "      <td>-71.000023</td>\n",
       "      <td>319.97</td>\n",
       "      <td>0.44</td>\n",
       "      <td>0.63</td>\n",
       "      <td>2013-01-01</td>\n",
       "      <td>448</td>\n",
       "      <td>N</td>\n",
       "      <td>VIIRS</td>\n",
       "      <td>n</td>\n",
       "      <td>1</td>\n",
       "      <td>290.28</td>\n",
       "      <td>2.27</td>\n",
       "      <td>N</td>\n",
       "      <td>0.0</td>\n",
       "      <td>CHIMBARONGO</td>\n",
       "      <td>2013-01-01 01:48:00-03:00</td>\n",
       "    </tr>\n",
       "  </tbody>\n",
       "</table>\n",
       "</div>"
      ],
      "text/plain": [
       "    latitude  longitude  brightness  scan  track   acq_date  acq_time  \\\n",
       "0 -23.820446 -70.320282      301.51  0.74   0.76 2013-01-01       448   \n",
       "1 -23.823833 -70.318871      306.90  0.74   0.76 2013-01-01       448   \n",
       "2 -26.430983 -69.475632      299.73  0.58   0.70 2013-01-01       448   \n",
       "3 -32.760929 -71.476440      309.70  0.52   0.67 2013-01-01       448   \n",
       "4 -34.624073 -71.000023      319.97  0.44   0.63 2013-01-01       448   \n",
       "\n",
       "  satellite instrument confidence version  bright_t31   frp daynight  type  \\\n",
       "0         N      VIIRS          n       1      285.54  2.38        N   2.0   \n",
       "1         N      VIIRS          n       1      285.80  2.33        N   2.0   \n",
       "2         N      VIIRS          n       1      279.61  2.86        N   2.0   \n",
       "3         N      VIIRS          n       1      285.42  2.50        N   3.0   \n",
       "4         N      VIIRS          n       1      290.28  2.27        N   0.0   \n",
       "\n",
       "             comuna        acq_datetime_gmt_3  \n",
       "0       ANTOFAGASTA 2013-01-01 01:48:00-03:00  \n",
       "1       ANTOFAGASTA 2013-01-01 01:48:00-03:00  \n",
       "2  DIEGO DE ALMAGRO 2013-01-01 01:48:00-03:00  \n",
       "3        PUCHUNCAVI 2013-01-01 01:48:00-03:00  \n",
       "4       CHIMBARONGO 2013-01-01 01:48:00-03:00  "
      ]
     },
     "execution_count": 31,
     "metadata": {},
     "output_type": "execute_result"
    }
   ],
   "source": [
    "df.head()"
   ]
  },
  {
   "cell_type": "code",
   "execution_count": 32,
   "metadata": {},
   "outputs": [],
   "source": [
    "df['acq_datetime_gmt_3'] = pd.to_datetime(df['acq_datetime_gmt_3'])"
   ]
  },
  {
   "cell_type": "code",
   "execution_count": 33,
   "metadata": {},
   "outputs": [
    {
     "data": {
      "text/plain": [
       "(Timestamp('2013-01-01 01:48:00-0300', tz='America/Santiago'),\n",
       " Timestamp('2023-01-31 16:38:00-0300', tz='America/Santiago'))"
      ]
     },
     "execution_count": 33,
     "metadata": {},
     "output_type": "execute_result"
    }
   ],
   "source": [
    "df['acq_datetime_gmt_3'].min(), df['acq_datetime_gmt_3'].max()"
   ]
  },
  {
   "cell_type": "code",
   "execution_count": 34,
   "metadata": {},
   "outputs": [
    {
     "name": "stdout",
     "output_type": "stream",
     "text": [
      "<class 'pandas.core.frame.DataFrame'>\n",
      "Index: 367362 entries, 0 to 465149\n",
      "Data columns (total 17 columns):\n",
      " #   Column              Non-Null Count   Dtype                           \n",
      "---  ------              --------------   -----                           \n",
      " 0   latitude            367362 non-null  float64                         \n",
      " 1   longitude           367362 non-null  float64                         \n",
      " 2   brightness          367362 non-null  float64                         \n",
      " 3   scan                367362 non-null  float64                         \n",
      " 4   track               367362 non-null  float64                         \n",
      " 5   acq_date            367362 non-null  datetime64[ns]                  \n",
      " 6   acq_time            367362 non-null  int64                           \n",
      " 7   satellite           367362 non-null  object                          \n",
      " 8   instrument          367362 non-null  object                          \n",
      " 9   confidence          367362 non-null  object                          \n",
      " 10  version             367362 non-null  object                          \n",
      " 11  bright_t31          367362 non-null  float64                         \n",
      " 12  frp                 367362 non-null  float64                         \n",
      " 13  daynight            367362 non-null  object                          \n",
      " 14  type                367362 non-null  float64                         \n",
      " 15  comuna              367362 non-null  object                          \n",
      " 16  acq_datetime_gmt_3  367362 non-null  datetime64[ns, America/Santiago]\n",
      "dtypes: datetime64[ns, America/Santiago](1), datetime64[ns](1), float64(8), int64(1), object(6)\n",
      "memory usage: 50.4+ MB\n"
     ]
    }
   ],
   "source": [
    "df.info()"
   ]
  },
  {
   "cell_type": "code",
   "execution_count": 35,
   "metadata": {},
   "outputs": [
    {
     "data": {
      "text/plain": [
       "'plt.figure(figsize=(10, 6))\\nsns.histplot(data=df, x=\"frp\", binrange=(df[\"frp\"].quantile(0.01), df[\"frp\"].quantile(0.99)), bins=100)\\nplt.title(\\'Distribution of FRP Values\\')\\nplt.xlabel(\\'FRP\\')\\nplt.ylabel(\\'Count\\')\\nplt.tight_layout()\\nplt.show();'"
      ]
     },
     "execution_count": 35,
     "metadata": {},
     "output_type": "execute_result"
    }
   ],
   "source": [
    "\"\"\"plt.figure(figsize=(10, 6))\n",
    "sns.histplot(data=df, x=\"frp\", binrange=(df[\"frp\"].quantile(0.01), df[\"frp\"].quantile(0.99)), bins=100)\n",
    "plt.title('Distribution of FRP Values')\n",
    "plt.xlabel('FRP')\n",
    "plt.ylabel('Count')\n",
    "plt.tight_layout()\n",
    "plt.show();\"\"\""
   ]
  },
  {
   "cell_type": "code",
   "execution_count": 67,
   "metadata": {},
   "outputs": [],
   "source": [
    "a = df[df['frp'] > 0].copy()"
   ]
  },
  {
   "cell_type": "code",
   "execution_count": 68,
   "metadata": {},
   "outputs": [],
   "source": [
    "a['year'] = a['acq_datetime_gmt_3'].dt.year"
   ]
  },
  {
   "cell_type": "code",
   "execution_count": 69,
   "metadata": {},
   "outputs": [
    {
     "data": {
      "text/plain": [
       "(367342, 18)"
      ]
     },
     "execution_count": 69,
     "metadata": {},
     "output_type": "execute_result"
    }
   ],
   "source": [
    "a.shape"
   ]
  },
  {
   "cell_type": "code",
   "execution_count": 70,
   "metadata": {},
   "outputs": [
    {
     "name": "stderr",
     "output_type": "stream",
     "text": [
      "/tmp/ipykernel_204228/3970076265.py:1: DeprecationWarning:\n",
      "\n",
      "*scatter_mapbox* is deprecated! Use *scatter_map* instead. Learn more at: https://plotly.com/python/mapbox-to-maplibre/\n",
      "\n"
     ]
    },
    {
     "data": {
      "application/vnd.plotly.v1+json": {
       "config": {
        "plotlyServerURL": "https://plot.ly"
       },
       "data": [
        {
         "hovertemplate": "latitude=%{lat}<br>longitude=%{lon}<br>frp=%{marker.color}<extra></extra>",
         "lat": {
          "bdata": "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",
          "dtype": "f8"
         },
         "legendgroup": "",
         "lon": {
          "bdata": "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",
          "dtype": "f8"
         },
         "marker": {
          "color": {
           "bdata": "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",
           "dtype": "f8"
          },
          "coloraxis": "coloraxis"
         },
         "mode": "markers",
         "name": "",
         "showlegend": false,
         "subplot": "mapbox",
         "type": "scattermapbox"
        }
       ],
       "layout": {
        "coloraxis": {
         "colorbar": {
          "title": {
           "text": "frp"
          }
         },
         "colorscale": [
          [
           0,
           "#0d0887"
          ],
          [
           0.1111111111111111,
           "#46039f"
          ],
          [
           0.2222222222222222,
           "#7201a8"
          ],
          [
           0.3333333333333333,
           "#9c179e"
          ],
          [
           0.4444444444444444,
           "#bd3786"
          ],
          [
           0.5555555555555556,
           "#d8576b"
          ],
          [
           0.6666666666666666,
           "#ed7953"
          ],
          [
           0.7777777777777778,
           "#fb9f3a"
          ],
          [
           0.8888888888888888,
           "#fdca26"
          ],
          [
           1,
           "#f0f921"
          ]
         ]
        },
        "height": 800,
        "legend": {
         "tracegroupgap": 0
        },
        "mapbox": {
         "accesstoken": "pk.eyJ1Ijoic2ViYXN0aWFudGFyZSIsImEiOiJjbHExcTUyOTUwOHA0MnJxbTQxNWx0cncwIn0.sQHfE5BiOUnPHPm7H6iVZw",
         "center": {
          "lat": -36.79059933477777,
          "lon": -72.77390337130122
         },
         "domain": {
          "x": [
           0,
           1
          ],
          "y": [
           0,
           1
          ]
         },
         "style": "satellite",
         "zoom": 3
        },
        "template": {
         "data": {
          "bar": [
           {
            "error_x": {
             "color": "#2a3f5f"
            },
            "error_y": {
             "color": "#2a3f5f"
            },
            "marker": {
             "line": {
              "color": "#E5ECF6",
              "width": 0.5
             },
             "pattern": {
              "fillmode": "overlay",
              "size": 10,
              "solidity": 0.2
             }
            },
            "type": "bar"
           }
          ],
          "barpolar": [
           {
            "marker": {
             "line": {
              "color": "#E5ECF6",
              "width": 0.5
             },
             "pattern": {
              "fillmode": "overlay",
              "size": 10,
              "solidity": 0.2
             }
            },
            "type": "barpolar"
           }
          ],
          "carpet": [
           {
            "aaxis": {
             "endlinecolor": "#2a3f5f",
             "gridcolor": "white",
             "linecolor": "white",
             "minorgridcolor": "white",
             "startlinecolor": "#2a3f5f"
            },
            "baxis": {
             "endlinecolor": "#2a3f5f",
             "gridcolor": "white",
             "linecolor": "white",
             "minorgridcolor": "white",
             "startlinecolor": "#2a3f5f"
            },
            "type": "carpet"
           }
          ],
          "choropleth": [
           {
            "colorbar": {
             "outlinewidth": 0,
             "ticks": ""
            },
            "type": "choropleth"
           }
          ],
          "contour": [
           {
            "colorbar": {
             "outlinewidth": 0,
             "ticks": ""
            },
            "colorscale": [
             [
              0,
              "#0d0887"
             ],
             [
              0.1111111111111111,
              "#46039f"
             ],
             [
              0.2222222222222222,
              "#7201a8"
             ],
             [
              0.3333333333333333,
              "#9c179e"
             ],
             [
              0.4444444444444444,
              "#bd3786"
             ],
             [
              0.5555555555555556,
              "#d8576b"
             ],
             [
              0.6666666666666666,
              "#ed7953"
             ],
             [
              0.7777777777777778,
              "#fb9f3a"
             ],
             [
              0.8888888888888888,
              "#fdca26"
             ],
             [
              1,
              "#f0f921"
             ]
            ],
            "type": "contour"
           }
          ],
          "contourcarpet": [
           {
            "colorbar": {
             "outlinewidth": 0,
             "ticks": ""
            },
            "type": "contourcarpet"
           }
          ],
          "heatmap": [
           {
            "colorbar": {
             "outlinewidth": 0,
             "ticks": ""
            },
            "colorscale": [
             [
              0,
              "#0d0887"
             ],
             [
              0.1111111111111111,
              "#46039f"
             ],
             [
              0.2222222222222222,
              "#7201a8"
             ],
             [
              0.3333333333333333,
              "#9c179e"
             ],
             [
              0.4444444444444444,
              "#bd3786"
             ],
             [
              0.5555555555555556,
              "#d8576b"
             ],
             [
              0.6666666666666666,
              "#ed7953"
             ],
             [
              0.7777777777777778,
              "#fb9f3a"
             ],
             [
              0.8888888888888888,
              "#fdca26"
             ],
             [
              1,
              "#f0f921"
             ]
            ],
            "type": "heatmap"
           }
          ],
          "histogram": [
           {
            "marker": {
             "pattern": {
              "fillmode": "overlay",
              "size": 10,
              "solidity": 0.2
             }
            },
            "type": "histogram"
           }
          ],
          "histogram2d": [
           {
            "colorbar": {
             "outlinewidth": 0,
             "ticks": ""
            },
            "colorscale": [
             [
              0,
              "#0d0887"
             ],
             [
              0.1111111111111111,
              "#46039f"
             ],
             [
              0.2222222222222222,
              "#7201a8"
             ],
             [
              0.3333333333333333,
              "#9c179e"
             ],
             [
              0.4444444444444444,
              "#bd3786"
             ],
             [
              0.5555555555555556,
              "#d8576b"
             ],
             [
              0.6666666666666666,
              "#ed7953"
             ],
             [
              0.7777777777777778,
              "#fb9f3a"
             ],
             [
              0.8888888888888888,
              "#fdca26"
             ],
             [
              1,
              "#f0f921"
             ]
            ],
            "type": "histogram2d"
           }
          ],
          "histogram2dcontour": [
           {
            "colorbar": {
             "outlinewidth": 0,
             "ticks": ""
            },
            "colorscale": [
             [
              0,
              "#0d0887"
             ],
             [
              0.1111111111111111,
              "#46039f"
             ],
             [
              0.2222222222222222,
              "#7201a8"
             ],
             [
              0.3333333333333333,
              "#9c179e"
             ],
             [
              0.4444444444444444,
              "#bd3786"
             ],
             [
              0.5555555555555556,
              "#d8576b"
             ],
             [
              0.6666666666666666,
              "#ed7953"
             ],
             [
              0.7777777777777778,
              "#fb9f3a"
             ],
             [
              0.8888888888888888,
              "#fdca26"
             ],
             [
              1,
              "#f0f921"
             ]
            ],
            "type": "histogram2dcontour"
           }
          ],
          "mesh3d": [
           {
            "colorbar": {
             "outlinewidth": 0,
             "ticks": ""
            },
            "type": "mesh3d"
           }
          ],
          "parcoords": [
           {
            "line": {
             "colorbar": {
              "outlinewidth": 0,
              "ticks": ""
             }
            },
            "type": "parcoords"
           }
          ],
          "pie": [
           {
            "automargin": true,
            "type": "pie"
           }
          ],
          "scatter": [
           {
            "fillpattern": {
             "fillmode": "overlay",
             "size": 10,
             "solidity": 0.2
            },
            "type": "scatter"
           }
          ],
          "scatter3d": [
           {
            "line": {
             "colorbar": {
              "outlinewidth": 0,
              "ticks": ""
             }
            },
            "marker": {
             "colorbar": {
              "outlinewidth": 0,
              "ticks": ""
             }
            },
            "type": "scatter3d"
           }
          ],
          "scattercarpet": [
           {
            "marker": {
             "colorbar": {
              "outlinewidth": 0,
              "ticks": ""
             }
            },
            "type": "scattercarpet"
           }
          ],
          "scattergeo": [
           {
            "marker": {
             "colorbar": {
              "outlinewidth": 0,
              "ticks": ""
             }
            },
            "type": "scattergeo"
           }
          ],
          "scattergl": [
           {
            "marker": {
             "colorbar": {
              "outlinewidth": 0,
              "ticks": ""
             }
            },
            "type": "scattergl"
           }
          ],
          "scattermap": [
           {
            "marker": {
             "colorbar": {
              "outlinewidth": 0,
              "ticks": ""
             }
            },
            "type": "scattermap"
           }
          ],
          "scattermapbox": [
           {
            "marker": {
             "colorbar": {
              "outlinewidth": 0,
              "ticks": ""
             }
            },
            "type": "scattermapbox"
           }
          ],
          "scatterpolar": [
           {
            "marker": {
             "colorbar": {
              "outlinewidth": 0,
              "ticks": ""
             }
            },
            "type": "scatterpolar"
           }
          ],
          "scatterpolargl": [
           {
            "marker": {
             "colorbar": {
              "outlinewidth": 0,
              "ticks": ""
             }
            },
            "type": "scatterpolargl"
           }
          ],
          "scatterternary": [
           {
            "marker": {
             "colorbar": {
              "outlinewidth": 0,
              "ticks": ""
             }
            },
            "type": "scatterternary"
           }
          ],
          "surface": [
           {
            "colorbar": {
             "outlinewidth": 0,
             "ticks": ""
            },
            "colorscale": [
             [
              0,
              "#0d0887"
             ],
             [
              0.1111111111111111,
              "#46039f"
             ],
             [
              0.2222222222222222,
              "#7201a8"
             ],
             [
              0.3333333333333333,
              "#9c179e"
             ],
             [
              0.4444444444444444,
              "#bd3786"
             ],
             [
              0.5555555555555556,
              "#d8576b"
             ],
             [
              0.6666666666666666,
              "#ed7953"
             ],
             [
              0.7777777777777778,
              "#fb9f3a"
             ],
             [
              0.8888888888888888,
              "#fdca26"
             ],
             [
              1,
              "#f0f921"
             ]
            ],
            "type": "surface"
           }
          ],
          "table": [
           {
            "cells": {
             "fill": {
              "color": "#EBF0F8"
             },
             "line": {
              "color": "white"
             }
            },
            "header": {
             "fill": {
              "color": "#C8D4E3"
             },
             "line": {
              "color": "white"
             }
            },
            "type": "table"
           }
          ]
         },
         "layout": {
          "annotationdefaults": {
           "arrowcolor": "#2a3f5f",
           "arrowhead": 0,
           "arrowwidth": 1
          },
          "autotypenumbers": "strict",
          "coloraxis": {
           "colorbar": {
            "outlinewidth": 0,
            "ticks": ""
           }
          },
          "colorscale": {
           "diverging": [
            [
             0,
             "#8e0152"
            ],
            [
             0.1,
             "#c51b7d"
            ],
            [
             0.2,
             "#de77ae"
            ],
            [
             0.3,
             "#f1b6da"
            ],
            [
             0.4,
             "#fde0ef"
            ],
            [
             0.5,
             "#f7f7f7"
            ],
            [
             0.6,
             "#e6f5d0"
            ],
            [
             0.7,
             "#b8e186"
            ],
            [
             0.8,
             "#7fbc41"
            ],
            [
             0.9,
             "#4d9221"
            ],
            [
             1,
             "#276419"
            ]
           ],
           "sequential": [
            [
             0,
             "#0d0887"
            ],
            [
             0.1111111111111111,
             "#46039f"
            ],
            [
             0.2222222222222222,
             "#7201a8"
            ],
            [
             0.3333333333333333,
             "#9c179e"
            ],
            [
             0.4444444444444444,
             "#bd3786"
            ],
            [
             0.5555555555555556,
             "#d8576b"
            ],
            [
             0.6666666666666666,
             "#ed7953"
            ],
            [
             0.7777777777777778,
             "#fb9f3a"
            ],
            [
             0.8888888888888888,
             "#fdca26"
            ],
            [
             1,
             "#f0f921"
            ]
           ],
           "sequentialminus": [
            [
             0,
             "#0d0887"
            ],
            [
             0.1111111111111111,
             "#46039f"
            ],
            [
             0.2222222222222222,
             "#7201a8"
            ],
            [
             0.3333333333333333,
             "#9c179e"
            ],
            [
             0.4444444444444444,
             "#bd3786"
            ],
            [
             0.5555555555555556,
             "#d8576b"
            ],
            [
             0.6666666666666666,
             "#ed7953"
            ],
            [
             0.7777777777777778,
             "#fb9f3a"
            ],
            [
             0.8888888888888888,
             "#fdca26"
            ],
            [
             1,
             "#f0f921"
            ]
           ]
          },
          "colorway": [
           "#636efa",
           "#EF553B",
           "#00cc96",
           "#ab63fa",
           "#FFA15A",
           "#19d3f3",
           "#FF6692",
           "#B6E880",
           "#FF97FF",
           "#FECB52"
          ],
          "font": {
           "color": "#2a3f5f"
          },
          "geo": {
           "bgcolor": "white",
           "lakecolor": "white",
           "landcolor": "#E5ECF6",
           "showlakes": true,
           "showland": true,
           "subunitcolor": "white"
          },
          "hoverlabel": {
           "align": "left"
          },
          "hovermode": "closest",
          "mapbox": {
           "style": "light"
          },
          "paper_bgcolor": "white",
          "plot_bgcolor": "#E5ECF6",
          "polar": {
           "angularaxis": {
            "gridcolor": "white",
            "linecolor": "white",
            "ticks": ""
           },
           "bgcolor": "#E5ECF6",
           "radialaxis": {
            "gridcolor": "white",
            "linecolor": "white",
            "ticks": ""
           }
          },
          "scene": {
           "xaxis": {
            "backgroundcolor": "#E5ECF6",
            "gridcolor": "white",
            "gridwidth": 2,
            "linecolor": "white",
            "showbackground": true,
            "ticks": "",
            "zerolinecolor": "white"
           },
           "yaxis": {
            "backgroundcolor": "#E5ECF6",
            "gridcolor": "white",
            "gridwidth": 2,
            "linecolor": "white",
            "showbackground": true,
            "ticks": "",
            "zerolinecolor": "white"
           },
           "zaxis": {
            "backgroundcolor": "#E5ECF6",
            "gridcolor": "white",
            "gridwidth": 2,
            "linecolor": "white",
            "showbackground": true,
            "ticks": "",
            "zerolinecolor": "white"
           }
          },
          "shapedefaults": {
           "line": {
            "color": "#2a3f5f"
           }
          },
          "ternary": {
           "aaxis": {
            "gridcolor": "white",
            "linecolor": "white",
            "ticks": ""
           },
           "baxis": {
            "gridcolor": "white",
            "linecolor": "white",
            "ticks": ""
           },
           "bgcolor": "#E5ECF6",
           "caxis": {
            "gridcolor": "white",
            "linecolor": "white",
            "ticks": ""
           }
          },
          "title": {
           "x": 0.05
          },
          "xaxis": {
           "automargin": true,
           "gridcolor": "white",
           "linecolor": "white",
           "ticks": "",
           "title": {
            "standoff": 15
           },
           "zerolinecolor": "white",
           "zerolinewidth": 2
          },
          "yaxis": {
           "automargin": true,
           "gridcolor": "white",
           "linecolor": "white",
           "ticks": "",
           "title": {
            "standoff": 15
           },
           "zerolinecolor": "white",
           "zerolinewidth": 2
          }
         }
        },
        "title": {
         "text": "Clusters Analysis for Static land source"
        }
       }
      }
     },
     "metadata": {},
     "output_type": "display_data"
    }
   ],
   "source": [
    "fig = px.scatter_mapbox(a[(a['type'] == 0) & ((a['comuna'] == 'CONCEPCION') | (a['comuna'] == 'PENCO') | (a['comuna'] == 'FLORIDA')  | (a['comuna'] == 'TOME'))], lat=\"latitude\", lon=\"longitude\", zoom=3, color='frp', title='Wildfires')\n",
    "fig.update_layout(mapbox_style='satellite', title='Clusters Analysis for Static land source', height=800)\n",
    "fig.show();"
   ]
  },
  {
   "cell_type": "code",
   "execution_count": 40,
   "metadata": {},
   "outputs": [],
   "source": [
    "\n",
    "def find_intersections_across_years(df, radius_meters=300):\n",
    "    \"\"\"\n",
    "    Find points that intersect with points from other years, using a 300m radius.\n",
    "    \n",
    "    Parameters:\n",
    "    -----------\n",
    "    df : pandas DataFrame\n",
    "        Contains latitude, longitude, and year columns\n",
    "    radius_meters : float\n",
    "        Radius in meters to consider points as intersecting\n",
    "    \n",
    "    Returns:\n",
    "    --------\n",
    "    pd.DataFrame : All points that intersect with points from other years\n",
    "    \"\"\"\n",
    "    # Earth radius in meters\n",
    "    EARTH_RADIUS = 6371000\n",
    "    \n",
    "    # Convert radius to radians for haversine distance\n",
    "    radius_radians = radius_meters / EARTH_RADIUS\n",
    "    \n",
    "    # Group by year\n",
    "    years = sorted(df['year'].unique())\n",
    "    \n",
    "    # Keep track of intersecting points\n",
    "    intersecting_indices = set()\n",
    "    \n",
    "    # Process each year\n",
    "    for year in tqdm(years, desc=\"Processing years\"):\n",
    "        year_points = df[df['year'] == year]\n",
    "        \n",
    "        # Skip if empty\n",
    "        if len(year_points) == 0:\n",
    "            continue\n",
    "            \n",
    "        # Convert lat/lon to radians for the BallTree\n",
    "        year_coords = np.radians(year_points[['latitude', 'longitude']].values)\n",
    "        \n",
    "        # Create BallTree for current year\n",
    "        tree = BallTree(year_coords, metric='haversine')\n",
    "        \n",
    "        # Check against all other years\n",
    "        for other_year in years:\n",
    "            if other_year == year:\n",
    "                continue\n",
    "                \n",
    "            other_points = df[df['year'] == other_year]\n",
    "            \n",
    "            # Skip if empty\n",
    "            if len(other_points) == 0:\n",
    "                continue\n",
    "                \n",
    "            # Convert other year points to radians\n",
    "            other_coords = np.radians(other_points[['latitude', 'longitude']].values)\n",
    "            \n",
    "            # Find neighbors within radius\n",
    "            indices = tree.query_radius(other_coords, radius_radians)\n",
    "            \n",
    "            # Add points from current year that have neighbors\n",
    "            for i, idx_array in enumerate(indices):\n",
    "                if len(idx_array) > 0:\n",
    "                    # Get the original dataframe indices\n",
    "                    for idx in idx_array:\n",
    "                        intersecting_indices.add(year_points.iloc[idx].name)\n",
    "    \n",
    "    # Return the intersecting points\n",
    "    return df.loc[list(intersecting_indices)]"
   ]
  },
  {
   "cell_type": "code",
   "execution_count": 41,
   "metadata": {},
   "outputs": [
    {
     "data": {
      "text/plain": [
       "(69283, 18)"
      ]
     },
     "execution_count": 41,
     "metadata": {},
     "output_type": "execute_result"
    }
   ],
   "source": [
    "a.shape"
   ]
  },
  {
   "cell_type": "code",
   "execution_count": 42,
   "metadata": {},
   "outputs": [
    {
     "name": "stderr",
     "output_type": "stream",
     "text": [
      "Processing years: 100%|██████████| 11/11 [00:06<00:00,  1.68it/s]\n"
     ]
    }
   ],
   "source": [
    "b = find_intersections_across_years(a, RADIUS_FIRES)"
   ]
  },
  {
   "cell_type": "code",
   "execution_count": 43,
   "metadata": {},
   "outputs": [
    {
     "data": {
      "text/plain": [
       "(6345, 18)"
      ]
     },
     "execution_count": 43,
     "metadata": {},
     "output_type": "execute_result"
    }
   ],
   "source": [
    "b.shape"
   ]
  },
  {
   "cell_type": "code",
   "execution_count": 57,
   "metadata": {},
   "outputs": [
    {
     "data": {
      "text/plain": [
       "'fig = px.scatter_mapbox(b[(b[\\'type\\'] == 0) & (b[\\'comuna\\'] == \\'PENCO\\')], lat=\"latitude\", lon=\"longitude\", zoom=3, color=\\'frp\\', title=\\'Wildfires\\')\\nfig.update_layout(mapbox_style=\\'satellite\\', title=\\'Clusters Analysis for Static land source\\', height=800)\\nfig.show();'"
      ]
     },
     "execution_count": 57,
     "metadata": {},
     "output_type": "execute_result"
    }
   ],
   "source": [
    "\"\"\"fig = px.scatter_mapbox(b[(b['type'] == 0) & (b['comuna'] == 'PENCO')], lat=\"latitude\", lon=\"longitude\", zoom=3, color='frp', title='Wildfires')\n",
    "fig.update_layout(mapbox_style='satellite', title='Clusters Analysis for Static land source', height=800)\n",
    "fig.show();\"\"\""
   ]
  },
  {
   "cell_type": "code",
   "execution_count": 45,
   "metadata": {},
   "outputs": [],
   "source": [
    "def getClusterData(df):\n",
    "    def parse_time(value):\n",
    "        hours = value // 100\n",
    "        minutes = value % 100\n",
    "        return pd.to_timedelta(f\"{hours} hours {minutes} minutes\")\n",
    "\n",
    "    clustered_data = pd.DataFrame()\n",
    "    mbr_data = pd.DataFrame()\n",
    "\n",
    "    min_samples = 2\n",
    "    epsilon = 0.028\n",
    "\n",
    "    subset = df[['latitude', 'longitude']].copy()\n",
    "    \n",
    "    if len(subset) >= min_samples:\n",
    "        db = DBSCAN(eps=epsilon, min_samples=min_samples).fit(subset[['latitude', 'longitude']])\n",
    "        subset['cluster'] = db.labels_\n",
    "\n",
    "        # Get the MBR data\n",
    "        for cluster_label in np.unique(db.labels_):\n",
    "            if cluster_label == -1:\n",
    "                continue\n",
    "            cluster_points = subset[subset['cluster'] == cluster_label][['latitude', 'longitude']]\n",
    "\n",
    "            mbr = MultiPoint(cluster_points.values).envelope\n",
    "\n",
    "            mbr_df = pd.DataFrame({\n",
    "                'cluster': [cluster_label],\n",
    "                'mbr': [mbr],\n",
    "            })\n",
    "            mbr_data = pd.concat([mbr_data, mbr_df], axis=0)\n",
    "        clustered_data = pd.concat([clustered_data, subset], ignore_index=True)\n",
    "\n",
    "    return (clustered_data.reset_index(drop=True), mbr_data.reset_index(drop=True))"
   ]
  },
  {
   "cell_type": "code",
   "execution_count": 46,
   "metadata": {},
   "outputs": [],
   "source": [
    "clusters, mbrs = getClusterData(b)"
   ]
  },
  {
   "cell_type": "code",
   "execution_count": 47,
   "metadata": {},
   "outputs": [
    {
     "data": {
      "text/html": [
       "<div>\n",
       "<style scoped>\n",
       "    .dataframe tbody tr th:only-of-type {\n",
       "        vertical-align: middle;\n",
       "    }\n",
       "\n",
       "    .dataframe tbody tr th {\n",
       "        vertical-align: top;\n",
       "    }\n",
       "\n",
       "    .dataframe thead th {\n",
       "        text-align: right;\n",
       "    }\n",
       "</style>\n",
       "<table border=\"1\" class=\"dataframe\">\n",
       "  <thead>\n",
       "    <tr style=\"text-align: right;\">\n",
       "      <th></th>\n",
       "      <th>cluster</th>\n",
       "      <th>mbr</th>\n",
       "    </tr>\n",
       "  </thead>\n",
       "  <tbody>\n",
       "    <tr>\n",
       "      <th>0</th>\n",
       "      <td>0</td>\n",
       "      <td>POLYGON ((-34.2969 -71.38, -34.2966 -71.38, -3...</td>\n",
       "    </tr>\n",
       "    <tr>\n",
       "      <th>1</th>\n",
       "      <td>1</td>\n",
       "      <td>POLYGON ((-38.4867 -72.8717, -38.400776 -72.87...</td>\n",
       "    </tr>\n",
       "    <tr>\n",
       "      <th>2</th>\n",
       "      <td>2</td>\n",
       "      <td>POLYGON ((-35.5701 -72.2132, -35.426 -72.2132,...</td>\n",
       "    </tr>\n",
       "    <tr>\n",
       "      <th>3</th>\n",
       "      <td>3</td>\n",
       "      <td>POLYGON ((-37.1843 -72.0726, -36.861359 -72.07...</td>\n",
       "    </tr>\n",
       "    <tr>\n",
       "      <th>4</th>\n",
       "      <td>4</td>\n",
       "      <td>POLYGON ((-36.841114 -71.947823, -36.7516 -71....</td>\n",
       "    </tr>\n",
       "  </tbody>\n",
       "</table>\n",
       "</div>"
      ],
      "text/plain": [
       "   cluster                                                mbr\n",
       "0        0  POLYGON ((-34.2969 -71.38, -34.2966 -71.38, -3...\n",
       "1        1  POLYGON ((-38.4867 -72.8717, -38.400776 -72.87...\n",
       "2        2  POLYGON ((-35.5701 -72.2132, -35.426 -72.2132,...\n",
       "3        3  POLYGON ((-37.1843 -72.0726, -36.861359 -72.07...\n",
       "4        4  POLYGON ((-36.841114 -71.947823, -36.7516 -71...."
      ]
     },
     "execution_count": 47,
     "metadata": {},
     "output_type": "execute_result"
    }
   ],
   "source": [
    "mbrs.head()"
   ]
  },
  {
   "cell_type": "code",
   "execution_count": 48,
   "metadata": {},
   "outputs": [],
   "source": [
    "geo_df = gpd.GeoDataFrame(geometry=mbrs['mbr'], data=mbrs.drop(columns=['mbr']))"
   ]
  },
  {
   "cell_type": "code",
   "execution_count": 49,
   "metadata": {},
   "outputs": [
    {
     "data": {
      "text/html": [
       "<div>\n",
       "<style scoped>\n",
       "    .dataframe tbody tr th:only-of-type {\n",
       "        vertical-align: middle;\n",
       "    }\n",
       "\n",
       "    .dataframe tbody tr th {\n",
       "        vertical-align: top;\n",
       "    }\n",
       "\n",
       "    .dataframe thead th {\n",
       "        text-align: right;\n",
       "    }\n",
       "</style>\n",
       "<table border=\"1\" class=\"dataframe\">\n",
       "  <thead>\n",
       "    <tr style=\"text-align: right;\">\n",
       "      <th></th>\n",
       "      <th>cluster</th>\n",
       "      <th>geometry</th>\n",
       "    </tr>\n",
       "  </thead>\n",
       "  <tbody>\n",
       "    <tr>\n",
       "      <th>0</th>\n",
       "      <td>0</td>\n",
       "      <td>POLYGON ((-34.2969 -71.38, -34.2966 -71.38, -3...</td>\n",
       "    </tr>\n",
       "    <tr>\n",
       "      <th>1</th>\n",
       "      <td>1</td>\n",
       "      <td>POLYGON ((-38.4867 -72.8717, -38.40078 -72.871...</td>\n",
       "    </tr>\n",
       "    <tr>\n",
       "      <th>2</th>\n",
       "      <td>2</td>\n",
       "      <td>POLYGON ((-35.5701 -72.2132, -35.426 -72.2132,...</td>\n",
       "    </tr>\n",
       "    <tr>\n",
       "      <th>3</th>\n",
       "      <td>3</td>\n",
       "      <td>POLYGON ((-37.1843 -72.0726, -36.86136 -72.072...</td>\n",
       "    </tr>\n",
       "    <tr>\n",
       "      <th>4</th>\n",
       "      <td>4</td>\n",
       "      <td>POLYGON ((-36.84111 -71.94782, -36.7516 -71.94...</td>\n",
       "    </tr>\n",
       "  </tbody>\n",
       "</table>\n",
       "</div>"
      ],
      "text/plain": [
       "   cluster                                           geometry\n",
       "0        0  POLYGON ((-34.2969 -71.38, -34.2966 -71.38, -3...\n",
       "1        1  POLYGON ((-38.4867 -72.8717, -38.40078 -72.871...\n",
       "2        2  POLYGON ((-35.5701 -72.2132, -35.426 -72.2132,...\n",
       "3        3  POLYGON ((-37.1843 -72.0726, -36.86136 -72.072...\n",
       "4        4  POLYGON ((-36.84111 -71.94782, -36.7516 -71.94..."
      ]
     },
     "execution_count": 49,
     "metadata": {},
     "output_type": "execute_result"
    }
   ],
   "source": [
    "geo_df.head()"
   ]
  },
  {
   "cell_type": "code",
   "execution_count": 50,
   "metadata": {},
   "outputs": [
    {
     "name": "stdout",
     "output_type": "stream",
     "text": [
      "<class 'geopandas.geodataframe.GeoDataFrame'>\n",
      "RangeIndex: 479 entries, 0 to 478\n",
      "Data columns (total 2 columns):\n",
      " #   Column    Non-Null Count  Dtype   \n",
      "---  ------    --------------  -----   \n",
      " 0   cluster   479 non-null    int64   \n",
      " 1   geometry  479 non-null    geometry\n",
      "dtypes: geometry(1), int64(1)\n",
      "memory usage: 7.6 KB\n"
     ]
    }
   ],
   "source": [
    "geo_df.info()"
   ]
  },
  {
   "cell_type": "code",
   "execution_count": 51,
   "metadata": {},
   "outputs": [
    {
     "data": {
      "text/html": [
       "<div>\n",
       "<style scoped>\n",
       "    .dataframe tbody tr th:only-of-type {\n",
       "        vertical-align: middle;\n",
       "    }\n",
       "\n",
       "    .dataframe tbody tr th {\n",
       "        vertical-align: top;\n",
       "    }\n",
       "\n",
       "    .dataframe thead th {\n",
       "        text-align: right;\n",
       "    }\n",
       "</style>\n",
       "<table border=\"1\" class=\"dataframe\">\n",
       "  <thead>\n",
       "    <tr style=\"text-align: right;\">\n",
       "      <th></th>\n",
       "      <th>latitude</th>\n",
       "      <th>longitude</th>\n",
       "      <th>cluster</th>\n",
       "    </tr>\n",
       "  </thead>\n",
       "  <tbody>\n",
       "    <tr>\n",
       "      <th>0</th>\n",
       "      <td>-34.2969</td>\n",
       "      <td>-71.3800</td>\n",
       "      <td>0</td>\n",
       "    </tr>\n",
       "    <tr>\n",
       "      <th>1</th>\n",
       "      <td>-38.4417</td>\n",
       "      <td>-72.7954</td>\n",
       "      <td>1</td>\n",
       "    </tr>\n",
       "    <tr>\n",
       "      <th>2</th>\n",
       "      <td>-35.4271</td>\n",
       "      <td>-72.1955</td>\n",
       "      <td>2</td>\n",
       "    </tr>\n",
       "    <tr>\n",
       "      <th>3</th>\n",
       "      <td>-36.9934</td>\n",
       "      <td>-71.9466</td>\n",
       "      <td>3</td>\n",
       "    </tr>\n",
       "    <tr>\n",
       "      <th>4</th>\n",
       "      <td>-36.7554</td>\n",
       "      <td>-71.8931</td>\n",
       "      <td>4</td>\n",
       "    </tr>\n",
       "  </tbody>\n",
       "</table>\n",
       "</div>"
      ],
      "text/plain": [
       "   latitude  longitude  cluster\n",
       "0  -34.2969   -71.3800        0\n",
       "1  -38.4417   -72.7954        1\n",
       "2  -35.4271   -72.1955        2\n",
       "3  -36.9934   -71.9466        3\n",
       "4  -36.7554   -71.8931        4"
      ]
     },
     "execution_count": 51,
     "metadata": {},
     "output_type": "execute_result"
    }
   ],
   "source": [
    "clusters.head()"
   ]
  },
  {
   "cell_type": "code",
   "execution_count": 52,
   "metadata": {},
   "outputs": [
    {
     "name": "stdout",
     "output_type": "stream",
     "text": [
      "<class 'pandas.core.frame.DataFrame'>\n",
      "RangeIndex: 6345 entries, 0 to 6344\n",
      "Data columns (total 3 columns):\n",
      " #   Column     Non-Null Count  Dtype  \n",
      "---  ------     --------------  -----  \n",
      " 0   latitude   6345 non-null   float64\n",
      " 1   longitude  6345 non-null   float64\n",
      " 2   cluster    6345 non-null   int64  \n",
      "dtypes: float64(2), int64(1)\n",
      "memory usage: 148.8 KB\n"
     ]
    }
   ],
   "source": [
    "clusters.info()"
   ]
  },
  {
   "cell_type": "code",
   "execution_count": 53,
   "metadata": {},
   "outputs": [],
   "source": [
    "clusters_sample = clusters.sample(1000)"
   ]
  },
  {
   "cell_type": "code",
   "execution_count": 54,
   "metadata": {},
   "outputs": [
    {
     "name": "stderr",
     "output_type": "stream",
     "text": [
      "/tmp/ipykernel_204228/4174816031.py:1: DeprecationWarning: *scatter_mapbox* is deprecated! Use *scatter_map* instead. Learn more at: https://plotly.com/python/mapbox-to-maplibre/\n",
      "  fig = px.scatter_mapbox(\n",
      "/tmp/ipykernel_204228/4174816031.py:14: DeprecationWarning:\n",
      "\n",
      "*scattermapbox* is deprecated! Use *scattermap* instead. Learn more at: https://plotly.com/python/mapbox-to-maplibre/\n",
      "\n"
     ]
    },
    {
     "data": {
      "application/vnd.plotly.v1+json": {
       "config": {
        "plotlyServerURL": "https://plot.ly"
       },
       "data": [
        {
         "hovertemplate": "latitude=%{lat}<br>longitude=%{lon}<extra></extra>",
         "lat": {
          "bdata": "jgbwFkhQNsC7Jw8LtQ5DwEYldQKaEEPA8KfGSzdxQsDxLEFGQFE2wMRCrWneUTbAB2ADIsQXQ8BR2ht8YXpBwKH4MeaujUPAaCJseHoNQcASaRt/ouhCwEJg5dAiG0PAV5QSglX/QsCzzvi+uMhBwLhAguLHgELApz6QvHNYQsCMLQQ5KFE2wMO4G0RrZULA6+I2GsA7Q8BZi08BMIRDwCUIV0ChDEPAcF8HzhlRNsDzH9JvX3dCwD19BP7wE0LAI9v5fmpEQ8DBOSNKe5NCwD0s1JrmDUHAlPYGX5g8Q8CV1AloIlxDwOgtHt5z5ELAhe0nY3x+QsA3iUFg5ShCwBx8YTJVcELARQ2mYfiIQsD+Q/rt61A2wBQ/xty1UDbAGO3xQjq8QcClTkATYSNDwOQUHcnlN0PAjErqBDRRNsC3Yn/ZPRFDwC2Y+KOoOUPAsOYAwRy1QcAeFmpN8146wOTZ5VsftkPAbCHIQQmFQ8BUqdkDrQg7wAg9m1Wfu0LA4Qz+fjEtQ8B4eqUsQ0xDwBSuR+F6KkPAj1N0JJdvOsD7eOi7W1E2wKuSyD7IOkPAQgjIl1BRNsAofoy5azlEwLPsSWBzGELABFYOLbINQcCoNc07TnFBwBpR2ht8UTbAf9sTJLYNQcCqYFRSJ5BCwBhanZyhOEPAfQbUm1F3QsAPuoRDb41AwDSitDf4UkTAstr8v+pAQ8Boyk4/qCdDwNO84xQdCUPAHcnlP6RvQsDl8h/SbzdDwFioNc07BkLAv3/z4sQ7Q8BVTKWfcIZCwHGsi9toUDbAvjCZKhgFQ8AYWp2coVxDwOcdp+hIPkPAzH9Iv30tQ8BTBaOSOpFBwG3i5H6HikDANe84RUcyQ8C8lpAPeg5BwDxQpzy6tUPAxSCwcmhRNsBiEFg5tHBCwNzZVx6kOUPAyXa+nxpvQsD9h/Tb11E2wJqZmZmZAULAl5APejY7Q8BtOZfiqohCwJD5gEBnaEHAOGdEaW9gQMALJCh+jLFBwOhqK/aXBUPADr4wmSooQ8D+1HjpJlE2wABvgQTF/0DATFXa4hrzQcBB8WPMXUNDwD2bVZ+rbUPAbVZ9rraKQcCkGvZ7YtdBwA3gLZCg8EHAFt7lIr5DQ8DZQLrYtAY7wARWDi2yfUPAPSzUmuZtOsCWehaE8rRBwJMCC2DKhEPARdjw9EpBQ8C++KI9XiBDwEdy+Q/pT0LA9pZyvtg7Q8CHp1fKMpRCwOXyH9Jvd0LAAJF++zpoQsCjAbwFEiRDwCIXnMHfjULAXW3F/rI3Q8AhzO1e7oNDwDbNO07RUTbA5ujxe5uIQsB1dcdim6RBwAyTqYJR2ULAwaikTkBjQsD/rs+c9YtBwLAD54woRUPAkKD4MeYOQ8D+1HjpJlFCwMiYu5aQb0LAPzVeuklUQ8Boke18Pz1DwLHh6ZWyhEPAdZMYBFYOQcBkeVc9YJ5CwFZ9rrZiT0LA3LsGfekbQ8DjpZvEIFBCwKkT0ETYUEPAG9gqweLAQsDxgR3/BURDwOm3rwPnqELAIR0ewvgBQ8BtyhXe5RRBwIhjXdxGI0PAPQrXo3DTQsDNyvYhb1E2wC7/If32DUHAoBov3SQiQ8Dgvg6cM1I2wJW3I5wWTELApZ4FobxPQsAZyR6hZgpDwLEZ4IJsJ0PAmUf+YOCrQcB7Szlf7GtDwGgDsAERkkLA/fZ14JxRNsARNjy9Ui5DwHbgnBGltUPAn82qz9X2QsADCYofY65BwCZTBaOSjETA+YctPZpaQ8AzjLtBtERDwAkbnl4pE0PAfGEyVTAiQ8AOFeP8TZRDwDy9UpYhbjrAC7WmeceBQsCpE9BE2FA2wL3+JD53LEPAidLe4AthQMBDrWneccpCwMFz7+GS60LAFR3J5T8UQ8BDHOviNjpDwIy5awn5UDbAEVfO3hkxQ8BXW7G/7LZBwPvL7snDUjbAvoV14931QsDiWu1hL2JCwNkh/mFL/0LAG9gqweLwQcCNtFTejkJDwNwPeGAA90LAGGAfnbr2QsAYldQJaHpBwIofY+5a6kLAaJHtfD8NQcCR8/4/TqRCwBzr4jYaOEPACYfe4uHFQcCuKCUEq4hCwA7ABkSIPUPAYVJ8fEL+QsA6WP/nMF86wBDpt68DT0LAaJHtfD8NQcA1mIbhI6pBwNbiUwCMHULA1/oioS0hRMAYldQJaFI2wKjGSzeJUTbAOul942uTQsCc4QZ8fshBwAX9hR4xtkPAOwFNhA13QsBPHhZqTQM7wMPy59uCDUHAvHSTGAQOQcBlqmBUUjdDwAg9m1Wfu0LADqK1os21Q8BPQBNhwztDwBdIUPwYA0HA8N5RY0J8QcBTBaOSOlE2wMZtNIC3UDbA+8vuycMSQ8DecYqO5BJDwGUAqOLGa0PASih9IeSIOcDeWFAYlFE2wCEf9GxWFUPAfzMxXYiFQ8Bg5dAi2+FCwMxdS8gHvULA6SrdXWfPQsCKITmZuAU7wJPheD4DFkPAoRFsXP9gQMBi9x3DY9NBwKK2DaMg9ELAMIDwoUTlQsA/V1uxv4RCwH2utmJ/sUHAiXssfeh+QsAtQxzr4n5CwB3J5T+kk0PAgSbChqdvQsAcfGEyVThEwFpkO99P/UDAofgx5q7dQsAKaCJseGJCwBghPNo4bjrAOiNKe4MXQ8AoDwu1pgk7wJIgXAGFgkLA/zwNGCRRNsDLu+oB81A2wOOlm8QgcDrAFsPVARB1QsBLyAc9m41CwLRZ9bnaskHA2/l+arykQcA8TtGRXEZDwGLWi6GcHEPAqMZLN4lRNsDIBz2bVW9CwOwvuycPi0DA3gIJih9DQ8CPwvUoXG86wKG/0CNGYUDAGJXUCWhSNsAZ4lgXt2lCwE5hpYKKBkPAAMeePZdbQ8CEgefew0dDwI6u0t11/kLAODKP/MGyQcC/fR04Z3RCwO9UwD3P9ULA/B2KAn1oQsBwCcA/pZRDwNuK/WX3vELAO8JpwYtoQsDxY8xdS/RCwIQM5NnlkzbA0ZSdflDBQsD4im69pg1BwMOdCyO9OkPATRB1H4BQNsDUK2UZ4ihBwN3T1R2Li0LAjSlY42yaQsD9h/Tb11E2wNLfS+FBeULACtejcD1qO8BxrIvbaFA2wJM6AU2EDUHA4L4OnDOKQsBAE2HD0yNDwFhzgGCOMEPAp3nHKTpSNsBdo+VAD9NCwFBwsaIGiULAppvEILB6Q8DHoBNCB1E2wFMFo5I6UTbAklz+Q/qNQMAVjErqBJRDwFkXt9EAFkPAzXaFPljaQsBftTLhl2BCwMyyJ4HNeULAqoJRSZ1QNsAOvcXDeyJDwMrBbAIMd0LAP49RnnlHQcDEsplDUgVDwK6bUl4r2ULA6Gor9pe1Q8Db/SrAdytDwHP3OT5aCELAw2SqYFRiQsDnjCjtDQ5BwEpDjUKStUPAgXhdv2BvQsDrc7UV+1NDwHKKjuTyTzbAVTAqqRNQNsClLEMc64pDwEMc6+I2ajvAiJy+nq/DQcDPTDCca3pCwMzuycNCHUPAtoR80LMRQ8BzaJHtfN9CwNxGA3gLhELAlgUTfxTNQ8BkzF1LyP9CwEymCkYlXUHA9Kj4vyNMQ8AZ4lgXt1E2wFRSJ6CJID3AMxr5vOJ3Q8ApWU5C6ZFCwLgf8MAAdkPAylTBqKRuQsDMsieBzTdDwHRGlPYG50LAATPfwU8mQ8AbDeAtkFA2wGkAb4EElULAVTTW/s6AQsCt+lxtxW5CwBJpG3+i5kLAtaZ5xymiQsA2PL1SlmFAwFRSJ6CJUELAVcGopE5oQsBWfa62Ym86wHWTGARWDkHAtyizQSYXQ8D8qIb9nupCwEYldQKasEHA1V5E2zGJO8DLEMe6uLVDwP+WAPxTJEPAGeJYF7dRNsDUmuYdpzhBwJHtfD81tkPAZoUi3c/tQsD0b5f9urVDwLfRAN4CiTvAzOuIQzZQQsC1pKMczCRDwKkT0ETYUDbASOF6FK4nQ8CfPCzUml5BwFDgnXx6hETAfT81XroRQsBkzF1LyDdCwP4LBAEyfDbAfT81XrohQ8AGKuPfZwRDwGaC4VzDfkLAFHgnnx7vQsBPr5RliKtBwJ56pMFt8UHA6bevA+c0Q8B+ObNdoUVEwDVfJR+7DUHA0nMLXYkcQ8BGI59XPFE2wEATYcPTW0PAkxgEVg5tQsB/+zpwzrBBwK8l5IOePUPAHhZqTfNuOsA+d4L915FCwOCcEaW9IUPAdCSX/5BuOsAcfGEyVThDwIaQ8/4/JkPAqFfKMsRRNsC1pnnHKWJAwPtcbcX+AkPADJOpglFBQ8Aofoy5a3lCwET67evAOUPAp3oy/+gbQcB6pSxDHFNCwERpb/CFaTvA6Ugu/yGtQcBxGw3gLVA2wAA5YcJoNkPArP4Iw4AVQ8CSXP5D+g1BwDKwjuOHAkPAPEolPKENQcD7OnDOiFI2wCZTBaOSCjvAUdobfGFSNsD2fqMdN85BwP32deCcEUPAEOm3rwPfQsD0bFZ9rm5CwJyiI7n8p0HAntFWJZFRNsAGEhQ/xmRCwCBB8WPMDUHAE2HD0yuNQsCvJeSDnrVCwCf20D5WikPAHauUnukPQ8B4nKIjuTxDwFjKMsSxbkLAA83n3O3SQsDjpZvEIFA2wPH0SlmGYEDA1QloImwIQ8Bd3EYDePtCwI/k8h/SbzrAV+wvuydPNsDu68A5IzJBwDI+zF62NUPAEOm3rwMPQcA8TtGRXHZDwKyL22gAV0HAqvHSTWJQNsA730+NlxZDwLByaJHtBEPAt7OvPEhNQ8APuoRDb7tBwOZd9YB5wkHAyJi7lpB/QMBxrIvbaIBCwHBfB84ZUTbAA3gLJChGQ8B3LSEf9CxCwLWmeccpwkHA6DOg3oyIQsC6awn5oH9CwBE2PL1SbkLADf0TXKw6Q8D2lnK+2DdDwDeJQWDlYEDAB+5AnfIcQ8Ajumddo/9CwK+UZYhjDUHAQ4zXvKqLQ8AZc9cS8mFAwJiKjXkdUTbAW8064/tcQ8BRa5p3nFI2wAZmhSLdHUPAcT0K16NQNsChZ7Pqcw1BwN9PjZduUjbAdELooEveQsAWinQ/p0ZDwINRSZ2ALkPAoBov3SQOQcASTgte9MlBwNP02QHXtUPA1A/qIoWUQMAZc9cS8lE2wDtwzojSbjrAGXPXEvJRNsAhH/RsVp1CwIXrUbgeRUPAWMoyxLFuOsDBqKROQLtBwERpb/CFEUPAq3r5nSb7QsC2hHzQs2FAwGrecYqOvELAnRGlvcE3Q8BKe4MvTA5BwM2U1t8SbkLAS+mZXmLoQsDHuriNBuBCwAU0ETY8HUPAeCefHtvCQcDSAN4CCSpDwGiR7Xw/pUHAvjCZKhi9QsDJrN7hdmJCwPThWYKMPEPA/7J78rBQNsD7XG3F/jpDwGGInL6ehUPAcvkP6bevQcAukKD4MaZBwIS9iSE5RUPAMEymCkYNQcCgibDh6Q1BwLhAguLHUELAMGXggJYEQ8BvgQTFj1E2wKvP1VbsT0PA7BLVWwMbQ8Drc7UV+2tCwOay0Tk/UTbAWKg1zTv+QsAn+RG/YkVDwN5xio7kCkPAZvfkYaFuQsDkg57NqgdDwOp1i8BYHUPAHsNjP4snQcDcRgN4CwRDwNZz0vvGn0LAirDh6ZVSNsD/snvysFA2wDjaccPvDkPA9bnaiv0NQcDu68A5I3JBwJoIG55eJ0PAd76fGi/lQcBZF7fRAA5BwBkEVg4tUjbArBxaZDt3QsBSJ6CJsNFCwCI5mbhVUDbAHsNjP4sDQ8A5RUdy+U86wJF++zpwLkPApN++DpwbQ8Cmm8QgsFI2wNsV+mAZb0LAvfvjvWo3Q8BIv30dOH9CwNV46SYx6ELAZ9XnaisGQ8B2Tx4WahVDwFUwKqkTUDbAlBeZgF9BQ8C37BD/sOlCwMbctYR8UDbAopv9gXI1Q8AvbqMBvLVDwOeMKO0NbkLAEFg5tMjmQsBhUnx8QjhDwHZxGw3gDUHAF0hQ/BgDQ8DaG3xhMilDwIlgHFw6EEPAEqW9wRdWQcBjf9k9eVBCwI/k8h/SbzrA7uvAOSMqQ8DturciMWdDwPcF9MKd30LAyOvBpPhQNsC5/If02y9DwGK7e4Dup0HAs+pztRUzQ8A0orQ3+OpDwN/gC5OpUjbAFHXmHhJAQ8BMpgpGJTVDwK7YX3ZPHkPAjQ5Iwr4rQ8CoOA68WopCwOeNk8K8/ULA+b1Nf/YHQ8AepRKe0LVBwKrx0k1iGEPAA3gLJCgOQcDGbTSAt2BAwMZtNIC3oELAD7QCQ1YHO8C4QILixw5DwE5iEFg5BEPAhc/WwcEaQ8BUVWgglotCwISezarPLUPAqMZLN4npQsAlzLT9K0lBwAtGJXUCIkPA9UpZhjiGQ8AgY+5aQh5DwMiakUHubjrA3NeBc0bkQsBYHw99d0NDwFOUS+MXJkPAGeJYF7dRNsDcKoiBrjtDwEGDTZ1HpUHAke18PzUuQ8CDL0ymCg5BwATnjCjtDUHAHOviNhpAQ8AoDwu1pjlDwFMFo5I6UTbA1Cr6QzNvQsDEsS5uo8FBwGyXNhyW4kLA1xLyQc9uQsDvx+2XT246wMDpXbwfKUPABcWPMXe1Q8BeZAJ+jTZDwMUgsHJoUTbATkaVYdzvQsCvlGWIY7VDwKpgVFInUELALjiDv18+Q8BIbk26LVE2wOgzoN6MCEPA95MxPswmQ8DoTrD/OjdDwJOpglFJbTrAaksd5PVQNsAtsp3vpzZDwBzr4jYaUELAcNBefTzKQcCxv+yePCxDwKyt2F92H0LArK3YX3a/QcB6AIv8+rNBwHZxGw3gtUPAguLHmLsOQcDFILByaNFDwGBY/nxbKkPA/rrTnSdSNsA4+MJkqlA2wCBj7lpC/kLAbHh6pSxzQsClvcEXJjtDwIy9F1+0DUHAh/nyAuy1Q8BSJ6CJsFE2wHZPHhZqbTrANV66SQxSNsD2KFyPwvVCwD81XrpJrEHAAd4CCYp/QsBbfAqA8W5CwMhhMH+FPEPAA0Lr4cvgQsDFjzF3LVE2wBueXinL+ELAQmDl0CIbQ8DJ5T+k3246wBPVWwNbNUPAr5RliGMNQcAibHh6paRBwGwJ+aBnW0PAmG4Sg8B6Q8DSAN4CCfJCwPW52or9rUHAW9O84xR5QcA2lUVhF3dCwATnjCjtBUPAWmd8X1xqO8ALJCh+jDlDwJMCC2DKhEPADr4wmSoQQ8Aydy0hH7xCwG0bRkHwMEPAOPjCZKpgQsBVwaikTlA2wGDl0CLbOUPA++dpwCBjQsAOMPMd/DxDwHUDBd7Ja0LA+8vuycPaQsDqBDQRNrxBwN9PjZduikPA/Yf029fBQcBffNEeL0xCwNv5fmq8HEPAQbYsX5evQcDF/rJ78lA2wLG/7J48YkLAhJ7Nqs8NQcDQ1VbsL2s7wNIA3gIJwkHAzHnGvmR5Q8DVzcXf9jBBwDVeukkMUjbAveMUHcmdQsClpIeh1WVCwDuJCP8iNkTAhA1Pr5QNQcAlz/V9ODhDwHE9CtejUDbA2T15WKgtQcCWJqWg27VDwNqs+lxttUPAQBaiQ+BuQsD3rkFfeg1BwLpnXaPlBEPA1XjpJjFQQsA0orQ3+FI2wE9AE2HDQ0PAc9cS8kFXQ8D3Bl+YTL1BwM07TtGRHEPAfpBlwcRbQ8BL6gQ0EQ5BwLD+z2G+3kLAUWuad5xSNsBlqmBUUn9BwIv9ZffkUTbAhXzQs1mdQcD2KFyPwg1BwKyL22gAp0HA4umVsgxRNsBgcw6eCW9CwCVcyCO4MUPAXI/C9SjUQMCgwDv59FA2wEYldQKa0EHAAU2EDU9PQsC6LvzgfDxDwIbJVMGoPEPA02pI3GMvQ8CJC0CjdH9CwD7L8+DuLELAV1uxv+wOQcAxmSoYlRxBwIEk7NtJPkPAiPTb14EbQ8Bx4qsdxQ1BwGv0aoDSOkPA6zao/dZuQsC6SQwCK39CwBGN7iB29ELAMv/omzRRNsBs66f/rD1DwMUgsHJoUTbA0vvG154FO8Btxf6ye1I2wHl4z4HlUDbApgpGJXWyQcDtt3aiJHZCwHV1x2KbhkLAhXzQs1nVQcDrc7UV+ytDwDY8vVKWYUDAwOldvB+JQsC+3ZIcsCtDwN9PjZduQkPAg94bQwBGRMBhMlUwKtlCwBMteTwt+0LArmUyHM9nQ8BfmEwVjFpBwMP1KFyPQkPAzeUGQx2mQcDO4sXCEIlCwN21hHzQQ0PASL99HTg3Q8Ace/Zcpm5CwLUZpyGqhkLAUrgehevZQsCjyFpDqTVDwLdif9k9YUDA8x/Sb19XQ8CFfNCzWQVDwFfsL7snH0PA7C+7Jw9rO8B3vp8aLw1BwFdbsb/szkHAh6JAn8i/QMA74LpiRhpDwJAxdy0h30LA5q4l5INuOsA82jhiLUZDwOMz2T9PGUPA2El9WdpRNsBGJXUCmlBCwJ2AJsKGT0LA9ihcj8IVQ8BXW7G/7AZDwHEDPj+MhEPAkst/SL+1Q8CR7Xw/NVRDwPKWqx+bIEPAxQQ1fAtvOsCchqjCnw1BwE3zjlN0hEPATmIQWDmMQMAykj1CzTRDwFevIqMDQETAzF1LyAe1QcAPRYE+kbVDwK5H4XoUBkPAsoNKXMe6Q8CM22gAb1E2wL4wmSoYDUHAQBNhw9O7QsC+MJkqGL1BwBNhw9MrDUHA54wo7Q1mQ8Do2az6XA1BwMP1KFyPikDAqMZLN4kZQsDY8PRKWVZBwJhuEoPA9kLAAwmKH2MOQcDZPXlYqA1BwJ4LI72oF0PAnu3RG+4TQ8DjNhrAWyBDwJQvaCEBi0LAQpjbvdy1Q8BTliGOdVE2wKkT0ETYID3AtFn1udoyQ8CwA+eMKK1BwJwaaD7nQEPA8nhafuA4Q8DWG7XC9CVDwET67evA6ULATP4nf/cCQ8BuwVJdwO1CwNV46SYxQELA0nMLXYk0Q8Bcr+lBQe9CwHo57L5jbELAi/1l9+RRNsBfmiLA6RFCwHkDzHwHcUPAcoqO5PJPQsCwA+eMKLVDwN4CCYofUzbAIVfqWRBuOsBuwVJdwDdEwLx0kxgEDkHAumsJ+aCvQcCMvRdftLVDwHWTGARWxkHAkPmAQGduOsD5oGez6htBwBTQRNjwPEPAKGVSQxv+QsAqApzexU9CwKTfvg6cw0HA7nw/NV5CQcDHZHH/kQU7wIrJG2DmhUPAnDOitDcQQ8AMA5ZcxZhCwPLSTWIQOEPAhnXj3ZG1Q8AJ3/sbtBdCwGTMXUvI70DAuDoA4q5uQsBwzojS3mhCwL9/8+LEd0PARRMoYhFvQsBpOjsZHFE2wNv9KsB3k0LAtRX7y+5xQ8Dl0CLb+W46wI/k8h/SkULABoGVQ4v8QsDK372jxlA2wHGsi9toUDbA+fNtwVK1Q8C94xQdyfVCwFuxv+yelEPAWDm0yHZuOsAc6+I2GlBCwO60NSIYb0LA7Z48LNSKQsBWn6ut2HdCwK+UZYhjFUPAAd4CCYpvOsAuGjIepX5CwIKo+wCkLEPAutqK/WVPQsD8GHPXEmJCwO23dqIk7kLAZapgVFIvQ8DPZtXnajNEwINRSZ2AbkLADHVY4ZZrQ8AGEhQ/xgRDwHDOiNLeUDbAvw6cM6JEQ8DTTWIQWPFCwPjhICHKOUPAr5RliGM9Q8D/zCA+sFdCwHE9Ctej0EHA7niT36JBQ8C/DpwzokRDwJEm3gGeIkPAjZduEoNQNsAofoy5a3lDwHcP0H05O0PAKqkT0EQYQ8BCmNu93DlDwMzuycNCDUPAo8ubw7W2QcD3BfTCnVtCwD2bVZ+rNUPAHxSUopUNQcD+7bJfdyxDwFfsL7snf0LAPSzUmuZ1QsBAE2HD0zNDwPYoXI/CDUHA9bnaiv2NQcDyQc9m1T9DwPtcbcX+ikLAuECC4seAQsCEDU+vlA1BwJXUCWgivELA7kJznUZ2QsCTHRuBeClCwLprCfmgT0LA9wZfmEwVQ8CfzarP1W5CwBnkLsIURUPAAiuHFtluOsB6pSxDHGNCwKmkTkATUTbAIlD9g0h2Q8DYuP5dn7VCwAYSFD/GNEPAGHjuPVx8Q8C/RpIgXA9DwDGZKhiVlEDApb3BFya7QsCbApmdRXdCwIl7LH3oRkLARu9UwD2bQsAE54wo7Q1BwNO84xQdyUHA4gM7/gsqQ8A4EJIFTAg7wMUgsHJoeULAVmR0QBKMQMCDonkAi1RDwO58PzVeQkPAObTIdr7fQsBCYOXQIjtDwJELzuDvtUPAWcFvQ4wNQcAyj/zBwJFCwBRdF35wdkLAwFsgQfFjQ8BtHofB/AU7wDqVDABVvEHAVOOlm8RgQMCt+IbCZ7FCwJLLf0i/xUDA+n5qvHSrQsDAWyBB8btCwJhMFYxKajvAmG4Sg8B6QsDQCaGDLhlDwC0hH/RsNkPA7X4V4LuBQsAB3gIJirdAwNUD5iFTIEPAF7fRAN5CRMCPxqF+FzZDwCfbwB2otUPAV3xD4bNlQsBli6Td6LVDwKFHjJ5b3ELANBE2PL1KQcBy/bs+cy5DwPW52or9DUHAKVlOQul9Q8DPu7GgMDBCwIXrUbgeFUPAPzVeukk0Q8DWc9L7xg1BwBE2PL1SbkLA4zYawFuwQcA2sFWCxatBwM3lBkMdOkPAcT0K16NwQsAJqdvZV2o7wB6lEp7Qi0LAAfp9/+ZnQsA=",
          "dtype": "f8"
         },
         "legendgroup": "",
         "lon": {
          "bdata": "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",
          "dtype": "f8"
         },
         "marker": {
          "color": "#636efa"
         },
         "mode": "markers",
         "name": "",
         "showlegend": false,
         "subplot": "mapbox",
         "type": "scattermapbox"
        },
        {
         "fill": "toself",
         "fillcolor": "rgba(255,0,0,0.3)",
         "lat": [
          -34.2969,
          -34.2966,
          -34.2966,
          -34.2969,
          -34.2969
         ],
         "line": {
          "color": "white"
         },
         "lon": [
          -71.38,
          -71.38,
          -71.38,
          -71.38,
          -71.38
         ],
         "mode": "lines",
         "showlegend": false,
         "type": "scattermapbox"
        },
        {
         "fill": "toself",
         "fillcolor": "rgba(255,0,0,0.3)",
         "lat": [
          -38.4867,
          -38.400776,
          -38.400776,
          -38.4867,
          -38.4867
         ],
         "line": {
          "color": "white"
         },
         "lon": [
          -72.8717,
          -72.8717,
          -72.5198,
          -72.5198,
          -72.8717
         ],
         "mode": "lines",
         "showlegend": false,
         "type": "scattermapbox"
        },
        {
         "fill": "toself",
         "fillcolor": "rgba(255,0,0,0.3)",
         "lat": [
          -35.5701,
          -35.426,
          -35.426,
          -35.5701,
          -35.5701
         ],
         "line": {
          "color": "white"
         },
         "lon": [
          -72.2132,
          -72.2132,
          -72.135,
          -72.135,
          -72.2132
         ],
         "mode": "lines",
         "showlegend": false,
         "type": "scattermapbox"
        },
        {
         "fill": "toself",
         "fillcolor": "rgba(255,0,0,0.3)",
         "lat": [
          -37.1843,
          -36.861359,
          -36.861359,
          -37.1843,
          -37.1843
         ],
         "line": {
          "color": "white"
         },
         "lon": [
          -72.0726,
          -72.0726,
          -71.8204,
          -71.8204,
          -72.0726
         ],
         "mode": "lines",
         "showlegend": false,
         "type": "scattermapbox"
        },
        {
         "fill": "toself",
         "fillcolor": "rgba(255,0,0,0.3)",
         "lat": [
          -36.841114,
          -36.7516,
          -36.7516,
          -36.841114,
          -36.841114
         ],
         "line": {
          "color": "white"
         },
         "lon": [
          -71.947823,
          -71.947823,
          -71.8179,
          -71.8179,
          -71.947823
         ],
         "mode": "lines",
         "showlegend": false,
         "type": "scattermapbox"
        },
        {
         "fill": "toself",
         "fillcolor": "rgba(255,0,0,0.3)",
         "lat": [
          -38.2733,
          -38.1845,
          -38.1845,
          -38.2733,
          -38.2733
         ],
         "line": {
          "color": "white"
         },
         "lon": [
          -73.387741,
          -73.387741,
          -73.2807,
          -73.2807,
          -73.387741
         ],
         "mode": "lines",
         "showlegend": false,
         "type": "scattermapbox"
        },
        {
         "fill": "toself",
         "fillcolor": "rgba(255,0,0,0.3)",
         "lat": [
          -38.1423,
          -37.9946,
          -37.9946,
          -38.1423,
          -38.1423
         ],
         "line": {
          "color": "white"
         },
         "lon": [
          -72.599854,
          -72.599854,
          -72.4826,
          -72.4826,
          -72.599854
         ],
         "mode": "lines",
         "showlegend": false,
         "type": "scattermapbox"
        },
        {
         "fill": "toself",
         "fillcolor": "rgba(255,0,0,0.3)",
         "lat": [
          -34.8164,
          -34.80711,
          -34.80711,
          -34.8164,
          -34.8164
         ],
         "line": {
          "color": "white"
         },
         "lon": [
          -72.098846,
          -72.098846,
          -72.0939,
          -72.0939,
          -72.098846
         ],
         "mode": "lines",
         "showlegend": false,
         "type": "scattermapbox"
        },
        {
         "fill": "toself",
         "fillcolor": "rgba(255,0,0,0.3)",
         "lat": [
          -35.63,
          -35.6297,
          -35.6297,
          -35.63,
          -35.63
         ],
         "line": {
          "color": "white"
         },
         "lon": [
          -72.0676,
          -72.0676,
          -72.0672,
          -72.0672,
          -72.0676
         ],
         "mode": "lines",
         "showlegend": false,
         "type": "scattermapbox"
        },
        {
         "fill": "toself",
         "fillcolor": "rgba(255,0,0,0.3)",
         "lat": [
          -38.0364,
          -37.9889,
          -37.9889,
          -38.0364,
          -38.0364
         ],
         "line": {
          "color": "white"
         },
         "lon": [
          -72.2005,
          -72.2005,
          -72.1483,
          -72.1483,
          -72.2005
         ],
         "mode": "lines",
         "showlegend": false,
         "type": "scattermapbox"
        },
        {
         "fill": "toself",
         "fillcolor": "rgba(255,0,0,0.3)",
         "lat": [
          -38.415318,
          -38.306187,
          -38.306187,
          -38.415318,
          -38.415318
         ],
         "line": {
          "color": "white"
         },
         "lon": [
          -72.3207,
          -72.3207,
          -72.1686,
          -72.1686,
          -72.3207
         ],
         "mode": "lines",
         "showlegend": false,
         "type": "scattermapbox"
        },
        {
         "fill": "toself",
         "fillcolor": "rgba(255,0,0,0.3)",
         "lat": [
          -35.6149,
          -35.578281,
          -35.578281,
          -35.6149,
          -35.6149
         ],
         "line": {
          "color": "white"
         },
         "lon": [
          -72.4198,
          -72.4198,
          -72.3599,
          -72.3599,
          -72.4198
         ],
         "mode": "lines",
         "showlegend": false,
         "type": "scattermapbox"
        },
        {
         "fill": "toself",
         "fillcolor": "rgba(255,0,0,0.3)",
         "lat": [
          -22.3273,
          -22.3083,
          -22.3083,
          -22.3273,
          -22.3273
         ],
         "line": {
          "color": "white"
         },
         "lon": [
          -68.8982,
          -68.8982,
          -68.8716,
          -68.8716,
          -68.8982
         ],
         "mode": "lines",
         "showlegend": false,
         "type": "scattermapbox"
        },
        {
         "fill": "toself",
         "fillcolor": "rgba(255,0,0,0.3)",
         "lat": [
          -38.0717,
          -37.98,
          -37.98,
          -38.0717,
          -38.0717
         ],
         "line": {
          "color": "white"
         },
         "lon": [
          -72.4473,
          -72.4473,
          -72.391342,
          -72.391342,
          -72.4473
         ],
         "mode": "lines",
         "showlegend": false,
         "type": "scattermapbox"
        },
        {
         "fill": "toself",
         "fillcolor": "rgba(255,0,0,0.3)",
         "lat": [
          -33.1131,
          -33.104958,
          -33.104958,
          -33.1131,
          -33.1131
         ],
         "line": {
          "color": "white"
         },
         "lon": [
          -70.6929,
          -70.6929,
          -70.6755,
          -70.6755,
          -70.6929
         ],
         "mode": "lines",
         "showlegend": false,
         "type": "scattermapbox"
        },
        {
         "fill": "toself",
         "fillcolor": "rgba(255,0,0,0.3)",
         "lat": [
          -38.7655,
          -38.764851,
          -38.764851,
          -38.7655,
          -38.7655
         ],
         "line": {
          "color": "white"
         },
         "lon": [
          -72.8696,
          -72.8696,
          -72.868111,
          -72.868111,
          -72.8696
         ],
         "mode": "lines",
         "showlegend": false,
         "type": "scattermapbox"
        },
        {
         "fill": "toself",
         "fillcolor": "rgba(255,0,0,0.3)",
         "lat": [
          -37.857906,
          -37.856602,
          -37.856602,
          -37.857906,
          -37.857906
         ],
         "line": {
          "color": "white"
         },
         "lon": [
          -71.162132,
          -71.162132,
          -71.158455,
          -71.158455,
          -71.162132
         ],
         "mode": "lines",
         "showlegend": false,
         "type": "scattermapbox"
        },
        {
         "fill": "toself",
         "fillcolor": "rgba(255,0,0,0.3)",
         "lat": [
          -26.4384,
          -26.4269,
          -26.4269,
          -26.4384,
          -26.4384
         ],
         "line": {
          "color": "white"
         },
         "lon": [
          -69.4823,
          -69.4823,
          -69.468,
          -69.468,
          -69.4823
         ],
         "mode": "lines",
         "showlegend": false,
         "type": "scattermapbox"
        },
        {
         "fill": "toself",
         "fillcolor": "rgba(255,0,0,0.3)",
         "lat": [
          -36.6349,
          -36.6097,
          -36.6097,
          -36.6349,
          -36.6349
         ],
         "line": {
          "color": "white"
         },
         "lon": [
          -72.1242,
          -72.1242,
          -72.0752,
          -72.0752,
          -72.1242
         ],
         "mode": "lines",
         "showlegend": false,
         "type": "scattermapbox"
        },
        {
         "fill": "toself",
         "fillcolor": "rgba(255,0,0,0.3)",
         "lat": [
          -34.1174,
          -34.1,
          -34.1,
          -34.1174,
          -34.1174
         ],
         "line": {
          "color": "white"
         },
         "lon": [
          -70.4669,
          -70.4669,
          -70.4407,
          -70.4407,
          -70.4669
         ],
         "mode": "lines",
         "showlegend": false,
         "type": "scattermapbox"
        },
        {
         "fill": "toself",
         "fillcolor": "rgba(255,0,0,0.3)",
         "lat": [
          -26.3198,
          -26.3192,
          -26.3192,
          -26.3198,
          -26.3198
         ],
         "line": {
          "color": "white"
         },
         "lon": [
          -69.8641,
          -69.8641,
          -69.863,
          -69.863,
          -69.8641
         ],
         "mode": "lines",
         "showlegend": false,
         "type": "scattermapbox"
        },
        {
         "fill": "toself",
         "fillcolor": "rgba(255,0,0,0.3)",
         "lat": [
          -35.4208,
          -35.3425,
          -35.3425,
          -35.4208,
          -35.4208
         ],
         "line": {
          "color": "white"
         },
         "lon": [
          -72.3373,
          -72.3373,
          -72.2771,
          -72.2771,
          -72.3373
         ],
         "mode": "lines",
         "showlegend": false,
         "type": "scattermapbox"
        },
        {
         "fill": "toself",
         "fillcolor": "rgba(255,0,0,0.3)",
         "lat": [
          -36.408356,
          -36.404694,
          -36.404694,
          -36.408356,
          -36.408356
         ],
         "line": {
          "color": "white"
         },
         "lon": [
          -71.753021,
          -71.753021,
          -71.7506,
          -71.7506,
          -71.753021
         ],
         "mode": "lines",
         "showlegend": false,
         "type": "scattermapbox"
        },
        {
         "fill": "toself",
         "fillcolor": "rgba(255,0,0,0.3)",
         "lat": [
          -30.668,
          -30.6675,
          -30.6675,
          -30.668,
          -30.668
         ],
         "line": {
          "color": "white"
         },
         "lon": [
          -71.126,
          -71.126,
          -71.1257,
          -71.1257,
          -71.126
         ],
         "mode": "lines",
         "showlegend": false,
         "type": "scattermapbox"
        },
        {
         "fill": "toself",
         "fillcolor": "rgba(255,0,0,0.3)",
         "lat": [
          -35.4405,
          -35.3813,
          -35.3813,
          -35.4405,
          -35.4405
         ],
         "line": {
          "color": "white"
         },
         "lon": [
          -72.084282,
          -72.084282,
          -72.06501,
          -72.06501,
          -72.084282
         ],
         "mode": "lines",
         "showlegend": false,
         "type": "scattermapbox"
        },
        {
         "fill": "toself",
         "fillcolor": "rgba(255,0,0,0.3)",
         "lat": [
          -35.1093,
          -35.108723,
          -35.108723,
          -35.1093,
          -35.1093
         ],
         "line": {
          "color": "white"
         },
         "lon": [
          -71.999,
          -71.999,
          -71.997673,
          -71.997673,
          -71.999
         ],
         "mode": "lines",
         "showlegend": false,
         "type": "scattermapbox"
        },
        {
         "fill": "toself",
         "fillcolor": "rgba(255,0,0,0.3)",
         "lat": [
          -35.343575,
          -35.3373,
          -35.3373,
          -35.343575,
          -35.343575
         ],
         "line": {
          "color": "white"
         },
         "lon": [
          -72.036285,
          -72.036285,
          -72.029381,
          -72.029381,
          -72.036285
         ],
         "mode": "lines",
         "showlegend": false,
         "type": "scattermapbox"
        },
        {
         "fill": "toself",
         "fillcolor": "rgba(255,0,0,0.3)",
         "lat": [
          -37.9528,
          -37.907803,
          -37.907803,
          -37.9528,
          -37.9528
         ],
         "line": {
          "color": "white"
         },
         "lon": [
          -72.505394,
          -72.505394,
          -72.3991,
          -72.3991,
          -72.505394
         ],
         "mode": "lines",
         "showlegend": false,
         "type": "scattermapbox"
        },
        {
         "fill": "toself",
         "fillcolor": "rgba(255,0,0,0.3)",
         "lat": [
          -38.2296,
          -38.127785,
          -38.127785,
          -38.2296,
          -38.2296
         ],
         "line": {
          "color": "white"
         },
         "lon": [
          -72.4345,
          -72.4345,
          -72.319084,
          -72.319084,
          -72.4345
         ],
         "mode": "lines",
         "showlegend": false,
         "type": "scattermapbox"
        },
        {
         "fill": "toself",
         "fillcolor": "rgba(255,0,0,0.3)",
         "lat": [
          -39.4237,
          -39.4143,
          -39.4143,
          -39.4237,
          -39.4237
         ],
         "line": {
          "color": "white"
         },
         "lon": [
          -71.9481,
          -71.9481,
          -71.9285,
          -71.9285,
          -71.9481
         ],
         "mode": "lines",
         "showlegend": false,
         "type": "scattermapbox"
        },
        {
         "fill": "toself",
         "fillcolor": "rgba(255,0,0,0.3)",
         "lat": [
          -37.9361,
          -37.9198,
          -37.9198,
          -37.9361,
          -37.9361
         ],
         "line": {
          "color": "white"
         },
         "lon": [
          -72.6873,
          -72.6873,
          -72.6813,
          -72.6813,
          -72.6873
         ],
         "mode": "lines",
         "showlegend": false,
         "type": "scattermapbox"
        },
        {
         "fill": "toself",
         "fillcolor": "rgba(255,0,0,0.3)",
         "lat": [
          -37.921074,
          -37.8951,
          -37.8951,
          -37.921074,
          -37.921074
         ],
         "line": {
          "color": "white"
         },
         "lon": [
          -72.5537,
          -72.5537,
          -72.531502,
          -72.531502,
          -72.5537
         ],
         "mode": "lines",
         "showlegend": false,
         "type": "scattermapbox"
        },
        {
         "fill": "toself",
         "fillcolor": "rgba(255,0,0,0.3)",
         "lat": [
          -33.522064,
          -33.4977,
          -33.4977,
          -33.522064,
          -33.522064
         ],
         "line": {
          "color": "white"
         },
         "lon": [
          -70.910187,
          -70.910187,
          -70.894,
          -70.894,
          -70.910187
         ],
         "mode": "lines",
         "showlegend": false,
         "type": "scattermapbox"
        },
        {
         "fill": "toself",
         "fillcolor": "rgba(255,0,0,0.3)",
         "lat": [
          -37.8606,
          -37.7981,
          -37.7981,
          -37.8606,
          -37.8606
         ],
         "line": {
          "color": "white"
         },
         "lon": [
          -72.267326,
          -72.267326,
          -72.2005,
          -72.2005,
          -72.267326
         ],
         "mode": "lines",
         "showlegend": false,
         "type": "scattermapbox"
        },
        {
         "fill": "toself",
         "fillcolor": "rgba(255,0,0,0.3)",
         "lat": [
          -32.7669,
          -32.7513,
          -32.7513,
          -32.7669,
          -32.7669
         ],
         "line": {
          "color": "white"
         },
         "lon": [
          -71.4805,
          -71.4805,
          -71.4649,
          -71.4649,
          -71.4805
         ],
         "mode": "lines",
         "showlegend": false,
         "type": "scattermapbox"
        },
        {
         "fill": "toself",
         "fillcolor": "rgba(255,0,0,0.3)",
         "lat": [
          -37.871773,
          -37.8714,
          -37.8714,
          -37.871773,
          -37.871773
         ],
         "line": {
          "color": "white"
         },
         "lon": [
          -72.557503,
          -72.557503,
          -72.5566,
          -72.5566,
          -72.557503
         ],
         "mode": "lines",
         "showlegend": false,
         "type": "scattermapbox"
        },
        {
         "fill": "toself",
         "fillcolor": "rgba(255,0,0,0.3)",
         "lat": [
          -38.1466,
          -38.146427,
          -38.146427,
          -38.1466,
          -38.1466
         ],
         "line": {
          "color": "white"
         },
         "lon": [
          -73.201691,
          -73.201691,
          -73.2011,
          -73.2011,
          -73.201691
         ],
         "mode": "lines",
         "showlegend": false,
         "type": "scattermapbox"
        },
        {
         "fill": "toself",
         "fillcolor": "rgba(255,0,0,0.3)",
         "lat": [
          -27.0413,
          -26.9995,
          -26.9995,
          -27.0413,
          -27.0413
         ],
         "line": {
          "color": "white"
         },
         "lon": [
          -69.9107,
          -69.9107,
          -69.8542,
          -69.8542,
          -69.9107
         ],
         "mode": "lines",
         "showlegend": false,
         "type": "scattermapbox"
        },
        {
         "fill": "toself",
         "fillcolor": "rgba(255,0,0,0.3)",
         "lat": [
          -36.8727,
          -36.8598,
          -36.8598,
          -36.8727,
          -36.8727
         ],
         "line": {
          "color": "white"
         },
         "lon": [
          -71.384682,
          -71.384682,
          -71.3719,
          -71.3719,
          -71.384682
         ],
         "mode": "lines",
         "showlegend": false,
         "type": "scattermapbox"
        },
        {
         "fill": "toself",
         "fillcolor": "rgba(255,0,0,0.3)",
         "lat": [
          -37.8396,
          -37.687622,
          -37.687622,
          -37.8396,
          -37.8396
         ],
         "line": {
          "color": "white"
         },
         "lon": [
          -72.24752,
          -72.24752,
          -72.053,
          -72.053,
          -72.24752
         ],
         "mode": "lines",
         "showlegend": false,
         "type": "scattermapbox"
        },
        {
         "fill": "toself",
         "fillcolor": "rgba(255,0,0,0.3)",
         "lat": [
          -38.162247,
          -38.1617,
          -38.1617,
          -38.162247,
          -38.162247
         ],
         "line": {
          "color": "white"
         },
         "lon": [
          -73.0431,
          -73.0431,
          -73.042686,
          -73.042686,
          -73.0431
         ],
         "mode": "lines",
         "showlegend": false,
         "type": "scattermapbox"
        },
        {
         "fill": "toself",
         "fillcolor": "rgba(255,0,0,0.3)",
         "lat": [
          -38.225029,
          -38.163719,
          -38.163719,
          -38.225029,
          -38.225029
         ],
         "line": {
          "color": "white"
         },
         "lon": [
          -73.453934,
          -73.453934,
          -73.388412,
          -73.388412,
          -73.453934
         ],
         "mode": "lines",
         "showlegend": false,
         "type": "scattermapbox"
        },
        {
         "fill": "toself",
         "fillcolor": "rgba(255,0,0,0.3)",
         "lat": [
          -37.4834,
          -37.4621,
          -37.4621,
          -37.4834,
          -37.4834
         ],
         "line": {
          "color": "white"
         },
         "lon": [
          -72.3737,
          -72.3737,
          -72.3487,
          -72.3487,
          -72.3737
         ],
         "mode": "lines",
         "showlegend": false,
         "type": "scattermapbox"
        },
        {
         "fill": "toself",
         "fillcolor": "rgba(255,0,0,0.3)",
         "lat": [
          -38.263611,
          -38.2635,
          -38.2635,
          -38.263611,
          -38.263611
         ],
         "line": {
          "color": "white"
         },
         "lon": [
          -73.439888,
          -73.439888,
          -73.4397,
          -73.4397,
          -73.439888
         ],
         "mode": "lines",
         "showlegend": false,
         "type": "scattermapbox"
        },
        {
         "fill": "toself",
         "fillcolor": "rgba(255,0,0,0.3)",
         "lat": [
          -35.314339,
          -35.2863,
          -35.2863,
          -35.314339,
          -35.314339
         ],
         "line": {
          "color": "white"
         },
         "lon": [
          -72.3712,
          -72.3712,
          -72.294006,
          -72.294006,
          -72.3712
         ],
         "mode": "lines",
         "showlegend": false,
         "type": "scattermapbox"
        },
        {
         "fill": "toself",
         "fillcolor": "rgba(255,0,0,0.3)",
         "lat": [
          -39.8361,
          -39.832,
          -39.832,
          -39.8361,
          -39.8361
         ],
         "line": {
          "color": "white"
         },
         "lon": [
          -73.2222,
          -73.2222,
          -73.2116,
          -73.2116,
          -73.2222
         ],
         "mode": "lines",
         "showlegend": false,
         "type": "scattermapbox"
        },
        {
         "fill": "toself",
         "fillcolor": "rgba(255,0,0,0.3)",
         "lat": [
          -35.285992,
          -35.2856,
          -35.2856,
          -35.285992,
          -35.285992
         ],
         "line": {
          "color": "white"
         },
         "lon": [
          -72.1079,
          -72.1079,
          -72.106934,
          -72.106934,
          -72.1079
         ],
         "mode": "lines",
         "showlegend": false,
         "type": "scattermapbox"
        },
        {
         "fill": "toself",
         "fillcolor": "rgba(255,0,0,0.3)",
         "lat": [
          -36.676044,
          -36.639656,
          -36.639656,
          -36.676044,
          -36.676044
         ],
         "line": {
          "color": "white"
         },
         "lon": [
          -71.893196,
          -71.893196,
          -71.8424,
          -71.8424,
          -71.893196
         ],
         "mode": "lines",
         "showlegend": false,
         "type": "scattermapbox"
        },
        {
         "fill": "toself",
         "fillcolor": "rgba(255,0,0,0.3)",
         "lat": [
          -35.014618,
          -34.992065,
          -34.992065,
          -35.014618,
          -35.014618
         ],
         "line": {
          "color": "white"
         },
         "lon": [
          -71.00444,
          -71.00444,
          -70.953804,
          -70.953804,
          -71.00444
         ],
         "mode": "lines",
         "showlegend": false,
         "type": "scattermapbox"
        },
        {
         "fill": "toself",
         "fillcolor": "rgba(255,0,0,0.3)",
         "lat": [
          -37.99033,
          -37.927242,
          -37.927242,
          -37.99033,
          -37.99033
         ],
         "line": {
          "color": "white"
         },
         "lon": [
          -73.3964,
          -73.3964,
          -73.3127,
          -73.3127,
          -73.3964
         ],
         "mode": "lines",
         "showlegend": false,
         "type": "scattermapbox"
        },
        {
         "fill": "toself",
         "fillcolor": "rgba(255,0,0,0.3)",
         "lat": [
          -36.7029,
          -36.6493,
          -36.6493,
          -36.7029,
          -36.7029
         ],
         "line": {
          "color": "white"
         },
         "lon": [
          -72.764343,
          -72.764343,
          -72.732605,
          -72.732605,
          -72.764343
         ],
         "mode": "lines",
         "showlegend": false,
         "type": "scattermapbox"
        },
        {
         "fill": "toself",
         "fillcolor": "rgba(255,0,0,0.3)",
         "lat": [
          -27.535917,
          -27.5352,
          -27.5352,
          -27.535917,
          -27.535917
         ],
         "line": {
          "color": "white"
         },
         "lon": [
          -70.320015,
          -70.320015,
          -70.3199,
          -70.3199,
          -70.320015
         ],
         "mode": "lines",
         "showlegend": false,
         "type": "scattermapbox"
        },
        {
         "fill": "toself",
         "fillcolor": "rgba(255,0,0,0.3)",
         "lat": [
          -37.9324,
          -37.9315,
          -37.9315,
          -37.9324,
          -37.9324
         ],
         "line": {
          "color": "white"
         },
         "lon": [
          -73.4853,
          -73.4853,
          -73.4845,
          -73.4845,
          -73.4853
         ],
         "mode": "lines",
         "showlegend": false,
         "type": "scattermapbox"
        },
        {
         "fill": "toself",
         "fillcolor": "rgba(255,0,0,0.3)",
         "lat": [
          -34.7391,
          -34.6814,
          -34.6814,
          -34.7391,
          -34.7391
         ],
         "line": {
          "color": "white"
         },
         "lon": [
          -71.7944,
          -71.7944,
          -71.7759,
          -71.7759,
          -71.7944
         ],
         "mode": "lines",
         "showlegend": false,
         "type": "scattermapbox"
        },
        {
         "fill": "toself",
         "fillcolor": "rgba(255,0,0,0.3)",
         "lat": [
          -35.329498,
          -35.2984,
          -35.2984,
          -35.329498,
          -35.329498
         ],
         "line": {
          "color": "white"
         },
         "lon": [
          -72.153252,
          -72.153252,
          -72.145302,
          -72.145302,
          -72.153252
         ],
         "mode": "lines",
         "showlegend": false,
         "type": "scattermapbox"
        },
        {
         "fill": "toself",
         "fillcolor": "rgba(255,0,0,0.3)",
         "lat": [
          -36.8195,
          -36.8191,
          -36.8191,
          -36.8195,
          -36.8195
         ],
         "line": {
          "color": "white"
         },
         "lon": [
          -72.0607,
          -72.0607,
          -72.0596,
          -72.0596,
          -72.0607
         ],
         "mode": "lines",
         "showlegend": false,
         "type": "scattermapbox"
        },
        {
         "fill": "toself",
         "fillcolor": "rgba(255,0,0,0.3)",
         "lat": [
          -37.385979,
          -37.385063,
          -37.385063,
          -37.385979,
          -37.385979
         ],
         "line": {
          "color": "white"
         },
         "lon": [
          -72.356186,
          -72.356186,
          -72.354042,
          -72.354042,
          -72.356186
         ],
         "mode": "lines",
         "showlegend": false,
         "type": "scattermapbox"
        },
        {
         "fill": "toself",
         "fillcolor": "rgba(255,0,0,0.3)",
         "lat": [
          -37.2839,
          -37.281029,
          -37.281029,
          -37.2839,
          -37.2839
         ],
         "line": {
          "color": "white"
         },
         "lon": [
          -71.880219,
          -71.880219,
          -71.871918,
          -71.871918,
          -71.880219
         ],
         "mode": "lines",
         "showlegend": false,
         "type": "scattermapbox"
        },
        {
         "fill": "toself",
         "fillcolor": "rgba(255,0,0,0.3)",
         "lat": [
          -37.2669,
          -37.2506,
          -37.2506,
          -37.2669,
          -37.2669
         ],
         "line": {
          "color": "white"
         },
         "lon": [
          -73.4939,
          -73.4939,
          -73.4737,
          -73.4737,
          -73.4939
         ],
         "mode": "lines",
         "showlegend": false,
         "type": "scattermapbox"
        },
        {
         "fill": "toself",
         "fillcolor": "rgba(255,0,0,0.3)",
         "lat": [
          -37.9294,
          -37.9066,
          -37.9066,
          -37.9294,
          -37.9294
         ],
         "line": {
          "color": "white"
         },
         "lon": [
          -72.101601,
          -72.101601,
          -72.093102,
          -72.093102,
          -72.101601
         ],
         "mode": "lines",
         "showlegend": false,
         "type": "scattermapbox"
        },
        {
         "fill": "toself",
         "fillcolor": "rgba(255,0,0,0.3)",
         "lat": [
          -34.2181,
          -34.218048,
          -34.218048,
          -34.2181,
          -34.2181
         ],
         "line": {
          "color": "white"
         },
         "lon": [
          -71.0942,
          -71.0942,
          -71.09288,
          -71.09288,
          -71.0942
         ],
         "mode": "lines",
         "showlegend": false,
         "type": "scattermapbox"
        },
        {
         "fill": "toself",
         "fillcolor": "rgba(255,0,0,0.3)",
         "lat": [
          -37.2631,
          -37.206387,
          -37.206387,
          -37.2631,
          -37.2631
         ],
         "line": {
          "color": "white"
         },
         "lon": [
          -71.9586,
          -71.9586,
          -71.8937,
          -71.8937,
          -71.9586
         ],
         "mode": "lines",
         "showlegend": false,
         "type": "scattermapbox"
        },
        {
         "fill": "toself",
         "fillcolor": "rgba(255,0,0,0.3)",
         "lat": [
          -35.297768,
          -35.2968,
          -35.2968,
          -35.297768,
          -35.297768
         ],
         "line": {
          "color": "white"
         },
         "lon": [
          -72.074638,
          -72.074638,
          -72.0745,
          -72.0745,
          -72.074638
         ],
         "mode": "lines",
         "showlegend": false,
         "type": "scattermapbox"
        },
        {
         "fill": "toself",
         "fillcolor": "rgba(255,0,0,0.3)",
         "lat": [
          -36.8622,
          -36.822712,
          -36.822712,
          -36.8622,
          -36.8622
         ],
         "line": {
          "color": "white"
         },
         "lon": [
          -72.7231,
          -72.7231,
          -72.6856,
          -72.6856,
          -72.7231
         ],
         "mode": "lines",
         "showlegend": false,
         "type": "scattermapbox"
        },
        {
         "fill": "toself",
         "fillcolor": "rgba(255,0,0,0.3)",
         "lat": [
          -37.193523,
          -37.1928,
          -37.1928,
          -37.193523,
          -37.193523
         ],
         "line": {
          "color": "white"
         },
         "lon": [
          -72.6118,
          -72.6118,
          -72.604561,
          -72.604561,
          -72.6118
         ],
         "mode": "lines",
         "showlegend": false,
         "type": "scattermapbox"
        },
        {
         "fill": "toself",
         "fillcolor": "rgba(255,0,0,0.3)",
         "lat": [
          -38.252876,
          -38.248112,
          -38.248112,
          -38.252876,
          -38.252876
         ],
         "line": {
          "color": "white"
         },
         "lon": [
          -73.221069,
          -73.221069,
          -73.21299,
          -73.21299,
          -73.221069
         ],
         "mode": "lines",
         "showlegend": false,
         "type": "scattermapbox"
        },
        {
         "fill": "toself",
         "fillcolor": "rgba(255,0,0,0.3)",
         "lat": [
          -34.5507,
          -34.534962,
          -34.534962,
          -34.5507,
          -34.5507
         ],
         "line": {
          "color": "white"
         },
         "lon": [
          -71.528519,
          -71.528519,
          -71.5131,
          -71.5131,
          -71.528519
         ],
         "mode": "lines",
         "showlegend": false,
         "type": "scattermapbox"
        },
        {
         "fill": "toself",
         "fillcolor": "rgba(255,0,0,0.3)",
         "lat": [
          -26.375,
          -26.3709,
          -26.3709,
          -26.375,
          -26.375
         ],
         "line": {
          "color": "white"
         },
         "lon": [
          -70.089,
          -70.089,
          -70.075493,
          -70.075493,
          -70.089
         ],
         "mode": "lines",
         "showlegend": false,
         "type": "scattermapbox"
        },
        {
         "fill": "toself",
         "fillcolor": "rgba(255,0,0,0.3)",
         "lat": [
          -37.891083,
          -37.852013,
          -37.852013,
          -37.891083,
          -37.891083
         ],
         "line": {
          "color": "white"
         },
         "lon": [
          -73.511559,
          -73.511559,
          -73.4834,
          -73.4834,
          -73.511559
         ],
         "mode": "lines",
         "showlegend": false,
         "type": "scattermapbox"
        },
        {
         "fill": "toself",
         "fillcolor": "rgba(255,0,0,0.3)",
         "lat": [
          -37.789505,
          -37.76405,
          -37.76405,
          -37.789505,
          -37.789505
         ],
         "line": {
          "color": "white"
         },
         "lon": [
          -71.9642,
          -71.9642,
          -71.9308,
          -71.9308,
          -71.9642
         ],
         "mode": "lines",
         "showlegend": false,
         "type": "scattermapbox"
        },
        {
         "fill": "toself",
         "fillcolor": "rgba(255,0,0,0.3)",
         "lat": [
          -37.513012,
          -37.50692,
          -37.50692,
          -37.513012,
          -37.513012
         ],
         "line": {
          "color": "white"
         },
         "lon": [
          -71.92112,
          -71.92112,
          -71.903671,
          -71.903671,
          -71.92112
         ],
         "mode": "lines",
         "showlegend": false,
         "type": "scattermapbox"
        },
        {
         "fill": "toself",
         "fillcolor": "rgba(255,0,0,0.3)",
         "lat": [
          -34.945412,
          -34.9446,
          -34.9446,
          -34.945412,
          -34.945412
         ],
         "line": {
          "color": "white"
         },
         "lon": [
          -71.7964,
          -71.7964,
          -71.795372,
          -71.795372,
          -71.7964
         ],
         "mode": "lines",
         "showlegend": false,
         "type": "scattermapbox"
        },
        {
         "fill": "toself",
         "fillcolor": "rgba(255,0,0,0.3)",
         "lat": [
          -35.451561,
          -35.439644,
          -35.439644,
          -35.451561,
          -35.451561
         ],
         "line": {
          "color": "white"
         },
         "lon": [
          -72.444725,
          -72.444725,
          -72.403542,
          -72.403542,
          -72.444725
         ],
         "mode": "lines",
         "showlegend": false,
         "type": "scattermapbox"
        },
        {
         "fill": "toself",
         "fillcolor": "rgba(255,0,0,0.3)",
         "lat": [
          -20.4611,
          -20.4606,
          -20.4606,
          -20.4611,
          -20.4611
         ],
         "line": {
          "color": "white"
         },
         "lon": [
          -69.5374,
          -69.5374,
          -69.5367,
          -69.5367,
          -69.5374
         ],
         "mode": "lines",
         "showlegend": false,
         "type": "scattermapbox"
        },
        {
         "fill": "toself",
         "fillcolor": "rgba(255,0,0,0.3)",
         "lat": [
          -34.5589,
          -34.558399,
          -34.558399,
          -34.5589,
          -34.5589
         ],
         "line": {
          "color": "white"
         },
         "lon": [
          -70.586876,
          -70.586876,
          -70.5861,
          -70.5861,
          -70.586876
         ],
         "mode": "lines",
         "showlegend": false,
         "type": "scattermapbox"
        },
        {
         "fill": "toself",
         "fillcolor": "rgba(255,0,0,0.3)",
         "lat": [
          -37.982693,
          -37.9521,
          -37.9521,
          -37.982693,
          -37.982693
         ],
         "line": {
          "color": "white"
         },
         "lon": [
          -72.3151,
          -72.3151,
          -72.265015,
          -72.265015,
          -72.3151
         ],
         "mode": "lines",
         "showlegend": false,
         "type": "scattermapbox"
        },
        {
         "fill": "toself",
         "fillcolor": "rgba(255,0,0,0.3)",
         "lat": [
          -34.4502,
          -34.441917,
          -34.441917,
          -34.4502,
          -34.4502
         ],
         "line": {
          "color": "white"
         },
         "lon": [
          -70.7727,
          -70.7727,
          -70.7652,
          -70.7652,
          -70.7727
         ],
         "mode": "lines",
         "showlegend": false,
         "type": "scattermapbox"
        },
        {
         "fill": "toself",
         "fillcolor": "rgba(255,0,0,0.3)",
         "lat": [
          -33.620216,
          -33.61927,
          -33.61927,
          -33.620216,
          -33.620216
         ],
         "line": {
          "color": "white"
         },
         "lon": [
          -70.360657,
          -70.360657,
          -70.357201,
          -70.357201,
          -70.360657
         ],
         "mode": "lines",
         "showlegend": false,
         "type": "scattermapbox"
        },
        {
         "fill": "toself",
         "fillcolor": "rgba(255,0,0,0.3)",
         "lat": [
          -27.4195,
          -27.4081,
          -27.4081,
          -27.4195,
          -27.4195
         ],
         "line": {
          "color": "white"
         },
         "lon": [
          -70.2698,
          -70.2698,
          -70.256859,
          -70.256859,
          -70.2698
         ],
         "mode": "lines",
         "showlegend": false,
         "type": "scattermapbox"
        },
        {
         "fill": "toself",
         "fillcolor": "rgba(255,0,0,0.3)",
         "lat": [
          -34.468388,
          -34.467297,
          -34.467297,
          -34.468388,
          -34.468388
         ],
         "line": {
          "color": "white"
         },
         "lon": [
          -71.180359,
          -71.180359,
          -71.179413,
          -71.179413,
          -71.180359
         ],
         "mode": "lines",
         "showlegend": false,
         "type": "scattermapbox"
        },
        {
         "fill": "toself",
         "fillcolor": "rgba(255,0,0,0.3)",
         "lat": [
          -34.3713,
          -34.3709,
          -34.3709,
          -34.3713,
          -34.3713
         ],
         "line": {
          "color": "white"
         },
         "lon": [
          -71.3325,
          -71.3325,
          -71.3311,
          -71.3311,
          -71.3325
         ],
         "mode": "lines",
         "showlegend": false,
         "type": "scattermapbox"
        },
        {
         "fill": "toself",
         "fillcolor": "rgba(255,0,0,0.3)",
         "lat": [
          -39.605797,
          -39.602188,
          -39.602188,
          -39.605797,
          -39.605797
         ],
         "line": {
          "color": "white"
         },
         "lon": [
          -73.023499,
          -73.023499,
          -73.021698,
          -73.021698,
          -73.023499
         ],
         "mode": "lines",
         "showlegend": false,
         "type": "scattermapbox"
        },
        {
         "fill": "toself",
         "fillcolor": "rgba(255,0,0,0.3)",
         "lat": [
          -33.0684,
          -33.0676,
          -33.0676,
          -33.0684,
          -33.0684
         ],
         "line": {
          "color": "white"
         },
         "lon": [
          -71.6389,
          -71.6389,
          -71.6383,
          -71.6383,
          -71.6389
         ],
         "mode": "lines",
         "showlegend": false,
         "type": "scattermapbox"
        },
        {
         "fill": "toself",
         "fillcolor": "rgba(255,0,0,0.3)",
         "lat": [
          -37.9231,
          -37.8976,
          -37.8976,
          -37.9231,
          -37.9231
         ],
         "line": {
          "color": "white"
         },
         "lon": [
          -72.180008,
          -72.180008,
          -72.125,
          -72.125,
          -72.180008
         ],
         "mode": "lines",
         "showlegend": false,
         "type": "scattermapbox"
        },
        {
         "fill": "toself",
         "fillcolor": "rgba(255,0,0,0.3)",
         "lat": [
          -36.1217,
          -36.093925,
          -36.093925,
          -36.1217,
          -36.1217
         ],
         "line": {
          "color": "white"
         },
         "lon": [
          -72.3779,
          -72.3779,
          -72.358604,
          -72.358604,
          -72.3779
         ],
         "mode": "lines",
         "showlegend": false,
         "type": "scattermapbox"
        },
        {
         "fill": "toself",
         "fillcolor": "rgba(255,0,0,0.3)",
         "lat": [
          -33.1608,
          -33.160313,
          -33.160313,
          -33.1608,
          -33.1608
         ],
         "line": {
          "color": "white"
         },
         "lon": [
          -70.934837,
          -70.934837,
          -70.9337,
          -70.9337,
          -70.934837
         ],
         "mode": "lines",
         "showlegend": false,
         "type": "scattermapbox"
        },
        {
         "fill": "toself",
         "fillcolor": "rgba(255,0,0,0.3)",
         "lat": [
          -36.5017,
          -36.479378,
          -36.479378,
          -36.5017,
          -36.5017
         ],
         "line": {
          "color": "white"
         },
         "lon": [
          -72.1785,
          -72.1785,
          -72.160583,
          -72.160583,
          -72.1785
         ],
         "mode": "lines",
         "showlegend": false,
         "type": "scattermapbox"
        },
        {
         "fill": "toself",
         "fillcolor": "rgba(255,0,0,0.3)",
         "lat": [
          -35.171417,
          -35.149017,
          -35.149017,
          -35.171417,
          -35.171417
         ],
         "line": {
          "color": "white"
         },
         "lon": [
          -70.9096,
          -70.9096,
          -70.899895,
          -70.899895,
          -70.9096
         ],
         "mode": "lines",
         "showlegend": false,
         "type": "scattermapbox"
        },
        {
         "fill": "toself",
         "fillcolor": "rgba(255,0,0,0.3)",
         "lat": [
          -34.4761,
          -34.4748,
          -34.4748,
          -34.4761,
          -34.4761
         ],
         "line": {
          "color": "white"
         },
         "lon": [
          -70.7397,
          -70.7397,
          -70.738747,
          -70.738747,
          -70.7397
         ],
         "mode": "lines",
         "showlegend": false,
         "type": "scattermapbox"
        },
        {
         "fill": "toself",
         "fillcolor": "rgba(255,0,0,0.3)",
         "lat": [
          -38.984913,
          -38.813938,
          -38.813938,
          -38.984913,
          -38.984913
         ],
         "line": {
          "color": "white"
         },
         "lon": [
          -72.40683,
          -72.40683,
          -72.2519,
          -72.2519,
          -72.40683
         ],
         "mode": "lines",
         "showlegend": false,
         "type": "scattermapbox"
        },
        {
         "fill": "toself",
         "fillcolor": "rgba(255,0,0,0.3)",
         "lat": [
          -34.5194,
          -34.5185,
          -34.5185,
          -34.5194,
          -34.5194
         ],
         "line": {
          "color": "white"
         },
         "lon": [
          -70.9696,
          -70.9696,
          -70.9691,
          -70.9691,
          -70.9696
         ],
         "mode": "lines",
         "showlegend": false,
         "type": "scattermapbox"
        },
        {
         "fill": "toself",
         "fillcolor": "rgba(255,0,0,0.3)",
         "lat": [
          -40.546883,
          -40.499626,
          -40.499626,
          -40.546883,
          -40.546883
         ],
         "line": {
          "color": "white"
         },
         "lon": [
          -73.2408,
          -73.2408,
          -73.203835,
          -73.203835,
          -73.2408
         ],
         "mode": "lines",
         "showlegend": false,
         "type": "scattermapbox"
        },
        {
         "fill": "toself",
         "fillcolor": "rgba(255,0,0,0.3)",
         "lat": [
          -40.1973,
          -40.196964,
          -40.196964,
          -40.1973,
          -40.1973
         ],
         "line": {
          "color": "white"
         },
         "lon": [
          -72.771957,
          -72.771957,
          -72.7704,
          -72.7704,
          -72.771957
         ],
         "mode": "lines",
         "showlegend": false,
         "type": "scattermapbox"
        },
        {
         "fill": "toself",
         "fillcolor": "rgba(255,0,0,0.3)",
         "lat": [
          -35.093746,
          -35.080036,
          -35.080036,
          -35.093746,
          -35.093746
         ],
         "line": {
          "color": "white"
         },
         "lon": [
          -71.530838,
          -71.530838,
          -71.515808,
          -71.515808,
          -71.530838
         ],
         "mode": "lines",
         "showlegend": false,
         "type": "scattermapbox"
        },
        {
         "fill": "toself",
         "fillcolor": "rgba(255,0,0,0.3)",
         "lat": [
          -37.231575,
          -37.2239,
          -37.2239,
          -37.231575,
          -37.231575
         ],
         "line": {
          "color": "white"
         },
         "lon": [
          -71.8135,
          -71.8135,
          -71.7934,
          -71.7934,
          -71.8135
         ],
         "mode": "lines",
         "showlegend": false,
         "type": "scattermapbox"
        },
        {
         "fill": "toself",
         "fillcolor": "rgba(255,0,0,0.3)",
         "lat": [
          -37.791157,
          -37.7904,
          -37.7904,
          -37.791157,
          -37.791157
         ],
         "line": {
          "color": "white"
         },
         "lon": [
          -73.2923,
          -73.2923,
          -73.291588,
          -73.291588,
          -73.2923
         ],
         "mode": "lines",
         "showlegend": false,
         "type": "scattermapbox"
        },
        {
         "fill": "toself",
         "fillcolor": "rgba(255,0,0,0.3)",
         "lat": [
          -37.9819,
          -37.962254,
          -37.962254,
          -37.9819,
          -37.9819
         ],
         "line": {
          "color": "white"
         },
         "lon": [
          -72.164505,
          -72.164505,
          -72.1459,
          -72.1459,
          -72.164505
         ],
         "mode": "lines",
         "showlegend": false,
         "type": "scattermapbox"
        },
        {
         "fill": "toself",
         "fillcolor": "rgba(255,0,0,0.3)",
         "lat": [
          -38.0373,
          -38.0234,
          -38.0234,
          -38.0373,
          -38.0373
         ],
         "line": {
          "color": "white"
         },
         "lon": [
          -73.3078,
          -73.3078,
          -73.2884,
          -73.2884,
          -73.3078
         ],
         "mode": "lines",
         "showlegend": false,
         "type": "scattermapbox"
        },
        {
         "fill": "toself",
         "fillcolor": "rgba(255,0,0,0.3)",
         "lat": [
          -38.05175,
          -38.023556,
          -38.023556,
          -38.05175,
          -38.05175
         ],
         "line": {
          "color": "white"
         },
         "lon": [
          -72.091156,
          -72.091156,
          -72.0737,
          -72.0737,
          -72.091156
         ],
         "mode": "lines",
         "showlegend": false,
         "type": "scattermapbox"
        },
        {
         "fill": "toself",
         "fillcolor": "rgba(255,0,0,0.3)",
         "lat": [
          -26.3124,
          -26.3101,
          -26.3101,
          -26.3124,
          -26.3124
         ],
         "line": {
          "color": "white"
         },
         "lon": [
          -70.2285,
          -70.2285,
          -70.2209,
          -70.2209,
          -70.2285
         ],
         "mode": "lines",
         "showlegend": false,
         "type": "scattermapbox"
        },
        {
         "fill": "toself",
         "fillcolor": "rgba(255,0,0,0.3)",
         "lat": [
          -37.8798,
          -37.873199,
          -37.873199,
          -37.8798,
          -37.8798
         ],
         "line": {
          "color": "white"
         },
         "lon": [
          -72.44281,
          -72.44281,
          -72.4149,
          -72.4149,
          -72.44281
         ],
         "mode": "lines",
         "showlegend": false,
         "type": "scattermapbox"
        },
        {
         "fill": "toself",
         "fillcolor": "rgba(255,0,0,0.3)",
         "lat": [
          -40.6482,
          -40.6477,
          -40.6477,
          -40.6482,
          -40.6482
         ],
         "line": {
          "color": "white"
         },
         "lon": [
          -73.1496,
          -73.1496,
          -73.1491,
          -73.1491,
          -73.1496
         ],
         "mode": "lines",
         "showlegend": false,
         "type": "scattermapbox"
        },
        {
         "fill": "toself",
         "fillcolor": "rgba(255,0,0,0.3)",
         "lat": [
          -40.449726,
          -40.422943,
          -40.422943,
          -40.449726,
          -40.449726
         ],
         "line": {
          "color": "white"
         },
         "lon": [
          -73.237297,
          -73.237297,
          -73.186142,
          -73.186142,
          -73.237297
         ],
         "mode": "lines",
         "showlegend": false,
         "type": "scattermapbox"
        },
        {
         "fill": "toself",
         "fillcolor": "rgba(255,0,0,0.3)",
         "lat": [
          -35.4877,
          -35.475918,
          -35.475918,
          -35.4877,
          -35.4877
         ],
         "line": {
          "color": "white"
         },
         "lon": [
          -72.390671,
          -72.390671,
          -72.383156,
          -72.383156,
          -72.390671
         ],
         "mode": "lines",
         "showlegend": false,
         "type": "scattermapbox"
        },
        {
         "fill": "toself",
         "fillcolor": "rgba(255,0,0,0.3)",
         "lat": [
          -38.3787,
          -38.3782,
          -38.3782,
          -38.3787,
          -38.3787
         ],
         "line": {
          "color": "white"
         },
         "lon": [
          -72.0325,
          -72.0325,
          -72.0318,
          -72.0318,
          -72.0325
         ],
         "mode": "lines",
         "showlegend": false,
         "type": "scattermapbox"
        },
        {
         "fill": "toself",
         "fillcolor": "rgba(255,0,0,0.3)",
         "lat": [
          -38.5294,
          -38.382332,
          -38.382332,
          -38.5294,
          -38.5294
         ],
         "line": {
          "color": "white"
         },
         "lon": [
          -72.17205,
          -72.17205,
          -72.0097,
          -72.0097,
          -72.17205
         ],
         "mode": "lines",
         "showlegend": false,
         "type": "scattermapbox"
        },
        {
         "fill": "toself",
         "fillcolor": "rgba(255,0,0,0.3)",
         "lat": [
          -37.987972,
          -37.963169,
          -37.963169,
          -37.987972,
          -37.987972
         ],
         "line": {
          "color": "white"
         },
         "lon": [
          -73.467552,
          -73.467552,
          -73.442902,
          -73.442902,
          -73.467552
         ],
         "mode": "lines",
         "showlegend": false,
         "type": "scattermapbox"
        },
        {
         "fill": "toself",
         "fillcolor": "rgba(255,0,0,0.3)",
         "lat": [
          -35.5536,
          -35.523899,
          -35.523899,
          -35.5536,
          -35.5536
         ],
         "line": {
          "color": "white"
         },
         "lon": [
          -72.271599,
          -72.271599,
          -72.241096,
          -72.241096,
          -72.271599
         ],
         "mode": "lines",
         "showlegend": false,
         "type": "scattermapbox"
        },
        {
         "fill": "toself",
         "fillcolor": "rgba(255,0,0,0.3)",
         "lat": [
          -36.553989,
          -36.55315,
          -36.55315,
          -36.553989,
          -36.553989
         ],
         "line": {
          "color": "white"
         },
         "lon": [
          -72.757011,
          -72.757011,
          -72.756233,
          -72.756233,
          -72.757011
         ],
         "mode": "lines",
         "showlegend": false,
         "type": "scattermapbox"
        },
        {
         "fill": "toself",
         "fillcolor": "rgba(255,0,0,0.3)",
         "lat": [
          -38.5497,
          -38.2395,
          -38.2395,
          -38.5497,
          -38.5497
         ],
         "line": {
          "color": "white"
         },
         "lon": [
          -72.5287,
          -72.5287,
          -72.2786,
          -72.2786,
          -72.5287
         ],
         "mode": "lines",
         "showlegend": false,
         "type": "scattermapbox"
        },
        {
         "fill": "toself",
         "fillcolor": "rgba(255,0,0,0.3)",
         "lat": [
          -34.5498,
          -34.549194,
          -34.549194,
          -34.5498,
          -34.5498
         ],
         "line": {
          "color": "white"
         },
         "lon": [
          -71.458504,
          -71.458504,
          -71.4574,
          -71.4574,
          -71.458504
         ],
         "mode": "lines",
         "showlegend": false,
         "type": "scattermapbox"
        },
        {
         "fill": "toself",
         "fillcolor": "rgba(255,0,0,0.3)",
         "lat": [
          -32.7375,
          -32.7365,
          -32.7365,
          -32.7375,
          -32.7375
         ],
         "line": {
          "color": "white"
         },
         "lon": [
          -70.7777,
          -70.7777,
          -70.7775,
          -70.7775,
          -70.7777
         ],
         "mode": "lines",
         "showlegend": false,
         "type": "scattermapbox"
        },
        {
         "fill": "toself",
         "fillcolor": "rgba(255,0,0,0.3)",
         "lat": [
          -34.223614,
          -34.2233,
          -34.2233,
          -34.223614,
          -34.223614
         ],
         "line": {
          "color": "white"
         },
         "lon": [
          -71.4913,
          -71.4913,
          -71.489716,
          -71.489716,
          -71.4913
         ],
         "mode": "lines",
         "showlegend": false,
         "type": "scattermapbox"
        },
        {
         "fill": "toself",
         "fillcolor": "rgba(255,0,0,0.3)",
         "lat": [
          -34.3194,
          -34.308937,
          -34.308937,
          -34.3194,
          -34.3194
         ],
         "line": {
          "color": "white"
         },
         "lon": [
          -71.7873,
          -71.7873,
          -71.7764,
          -71.7764,
          -71.7873
         ],
         "mode": "lines",
         "showlegend": false,
         "type": "scattermapbox"
        },
        {
         "fill": "toself",
         "fillcolor": "rgba(255,0,0,0.3)",
         "lat": [
          -34.9758,
          -34.943806,
          -34.943806,
          -34.9758,
          -34.9758
         ],
         "line": {
          "color": "white"
         },
         "lon": [
          -71.933281,
          -71.933281,
          -71.904182,
          -71.904182,
          -71.933281
         ],
         "mode": "lines",
         "showlegend": false,
         "type": "scattermapbox"
        },
        {
         "fill": "toself",
         "fillcolor": "rgba(255,0,0,0.3)",
         "lat": [
          -37.804203,
          -37.803,
          -37.803,
          -37.804203,
          -37.804203
         ],
         "line": {
          "color": "white"
         },
         "lon": [
          -72.059151,
          -72.059151,
          -72.05777,
          -72.05777,
          -72.059151
         ],
         "mode": "lines",
         "showlegend": false,
         "type": "scattermapbox"
        },
        {
         "fill": "toself",
         "fillcolor": "rgba(255,0,0,0.3)",
         "lat": [
          -33.5449,
          -33.5442,
          -33.5442,
          -33.5449,
          -33.5449
         ],
         "line": {
          "color": "white"
         },
         "lon": [
          -71.55,
          -71.55,
          -71.55,
          -71.55,
          -71.55
         ],
         "mode": "lines",
         "showlegend": false,
         "type": "scattermapbox"
        },
        {
         "fill": "toself",
         "fillcolor": "rgba(255,0,0,0.3)",
         "lat": [
          -29.1288,
          -29.102005,
          -29.102005,
          -29.1288,
          -29.1288
         ],
         "line": {
          "color": "white"
         },
         "lon": [
          -70.913696,
          -70.913696,
          -70.895287,
          -70.895287,
          -70.913696
         ],
         "mode": "lines",
         "showlegend": false,
         "type": "scattermapbox"
        },
        {
         "fill": "toself",
         "fillcolor": "rgba(255,0,0,0.3)",
         "lat": [
          -37.541576,
          -37.5409,
          -37.5409,
          -37.541576,
          -37.541576
         ],
         "line": {
          "color": "white"
         },
         "lon": [
          -71.6927,
          -71.6927,
          -71.692642,
          -71.692642,
          -71.6927
         ],
         "mode": "lines",
         "showlegend": false,
         "type": "scattermapbox"
        },
        {
         "fill": "toself",
         "fillcolor": "rgba(255,0,0,0.3)",
         "lat": [
          -32.767582,
          -32.7664,
          -32.7664,
          -32.767582,
          -32.767582
         ],
         "line": {
          "color": "white"
         },
         "lon": [
          -71.281197,
          -71.281197,
          -71.2808,
          -71.2808,
          -71.281197
         ],
         "mode": "lines",
         "showlegend": false,
         "type": "scattermapbox"
        },
        {
         "fill": "toself",
         "fillcolor": "rgba(255,0,0,0.3)",
         "lat": [
          -35.4725,
          -35.466816,
          -35.466816,
          -35.4725,
          -35.4725
         ],
         "line": {
          "color": "white"
         },
         "lon": [
          -72.351967,
          -72.351967,
          -72.3218,
          -72.3218,
          -72.351967
         ],
         "mode": "lines",
         "showlegend": false,
         "type": "scattermapbox"
        },
        {
         "fill": "toself",
         "fillcolor": "rgba(255,0,0,0.3)",
         "lat": [
          -34.6797,
          -34.6542,
          -34.6542,
          -34.6797,
          -34.6797
         ],
         "line": {
          "color": "white"
         },
         "lon": [
          -71.8805,
          -71.8805,
          -71.82859,
          -71.82859,
          -71.8805
         ],
         "mode": "lines",
         "showlegend": false,
         "type": "scattermapbox"
        },
        {
         "fill": "toself",
         "fillcolor": "rgba(255,0,0,0.3)",
         "lat": [
          -38.3544,
          -38.35424,
          -38.35424,
          -38.3544,
          -38.3544
         ],
         "line": {
          "color": "white"
         },
         "lon": [
          -73.2348,
          -73.2348,
          -73.234627,
          -73.234627,
          -73.2348
         ],
         "mode": "lines",
         "showlegend": false,
         "type": "scattermapbox"
        },
        {
         "fill": "toself",
         "fillcolor": "rgba(255,0,0,0.3)",
         "lat": [
          -34.6114,
          -34.571655,
          -34.571655,
          -34.6114,
          -34.6114
         ],
         "line": {
          "color": "white"
         },
         "lon": [
          -71.8497,
          -71.8497,
          -71.7994,
          -71.7994,
          -71.8497
         ],
         "mode": "lines",
         "showlegend": false,
         "type": "scattermapbox"
        },
        {
         "fill": "toself",
         "fillcolor": "rgba(255,0,0,0.3)",
         "lat": [
          -38.1945,
          -38.1902,
          -38.1902,
          -38.1945,
          -38.1945
         ],
         "line": {
          "color": "white"
         },
         "lon": [
          -72.1649,
          -72.1649,
          -72.1638,
          -72.1638,
          -72.1649
         ],
         "mode": "lines",
         "showlegend": false,
         "type": "scattermapbox"
        },
        {
         "fill": "toself",
         "fillcolor": "rgba(255,0,0,0.3)",
         "lat": [
          -38.2396,
          -38.2047,
          -38.2047,
          -38.2396,
          -38.2396
         ],
         "line": {
          "color": "white"
         },
         "lon": [
          -72.4814,
          -72.4814,
          -72.4654,
          -72.4654,
          -72.4814
         ],
         "mode": "lines",
         "showlegend": false,
         "type": "scattermapbox"
        },
        {
         "fill": "toself",
         "fillcolor": "rgba(255,0,0,0.3)",
         "lat": [
          -38.3138,
          -38.274895,
          -38.274895,
          -38.3138,
          -38.3138
         ],
         "line": {
          "color": "white"
         },
         "lon": [
          -72.7637,
          -72.7637,
          -72.732018,
          -72.732018,
          -72.7637
         ],
         "mode": "lines",
         "showlegend": false,
         "type": "scattermapbox"
        },
        {
         "fill": "toself",
         "fillcolor": "rgba(255,0,0,0.3)",
         "lat": [
          -37.1803,
          -37.1694,
          -37.1694,
          -37.1803,
          -37.1803
         ],
         "line": {
          "color": "white"
         },
         "lon": [
          -73.16613,
          -73.16613,
          -73.1598,
          -73.1598,
          -73.16613
         ],
         "mode": "lines",
         "showlegend": false,
         "type": "scattermapbox"
        },
        {
         "fill": "toself",
         "fillcolor": "rgba(255,0,0,0.3)",
         "lat": [
          -37.650455,
          -37.6463,
          -37.6463,
          -37.650455,
          -37.650455
         ],
         "line": {
          "color": "white"
         },
         "lon": [
          -72.3836,
          -72.3836,
          -72.365952,
          -72.365952,
          -72.3836
         ],
         "mode": "lines",
         "showlegend": false,
         "type": "scattermapbox"
        },
        {
         "fill": "toself",
         "fillcolor": "rgba(255,0,0,0.3)",
         "lat": [
          -37.818726,
          -37.817459,
          -37.817459,
          -37.818726,
          -37.818726
         ],
         "line": {
          "color": "white"
         },
         "lon": [
          -72.08757,
          -72.08757,
          -72.087288,
          -72.087288,
          -72.08757
         ],
         "mode": "lines",
         "showlegend": false,
         "type": "scattermapbox"
        },
        {
         "fill": "toself",
         "fillcolor": "rgba(255,0,0,0.3)",
         "lat": [
          -38.312771,
          -38.285572,
          -38.285572,
          -38.312771,
          -38.312771
         ],
         "line": {
          "color": "white"
         },
         "lon": [
          -72.288681,
          -72.288681,
          -72.266052,
          -72.266052,
          -72.288681
         ],
         "mode": "lines",
         "showlegend": false,
         "type": "scattermapbox"
        },
        {
         "fill": "toself",
         "fillcolor": "rgba(255,0,0,0.3)",
         "lat": [
          -36.0657,
          -36.065254,
          -36.065254,
          -36.0657,
          -36.0657
         ],
         "line": {
          "color": "white"
         },
         "lon": [
          -72.378937,
          -72.378937,
          -72.3779,
          -72.3779,
          -72.378937
         ],
         "mode": "lines",
         "showlegend": false,
         "type": "scattermapbox"
        },
        {
         "fill": "toself",
         "fillcolor": "rgba(255,0,0,0.3)",
         "lat": [
          -35.705307,
          -35.6987,
          -35.6987,
          -35.705307,
          -35.705307
         ],
         "line": {
          "color": "white"
         },
         "lon": [
          -72.364815,
          -72.364815,
          -72.347061,
          -72.347061,
          -72.364815
         ],
         "mode": "lines",
         "showlegend": false,
         "type": "scattermapbox"
        },
        {
         "fill": "toself",
         "fillcolor": "rgba(255,0,0,0.3)",
         "lat": [
          -36.623226,
          -36.622467,
          -36.622467,
          -36.623226,
          -36.623226
         ],
         "line": {
          "color": "white"
         },
         "lon": [
          -72.752487,
          -72.752487,
          -72.750992,
          -72.750992,
          -72.752487
         ],
         "mode": "lines",
         "showlegend": false,
         "type": "scattermapbox"
        },
        {
         "fill": "toself",
         "fillcolor": "rgba(255,0,0,0.3)",
         "lat": [
          -34.3232,
          -34.3225,
          -34.3225,
          -34.3232,
          -34.3232
         ],
         "line": {
          "color": "white"
         },
         "lon": [
          -71.9083,
          -71.9083,
          -71.907,
          -71.907,
          -71.9083
         ],
         "mode": "lines",
         "showlegend": false,
         "type": "scattermapbox"
        },
        {
         "fill": "toself",
         "fillcolor": "rgba(255,0,0,0.3)",
         "lat": [
          -33.5761,
          -33.5751,
          -33.5751,
          -33.5761,
          -33.5761
         ],
         "line": {
          "color": "white"
         },
         "lon": [
          -70.5216,
          -70.5216,
          -70.5212,
          -70.5212,
          -70.5216
         ],
         "mode": "lines",
         "showlegend": false,
         "type": "scattermapbox"
        },
        {
         "fill": "toself",
         "fillcolor": "rgba(255,0,0,0.3)",
         "lat": [
          -38.0489,
          -38.0138,
          -38.0138,
          -38.0489,
          -38.0489
         ],
         "line": {
          "color": "white"
         },
         "lon": [
          -72.339157,
          -72.339157,
          -72.306496,
          -72.306496,
          -72.339157
         ],
         "mode": "lines",
         "showlegend": false,
         "type": "scattermapbox"
        },
        {
         "fill": "toself",
         "fillcolor": "rgba(255,0,0,0.3)",
         "lat": [
          -40.3982,
          -40.3973,
          -40.3973,
          -40.3982,
          -40.3982
         ],
         "line": {
          "color": "white"
         },
         "lon": [
          -73.2491,
          -73.2491,
          -73.2485,
          -73.2485,
          -73.2491
         ],
         "mode": "lines",
         "showlegend": false,
         "type": "scattermapbox"
        },
        {
         "fill": "toself",
         "fillcolor": "rgba(255,0,0,0.3)",
         "lat": [
          -36.701,
          -36.680214,
          -36.680214,
          -36.701,
          -36.701
         ],
         "line": {
          "color": "white"
         },
         "lon": [
          -72.707642,
          -72.707642,
          -72.6626,
          -72.6626,
          -72.707642
         ],
         "mode": "lines",
         "showlegend": false,
         "type": "scattermapbox"
        },
        {
         "fill": "toself",
         "fillcolor": "rgba(255,0,0,0.3)",
         "lat": [
          -38.2799,
          -38.209038,
          -38.209038,
          -38.2799,
          -38.2799
         ],
         "line": {
          "color": "white"
         },
         "lon": [
          -72.3535,
          -72.3535,
          -72.270073,
          -72.270073,
          -72.3535
         ],
         "mode": "lines",
         "showlegend": false,
         "type": "scattermapbox"
        },
        {
         "fill": "toself",
         "fillcolor": "rgba(255,0,0,0.3)",
         "lat": [
          -37.750526,
          -37.731918,
          -37.731918,
          -37.750526,
          -37.750526
         ],
         "line": {
          "color": "white"
         },
         "lon": [
          -72.4623,
          -72.4623,
          -72.4414,
          -72.4414,
          -72.4623
         ],
         "mode": "lines",
         "showlegend": false,
         "type": "scattermapbox"
        },
        {
         "fill": "toself",
         "fillcolor": "rgba(255,0,0,0.3)",
         "lat": [
          -38.547169,
          -38.543507,
          -38.543507,
          -38.547169,
          -38.547169
         ],
         "line": {
          "color": "white"
         },
         "lon": [
          -72.733513,
          -72.733513,
          -72.727127,
          -72.727127,
          -72.733513
         ],
         "mode": "lines",
         "showlegend": false,
         "type": "scattermapbox"
        },
        {
         "fill": "toself",
         "fillcolor": "rgba(255,0,0,0.3)",
         "lat": [
          -38.6585,
          -38.657875,
          -38.657875,
          -38.6585,
          -38.6585
         ],
         "line": {
          "color": "white"
         },
         "lon": [
          -72.07,
          -72.07,
          -72.069252,
          -72.069252,
          -72.07
         ],
         "mode": "lines",
         "showlegend": false,
         "type": "scattermapbox"
        },
        {
         "fill": "toself",
         "fillcolor": "rgba(255,0,0,0.3)",
         "lat": [
          -37.8747,
          -37.8433,
          -37.8433,
          -37.8747,
          -37.8747
         ],
         "line": {
          "color": "white"
         },
         "lon": [
          -72.7317,
          -72.7317,
          -72.723061,
          -72.723061,
          -72.7317
         ],
         "mode": "lines",
         "showlegend": false,
         "type": "scattermapbox"
        },
        {
         "fill": "toself",
         "fillcolor": "rgba(255,0,0,0.3)",
         "lat": [
          -35.525185,
          -35.520992,
          -35.520992,
          -35.525185,
          -35.525185
         ],
         "line": {
          "color": "white"
         },
         "lon": [
          -72.480049,
          -72.480049,
          -72.47464,
          -72.47464,
          -72.480049
         ],
         "mode": "lines",
         "showlegend": false,
         "type": "scattermapbox"
        },
        {
         "fill": "toself",
         "fillcolor": "rgba(255,0,0,0.3)",
         "lat": [
          -38.3765,
          -38.309963,
          -38.309963,
          -38.3765,
          -38.3765
         ],
         "line": {
          "color": "white"
         },
         "lon": [
          -72.8278,
          -72.8278,
          -72.7458,
          -72.7458,
          -72.8278
         ],
         "mode": "lines",
         "showlegend": false,
         "type": "scattermapbox"
        },
        {
         "fill": "toself",
         "fillcolor": "rgba(255,0,0,0.3)",
         "lat": [
          -36.9138,
          -36.843,
          -36.843,
          -36.9138,
          -36.9138
         ],
         "line": {
          "color": "white"
         },
         "lon": [
          -72.6364,
          -72.6364,
          -72.589081,
          -72.589081,
          -72.6364
         ],
         "mode": "lines",
         "showlegend": false,
         "type": "scattermapbox"
        },
        {
         "fill": "toself",
         "fillcolor": "rgba(255,0,0,0.3)",
         "lat": [
          -38.987476,
          -38.987083,
          -38.987083,
          -38.987476,
          -38.987476
         ],
         "line": {
          "color": "white"
         },
         "lon": [
          -71.996941,
          -71.996941,
          -71.996918,
          -71.996918,
          -71.996941
         ],
         "mode": "lines",
         "showlegend": false,
         "type": "scattermapbox"
        },
        {
         "fill": "toself",
         "fillcolor": "rgba(255,0,0,0.3)",
         "lat": [
          -38.315758,
          -38.258484,
          -38.258484,
          -38.315758,
          -38.315758
         ],
         "line": {
          "color": "white"
         },
         "lon": [
          -72.6595,
          -72.6595,
          -72.606636,
          -72.606636,
          -72.6595
         ],
         "mode": "lines",
         "showlegend": false,
         "type": "scattermapbox"
        },
        {
         "fill": "toself",
         "fillcolor": "rgba(255,0,0,0.3)",
         "lat": [
          -38.3217,
          -38.2771,
          -38.2771,
          -38.3217,
          -38.3217
         ],
         "line": {
          "color": "white"
         },
         "lon": [
          -72.7016,
          -72.7016,
          -72.694,
          -72.694,
          -72.7016
         ],
         "mode": "lines",
         "showlegend": false,
         "type": "scattermapbox"
        },
        {
         "fill": "toself",
         "fillcolor": "rgba(255,0,0,0.3)",
         "lat": [
          -37.954,
          -37.9537,
          -37.9537,
          -37.954,
          -37.954
         ],
         "line": {
          "color": "white"
         },
         "lon": [
          -72.6508,
          -72.6508,
          -72.6498,
          -72.6498,
          -72.6508
         ],
         "mode": "lines",
         "showlegend": false,
         "type": "scattermapbox"
        },
        {
         "fill": "toself",
         "fillcolor": "rgba(255,0,0,0.3)",
         "lat": [
          -35.287,
          -35.285732,
          -35.285732,
          -35.287,
          -35.287
         ],
         "line": {
          "color": "white"
         },
         "lon": [
          -71.9787,
          -71.9787,
          -71.97821,
          -71.97821,
          -71.9787
         ],
         "mode": "lines",
         "showlegend": false,
         "type": "scattermapbox"
        },
        {
         "fill": "toself",
         "fillcolor": "rgba(255,0,0,0.3)",
         "lat": [
          -38.002,
          -37.9936,
          -37.9936,
          -38.002,
          -38.002
         ],
         "line": {
          "color": "white"
         },
         "lon": [
          -72.3795,
          -72.3795,
          -72.3652,
          -72.3652,
          -72.3795
         ],
         "mode": "lines",
         "showlegend": false,
         "type": "scattermapbox"
        },
        {
         "fill": "toself",
         "fillcolor": "rgba(255,0,0,0.3)",
         "lat": [
          -34.8974,
          -34.867458,
          -34.867458,
          -34.8974,
          -34.8974
         ],
         "line": {
          "color": "white"
         },
         "lon": [
          -72.0307,
          -72.0307,
          -71.9692,
          -71.9692,
          -72.0307
         ],
         "mode": "lines",
         "showlegend": false,
         "type": "scattermapbox"
        },
        {
         "fill": "toself",
         "fillcolor": "rgba(255,0,0,0.3)",
         "lat": [
          -40.6203,
          -40.619743,
          -40.619743,
          -40.6203,
          -40.6203
         ],
         "line": {
          "color": "white"
         },
         "lon": [
          -73.2063,
          -73.2063,
          -73.20533,
          -73.20533,
          -73.2063
         ],
         "mode": "lines",
         "showlegend": false,
         "type": "scattermapbox"
        },
        {
         "fill": "toself",
         "fillcolor": "rgba(255,0,0,0.3)",
         "lat": [
          -37.651875,
          -37.615124,
          -37.615124,
          -37.651875,
          -37.651875
         ],
         "line": {
          "color": "white"
         },
         "lon": [
          -72.017136,
          -72.017136,
          -71.9629,
          -71.9629,
          -72.017136
         ],
         "mode": "lines",
         "showlegend": false,
         "type": "scattermapbox"
        },
        {
         "fill": "toself",
         "fillcolor": "rgba(255,0,0,0.3)",
         "lat": [
          -33.4339,
          -33.43383,
          -33.43383,
          -33.4339,
          -33.4339
         ],
         "line": {
          "color": "white"
         },
         "lon": [
          -71.632271,
          -71.632271,
          -71.6319,
          -71.6319,
          -71.632271
         ],
         "mode": "lines",
         "showlegend": false,
         "type": "scattermapbox"
        },
        {
         "fill": "toself",
         "fillcolor": "rgba(255,0,0,0.3)",
         "lat": [
          -37.418926,
          -37.4189,
          -37.4189,
          -37.418926,
          -37.418926
         ],
         "line": {
          "color": "white"
         },
         "lon": [
          -73.3541,
          -73.3541,
          -73.353325,
          -73.353325,
          -73.3541
         ],
         "mode": "lines",
         "showlegend": false,
         "type": "scattermapbox"
        },
        {
         "fill": "toself",
         "fillcolor": "rgba(255,0,0,0.3)",
         "lat": [
          -37.019684,
          -37.01881,
          -37.01881,
          -37.019684,
          -37.019684
         ],
         "line": {
          "color": "white"
         },
         "lon": [
          -72.886055,
          -72.886055,
          -72.884308,
          -72.884308,
          -72.886055
         ],
         "mode": "lines",
         "showlegend": false,
         "type": "scattermapbox"
        },
        {
         "fill": "toself",
         "fillcolor": "rgba(255,0,0,0.3)",
         "lat": [
          -38.105946,
          -38.0774,
          -38.0774,
          -38.105946,
          -38.105946
         ],
         "line": {
          "color": "white"
         },
         "lon": [
          -72.377571,
          -72.377571,
          -72.374573,
          -72.374573,
          -72.377571
         ],
         "mode": "lines",
         "showlegend": false,
         "type": "scattermapbox"
        },
        {
         "fill": "toself",
         "fillcolor": "rgba(255,0,0,0.3)",
         "lat": [
          -38.682842,
          -38.6348,
          -38.6348,
          -38.682842,
          -38.682842
         ],
         "line": {
          "color": "white"
         },
         "lon": [
          -73.082222,
          -73.082222,
          -73.061226,
          -73.061226,
          -73.082222
         ],
         "mode": "lines",
         "showlegend": false,
         "type": "scattermapbox"
        },
        {
         "fill": "toself",
         "fillcolor": "rgba(255,0,0,0.3)",
         "lat": [
          -35.2031,
          -35.2019,
          -35.2019,
          -35.2031,
          -35.2031
         ],
         "line": {
          "color": "white"
         },
         "lon": [
          -72.0604,
          -72.0604,
          -72.0599,
          -72.0599,
          -72.0604
         ],
         "mode": "lines",
         "showlegend": false,
         "type": "scattermapbox"
        },
        {
         "fill": "toself",
         "fillcolor": "rgba(255,0,0,0.3)",
         "lat": [
          -38.2141,
          -38.214,
          -38.214,
          -38.2141,
          -38.2141
         ],
         "line": {
          "color": "white"
         },
         "lon": [
          -72.4083,
          -72.4083,
          -72.4074,
          -72.4074,
          -72.4083
         ],
         "mode": "lines",
         "showlegend": false,
         "type": "scattermapbox"
        },
        {
         "fill": "toself",
         "fillcolor": "rgba(255,0,0,0.3)",
         "lat": [
          -37.8334,
          -37.832977,
          -37.832977,
          -37.8334,
          -37.8334
         ],
         "line": {
          "color": "white"
         },
         "lon": [
          -73.24276,
          -73.24276,
          -73.2426,
          -73.2426,
          -73.24276
         ],
         "mode": "lines",
         "showlegend": false,
         "type": "scattermapbox"
        },
        {
         "fill": "toself",
         "fillcolor": "rgba(255,0,0,0.3)",
         "lat": [
          -38.809341,
          -38.778339,
          -38.778339,
          -38.809341,
          -38.809341
         ],
         "line": {
          "color": "white"
         },
         "lon": [
          -72.291115,
          -72.291115,
          -72.261726,
          -72.261726,
          -72.291115
         ],
         "mode": "lines",
         "showlegend": false,
         "type": "scattermapbox"
        },
        {
         "fill": "toself",
         "fillcolor": "rgba(255,0,0,0.3)",
         "lat": [
          -35.2495,
          -35.2489,
          -35.2489,
          -35.2495,
          -35.2495
         ],
         "line": {
          "color": "white"
         },
         "lon": [
          -72.2329,
          -72.2329,
          -72.2316,
          -72.2316,
          -72.2329
         ],
         "mode": "lines",
         "showlegend": false,
         "type": "scattermapbox"
        },
        {
         "fill": "toself",
         "fillcolor": "rgba(255,0,0,0.3)",
         "lat": [
          -37.582077,
          -37.5816,
          -37.5816,
          -37.582077,
          -37.582077
         ],
         "line": {
          "color": "white"
         },
         "lon": [
          -72.370125,
          -72.370125,
          -72.3697,
          -72.3697,
          -72.370125
         ],
         "mode": "lines",
         "showlegend": false,
         "type": "scattermapbox"
        },
        {
         "fill": "toself",
         "fillcolor": "rgba(255,0,0,0.3)",
         "lat": [
          -37.8225,
          -37.8219,
          -37.8219,
          -37.8225,
          -37.8225
         ],
         "line": {
          "color": "white"
         },
         "lon": [
          -73.3197,
          -73.3197,
          -73.3184,
          -73.3184,
          -73.3197
         ],
         "mode": "lines",
         "showlegend": false,
         "type": "scattermapbox"
        },
        {
         "fill": "toself",
         "fillcolor": "rgba(255,0,0,0.3)",
         "lat": [
          -35.899258,
          -35.875942,
          -35.875942,
          -35.899258,
          -35.899258
         ],
         "line": {
          "color": "white"
         },
         "lon": [
          -72.428703,
          -72.428703,
          -72.407028,
          -72.407028,
          -72.428703
         ],
         "mode": "lines",
         "showlegend": false,
         "type": "scattermapbox"
        },
        {
         "fill": "toself",
         "fillcolor": "rgba(255,0,0,0.3)",
         "lat": [
          -38.564896,
          -38.499912,
          -38.499912,
          -38.564896,
          -38.564896
         ],
         "line": {
          "color": "white"
         },
         "lon": [
          -72.580017,
          -72.580017,
          -72.446297,
          -72.446297,
          -72.580017
         ],
         "mode": "lines",
         "showlegend": false,
         "type": "scattermapbox"
        },
        {
         "fill": "toself",
         "fillcolor": "rgba(255,0,0,0.3)",
         "lat": [
          -35.1346,
          -35.1345,
          -35.1345,
          -35.1346,
          -35.1346
         ],
         "line": {
          "color": "white"
         },
         "lon": [
          -72.0952,
          -72.0952,
          -72.0939,
          -72.0939,
          -72.0952
         ],
         "mode": "lines",
         "showlegend": false,
         "type": "scattermapbox"
        },
        {
         "fill": "toself",
         "fillcolor": "rgba(255,0,0,0.3)",
         "lat": [
          -35.4988,
          -35.469696,
          -35.469696,
          -35.4988,
          -35.4988
         ],
         "line": {
          "color": "white"
         },
         "lon": [
          -72.1257,
          -72.1257,
          -72.08963,
          -72.08963,
          -72.1257
         ],
         "mode": "lines",
         "showlegend": false,
         "type": "scattermapbox"
        },
        {
         "fill": "toself",
         "fillcolor": "rgba(255,0,0,0.3)",
         "lat": [
          -37.920387,
          -37.92,
          -37.92,
          -37.920387,
          -37.920387
         ],
         "line": {
          "color": "white"
         },
         "lon": [
          -72.3071,
          -72.3071,
          -72.306801,
          -72.306801,
          -72.3071
         ],
         "mode": "lines",
         "showlegend": false,
         "type": "scattermapbox"
        },
        {
         "fill": "toself",
         "fillcolor": "rgba(255,0,0,0.3)",
         "lat": [
          -35.5954,
          -35.5399,
          -35.5399,
          -35.5954,
          -35.5954
         ],
         "line": {
          "color": "white"
         },
         "lon": [
          -72.328239,
          -72.328239,
          -72.2967,
          -72.2967,
          -72.328239
         ],
         "mode": "lines",
         "showlegend": false,
         "type": "scattermapbox"
        },
        {
         "fill": "toself",
         "fillcolor": "rgba(255,0,0,0.3)",
         "lat": [
          -38.2997,
          -38.29916,
          -38.29916,
          -38.2997,
          -38.2997
         ],
         "line": {
          "color": "white"
         },
         "lon": [
          -73.4772,
          -73.4772,
          -73.476692,
          -73.476692,
          -73.4772
         ],
         "mode": "lines",
         "showlegend": false,
         "type": "scattermapbox"
        },
        {
         "fill": "toself",
         "fillcolor": "rgba(255,0,0,0.3)",
         "lat": [
          -39.18,
          -39.1794,
          -39.1794,
          -39.18,
          -39.18
         ],
         "line": {
          "color": "white"
         },
         "lon": [
          -72.4695,
          -72.4695,
          -72.4695,
          -72.4695,
          -72.4695
         ],
         "mode": "lines",
         "showlegend": false,
         "type": "scattermapbox"
        },
        {
         "fill": "toself",
         "fillcolor": "rgba(255,0,0,0.3)",
         "lat": [
          -38.4339,
          -38.405426,
          -38.405426,
          -38.4339,
          -38.4339
         ],
         "line": {
          "color": "white"
         },
         "lon": [
          -72.9085,
          -72.9085,
          -72.896271,
          -72.896271,
          -72.9085
         ],
         "mode": "lines",
         "showlegend": false,
         "type": "scattermapbox"
        },
        {
         "fill": "toself",
         "fillcolor": "rgba(255,0,0,0.3)",
         "lat": [
          -38.7179,
          -38.684017,
          -38.684017,
          -38.7179,
          -38.7179
         ],
         "line": {
          "color": "white"
         },
         "lon": [
          -72.238,
          -72.238,
          -72.159409,
          -72.159409,
          -72.238
         ],
         "mode": "lines",
         "showlegend": false,
         "type": "scattermapbox"
        },
        {
         "fill": "toself",
         "fillcolor": "rgba(255,0,0,0.3)",
         "lat": [
          -34.163265,
          -34.157333,
          -34.157333,
          -34.163265,
          -34.163265
         ],
         "line": {
          "color": "white"
         },
         "lon": [
          -70.529,
          -70.529,
          -70.520737,
          -70.520737,
          -70.529
         ],
         "mode": "lines",
         "showlegend": false,
         "type": "scattermapbox"
        },
        {
         "fill": "toself",
         "fillcolor": "rgba(255,0,0,0.3)",
         "lat": [
          -38.6856,
          -38.660492,
          -38.660492,
          -38.6856,
          -38.6856
         ],
         "line": {
          "color": "white"
         },
         "lon": [
          -72.3189,
          -72.3189,
          -72.289,
          -72.289,
          -72.3189
         ],
         "mode": "lines",
         "showlegend": false,
         "type": "scattermapbox"
        },
        {
         "fill": "toself",
         "fillcolor": "rgba(255,0,0,0.3)",
         "lat": [
          -38.72382,
          -38.6781,
          -38.6781,
          -38.72382,
          -38.72382
         ],
         "line": {
          "color": "white"
         },
         "lon": [
          -72.401,
          -72.401,
          -72.3603,
          -72.3603,
          -72.401
         ],
         "mode": "lines",
         "showlegend": false,
         "type": "scattermapbox"
        },
        {
         "fill": "toself",
         "fillcolor": "rgba(255,0,0,0.3)",
         "lat": [
          -39.15345,
          -39.152401,
          -39.152401,
          -39.15345,
          -39.15345
         ],
         "line": {
          "color": "white"
         },
         "lon": [
          -72.443985,
          -72.443985,
          -72.442963,
          -72.442963,
          -72.443985
         ],
         "mode": "lines",
         "showlegend": false,
         "type": "scattermapbox"
        },
        {
         "fill": "toself",
         "fillcolor": "rgba(255,0,0,0.3)",
         "lat": [
          -33.1448,
          -33.144203,
          -33.144203,
          -33.1448,
          -33.1448
         ],
         "line": {
          "color": "white"
         },
         "lon": [
          -71.5819,
          -71.5819,
          -71.5811,
          -71.5811,
          -71.5819
         ],
         "mode": "lines",
         "showlegend": false,
         "type": "scattermapbox"
        },
        {
         "fill": "toself",
         "fillcolor": "rgba(255,0,0,0.3)",
         "lat": [
          -39.161293,
          -39.1317,
          -39.1317,
          -39.161293,
          -39.161293
         ],
         "line": {
          "color": "white"
         },
         "lon": [
          -72.53334,
          -72.53334,
          -72.527565,
          -72.527565,
          -72.53334
         ],
         "mode": "lines",
         "showlegend": false,
         "type": "scattermapbox"
        },
        {
         "fill": "toself",
         "fillcolor": "rgba(255,0,0,0.3)",
         "lat": [
          -35.2195,
          -35.219395,
          -35.219395,
          -35.2195,
          -35.2195
         ],
         "line": {
          "color": "white"
         },
         "lon": [
          -72.008202,
          -72.008202,
          -72.0076,
          -72.0076,
          -72.008202
         ],
         "mode": "lines",
         "showlegend": false,
         "type": "scattermapbox"
        },
        {
         "fill": "toself",
         "fillcolor": "rgba(255,0,0,0.3)",
         "lat": [
          -38.2089,
          -38.2083,
          -38.2083,
          -38.2089,
          -38.2089
         ],
         "line": {
          "color": "white"
         },
         "lon": [
          -72.7056,
          -72.7056,
          -72.7049,
          -72.7049,
          -72.7056
         ],
         "mode": "lines",
         "showlegend": false,
         "type": "scattermapbox"
        },
        {
         "fill": "toself",
         "fillcolor": "rgba(255,0,0,0.3)",
         "lat": [
          -38.6369,
          -38.6316,
          -38.6316,
          -38.6369,
          -38.6369
         ],
         "line": {
          "color": "white"
         },
         "lon": [
          -72.34713,
          -72.34713,
          -72.3267,
          -72.3267,
          -72.34713
         ],
         "mode": "lines",
         "showlegend": false,
         "type": "scattermapbox"
        },
        {
         "fill": "toself",
         "fillcolor": "rgba(255,0,0,0.3)",
         "lat": [
          -38.638435,
          -38.594841,
          -38.594841,
          -38.638435,
          -38.638435
         ],
         "line": {
          "color": "white"
         },
         "lon": [
          -72.255,
          -72.255,
          -72.19751,
          -72.19751,
          -72.255
         ],
         "mode": "lines",
         "showlegend": false,
         "type": "scattermapbox"
        },
        {
         "fill": "toself",
         "fillcolor": "rgba(255,0,0,0.3)",
         "lat": [
          -35.732887,
          -35.7319,
          -35.7319,
          -35.732887,
          -35.732887
         ],
         "line": {
          "color": "white"
         },
         "lon": [
          -71.2492,
          -71.2492,
          -71.248657,
          -71.248657,
          -71.2492
         ],
         "mode": "lines",
         "showlegend": false,
         "type": "scattermapbox"
        },
        {
         "fill": "toself",
         "fillcolor": "rgba(255,0,0,0.3)",
         "lat": [
          -40.587124,
          -40.5859,
          -40.5859,
          -40.587124,
          -40.587124
         ],
         "line": {
          "color": "white"
         },
         "lon": [
          -73.247421,
          -73.247421,
          -73.2467,
          -73.2467,
          -73.247421
         ],
         "mode": "lines",
         "showlegend": false,
         "type": "scattermapbox"
        },
        {
         "fill": "toself",
         "fillcolor": "rgba(255,0,0,0.3)",
         "lat": [
          -38.2434,
          -38.2423,
          -38.2423,
          -38.2434,
          -38.2434
         ],
         "line": {
          "color": "white"
         },
         "lon": [
          -72.7208,
          -72.7208,
          -72.7204,
          -72.7204,
          -72.7208
         ],
         "mode": "lines",
         "showlegend": false,
         "type": "scattermapbox"
        },
        {
         "fill": "toself",
         "fillcolor": "rgba(255,0,0,0.3)",
         "lat": [
          -40.5209,
          -40.508614,
          -40.508614,
          -40.5209,
          -40.5209
         ],
         "line": {
          "color": "white"
         },
         "lon": [
          -73.123932,
          -73.123932,
          -73.090569,
          -73.090569,
          -73.123932
         ],
         "mode": "lines",
         "showlegend": false,
         "type": "scattermapbox"
        },
        {
         "fill": "toself",
         "fillcolor": "rgba(255,0,0,0.3)",
         "lat": [
          -37.635971,
          -37.6354,
          -37.6354,
          -37.635971,
          -37.635971
         ],
         "line": {
          "color": "white"
         },
         "lon": [
          -73.4476,
          -73.4476,
          -73.446602,
          -73.446602,
          -73.4476
         ],
         "mode": "lines",
         "showlegend": false,
         "type": "scattermapbox"
        },
        {
         "fill": "toself",
         "fillcolor": "rgba(255,0,0,0.3)",
         "lat": [
          -36.167091,
          -36.111622,
          -36.111622,
          -36.167091,
          -36.167091
         ],
         "line": {
          "color": "white"
         },
         "lon": [
          -72.647072,
          -72.647072,
          -72.590698,
          -72.590698,
          -72.647072
         ],
         "mode": "lines",
         "showlegend": false,
         "type": "scattermapbox"
        },
        {
         "fill": "toself",
         "fillcolor": "rgba(255,0,0,0.3)",
         "lat": [
          -32.8036,
          -32.8008,
          -32.8008,
          -32.8036,
          -32.8036
         ],
         "line": {
          "color": "white"
         },
         "lon": [
          -70.953903,
          -70.953903,
          -70.9492,
          -70.9492,
          -70.953903
         ],
         "mode": "lines",
         "showlegend": false,
         "type": "scattermapbox"
        },
        {
         "fill": "toself",
         "fillcolor": "rgba(255,0,0,0.3)",
         "lat": [
          -38.309822,
          -38.276558,
          -38.276558,
          -38.309822,
          -38.309822
         ],
         "line": {
          "color": "white"
         },
         "lon": [
          -72.0669,
          -72.0669,
          -72.033798,
          -72.033798,
          -72.0669
         ],
         "mode": "lines",
         "showlegend": false,
         "type": "scattermapbox"
        },
        {
         "fill": "toself",
         "fillcolor": "rgba(255,0,0,0.3)",
         "lat": [
          -36.9913,
          -36.9901,
          -36.9901,
          -36.9913,
          -36.9913
         ],
         "line": {
          "color": "white"
         },
         "lon": [
          -73.1658,
          -73.1658,
          -73.1649,
          -73.1649,
          -73.1658
         ],
         "mode": "lines",
         "showlegend": false,
         "type": "scattermapbox"
        },
        {
         "fill": "toself",
         "fillcolor": "rgba(255,0,0,0.3)",
         "lat": [
          -35.41,
          -35.3749,
          -35.3749,
          -35.41,
          -35.41
         ],
         "line": {
          "color": "white"
         },
         "lon": [
          -72.1936,
          -72.1936,
          -72.1303,
          -72.1303,
          -72.1936
         ],
         "mode": "lines",
         "showlegend": false,
         "type": "scattermapbox"
        },
        {
         "fill": "toself",
         "fillcolor": "rgba(255,0,0,0.3)",
         "lat": [
          -36.9483,
          -36.9132,
          -36.9132,
          -36.9483,
          -36.9483
         ],
         "line": {
          "color": "white"
         },
         "lon": [
          -72.8417,
          -72.8417,
          -72.8119,
          -72.8119,
          -72.8417
         ],
         "mode": "lines",
         "showlegend": false,
         "type": "scattermapbox"
        },
        {
         "fill": "toself",
         "fillcolor": "rgba(255,0,0,0.3)",
         "lat": [
          -38.7898,
          -38.789555,
          -38.789555,
          -38.7898,
          -38.7898
         ],
         "line": {
          "color": "white"
         },
         "lon": [
          -72.164017,
          -72.164017,
          -72.1633,
          -72.1633,
          -72.164017
         ],
         "mode": "lines",
         "showlegend": false,
         "type": "scattermapbox"
        },
        {
         "fill": "toself",
         "fillcolor": "rgba(255,0,0,0.3)",
         "lat": [
          -38.7864,
          -38.785706,
          -38.785706,
          -38.7864,
          -38.7864
         ],
         "line": {
          "color": "white"
         },
         "lon": [
          -72.940918,
          -72.940918,
          -72.9397,
          -72.9397,
          -72.940918
         ],
         "mode": "lines",
         "showlegend": false,
         "type": "scattermapbox"
        },
        {
         "fill": "toself",
         "fillcolor": "rgba(255,0,0,0.3)",
         "lat": [
          -38.568195,
          -38.566998,
          -38.566998,
          -38.568195,
          -38.568195
         ],
         "line": {
          "color": "white"
         },
         "lon": [
          -72.209068,
          -72.209068,
          -72.205742,
          -72.205742,
          -72.209068
         ],
         "mode": "lines",
         "showlegend": false,
         "type": "scattermapbox"
        },
        {
         "fill": "toself",
         "fillcolor": "rgba(255,0,0,0.3)",
         "lat": [
          -37.9716,
          -37.9704,
          -37.9704,
          -37.9716,
          -37.9716
         ],
         "line": {
          "color": "white"
         },
         "lon": [
          -72.4809,
          -72.4809,
          -72.4802,
          -72.4802,
          -72.4809
         ],
         "mode": "lines",
         "showlegend": false,
         "type": "scattermapbox"
        },
        {
         "fill": "toself",
         "fillcolor": "rgba(255,0,0,0.3)",
         "lat": [
          -33.1833,
          -33.182484,
          -33.182484,
          -33.1833,
          -33.1833
         ],
         "line": {
          "color": "white"
         },
         "lon": [
          -71.555374,
          -71.555374,
          -71.5541,
          -71.5541,
          -71.555374
         ],
         "mode": "lines",
         "showlegend": false,
         "type": "scattermapbox"
        },
        {
         "fill": "toself",
         "fillcolor": "rgba(255,0,0,0.3)",
         "lat": [
          -38.729565,
          -38.715427,
          -38.715427,
          -38.729565,
          -38.729565
         ],
         "line": {
          "color": "white"
         },
         "lon": [
          -72.322395,
          -72.322395,
          -72.2669,
          -72.2669,
          -72.322395
         ],
         "mode": "lines",
         "showlegend": false,
         "type": "scattermapbox"
        },
        {
         "fill": "toself",
         "fillcolor": "rgba(255,0,0,0.3)",
         "lat": [
          -33.6352,
          -33.6351,
          -33.6351,
          -33.6352,
          -33.6352
         ],
         "line": {
          "color": "white"
         },
         "lon": [
          -71.3997,
          -71.3997,
          -71.3994,
          -71.3994,
          -71.3997
         ],
         "mode": "lines",
         "showlegend": false,
         "type": "scattermapbox"
        },
        {
         "fill": "toself",
         "fillcolor": "rgba(255,0,0,0.3)",
         "lat": [
          -39.107456,
          -39.0316,
          -39.0316,
          -39.107456,
          -39.107456
         ],
         "line": {
          "color": "white"
         },
         "lon": [
          -72.3767,
          -72.3767,
          -72.315536,
          -72.315536,
          -72.3767
         ],
         "mode": "lines",
         "showlegend": false,
         "type": "scattermapbox"
        },
        {
         "fill": "toself",
         "fillcolor": "rgba(255,0,0,0.3)",
         "lat": [
          -33.5961,
          -33.59576,
          -33.59576,
          -33.5961,
          -33.5961
         ],
         "line": {
          "color": "white"
         },
         "lon": [
          -71.55143,
          -71.55143,
          -71.5509,
          -71.5509,
          -71.55143
         ],
         "mode": "lines",
         "showlegend": false,
         "type": "scattermapbox"
        },
        {
         "fill": "toself",
         "fillcolor": "rgba(255,0,0,0.3)",
         "lat": [
          -37.3395,
          -37.338722,
          -37.338722,
          -37.3395,
          -37.3395
         ],
         "line": {
          "color": "white"
         },
         "lon": [
          -73.650749,
          -73.650749,
          -73.6497,
          -73.6497,
          -73.650749
         ],
         "mode": "lines",
         "showlegend": false,
         "type": "scattermapbox"
        },
        {
         "fill": "toself",
         "fillcolor": "rgba(255,0,0,0.3)",
         "lat": [
          -38.3153,
          -38.31398,
          -38.31398,
          -38.3153,
          -38.3153
         ],
         "line": {
          "color": "white"
         },
         "lon": [
          -72.532097,
          -72.532097,
          -72.5299,
          -72.5299,
          -72.532097
         ],
         "mode": "lines",
         "showlegend": false,
         "type": "scattermapbox"
        },
        {
         "fill": "toself",
         "fillcolor": "rgba(255,0,0,0.3)",
         "lat": [
          -36.864513,
          -36.8637,
          -36.8637,
          -36.864513,
          -36.864513
         ],
         "line": {
          "color": "white"
         },
         "lon": [
          -72.886116,
          -72.886116,
          -72.8854,
          -72.8854,
          -72.886116
         ],
         "mode": "lines",
         "showlegend": false,
         "type": "scattermapbox"
        },
        {
         "fill": "toself",
         "fillcolor": "rgba(255,0,0,0.3)",
         "lat": [
          -38.218521,
          -38.218075,
          -38.218075,
          -38.218521,
          -38.218521
         ],
         "line": {
          "color": "white"
         },
         "lon": [
          -72.630951,
          -72.630951,
          -72.630753,
          -72.630753,
          -72.630951
         ],
         "mode": "lines",
         "showlegend": false,
         "type": "scattermapbox"
        },
        {
         "fill": "toself",
         "fillcolor": "rgba(255,0,0,0.3)",
         "lat": [
          -39.459209,
          -39.4486,
          -39.4486,
          -39.459209,
          -39.459209
         ],
         "line": {
          "color": "white"
         },
         "lon": [
          -72.5737,
          -72.5737,
          -72.557915,
          -72.557915,
          -72.5737
         ],
         "mode": "lines",
         "showlegend": false,
         "type": "scattermapbox"
        },
        {
         "fill": "toself",
         "fillcolor": "rgba(255,0,0,0.3)",
         "lat": [
          -38.4554,
          -38.4492,
          -38.4492,
          -38.4554,
          -38.4554
         ],
         "line": {
          "color": "white"
         },
         "lon": [
          -73.0701,
          -73.0701,
          -73.043,
          -73.043,
          -73.0701
         ],
         "mode": "lines",
         "showlegend": false,
         "type": "scattermapbox"
        },
        {
         "fill": "toself",
         "fillcolor": "rgba(255,0,0,0.3)",
         "lat": [
          -33.8407,
          -33.84,
          -33.84,
          -33.8407,
          -33.8407
         ],
         "line": {
          "color": "white"
         },
         "lon": [
          -71.0798,
          -71.0798,
          -71.0793,
          -71.0793,
          -71.0798
         ],
         "mode": "lines",
         "showlegend": false,
         "type": "scattermapbox"
        },
        {
         "fill": "toself",
         "fillcolor": "rgba(255,0,0,0.3)",
         "lat": [
          -33.1317,
          -33.1238,
          -33.1238,
          -33.1317,
          -33.1317
         ],
         "line": {
          "color": "white"
         },
         "lon": [
          -71.479172,
          -71.479172,
          -71.46566,
          -71.46566,
          -71.479172
         ],
         "mode": "lines",
         "showlegend": false,
         "type": "scattermapbox"
        },
        {
         "fill": "toself",
         "fillcolor": "rgba(255,0,0,0.3)",
         "lat": [
          -38.519,
          -38.509426,
          -38.509426,
          -38.519,
          -38.519
         ],
         "line": {
          "color": "white"
         },
         "lon": [
          -72.934143,
          -72.934143,
          -72.923813,
          -72.923813,
          -72.934143
         ],
         "mode": "lines",
         "showlegend": false,
         "type": "scattermapbox"
        },
        {
         "fill": "toself",
         "fillcolor": "rgba(255,0,0,0.3)",
         "lat": [
          -35.850231,
          -35.849354,
          -35.849354,
          -35.850231,
          -35.850231
         ],
         "line": {
          "color": "white"
         },
         "lon": [
          -72.282173,
          -72.282173,
          -72.280952,
          -72.280952,
          -72.282173
         ],
         "mode": "lines",
         "showlegend": false,
         "type": "scattermapbox"
        },
        {
         "fill": "toself",
         "fillcolor": "rgba(255,0,0,0.3)",
         "lat": [
          -32.9966,
          -32.9958,
          -32.9958,
          -32.9966,
          -32.9966
         ],
         "line": {
          "color": "white"
         },
         "lon": [
          -71.2936,
          -71.2936,
          -71.2934,
          -71.2934,
          -71.2936
         ],
         "mode": "lines",
         "showlegend": false,
         "type": "scattermapbox"
        },
        {
         "fill": "toself",
         "fillcolor": "rgba(255,0,0,0.3)",
         "lat": [
          -32.826023,
          -32.8258,
          -32.8258,
          -32.826023,
          -32.826023
         ],
         "line": {
          "color": "white"
         },
         "lon": [
          -71.159,
          -71.159,
          -71.158318,
          -71.158318,
          -71.159
         ],
         "mode": "lines",
         "showlegend": false,
         "type": "scattermapbox"
        },
        {
         "fill": "toself",
         "fillcolor": "rgba(255,0,0,0.3)",
         "lat": [
          -36.541721,
          -36.5413,
          -36.5413,
          -36.541721,
          -36.541721
         ],
         "line": {
          "color": "white"
         },
         "lon": [
          -72.254,
          -72.254,
          -72.252686,
          -72.252686,
          -72.254
         ],
         "mode": "lines",
         "showlegend": false,
         "type": "scattermapbox"
        },
        {
         "fill": "toself",
         "fillcolor": "rgba(255,0,0,0.3)",
         "lat": [
          -36.1995,
          -36.191,
          -36.191,
          -36.1995,
          -36.1995
         ],
         "line": {
          "color": "white"
         },
         "lon": [
          -72.6174,
          -72.6174,
          -72.6083,
          -72.6083,
          -72.6174
         ],
         "mode": "lines",
         "showlegend": false,
         "type": "scattermapbox"
        },
        {
         "fill": "toself",
         "fillcolor": "rgba(255,0,0,0.3)",
         "lat": [
          -36.1845,
          -36.154572,
          -36.154572,
          -36.1845,
          -36.1845
         ],
         "line": {
          "color": "white"
         },
         "lon": [
          -72.5813,
          -72.5813,
          -72.563484,
          -72.563484,
          -72.5813
         ],
         "mode": "lines",
         "showlegend": false,
         "type": "scattermapbox"
        },
        {
         "fill": "toself",
         "fillcolor": "rgba(255,0,0,0.3)",
         "lat": [
          -38.197311,
          -38.1967,
          -38.1967,
          -38.197311,
          -38.197311
         ],
         "line": {
          "color": "white"
         },
         "lon": [
          -72.9293,
          -72.9293,
          -72.9232,
          -72.9232,
          -72.9293
         ],
         "mode": "lines",
         "showlegend": false,
         "type": "scattermapbox"
        },
        {
         "fill": "toself",
         "fillcolor": "rgba(255,0,0,0.3)",
         "lat": [
          -38.1149,
          -38.102772,
          -38.102772,
          -38.1149,
          -38.1149
         ],
         "line": {
          "color": "white"
         },
         "lon": [
          -72.2437,
          -72.2437,
          -72.2367,
          -72.2367,
          -72.2437
         ],
         "mode": "lines",
         "showlegend": false,
         "type": "scattermapbox"
        },
        {
         "fill": "toself",
         "fillcolor": "rgba(255,0,0,0.3)",
         "lat": [
          -38.8462,
          -38.8181,
          -38.8181,
          -38.8462,
          -38.8462
         ],
         "line": {
          "color": "white"
         },
         "lon": [
          -72.4406,
          -72.4406,
          -72.4111,
          -72.4111,
          -72.4406
         ],
         "mode": "lines",
         "showlegend": false,
         "type": "scattermapbox"
        },
        {
         "fill": "toself",
         "fillcolor": "rgba(255,0,0,0.3)",
         "lat": [
          -35.4408,
          -35.44,
          -35.44,
          -35.4408,
          -35.4408
         ],
         "line": {
          "color": "white"
         },
         "lon": [
          -71.6507,
          -71.6507,
          -71.6503,
          -71.6503,
          -71.6507
         ],
         "mode": "lines",
         "showlegend": false,
         "type": "scattermapbox"
        },
        {
         "fill": "toself",
         "fillcolor": "rgba(255,0,0,0.3)",
         "lat": [
          -36.1254,
          -36.1253,
          -36.1253,
          -36.1254,
          -36.1254
         ],
         "line": {
          "color": "white"
         },
         "lon": [
          -71.8334,
          -71.8334,
          -71.833,
          -71.833,
          -71.8334
         ],
         "mode": "lines",
         "showlegend": false,
         "type": "scattermapbox"
        },
        {
         "fill": "toself",
         "fillcolor": "rgba(255,0,0,0.3)",
         "lat": [
          -33.8733,
          -33.8678,
          -33.8678,
          -33.8733,
          -33.8733
         ],
         "line": {
          "color": "white"
         },
         "lon": [
          -71.7426,
          -71.7426,
          -71.7318,
          -71.7318,
          -71.7426
         ],
         "mode": "lines",
         "showlegend": false,
         "type": "scattermapbox"
        },
        {
         "fill": "toself",
         "fillcolor": "rgba(255,0,0,0.3)",
         "lat": [
          -35.8279,
          -35.8271,
          -35.8271,
          -35.8279,
          -35.8279
         ],
         "line": {
          "color": "white"
         },
         "lon": [
          -72.2628,
          -72.2628,
          -72.2616,
          -72.2616,
          -72.2628
         ],
         "mode": "lines",
         "showlegend": false,
         "type": "scattermapbox"
        },
        {
         "fill": "toself",
         "fillcolor": "rgba(255,0,0,0.3)",
         "lat": [
          -38.71,
          -38.7096,
          -38.7096,
          -38.71,
          -38.71
         ],
         "line": {
          "color": "white"
         },
         "lon": [
          -72.5305,
          -72.5305,
          -72.5295,
          -72.5295,
          -72.5305
         ],
         "mode": "lines",
         "showlegend": false,
         "type": "scattermapbox"
        },
        {
         "fill": "toself",
         "fillcolor": "rgba(255,0,0,0.3)",
         "lat": [
          -20.512499,
          -20.511648,
          -20.511648,
          -20.512499,
          -20.512499
         ],
         "line": {
          "color": "white"
         },
         "lon": [
          -69.465141,
          -69.465141,
          -69.464706,
          -69.464706,
          -69.465141
         ],
         "mode": "lines",
         "showlegend": false,
         "type": "scattermapbox"
        },
        {
         "fill": "toself",
         "fillcolor": "rgba(255,0,0,0.3)",
         "lat": [
          -35.5712,
          -35.571167,
          -35.571167,
          -35.5712,
          -35.5712
         ],
         "line": {
          "color": "white"
         },
         "lon": [
          -72.4113,
          -72.4113,
          -72.411201,
          -72.411201,
          -72.4113
         ],
         "mode": "lines",
         "showlegend": false,
         "type": "scattermapbox"
        },
        {
         "fill": "toself",
         "fillcolor": "rgba(255,0,0,0.3)",
         "lat": [
          -35.5803,
          -35.568138,
          -35.568138,
          -35.5803,
          -35.5803
         ],
         "line": {
          "color": "white"
         },
         "lon": [
          -72.4625,
          -72.4625,
          -72.458092,
          -72.458092,
          -72.4625
         ],
         "mode": "lines",
         "showlegend": false,
         "type": "scattermapbox"
        },
        {
         "fill": "toself",
         "fillcolor": "rgba(255,0,0,0.3)",
         "lat": [
          -35.3248,
          -35.311459,
          -35.311459,
          -35.3248,
          -35.3248
         ],
         "line": {
          "color": "white"
         },
         "lon": [
          -70.763,
          -70.763,
          -70.745491,
          -70.745491,
          -70.763
         ],
         "mode": "lines",
         "showlegend": false,
         "type": "scattermapbox"
        },
        {
         "fill": "toself",
         "fillcolor": "rgba(255,0,0,0.3)",
         "lat": [
          -38.9068,
          -38.906712,
          -38.906712,
          -38.9068,
          -38.9068
         ],
         "line": {
          "color": "white"
         },
         "lon": [
          -72.8466,
          -72.8466,
          -72.845863,
          -72.845863,
          -72.8466
         ],
         "mode": "lines",
         "showlegend": false,
         "type": "scattermapbox"
        },
        {
         "fill": "toself",
         "fillcolor": "rgba(255,0,0,0.3)",
         "lat": [
          -35.838161,
          -35.83078,
          -35.83078,
          -35.838161,
          -35.838161
         ],
         "line": {
          "color": "white"
         },
         "lon": [
          -71.834702,
          -71.834702,
          -71.825363,
          -71.825363,
          -71.834702
         ],
         "mode": "lines",
         "showlegend": false,
         "type": "scattermapbox"
        },
        {
         "fill": "toself",
         "fillcolor": "rgba(255,0,0,0.3)",
         "lat": [
          -38.471622,
          -38.467079,
          -38.467079,
          -38.471622,
          -38.471622
         ],
         "line": {
          "color": "white"
         },
         "lon": [
          -71.832703,
          -71.832703,
          -71.803146,
          -71.803146,
          -71.832703
         ],
         "mode": "lines",
         "showlegend": false,
         "type": "scattermapbox"
        },
        {
         "fill": "toself",
         "fillcolor": "rgba(255,0,0,0.3)",
         "lat": [
          -33.100307,
          -33.081039,
          -33.081039,
          -33.100307,
          -33.100307
         ],
         "line": {
          "color": "white"
         },
         "lon": [
          -71.622635,
          -71.622635,
          -71.543,
          -71.543,
          -71.622635
         ],
         "mode": "lines",
         "showlegend": false,
         "type": "scattermapbox"
        },
        {
         "fill": "toself",
         "fillcolor": "rgba(255,0,0,0.3)",
         "lat": [
          -36.9331,
          -36.9222,
          -36.9222,
          -36.9331,
          -36.9331
         ],
         "line": {
          "color": "white"
         },
         "lon": [
          -72.122757,
          -72.122757,
          -72.1044,
          -72.1044,
          -72.122757
         ],
         "mode": "lines",
         "showlegend": false,
         "type": "scattermapbox"
        },
        {
         "fill": "toself",
         "fillcolor": "rgba(255,0,0,0.3)",
         "lat": [
          -40.281975,
          -40.280994,
          -40.280994,
          -40.281975,
          -40.281975
         ],
         "line": {
          "color": "white"
         },
         "lon": [
          -72.716988,
          -72.716988,
          -72.715988,
          -72.715988,
          -72.716988
         ],
         "mode": "lines",
         "showlegend": false,
         "type": "scattermapbox"
        },
        {
         "fill": "toself",
         "fillcolor": "rgba(255,0,0,0.3)",
         "lat": [
          -38.784184,
          -38.777218,
          -38.777218,
          -38.784184,
          -38.784184
         ],
         "line": {
          "color": "white"
         },
         "lon": [
          -72.3223,
          -72.3223,
          -72.313278,
          -72.313278,
          -72.3223
         ],
         "mode": "lines",
         "showlegend": false,
         "type": "scattermapbox"
        },
        {
         "fill": "toself",
         "fillcolor": "rgba(255,0,0,0.3)",
         "lat": [
          -36.9486,
          -36.948,
          -36.948,
          -36.9486,
          -36.9486
         ],
         "line": {
          "color": "white"
         },
         "lon": [
          -71.1391,
          -71.1391,
          -71.1388,
          -71.1388,
          -71.1391
         ],
         "mode": "lines",
         "showlegend": false,
         "type": "scattermapbox"
        },
        {
         "fill": "toself",
         "fillcolor": "rgba(255,0,0,0.3)",
         "lat": [
          -38.136803,
          -38.1257,
          -38.1257,
          -38.136803,
          -38.136803
         ],
         "line": {
          "color": "white"
         },
         "lon": [
          -73.0217,
          -73.0217,
          -73.007347,
          -73.007347,
          -73.0217
         ],
         "mode": "lines",
         "showlegend": false,
         "type": "scattermapbox"
        },
        {
         "fill": "toself",
         "fillcolor": "rgba(255,0,0,0.3)",
         "lat": [
          -38.906723,
          -38.906391,
          -38.906391,
          -38.906723,
          -38.906723
         ],
         "line": {
          "color": "white"
         },
         "lon": [
          -72.455879,
          -72.455879,
          -72.454926,
          -72.454926,
          -72.455879
         ],
         "mode": "lines",
         "showlegend": false,
         "type": "scattermapbox"
        },
        {
         "fill": "toself",
         "fillcolor": "rgba(255,0,0,0.3)",
         "lat": [
          -33.8195,
          -33.8188,
          -33.8188,
          -33.8195,
          -33.8195
         ],
         "line": {
          "color": "white"
         },
         "lon": [
          -71.5998,
          -71.5998,
          -71.5991,
          -71.5991,
          -71.5998
         ],
         "mode": "lines",
         "showlegend": false,
         "type": "scattermapbox"
        },
        {
         "fill": "toself",
         "fillcolor": "rgba(255,0,0,0.3)",
         "lat": [
          -38.525352,
          -38.5217,
          -38.5217,
          -38.525352,
          -38.525352
         ],
         "line": {
          "color": "white"
         },
         "lon": [
          -72.834389,
          -72.834389,
          -72.828308,
          -72.828308,
          -72.834389
         ],
         "mode": "lines",
         "showlegend": false,
         "type": "scattermapbox"
        },
        {
         "fill": "toself",
         "fillcolor": "rgba(255,0,0,0.3)",
         "lat": [
          -37.8337,
          -37.833115,
          -37.833115,
          -37.8337,
          -37.8337
         ],
         "line": {
          "color": "white"
         },
         "lon": [
          -72.385262,
          -72.385262,
          -72.385,
          -72.385,
          -72.385262
         ],
         "mode": "lines",
         "showlegend": false,
         "type": "scattermapbox"
        },
        {
         "fill": "toself",
         "fillcolor": "rgba(255,0,0,0.3)",
         "lat": [
          -35.2293,
          -35.229053,
          -35.229053,
          -35.2293,
          -35.2293
         ],
         "line": {
          "color": "white"
         },
         "lon": [
          -71.385109,
          -71.385109,
          -71.3839,
          -71.3839,
          -71.385109
         ],
         "mode": "lines",
         "showlegend": false,
         "type": "scattermapbox"
        },
        {
         "fill": "toself",
         "fillcolor": "rgba(255,0,0,0.3)",
         "lat": [
          -40.259205,
          -40.25547,
          -40.25547,
          -40.259205,
          -40.259205
         ],
         "line": {
          "color": "white"
         },
         "lon": [
          -72.853058,
          -72.853058,
          -72.851288,
          -72.851288,
          -72.853058
         ],
         "mode": "lines",
         "showlegend": false,
         "type": "scattermapbox"
        },
        {
         "fill": "toself",
         "fillcolor": "rgba(255,0,0,0.3)",
         "lat": [
          -36.5673,
          -36.5669,
          -36.5669,
          -36.5673,
          -36.5673
         ],
         "line": {
          "color": "white"
         },
         "lon": [
          -72.2689,
          -72.2689,
          -72.2686,
          -72.2686,
          -72.2689
         ],
         "mode": "lines",
         "showlegend": false,
         "type": "scattermapbox"
        },
        {
         "fill": "toself",
         "fillcolor": "rgba(255,0,0,0.3)",
         "lat": [
          -38.760811,
          -38.7608,
          -38.7608,
          -38.760811,
          -38.760811
         ],
         "line": {
          "color": "white"
         },
         "lon": [
          -72.3636,
          -72.3636,
          -72.362129,
          -72.362129,
          -72.3636
         ],
         "mode": "lines",
         "showlegend": false,
         "type": "scattermapbox"
        },
        {
         "fill": "toself",
         "fillcolor": "rgba(255,0,0,0.3)",
         "lat": [
          -40.486362,
          -40.485672,
          -40.485672,
          -40.486362,
          -40.486362
         ],
         "line": {
          "color": "white"
         },
         "lon": [
          -73.051765,
          -73.051765,
          -73.051071,
          -73.051071,
          -73.051765
         ],
         "mode": "lines",
         "showlegend": false,
         "type": "scattermapbox"
        },
        {
         "fill": "toself",
         "fillcolor": "rgba(255,0,0,0.3)",
         "lat": [
          -40.4499,
          -40.4493,
          -40.4493,
          -40.4499,
          -40.4499
         ],
         "line": {
          "color": "white"
         },
         "lon": [
          -73.2935,
          -73.2935,
          -73.2934,
          -73.2934,
          -73.2935
         ],
         "mode": "lines",
         "showlegend": false,
         "type": "scattermapbox"
        },
        {
         "fill": "toself",
         "fillcolor": "rgba(255,0,0,0.3)",
         "lat": [
          -39.1281,
          -39.1274,
          -39.1274,
          -39.1281,
          -39.1281
         ],
         "line": {
          "color": "white"
         },
         "lon": [
          -72.5625,
          -72.5625,
          -72.5611,
          -72.5611,
          -72.5625
         ],
         "mode": "lines",
         "showlegend": false,
         "type": "scattermapbox"
        },
        {
         "fill": "toself",
         "fillcolor": "rgba(255,0,0,0.3)",
         "lat": [
          -35.5768,
          -35.576603,
          -35.576603,
          -35.5768,
          -35.5768
         ],
         "line": {
          "color": "white"
         },
         "lon": [
          -72.0188,
          -72.0188,
          -72.018311,
          -72.018311,
          -72.0188
         ],
         "mode": "lines",
         "showlegend": false,
         "type": "scattermapbox"
        },
        {
         "fill": "toself",
         "fillcolor": "rgba(255,0,0,0.3)",
         "lat": [
          -35.5464,
          -35.545956,
          -35.545956,
          -35.5464,
          -35.5464
         ],
         "line": {
          "color": "white"
         },
         "lon": [
          -72.440041,
          -72.440041,
          -72.4391,
          -72.4391,
          -72.440041
         ],
         "mode": "lines",
         "showlegend": false,
         "type": "scattermapbox"
        },
        {
         "fill": "toself",
         "fillcolor": "rgba(255,0,0,0.3)",
         "lat": [
          -38.339897,
          -38.3292,
          -38.3292,
          -38.339897,
          -38.339897
         ],
         "line": {
          "color": "white"
         },
         "lon": [
          -73.469833,
          -73.469833,
          -73.458504,
          -73.458504,
          -73.469833
         ],
         "mode": "lines",
         "showlegend": false,
         "type": "scattermapbox"
        },
        {
         "fill": "toself",
         "fillcolor": "rgba(255,0,0,0.3)",
         "lat": [
          -38.2452,
          -38.212,
          -38.212,
          -38.2452,
          -38.2452
         ],
         "line": {
          "color": "white"
         },
         "lon": [
          -72.8373,
          -72.8373,
          -72.7831,
          -72.7831,
          -72.8373
         ],
         "mode": "lines",
         "showlegend": false,
         "type": "scattermapbox"
        },
        {
         "fill": "toself",
         "fillcolor": "rgba(255,0,0,0.3)",
         "lat": [
          -37.9185,
          -37.9087,
          -37.9087,
          -37.9185,
          -37.9185
         ],
         "line": {
          "color": "white"
         },
         "lon": [
          -72.648483,
          -72.648483,
          -72.6322,
          -72.6322,
          -72.648483
         ],
         "mode": "lines",
         "showlegend": false,
         "type": "scattermapbox"
        },
        {
         "fill": "toself",
         "fillcolor": "rgba(255,0,0,0.3)",
         "lat": [
          -37.342957,
          -37.3153,
          -37.3153,
          -37.342957,
          -37.342957
         ],
         "line": {
          "color": "white"
         },
         "lon": [
          -72.332695,
          -72.332695,
          -72.296944,
          -72.296944,
          -72.332695
         ],
         "mode": "lines",
         "showlegend": false,
         "type": "scattermapbox"
        },
        {
         "fill": "toself",
         "fillcolor": "rgba(255,0,0,0.3)",
         "lat": [
          -37.1634,
          -37.131317,
          -37.131317,
          -37.1634,
          -37.1634
         ],
         "line": {
          "color": "white"
         },
         "lon": [
          -71.8957,
          -71.8957,
          -71.8853,
          -71.8853,
          -71.8957
         ],
         "mode": "lines",
         "showlegend": false,
         "type": "scattermapbox"
        },
        {
         "fill": "toself",
         "fillcolor": "rgba(255,0,0,0.3)",
         "lat": [
          -38.379272,
          -38.3789,
          -38.3789,
          -38.379272,
          -38.379272
         ],
         "line": {
          "color": "white"
         },
         "lon": [
          -72.732674,
          -72.732674,
          -72.7313,
          -72.7313,
          -72.732674
         ],
         "mode": "lines",
         "showlegend": false,
         "type": "scattermapbox"
        },
        {
         "fill": "toself",
         "fillcolor": "rgba(255,0,0,0.3)",
         "lat": [
          -35.591877,
          -35.5913,
          -35.5913,
          -35.591877,
          -35.591877
         ],
         "line": {
          "color": "white"
         },
         "lon": [
          -71.624863,
          -71.624863,
          -71.624,
          -71.624,
          -71.624863
         ],
         "mode": "lines",
         "showlegend": false,
         "type": "scattermapbox"
        },
        {
         "fill": "toself",
         "fillcolor": "rgba(255,0,0,0.3)",
         "lat": [
          -38.8372,
          -38.837,
          -38.837,
          -38.8372,
          -38.8372
         ],
         "line": {
          "color": "white"
         },
         "lon": [
          -72.8535,
          -72.8535,
          -72.852272,
          -72.852272,
          -72.8535
         ],
         "mode": "lines",
         "showlegend": false,
         "type": "scattermapbox"
        },
        {
         "fill": "toself",
         "fillcolor": "rgba(255,0,0,0.3)",
         "lat": [
          -38.453892,
          -38.4457,
          -38.4457,
          -38.453892,
          -38.453892
         ],
         "line": {
          "color": "white"
         },
         "lon": [
          -72.984795,
          -72.984795,
          -72.9568,
          -72.9568,
          -72.984795
         ],
         "mode": "lines",
         "showlegend": false,
         "type": "scattermapbox"
        },
        {
         "fill": "toself",
         "fillcolor": "rgba(255,0,0,0.3)",
         "lat": [
          -38.222942,
          -38.2225,
          -38.2225,
          -38.222942,
          -38.222942
         ],
         "line": {
          "color": "white"
         },
         "lon": [
          -72.91143,
          -72.91143,
          -72.9109,
          -72.9109,
          -72.91143
         ],
         "mode": "lines",
         "showlegend": false,
         "type": "scattermapbox"
        },
        {
         "fill": "toself",
         "fillcolor": "rgba(255,0,0,0.3)",
         "lat": [
          -38.480747,
          -38.470394,
          -38.470394,
          -38.480747,
          -38.480747
         ],
         "line": {
          "color": "white"
         },
         "lon": [
          -72.254356,
          -72.254356,
          -72.248215,
          -72.248215,
          -72.254356
         ],
         "mode": "lines",
         "showlegend": false,
         "type": "scattermapbox"
        },
        {
         "fill": "toself",
         "fillcolor": "rgba(255,0,0,0.3)",
         "lat": [
          -36.9594,
          -36.958744,
          -36.958744,
          -36.9594,
          -36.9594
         ],
         "line": {
          "color": "white"
         },
         "lon": [
          -72.7778,
          -72.7778,
          -72.774918,
          -72.774918,
          -72.7778
         ],
         "mode": "lines",
         "showlegend": false,
         "type": "scattermapbox"
        },
        {
         "fill": "toself",
         "fillcolor": "rgba(255,0,0,0.3)",
         "lat": [
          -38.574062,
          -38.573734,
          -38.573734,
          -38.574062,
          -38.574062
         ],
         "line": {
          "color": "white"
         },
         "lon": [
          -72.166603,
          -72.166603,
          -72.165657,
          -72.165657,
          -72.166603
         ],
         "mode": "lines",
         "showlegend": false,
         "type": "scattermapbox"
        },
        {
         "fill": "toself",
         "fillcolor": "rgba(255,0,0,0.3)",
         "lat": [
          -34.9105,
          -34.910233,
          -34.910233,
          -34.9105,
          -34.9105
         ],
         "line": {
          "color": "white"
         },
         "lon": [
          -71.9711,
          -71.9711,
          -71.97023,
          -71.97023,
          -71.9711
         ],
         "mode": "lines",
         "showlegend": false,
         "type": "scattermapbox"
        },
        {
         "fill": "toself",
         "fillcolor": "rgba(255,0,0,0.3)",
         "lat": [
          -37.3039,
          -37.303,
          -37.303,
          -37.3039,
          -37.3039
         ],
         "line": {
          "color": "white"
         },
         "lon": [
          -72.8896,
          -72.8896,
          -72.8887,
          -72.8887,
          -72.8896
         ],
         "mode": "lines",
         "showlegend": false,
         "type": "scattermapbox"
        },
        {
         "fill": "toself",
         "fillcolor": "rgba(255,0,0,0.3)",
         "lat": [
          -36.0137,
          -36.0125,
          -36.0125,
          -36.0137,
          -36.0137
         ],
         "line": {
          "color": "white"
         },
         "lon": [
          -72.5773,
          -72.5773,
          -72.5767,
          -72.5767,
          -72.5773
         ],
         "mode": "lines",
         "showlegend": false,
         "type": "scattermapbox"
        },
        {
         "fill": "toself",
         "fillcolor": "rgba(255,0,0,0.3)",
         "lat": [
          -38.6574,
          -38.6197,
          -38.6197,
          -38.6574,
          -38.6574
         ],
         "line": {
          "color": "white"
         },
         "lon": [
          -72.1796,
          -72.1796,
          -72.158478,
          -72.158478,
          -72.1796
         ],
         "mode": "lines",
         "showlegend": false,
         "type": "scattermapbox"
        },
        {
         "fill": "toself",
         "fillcolor": "rgba(255,0,0,0.3)",
         "lat": [
          -39.090332,
          -39.080757,
          -39.080757,
          -39.090332,
          -39.090332
         ],
         "line": {
          "color": "white"
         },
         "lon": [
          -72.15921,
          -72.15921,
          -72.154564,
          -72.154564,
          -72.15921
         ],
         "mode": "lines",
         "showlegend": false,
         "type": "scattermapbox"
        },
        {
         "fill": "toself",
         "fillcolor": "rgba(255,0,0,0.3)",
         "lat": [
          -38.4532,
          -38.427185,
          -38.427185,
          -38.4532,
          -38.4532
         ],
         "line": {
          "color": "white"
         },
         "lon": [
          -72.3418,
          -72.3418,
          -72.302948,
          -72.302948,
          -72.3418
         ],
         "mode": "lines",
         "showlegend": false,
         "type": "scattermapbox"
        },
        {
         "fill": "toself",
         "fillcolor": "rgba(255,0,0,0.3)",
         "lat": [
          -38.4093,
          -38.39,
          -38.39,
          -38.4093,
          -38.4093
         ],
         "line": {
          "color": "white"
         },
         "lon": [
          -71.9346,
          -71.9346,
          -71.9145,
          -71.9145,
          -71.9346
         ],
         "mode": "lines",
         "showlegend": false,
         "type": "scattermapbox"
        },
        {
         "fill": "toself",
         "fillcolor": "rgba(255,0,0,0.3)",
         "lat": [
          -36.555771,
          -36.554981,
          -36.554981,
          -36.555771,
          -36.555771
         ],
         "line": {
          "color": "white"
         },
         "lon": [
          -71.578537,
          -71.578537,
          -71.577248,
          -71.577248,
          -71.578537
         ],
         "mode": "lines",
         "showlegend": false,
         "type": "scattermapbox"
        },
        {
         "fill": "toself",
         "fillcolor": "rgba(255,0,0,0.3)",
         "lat": [
          -38.328491,
          -38.3278,
          -38.3278,
          -38.328491,
          -38.328491
         ],
         "line": {
          "color": "white"
         },
         "lon": [
          -72.1109,
          -72.1109,
          -72.11068,
          -72.11068,
          -72.1109
         ],
         "mode": "lines",
         "showlegend": false,
         "type": "scattermapbox"
        },
        {
         "fill": "toself",
         "fillcolor": "rgba(255,0,0,0.3)",
         "lat": [
          -36.6371,
          -36.6234,
          -36.6234,
          -36.6371,
          -36.6371
         ],
         "line": {
          "color": "white"
         },
         "lon": [
          -72.8404,
          -72.8404,
          -72.81736,
          -72.81736,
          -72.8404
         ],
         "mode": "lines",
         "showlegend": false,
         "type": "scattermapbox"
        },
        {
         "fill": "toself",
         "fillcolor": "rgba(255,0,0,0.3)",
         "lat": [
          -38.169,
          -38.1683,
          -38.1683,
          -38.169,
          -38.169
         ],
         "line": {
          "color": "white"
         },
         "lon": [
          -73.1802,
          -73.1802,
          -73.1789,
          -73.1789,
          -73.1802
         ],
         "mode": "lines",
         "showlegend": false,
         "type": "scattermapbox"
        },
        {
         "fill": "toself",
         "fillcolor": "rgba(255,0,0,0.3)",
         "lat": [
          -34.046,
          -34.040794,
          -34.040794,
          -34.046,
          -34.046
         ],
         "line": {
          "color": "white"
         },
         "lon": [
          -71.927116,
          -71.927116,
          -71.91877,
          -71.91877,
          -71.927116
         ],
         "mode": "lines",
         "showlegend": false,
         "type": "scattermapbox"
        },
        {
         "fill": "toself",
         "fillcolor": "rgba(255,0,0,0.3)",
         "lat": [
          -35.683788,
          -35.682,
          -35.682,
          -35.683788,
          -35.683788
         ],
         "line": {
          "color": "white"
         },
         "lon": [
          -72.0563,
          -72.0563,
          -72.055183,
          -72.055183,
          -72.0563
         ],
         "mode": "lines",
         "showlegend": false,
         "type": "scattermapbox"
        },
        {
         "fill": "toself",
         "fillcolor": "rgba(255,0,0,0.3)",
         "lat": [
          -38.169598,
          -38.1693,
          -38.1693,
          -38.169598,
          -38.169598
         ],
         "line": {
          "color": "white"
         },
         "lon": [
          -72.2645,
          -72.2645,
          -72.263672,
          -72.263672,
          -72.2645
         ],
         "mode": "lines",
         "showlegend": false,
         "type": "scattermapbox"
        },
        {
         "fill": "toself",
         "fillcolor": "rgba(255,0,0,0.3)",
         "lat": [
          -38.5724,
          -38.535114,
          -38.535114,
          -38.5724,
          -38.5724
         ],
         "line": {
          "color": "white"
         },
         "lon": [
          -72.107666,
          -72.107666,
          -72.1009,
          -72.1009,
          -72.107666
         ],
         "mode": "lines",
         "showlegend": false,
         "type": "scattermapbox"
        },
        {
         "fill": "toself",
         "fillcolor": "rgba(255,0,0,0.3)",
         "lat": [
          -37.8392,
          -37.8384,
          -37.8384,
          -37.8392,
          -37.8392
         ],
         "line": {
          "color": "white"
         },
         "lon": [
          -72.4318,
          -72.4318,
          -72.431,
          -72.431,
          -72.4318
         ],
         "mode": "lines",
         "showlegend": false,
         "type": "scattermapbox"
        },
        {
         "fill": "toself",
         "fillcolor": "rgba(255,0,0,0.3)",
         "lat": [
          -36.206829,
          -36.2067,
          -36.2067,
          -36.206829,
          -36.206829
         ],
         "line": {
          "color": "white"
         },
         "lon": [
          -72.090294,
          -72.090294,
          -72.0898,
          -72.0898,
          -72.090294
         ],
         "mode": "lines",
         "showlegend": false,
         "type": "scattermapbox"
        },
        {
         "fill": "toself",
         "fillcolor": "rgba(255,0,0,0.3)",
         "lat": [
          -39.0853,
          -39.0813,
          -39.0813,
          -39.0853,
          -39.0853
         ],
         "line": {
          "color": "white"
         },
         "lon": [
          -73.240372,
          -73.240372,
          -73.2376,
          -73.2376,
          -73.240372
         ],
         "mode": "lines",
         "showlegend": false,
         "type": "scattermapbox"
        },
        {
         "fill": "toself",
         "fillcolor": "rgba(255,0,0,0.3)",
         "lat": [
          -38.885574,
          -38.857,
          -38.857,
          -38.885574,
          -38.885574
         ],
         "line": {
          "color": "white"
         },
         "lon": [
          -72.8875,
          -72.8875,
          -72.875145,
          -72.875145,
          -72.8875
         ],
         "mode": "lines",
         "showlegend": false,
         "type": "scattermapbox"
        },
        {
         "fill": "toself",
         "fillcolor": "rgba(255,0,0,0.3)",
         "lat": [
          -41.3981,
          -41.3977,
          -41.3977,
          -41.3981,
          -41.3981
         ],
         "line": {
          "color": "white"
         },
         "lon": [
          -72.9015,
          -72.9015,
          -72.9009,
          -72.9009,
          -72.9015
         ],
         "mode": "lines",
         "showlegend": false,
         "type": "scattermapbox"
        },
        {
         "fill": "toself",
         "fillcolor": "rgba(255,0,0,0.3)",
         "lat": [
          -38.355206,
          -38.346226,
          -38.346226,
          -38.355206,
          -38.355206
         ],
         "line": {
          "color": "white"
         },
         "lon": [
          -72.069748,
          -72.069748,
          -72.05574,
          -72.05574,
          -72.069748
         ],
         "mode": "lines",
         "showlegend": false,
         "type": "scattermapbox"
        },
        {
         "fill": "toself",
         "fillcolor": "rgba(255,0,0,0.3)",
         "lat": [
          -35.350838,
          -35.344803,
          -35.344803,
          -35.350838,
          -35.350838
         ],
         "line": {
          "color": "white"
         },
         "lon": [
          -72.087013,
          -72.087013,
          -72.085144,
          -72.085144,
          -72.087013
         ],
         "mode": "lines",
         "showlegend": false,
         "type": "scattermapbox"
        },
        {
         "fill": "toself",
         "fillcolor": "rgba(255,0,0,0.3)",
         "lat": [
          -36.3195,
          -36.3191,
          -36.3191,
          -36.3195,
          -36.3195
         ],
         "line": {
          "color": "white"
         },
         "lon": [
          -72.4444,
          -72.4444,
          -72.4432,
          -72.4432,
          -72.4444
         ],
         "mode": "lines",
         "showlegend": false,
         "type": "scattermapbox"
        },
        {
         "fill": "toself",
         "fillcolor": "rgba(255,0,0,0.3)",
         "lat": [
          -38.1916,
          -38.1798,
          -38.1798,
          -38.1916,
          -38.1916
         ],
         "line": {
          "color": "white"
         },
         "lon": [
          -72.6715,
          -72.6715,
          -72.6581,
          -72.6581,
          -72.6715
         ],
         "mode": "lines",
         "showlegend": false,
         "type": "scattermapbox"
        },
        {
         "fill": "toself",
         "fillcolor": "rgba(255,0,0,0.3)",
         "lat": [
          -41.364792,
          -41.360111,
          -41.360111,
          -41.364792,
          -41.364792
         ],
         "line": {
          "color": "white"
         },
         "lon": [
          -72.897,
          -72.897,
          -72.889122,
          -72.889122,
          -72.897
         ],
         "mode": "lines",
         "showlegend": false,
         "type": "scattermapbox"
        },
        {
         "fill": "toself",
         "fillcolor": "rgba(255,0,0,0.3)",
         "lat": [
          -36.767071,
          -36.7662,
          -36.7662,
          -36.767071,
          -36.767071
         ],
         "line": {
          "color": "white"
         },
         "lon": [
          -72.9228,
          -72.9228,
          -72.9216,
          -72.9216,
          -72.9228
         ],
         "mode": "lines",
         "showlegend": false,
         "type": "scattermapbox"
        },
        {
         "fill": "toself",
         "fillcolor": "rgba(255,0,0,0.3)",
         "lat": [
          -39.636,
          -39.635,
          -39.635,
          -39.636,
          -39.636
         ],
         "line": {
          "color": "white"
         },
         "lon": [
          -73.2355,
          -73.2355,
          -73.2347,
          -73.2347,
          -73.2355
         ],
         "mode": "lines",
         "showlegend": false,
         "type": "scattermapbox"
        },
        {
         "fill": "toself",
         "fillcolor": "rgba(255,0,0,0.3)",
         "lat": [
          -34.555908,
          -34.5553,
          -34.5553,
          -34.555908,
          -34.555908
         ],
         "line": {
          "color": "white"
         },
         "lon": [
          -71.654533,
          -71.654533,
          -71.6539,
          -71.6539,
          -71.654533
         ],
         "mode": "lines",
         "showlegend": false,
         "type": "scattermapbox"
        },
        {
         "fill": "toself",
         "fillcolor": "rgba(255,0,0,0.3)",
         "lat": [
          -34.39275,
          -34.3887,
          -34.3887,
          -34.39275,
          -34.39275
         ],
         "line": {
          "color": "white"
         },
         "lon": [
          -70.649147,
          -70.649147,
          -70.63958,
          -70.63958,
          -70.649147
         ],
         "mode": "lines",
         "showlegend": false,
         "type": "scattermapbox"
        },
        {
         "fill": "toself",
         "fillcolor": "rgba(255,0,0,0.3)",
         "lat": [
          -35.651482,
          -35.6409,
          -35.6409,
          -35.651482,
          -35.651482
         ],
         "line": {
          "color": "white"
         },
         "lon": [
          -71.517273,
          -71.517273,
          -71.5053,
          -71.5053,
          -71.517273
         ],
         "mode": "lines",
         "showlegend": false,
         "type": "scattermapbox"
        },
        {
         "fill": "toself",
         "fillcolor": "rgba(255,0,0,0.3)",
         "lat": [
          -36.866512,
          -36.8657,
          -36.8657,
          -36.866512,
          -36.866512
         ],
         "line": {
          "color": "white"
         },
         "lon": [
          -72.8001,
          -72.8001,
          -72.799492,
          -72.799492,
          -72.8001
         ],
         "mode": "lines",
         "showlegend": false,
         "type": "scattermapbox"
        },
        {
         "fill": "toself",
         "fillcolor": "rgba(255,0,0,0.3)",
         "lat": [
          -34.006,
          -33.974964,
          -33.974964,
          -34.006,
          -34.006
         ],
         "line": {
          "color": "white"
         },
         "lon": [
          -71.268906,
          -71.268906,
          -71.2368,
          -71.2368,
          -71.268906
         ],
         "mode": "lines",
         "showlegend": false,
         "type": "scattermapbox"
        },
        {
         "fill": "toself",
         "fillcolor": "rgba(255,0,0,0.3)",
         "lat": [
          -38.519985,
          -38.503017,
          -38.503017,
          -38.519985,
          -38.519985
         ],
         "line": {
          "color": "white"
         },
         "lon": [
          -72.165825,
          -72.165825,
          -72.1417,
          -72.1417,
          -72.165825
         ],
         "mode": "lines",
         "showlegend": false,
         "type": "scattermapbox"
        },
        {
         "fill": "toself",
         "fillcolor": "rgba(255,0,0,0.3)",
         "lat": [
          -35.4078,
          -35.4076,
          -35.4076,
          -35.4078,
          -35.4078
         ],
         "line": {
          "color": "white"
         },
         "lon": [
          -72.3611,
          -72.3611,
          -72.3595,
          -72.3595,
          -72.3611
         ],
         "mode": "lines",
         "showlegend": false,
         "type": "scattermapbox"
        },
        {
         "fill": "toself",
         "fillcolor": "rgba(255,0,0,0.3)",
         "lat": [
          -37.238243,
          -37.2373,
          -37.2373,
          -37.238243,
          -37.238243
         ],
         "line": {
          "color": "white"
         },
         "lon": [
          -71.86911,
          -71.86911,
          -71.8422,
          -71.8422,
          -71.86911
         ],
         "mode": "lines",
         "showlegend": false,
         "type": "scattermapbox"
        },
        {
         "fill": "toself",
         "fillcolor": "rgba(255,0,0,0.3)",
         "lat": [
          -34.372269,
          -34.371696,
          -34.371696,
          -34.372269,
          -34.372269
         ],
         "line": {
          "color": "white"
         },
         "lon": [
          -71.29554,
          -71.29554,
          -71.294609,
          -71.294609,
          -71.29554
         ],
         "mode": "lines",
         "showlegend": false,
         "type": "scattermapbox"
        },
        {
         "fill": "toself",
         "fillcolor": "rgba(255,0,0,0.3)",
         "lat": [
          -35.3961,
          -35.3956,
          -35.3956,
          -35.3961,
          -35.3961
         ],
         "line": {
          "color": "white"
         },
         "lon": [
          -71.6397,
          -71.6397,
          -71.6392,
          -71.6392,
          -71.6397
         ],
         "mode": "lines",
         "showlegend": false,
         "type": "scattermapbox"
        },
        {
         "fill": "toself",
         "fillcolor": "rgba(255,0,0,0.3)",
         "lat": [
          -38.779152,
          -38.778538,
          -38.778538,
          -38.779152,
          -38.779152
         ],
         "line": {
          "color": "white"
         },
         "lon": [
          -72.411873,
          -72.411873,
          -72.411865,
          -72.411865,
          -72.411873
         ],
         "mode": "lines",
         "showlegend": false,
         "type": "scattermapbox"
        },
        {
         "fill": "toself",
         "fillcolor": "rgba(255,0,0,0.3)",
         "lat": [
          -38.811008,
          -38.7713,
          -38.7713,
          -38.811008,
          -38.811008
         ],
         "line": {
          "color": "white"
         },
         "lon": [
          -73.0399,
          -73.0399,
          -73.013733,
          -73.013733,
          -73.0399
         ],
         "mode": "lines",
         "showlegend": false,
         "type": "scattermapbox"
        },
        {
         "fill": "toself",
         "fillcolor": "rgba(255,0,0,0.3)",
         "lat": [
          -34.7263,
          -34.7262,
          -34.7262,
          -34.7263,
          -34.7263
         ],
         "line": {
          "color": "white"
         },
         "lon": [
          -71.8384,
          -71.8384,
          -71.8381,
          -71.8381,
          -71.8384
         ],
         "mode": "lines",
         "showlegend": false,
         "type": "scattermapbox"
        },
        {
         "fill": "toself",
         "fillcolor": "rgba(255,0,0,0.3)",
         "lat": [
          -36.328812,
          -36.3156,
          -36.3156,
          -36.328812,
          -36.328812
         ],
         "line": {
          "color": "white"
         },
         "lon": [
          -72.2011,
          -72.2011,
          -72.193527,
          -72.193527,
          -72.2011
         ],
         "mode": "lines",
         "showlegend": false,
         "type": "scattermapbox"
        },
        {
         "fill": "toself",
         "fillcolor": "rgba(255,0,0,0.3)",
         "lat": [
          -38.5273,
          -38.527084,
          -38.527084,
          -38.5273,
          -38.5273
         ],
         "line": {
          "color": "white"
         },
         "lon": [
          -73.458611,
          -73.458611,
          -73.4582,
          -73.4582,
          -73.458611
         ],
         "mode": "lines",
         "showlegend": false,
         "type": "scattermapbox"
        },
        {
         "fill": "toself",
         "fillcolor": "rgba(255,0,0,0.3)",
         "lat": [
          -37.6928,
          -37.6918,
          -37.6918,
          -37.6928,
          -37.6928
         ],
         "line": {
          "color": "white"
         },
         "lon": [
          -73.5228,
          -73.5228,
          -73.5221,
          -73.5221,
          -73.5228
         ],
         "mode": "lines",
         "showlegend": false,
         "type": "scattermapbox"
        },
        {
         "fill": "toself",
         "fillcolor": "rgba(255,0,0,0.3)",
         "lat": [
          -38.194122,
          -38.1939,
          -38.1939,
          -38.194122,
          -38.194122
         ],
         "line": {
          "color": "white"
         },
         "lon": [
          -73.1621,
          -73.1621,
          -73.160675,
          -73.160675,
          -73.1621
         ],
         "mode": "lines",
         "showlegend": false,
         "type": "scattermapbox"
        },
        {
         "fill": "toself",
         "fillcolor": "rgba(255,0,0,0.3)",
         "lat": [
          -37.334766,
          -37.3339,
          -37.3339,
          -37.334766,
          -37.334766
         ],
         "line": {
          "color": "white"
         },
         "lon": [
          -72.627731,
          -72.627731,
          -72.627,
          -72.627,
          -72.627731
         ],
         "mode": "lines",
         "showlegend": false,
         "type": "scattermapbox"
        },
        {
         "fill": "toself",
         "fillcolor": "rgba(255,0,0,0.3)",
         "lat": [
          -38.5402,
          -38.5178,
          -38.5178,
          -38.5402,
          -38.5402
         ],
         "line": {
          "color": "white"
         },
         "lon": [
          -72.682831,
          -72.682831,
          -72.626617,
          -72.626617,
          -72.682831
         ],
         "mode": "lines",
         "showlegend": false,
         "type": "scattermapbox"
        },
        {
         "fill": "toself",
         "fillcolor": "rgba(255,0,0,0.3)",
         "lat": [
          -38.5378,
          -38.5373,
          -38.5373,
          -38.5378,
          -38.5378
         ],
         "line": {
          "color": "white"
         },
         "lon": [
          -72.2296,
          -72.2296,
          -72.2291,
          -72.2291,
          -72.2296
         ],
         "mode": "lines",
         "showlegend": false,
         "type": "scattermapbox"
        },
        {
         "fill": "toself",
         "fillcolor": "rgba(255,0,0,0.3)",
         "lat": [
          -33.6578,
          -33.6575,
          -33.6575,
          -33.6578,
          -33.6578
         ],
         "line": {
          "color": "white"
         },
         "lon": [
          -71.3603,
          -71.3603,
          -71.36,
          -71.36,
          -71.3603
         ],
         "mode": "lines",
         "showlegend": false,
         "type": "scattermapbox"
        },
        {
         "fill": "toself",
         "fillcolor": "rgba(255,0,0,0.3)",
         "lat": [
          -38.421284,
          -38.417557,
          -38.417557,
          -38.421284,
          -38.421284
         ],
         "line": {
          "color": "white"
         },
         "lon": [
          -72.220062,
          -72.220062,
          -72.202904,
          -72.202904,
          -72.220062
         ],
         "mode": "lines",
         "showlegend": false,
         "type": "scattermapbox"
        },
        {
         "fill": "toself",
         "fillcolor": "rgba(255,0,0,0.3)",
         "lat": [
          -38.1383,
          -38.1344,
          -38.1344,
          -38.1383,
          -38.1383
         ],
         "line": {
          "color": "white"
         },
         "lon": [
          -73.4109,
          -73.4109,
          -73.3984,
          -73.3984,
          -73.4109
         ],
         "mode": "lines",
         "showlegend": false,
         "type": "scattermapbox"
        },
        {
         "fill": "toself",
         "fillcolor": "rgba(255,0,0,0.3)",
         "lat": [
          -35.6167,
          -35.6166,
          -35.6166,
          -35.6167,
          -35.6167
         ],
         "line": {
          "color": "white"
         },
         "lon": [
          -71.869,
          -71.869,
          -71.8688,
          -71.8688,
          -71.869
         ],
         "mode": "lines",
         "showlegend": false,
         "type": "scattermapbox"
        },
        {
         "fill": "toself",
         "fillcolor": "rgba(255,0,0,0.3)",
         "lat": [
          -35.641834,
          -35.640858,
          -35.640858,
          -35.641834,
          -35.641834
         ],
         "line": {
          "color": "white"
         },
         "lon": [
          -71.455513,
          -71.455513,
          -71.455452,
          -71.455452,
          -71.455513
         ],
         "mode": "lines",
         "showlegend": false,
         "type": "scattermapbox"
        },
        {
         "fill": "toself",
         "fillcolor": "rgba(255,0,0,0.3)",
         "lat": [
          -38.5362,
          -38.5361,
          -38.5361,
          -38.5362,
          -38.5362
         ],
         "line": {
          "color": "white"
         },
         "lon": [
          -72.2652,
          -72.2652,
          -72.2635,
          -72.2635,
          -72.2652
         ],
         "mode": "lines",
         "showlegend": false,
         "type": "scattermapbox"
        },
        {
         "fill": "toself",
         "fillcolor": "rgba(255,0,0,0.3)",
         "lat": [
          -39.0486,
          -39.0479,
          -39.0479,
          -39.0486,
          -39.0486
         ],
         "line": {
          "color": "white"
         },
         "lon": [
          -72.4752,
          -72.4752,
          -72.4743,
          -72.4743,
          -72.4752
         ],
         "mode": "lines",
         "showlegend": false,
         "type": "scattermapbox"
        },
        {
         "fill": "toself",
         "fillcolor": "rgba(255,0,0,0.3)",
         "lat": [
          -32.8093,
          -32.8087,
          -32.8087,
          -32.8093,
          -32.8093
         ],
         "line": {
          "color": "white"
         },
         "lon": [
          -71.4893,
          -71.4893,
          -71.4888,
          -71.4888,
          -71.4893
         ],
         "mode": "lines",
         "showlegend": false,
         "type": "scattermapbox"
        },
        {
         "fill": "toself",
         "fillcolor": "rgba(255,0,0,0.3)",
         "lat": [
          -37.339481,
          -37.339283,
          -37.339283,
          -37.339481,
          -37.339481
         ],
         "line": {
          "color": "white"
         },
         "lon": [
          -72.869217,
          -72.869217,
          -72.869064,
          -72.869064,
          -72.869217
         ],
         "mode": "lines",
         "showlegend": false,
         "type": "scattermapbox"
        },
        {
         "fill": "toself",
         "fillcolor": "rgba(255,0,0,0.3)",
         "lat": [
          -34.6967,
          -34.696499,
          -34.696499,
          -34.6967,
          -34.6967
         ],
         "line": {
          "color": "white"
         },
         "lon": [
          -71.3513,
          -71.3513,
          -71.350945,
          -71.350945,
          -71.3513
         ],
         "mode": "lines",
         "showlegend": false,
         "type": "scattermapbox"
        },
        {
         "fill": "toself",
         "fillcolor": "rgba(255,0,0,0.3)",
         "lat": [
          -35.536385,
          -35.5363,
          -35.5363,
          -35.536385,
          -35.536385
         ],
         "line": {
          "color": "white"
         },
         "lon": [
          -71.9638,
          -71.9638,
          -71.963768,
          -71.963768,
          -71.9638
         ],
         "mode": "lines",
         "showlegend": false,
         "type": "scattermapbox"
        },
        {
         "fill": "toself",
         "fillcolor": "rgba(255,0,0,0.3)",
         "lat": [
          -38.1131,
          -38.112354,
          -38.112354,
          -38.1131,
          -38.1131
         ],
         "line": {
          "color": "white"
         },
         "lon": [
          -72.33519,
          -72.33519,
          -72.3345,
          -72.3345,
          -72.33519
         ],
         "mode": "lines",
         "showlegend": false,
         "type": "scattermapbox"
        },
        {
         "fill": "toself",
         "fillcolor": "rgba(255,0,0,0.3)",
         "lat": [
          -38.341312,
          -38.3406,
          -38.3406,
          -38.341312,
          -38.341312
         ],
         "line": {
          "color": "white"
         },
         "lon": [
          -72.1603,
          -72.1603,
          -72.158829,
          -72.158829,
          -72.1603
         ],
         "mode": "lines",
         "showlegend": false,
         "type": "scattermapbox"
        },
        {
         "fill": "toself",
         "fillcolor": "rgba(255,0,0,0.3)",
         "lat": [
          -37.322,
          -37.31955,
          -37.31955,
          -37.322,
          -37.322
         ],
         "line": {
          "color": "white"
         },
         "lon": [
          -71.9368,
          -71.9368,
          -71.9193,
          -71.9193,
          -71.9368
         ],
         "mode": "lines",
         "showlegend": false,
         "type": "scattermapbox"
        },
        {
         "fill": "toself",
         "fillcolor": "rgba(255,0,0,0.3)",
         "lat": [
          -39.131,
          -39.130356,
          -39.130356,
          -39.131,
          -39.131
         ],
         "line": {
          "color": "white"
         },
         "lon": [
          -72.3931,
          -72.3931,
          -72.39296,
          -72.39296,
          -72.3931
         ],
         "mode": "lines",
         "showlegend": false,
         "type": "scattermapbox"
        },
        {
         "fill": "toself",
         "fillcolor": "rgba(255,0,0,0.3)",
         "lat": [
          -37.893089,
          -37.8929,
          -37.8929,
          -37.893089,
          -37.893089
         ],
         "line": {
          "color": "white"
         },
         "lon": [
          -72.043076,
          -72.043076,
          -72.0424,
          -72.0424,
          -72.043076
         ],
         "mode": "lines",
         "showlegend": false,
         "type": "scattermapbox"
        },
        {
         "fill": "toself",
         "fillcolor": "rgba(255,0,0,0.3)",
         "lat": [
          -36.634,
          -36.621708,
          -36.621708,
          -36.634,
          -36.634
         ],
         "line": {
          "color": "white"
         },
         "lon": [
          -71.920647,
          -71.920647,
          -71.9137,
          -71.9137,
          -71.920647
         ],
         "mode": "lines",
         "showlegend": false,
         "type": "scattermapbox"
        },
        {
         "fill": "toself",
         "fillcolor": "rgba(255,0,0,0.3)",
         "lat": [
          -38.2384,
          -38.237785,
          -38.237785,
          -38.2384,
          -38.2384
         ],
         "line": {
          "color": "white"
         },
         "lon": [
          -72.106651,
          -72.106651,
          -72.1062,
          -72.1062,
          -72.106651
         ],
         "mode": "lines",
         "showlegend": false,
         "type": "scattermapbox"
        },
        {
         "fill": "toself",
         "fillcolor": "rgba(255,0,0,0.3)",
         "lat": [
          -37.9335,
          -37.932495,
          -37.932495,
          -37.9335,
          -37.9335
         ],
         "line": {
          "color": "white"
         },
         "lon": [
          -72.5771,
          -72.5771,
          -72.576012,
          -72.576012,
          -72.5771
         ],
         "mode": "lines",
         "showlegend": false,
         "type": "scattermapbox"
        },
        {
         "fill": "toself",
         "fillcolor": "rgba(255,0,0,0.3)",
         "lat": [
          -36.230835,
          -36.2287,
          -36.2287,
          -36.230835,
          -36.230835
         ],
         "line": {
          "color": "white"
         },
         "lon": [
          -71.094566,
          -71.094566,
          -71.093819,
          -71.093819,
          -71.094566
         ],
         "mode": "lines",
         "showlegend": false,
         "type": "scattermapbox"
        },
        {
         "fill": "toself",
         "fillcolor": "rgba(255,0,0,0.3)",
         "lat": [
          -38.4504,
          -38.450325,
          -38.450325,
          -38.4504,
          -38.4504
         ],
         "line": {
          "color": "white"
         },
         "lon": [
          -72.922623,
          -72.922623,
          -72.921,
          -72.921,
          -72.922623
         ],
         "mode": "lines",
         "showlegend": false,
         "type": "scattermapbox"
        },
        {
         "fill": "toself",
         "fillcolor": "rgba(255,0,0,0.3)",
         "lat": [
          -38.743298,
          -38.7426,
          -38.7426,
          -38.743298,
          -38.743298
         ],
         "line": {
          "color": "white"
         },
         "lon": [
          -72.837776,
          -72.837776,
          -72.8371,
          -72.8371,
          -72.837776
         ],
         "mode": "lines",
         "showlegend": false,
         "type": "scattermapbox"
        },
        {
         "fill": "toself",
         "fillcolor": "rgba(255,0,0,0.3)",
         "lat": [
          -38.441017,
          -38.440197,
          -38.440197,
          -38.441017,
          -38.441017
         ],
         "line": {
          "color": "white"
         },
         "lon": [
          -73.360916,
          -73.360916,
          -73.360565,
          -73.360565,
          -73.360916
         ],
         "mode": "lines",
         "showlegend": false,
         "type": "scattermapbox"
        },
        {
         "fill": "toself",
         "fillcolor": "rgba(255,0,0,0.3)",
         "lat": [
          -37.447857,
          -37.446518,
          -37.446518,
          -37.447857,
          -37.447857
         ],
         "line": {
          "color": "white"
         },
         "lon": [
          -72.756126,
          -72.756126,
          -72.755989,
          -72.755989,
          -72.756126
         ],
         "mode": "lines",
         "showlegend": false,
         "type": "scattermapbox"
        },
        {
         "fill": "toself",
         "fillcolor": "rgba(255,0,0,0.3)",
         "lat": [
          -37.0371,
          -37.0367,
          -37.0367,
          -37.0371,
          -37.0371
         ],
         "line": {
          "color": "white"
         },
         "lon": [
          -72.9243,
          -72.9243,
          -72.9237,
          -72.9237,
          -72.9243
         ],
         "mode": "lines",
         "showlegend": false,
         "type": "scattermapbox"
        },
        {
         "fill": "toself",
         "fillcolor": "rgba(255,0,0,0.3)",
         "lat": [
          -38.2958,
          -38.294888,
          -38.294888,
          -38.2958,
          -38.2958
         ],
         "line": {
          "color": "white"
         },
         "lon": [
          -73.4152,
          -73.4152,
          -73.414902,
          -73.414902,
          -73.4152
         ],
         "mode": "lines",
         "showlegend": false,
         "type": "scattermapbox"
        },
        {
         "fill": "toself",
         "fillcolor": "rgba(255,0,0,0.3)",
         "lat": [
          -38.6119,
          -38.602848,
          -38.602848,
          -38.6119,
          -38.6119
         ],
         "line": {
          "color": "white"
         },
         "lon": [
          -72.317665,
          -72.317665,
          -72.3005,
          -72.3005,
          -72.317665
         ],
         "mode": "lines",
         "showlegend": false,
         "type": "scattermapbox"
        },
        {
         "fill": "toself",
         "fillcolor": "rgba(255,0,0,0.3)",
         "lat": [
          -27.1278,
          -27.1274,
          -27.1274,
          -27.1278,
          -27.1278
         ],
         "line": {
          "color": "white"
         },
         "lon": [
          -70.1673,
          -70.1673,
          -70.1669,
          -70.1669,
          -70.1673
         ],
         "mode": "lines",
         "showlegend": false,
         "type": "scattermapbox"
        },
        {
         "fill": "toself",
         "fillcolor": "rgba(255,0,0,0.3)",
         "lat": [
          -39.1408,
          -39.131084,
          -39.131084,
          -39.1408,
          -39.1408
         ],
         "line": {
          "color": "white"
         },
         "lon": [
          -72.625511,
          -72.625511,
          -72.61319,
          -72.61319,
          -72.625511
         ],
         "mode": "lines",
         "showlegend": false,
         "type": "scattermapbox"
        },
        {
         "fill": "toself",
         "fillcolor": "rgba(255,0,0,0.3)",
         "lat": [
          -34.949558,
          -34.949482,
          -34.949482,
          -34.949558,
          -34.949558
         ],
         "line": {
          "color": "white"
         },
         "lon": [
          -71.334663,
          -71.334663,
          -71.333717,
          -71.333717,
          -71.334663
         ],
         "mode": "lines",
         "showlegend": false,
         "type": "scattermapbox"
        },
        {
         "fill": "toself",
         "fillcolor": "rgba(255,0,0,0.3)",
         "lat": [
          -34.707584,
          -34.6903,
          -34.6903,
          -34.707584,
          -34.707584
         ],
         "line": {
          "color": "white"
         },
         "lon": [
          -71.2649,
          -71.2649,
          -71.240799,
          -71.240799,
          -71.2649
         ],
         "mode": "lines",
         "showlegend": false,
         "type": "scattermapbox"
        },
        {
         "fill": "toself",
         "fillcolor": "rgba(255,0,0,0.3)",
         "lat": [
          -34.458393,
          -34.454857,
          -34.454857,
          -34.458393,
          -34.458393
         ],
         "line": {
          "color": "white"
         },
         "lon": [
          -71.373947,
          -71.373947,
          -71.360535,
          -71.360535,
          -71.373947
         ],
         "mode": "lines",
         "showlegend": false,
         "type": "scattermapbox"
        },
        {
         "fill": "toself",
         "fillcolor": "rgba(255,0,0,0.3)",
         "lat": [
          -46.318226,
          -46.318,
          -46.318,
          -46.318226,
          -46.318226
         ],
         "line": {
          "color": "white"
         },
         "lon": [
          -71.971024,
          -71.971024,
          -71.9693,
          -71.9693,
          -71.971024
         ],
         "mode": "lines",
         "showlegend": false,
         "type": "scattermapbox"
        },
        {
         "fill": "toself",
         "fillcolor": "rgba(255,0,0,0.3)",
         "lat": [
          -37.442116,
          -37.441906,
          -37.441906,
          -37.442116,
          -37.442116
         ],
         "line": {
          "color": "white"
         },
         "lon": [
          -71.799744,
          -71.799744,
          -71.798843,
          -71.798843,
          -71.799744
         ],
         "mode": "lines",
         "showlegend": false,
         "type": "scattermapbox"
        },
        {
         "fill": "toself",
         "fillcolor": "rgba(255,0,0,0.3)",
         "lat": [
          -37.0298,
          -37.029079,
          -37.029079,
          -37.0298,
          -37.0298
         ],
         "line": {
          "color": "white"
         },
         "lon": [
          -72.831657,
          -72.831657,
          -72.8308,
          -72.8308,
          -72.831657
         ],
         "mode": "lines",
         "showlegend": false,
         "type": "scattermapbox"
        },
        {
         "fill": "toself",
         "fillcolor": "rgba(255,0,0,0.3)",
         "lat": [
          -31.9451,
          -31.94478,
          -31.94478,
          -31.9451,
          -31.9451
         ],
         "line": {
          "color": "white"
         },
         "lon": [
          -71.4262,
          -71.4262,
          -71.42366,
          -71.42366,
          -71.4262
         ],
         "mode": "lines",
         "showlegend": false,
         "type": "scattermapbox"
        },
        {
         "fill": "toself",
         "fillcolor": "rgba(255,0,0,0.3)",
         "lat": [
          -35.240871,
          -35.239902,
          -35.239902,
          -35.240871,
          -35.240871
         ],
         "line": {
          "color": "white"
         },
         "lon": [
          -72.165237,
          -72.165237,
          -72.164482,
          -72.164482,
          -72.165237
         ],
         "mode": "lines",
         "showlegend": false,
         "type": "scattermapbox"
        },
        {
         "fill": "toself",
         "fillcolor": "rgba(255,0,0,0.3)",
         "lat": [
          -37.9814,
          -37.980705,
          -37.980705,
          -37.9814,
          -37.9814
         ],
         "line": {
          "color": "white"
         },
         "lon": [
          -72.591,
          -72.591,
          -72.590195,
          -72.590195,
          -72.591
         ],
         "mode": "lines",
         "showlegend": false,
         "type": "scattermapbox"
        },
        {
         "fill": "toself",
         "fillcolor": "rgba(255,0,0,0.3)",
         "lat": [
          -36.716908,
          -36.711975,
          -36.711975,
          -36.716908,
          -36.716908
         ],
         "line": {
          "color": "white"
         },
         "lon": [
          -72.230095,
          -72.230095,
          -72.2258,
          -72.2258,
          -72.230095
         ],
         "mode": "lines",
         "showlegend": false,
         "type": "scattermapbox"
        },
        {
         "fill": "toself",
         "fillcolor": "rgba(255,0,0,0.3)",
         "lat": [
          -38.1231,
          -38.122288,
          -38.122288,
          -38.1231,
          -38.1231
         ],
         "line": {
          "color": "white"
         },
         "lon": [
          -73.1097,
          -73.1097,
          -73.1092,
          -73.1092,
          -73.1097
         ],
         "mode": "lines",
         "showlegend": false,
         "type": "scattermapbox"
        },
        {
         "fill": "toself",
         "fillcolor": "rgba(255,0,0,0.3)",
         "lat": [
          -41.0995,
          -41.098225,
          -41.098225,
          -41.0995,
          -41.0995
         ],
         "line": {
          "color": "white"
         },
         "lon": [
          -73.3739,
          -73.3739,
          -73.373779,
          -73.373779,
          -73.3739
         ],
         "mode": "lines",
         "showlegend": false,
         "type": "scattermapbox"
        },
        {
         "fill": "toself",
         "fillcolor": "rgba(255,0,0,0.3)",
         "lat": [
          -34.357071,
          -34.3567,
          -34.3567,
          -34.357071,
          -34.357071
         ],
         "line": {
          "color": "white"
         },
         "lon": [
          -71.774796,
          -71.774796,
          -71.7745,
          -71.7745,
          -71.774796
         ],
         "mode": "lines",
         "showlegend": false,
         "type": "scattermapbox"
        },
        {
         "fill": "toself",
         "fillcolor": "rgba(255,0,0,0.3)",
         "lat": [
          -38.1864,
          -38.1475,
          -38.1475,
          -38.1864,
          -38.1864
         ],
         "line": {
          "color": "white"
         },
         "lon": [
          -72.983902,
          -72.983902,
          -72.9255,
          -72.9255,
          -72.983902
         ],
         "mode": "lines",
         "showlegend": false,
         "type": "scattermapbox"
        },
        {
         "fill": "toself",
         "fillcolor": "rgba(255,0,0,0.3)",
         "lat": [
          -34.383667,
          -34.382534,
          -34.382534,
          -34.383667,
          -34.383667
         ],
         "line": {
          "color": "white"
         },
         "lon": [
          -71.789635,
          -71.789635,
          -71.789528,
          -71.789528,
          -71.789635
         ],
         "mode": "lines",
         "showlegend": false,
         "type": "scattermapbox"
        },
        {
         "fill": "toself",
         "fillcolor": "rgba(255,0,0,0.3)",
         "lat": [
          -39.846634,
          -39.8462,
          -39.8462,
          -39.846634,
          -39.846634
         ],
         "line": {
          "color": "white"
         },
         "lon": [
          -72.4658,
          -72.4658,
          -72.464455,
          -72.464455,
          -72.4658
         ],
         "mode": "lines",
         "showlegend": false,
         "type": "scattermapbox"
        },
        {
         "fill": "toself",
         "fillcolor": "rgba(255,0,0,0.3)",
         "lat": [
          -36.0487,
          -36.048367,
          -36.048367,
          -36.0487,
          -36.0487
         ],
         "line": {
          "color": "white"
         },
         "lon": [
          -72.1931,
          -72.1931,
          -72.192062,
          -72.192062,
          -72.1931
         ],
         "mode": "lines",
         "showlegend": false,
         "type": "scattermapbox"
        },
        {
         "fill": "toself",
         "fillcolor": "rgba(255,0,0,0.3)",
         "lat": [
          -39.049477,
          -39.030712,
          -39.030712,
          -39.049477,
          -39.049477
         ],
         "line": {
          "color": "white"
         },
         "lon": [
          -72.258331,
          -72.258331,
          -72.224991,
          -72.224991,
          -72.258331
         ],
         "mode": "lines",
         "showlegend": false,
         "type": "scattermapbox"
        },
        {
         "fill": "toself",
         "fillcolor": "rgba(255,0,0,0.3)",
         "lat": [
          -36.1234,
          -36.122379,
          -36.122379,
          -36.1234,
          -36.1234
         ],
         "line": {
          "color": "white"
         },
         "lon": [
          -72.5508,
          -72.5508,
          -72.549774,
          -72.549774,
          -72.5508
         ],
         "mode": "lines",
         "showlegend": false,
         "type": "scattermapbox"
        },
        {
         "fill": "toself",
         "fillcolor": "rgba(255,0,0,0.3)",
         "lat": [
          -36.8436,
          -36.842556,
          -36.842556,
          -36.8436,
          -36.8436
         ],
         "line": {
          "color": "white"
         },
         "lon": [
          -72.0234,
          -72.0234,
          -72.023285,
          -72.023285,
          -72.0234
         ],
         "mode": "lines",
         "showlegend": false,
         "type": "scattermapbox"
        },
        {
         "fill": "toself",
         "fillcolor": "rgba(255,0,0,0.3)",
         "lat": [
          -36.868,
          -36.8658,
          -36.8658,
          -36.868,
          -36.868
         ],
         "line": {
          "color": "white"
         },
         "lon": [
          -73.026,
          -73.026,
          -73.0135,
          -73.0135,
          -73.026
         ],
         "mode": "lines",
         "showlegend": false,
         "type": "scattermapbox"
        },
        {
         "fill": "toself",
         "fillcolor": "rgba(255,0,0,0.3)",
         "lat": [
          -36.672817,
          -36.6607,
          -36.6607,
          -36.672817,
          -36.672817
         ],
         "line": {
          "color": "white"
         },
         "lon": [
          -71.9917,
          -71.9917,
          -71.945526,
          -71.945526,
          -71.9917
         ],
         "mode": "lines",
         "showlegend": false,
         "type": "scattermapbox"
        },
        {
         "fill": "toself",
         "fillcolor": "rgba(255,0,0,0.3)",
         "lat": [
          -36.4419,
          -36.410412,
          -36.410412,
          -36.4419,
          -36.4419
         ],
         "line": {
          "color": "white"
         },
         "lon": [
          -71.6652,
          -71.6652,
          -71.6324,
          -71.6324,
          -71.6652
         ],
         "mode": "lines",
         "showlegend": false,
         "type": "scattermapbox"
        },
        {
         "fill": "toself",
         "fillcolor": "rgba(255,0,0,0.3)",
         "lat": [
          -35.3047,
          -35.3042,
          -35.3042,
          -35.3047,
          -35.3047
         ],
         "line": {
          "color": "white"
         },
         "lon": [
          -70.793,
          -70.793,
          -70.7918,
          -70.7918,
          -70.793
         ],
         "mode": "lines",
         "showlegend": false,
         "type": "scattermapbox"
        },
        {
         "fill": "toself",
         "fillcolor": "rgba(255,0,0,0.3)",
         "lat": [
          -36.627789,
          -36.59486,
          -36.59486,
          -36.627789,
          -36.627789
         ],
         "line": {
          "color": "white"
         },
         "lon": [
          -71.98336,
          -71.98336,
          -71.961205,
          -71.961205,
          -71.98336
         ],
         "mode": "lines",
         "showlegend": false,
         "type": "scattermapbox"
        },
        {
         "fill": "toself",
         "fillcolor": "rgba(255,0,0,0.3)",
         "lat": [
          -36.795856,
          -36.7902,
          -36.7902,
          -36.795856,
          -36.795856
         ],
         "line": {
          "color": "white"
         },
         "lon": [
          -72.023659,
          -72.023659,
          -72.0018,
          -72.0018,
          -72.023659
         ],
         "mode": "lines",
         "showlegend": false,
         "type": "scattermapbox"
        },
        {
         "fill": "toself",
         "fillcolor": "rgba(255,0,0,0.3)",
         "lat": [
          -36.6914,
          -36.6792,
          -36.6792,
          -36.6914,
          -36.6914
         ],
         "line": {
          "color": "white"
         },
         "lon": [
          -71.822929,
          -71.822929,
          -71.8066,
          -71.8066,
          -71.822929
         ],
         "mode": "lines",
         "showlegend": false,
         "type": "scattermapbox"
        },
        {
         "fill": "toself",
         "fillcolor": "rgba(255,0,0,0.3)",
         "lat": [
          -35.278336,
          -35.2773,
          -35.2773,
          -35.278336,
          -35.278336
         ],
         "line": {
          "color": "white"
         },
         "lon": [
          -72.282639,
          -72.282639,
          -72.282,
          -72.282,
          -72.282639
         ],
         "mode": "lines",
         "showlegend": false,
         "type": "scattermapbox"
        },
        {
         "fill": "toself",
         "fillcolor": "rgba(255,0,0,0.3)",
         "lat": [
          -39.005882,
          -39.005413,
          -39.005413,
          -39.005882,
          -39.005882
         ],
         "line": {
          "color": "white"
         },
         "lon": [
          -72.031998,
          -72.031998,
          -72.031639,
          -72.031639,
          -72.031998
         ],
         "mode": "lines",
         "showlegend": false,
         "type": "scattermapbox"
        },
        {
         "fill": "toself",
         "fillcolor": "rgba(255,0,0,0.3)",
         "lat": [
          -34.638054,
          -34.636803,
          -34.636803,
          -34.638054,
          -34.638054
         ],
         "line": {
          "color": "white"
         },
         "lon": [
          -71.403618,
          -71.403618,
          -71.403122,
          -71.403122,
          -71.403618
         ],
         "mode": "lines",
         "showlegend": false,
         "type": "scattermapbox"
        },
        {
         "fill": "toself",
         "fillcolor": "rgba(255,0,0,0.3)",
         "lat": [
          -34.1324,
          -34.1316,
          -34.1316,
          -34.1324,
          -34.1324
         ],
         "line": {
          "color": "white"
         },
         "lon": [
          -71.8093,
          -71.8093,
          -71.809,
          -71.809,
          -71.8093
         ],
         "mode": "lines",
         "showlegend": false,
         "type": "scattermapbox"
        },
        {
         "fill": "toself",
         "fillcolor": "rgba(255,0,0,0.3)",
         "lat": [
          -25.534731,
          -25.534363,
          -25.534363,
          -25.534731,
          -25.534731
         ],
         "line": {
          "color": "white"
         },
         "lon": [
          -70.174484,
          -70.174484,
          -70.173477,
          -70.173477,
          -70.174484
         ],
         "mode": "lines",
         "showlegend": false,
         "type": "scattermapbox"
        },
        {
         "fill": "toself",
         "fillcolor": "rgba(255,0,0,0.3)",
         "lat": [
          -35.3973,
          -35.3587,
          -35.3587,
          -35.3973,
          -35.3973
         ],
         "line": {
          "color": "white"
         },
         "lon": [
          -71.09626,
          -71.09626,
          -71.058113,
          -71.058113,
          -71.09626
         ],
         "mode": "lines",
         "showlegend": false,
         "type": "scattermapbox"
        },
        {
         "fill": "toself",
         "fillcolor": "rgba(255,0,0,0.3)",
         "lat": [
          -38.2322,
          -38.232086,
          -38.232086,
          -38.2322,
          -38.2322
         ],
         "line": {
          "color": "white"
         },
         "lon": [
          -72.0656,
          -72.0656,
          -72.065018,
          -72.065018,
          -72.0656
         ],
         "mode": "lines",
         "showlegend": false,
         "type": "scattermapbox"
        },
        {
         "fill": "toself",
         "fillcolor": "rgba(255,0,0,0.3)",
         "lat": [
          -36.77055,
          -36.7703,
          -36.7703,
          -36.77055,
          -36.77055
         ],
         "line": {
          "color": "white"
         },
         "lon": [
          -71.7985,
          -71.7985,
          -71.798439,
          -71.798439,
          -71.7985
         ],
         "mode": "lines",
         "showlegend": false,
         "type": "scattermapbox"
        },
        {
         "fill": "toself",
         "fillcolor": "rgba(255,0,0,0.3)",
         "lat": [
          -38.1251,
          -38.120464,
          -38.120464,
          -38.1251,
          -38.1251
         ],
         "line": {
          "color": "white"
         },
         "lon": [
          -72.73542,
          -72.73542,
          -72.7244,
          -72.7244,
          -72.73542
         ],
         "mode": "lines",
         "showlegend": false,
         "type": "scattermapbox"
        },
        {
         "fill": "toself",
         "fillcolor": "rgba(255,0,0,0.3)",
         "lat": [
          -36.3859,
          -36.38517,
          -36.38517,
          -36.3859,
          -36.3859
         ],
         "line": {
          "color": "white"
         },
         "lon": [
          -72.665,
          -72.665,
          -72.663948,
          -72.663948,
          -72.665
         ],
         "mode": "lines",
         "showlegend": false,
         "type": "scattermapbox"
        },
        {
         "fill": "toself",
         "fillcolor": "rgba(255,0,0,0.3)",
         "lat": [
          -36.3236,
          -36.3236,
          -36.3236,
          -36.3236,
          -36.3236
         ],
         "line": {
          "color": "white"
         },
         "lon": [
          -71.5781,
          -71.5781,
          -71.5777,
          -71.5777,
          -71.5781
         ],
         "mode": "lines",
         "showlegend": false,
         "type": "scattermapbox"
        },
        {
         "fill": "toself",
         "fillcolor": "rgba(255,0,0,0.3)",
         "lat": [
          -33.269909,
          -33.2699,
          -33.2699,
          -33.269909,
          -33.269909
         ],
         "line": {
          "color": "white"
         },
         "lon": [
          -71.585762,
          -71.585762,
          -71.5854,
          -71.5854,
          -71.585762
         ],
         "mode": "lines",
         "showlegend": false,
         "type": "scattermapbox"
        },
        {
         "fill": "toself",
         "fillcolor": "rgba(255,0,0,0.3)",
         "lat": [
          -36.3514,
          -36.3512,
          -36.3512,
          -36.3514,
          -36.3514
         ],
         "line": {
          "color": "white"
         },
         "lon": [
          -71.6139,
          -71.6139,
          -71.613,
          -71.613,
          -71.6139
         ],
         "mode": "lines",
         "showlegend": false,
         "type": "scattermapbox"
        },
        {
         "fill": "toself",
         "fillcolor": "rgba(255,0,0,0.3)",
         "lat": [
          -38.233311,
          -38.2329,
          -38.2329,
          -38.233311,
          -38.233311
         ],
         "line": {
          "color": "white"
         },
         "lon": [
          -72.6742,
          -72.6742,
          -72.673363,
          -72.673363,
          -72.6742
         ],
         "mode": "lines",
         "showlegend": false,
         "type": "scattermapbox"
        },
        {
         "fill": "toself",
         "fillcolor": "rgba(255,0,0,0.3)",
         "lat": [
          -36.9625,
          -36.9612,
          -36.9612,
          -36.9625,
          -36.9625
         ],
         "line": {
          "color": "white"
         },
         "lon": [
          -72.0964,
          -72.0964,
          -72.0963,
          -72.0963,
          -72.0964
         ],
         "mode": "lines",
         "showlegend": false,
         "type": "scattermapbox"
        },
        {
         "fill": "toself",
         "fillcolor": "rgba(255,0,0,0.3)",
         "lat": [
          -34.4237,
          -34.423489,
          -34.423489,
          -34.4237,
          -34.4237
         ],
         "line": {
          "color": "white"
         },
         "lon": [
          -71.4069,
          -71.4069,
          -71.40612,
          -71.40612,
          -71.4069
         ],
         "mode": "lines",
         "showlegend": false,
         "type": "scattermapbox"
        },
        {
         "fill": "toself",
         "fillcolor": "rgba(255,0,0,0.3)",
         "lat": [
          -38.3284,
          -38.328,
          -38.328,
          -38.3284,
          -38.3284
         ],
         "line": {
          "color": "white"
         },
         "lon": [
          -72.9081,
          -72.9081,
          -72.9072,
          -72.9072,
          -72.9081
         ],
         "mode": "lines",
         "showlegend": false,
         "type": "scattermapbox"
        },
        {
         "fill": "toself",
         "fillcolor": "rgba(255,0,0,0.3)",
         "lat": [
          -38.7366,
          -38.736088,
          -38.736088,
          -38.7366,
          -38.7366
         ],
         "line": {
          "color": "white"
         },
         "lon": [
          -73.115341,
          -73.115341,
          -73.1139,
          -73.1139,
          -73.115341
         ],
         "mode": "lines",
         "showlegend": false,
         "type": "scattermapbox"
        },
        {
         "fill": "toself",
         "fillcolor": "rgba(255,0,0,0.3)",
         "lat": [
          -35.1389,
          -35.1388,
          -35.1388,
          -35.1389,
          -35.1389
         ],
         "line": {
          "color": "white"
         },
         "lon": [
          -72.0244,
          -72.0244,
          -72.0244,
          -72.0244,
          -72.0244
         ],
         "mode": "lines",
         "showlegend": false,
         "type": "scattermapbox"
        },
        {
         "fill": "toself",
         "fillcolor": "rgba(255,0,0,0.3)",
         "lat": [
          -35.6319,
          -35.625996,
          -35.625996,
          -35.6319,
          -35.6319
         ],
         "line": {
          "color": "white"
         },
         "lon": [
          -72.234566,
          -72.234566,
          -72.233665,
          -72.233665,
          -72.234566
         ],
         "mode": "lines",
         "showlegend": false,
         "type": "scattermapbox"
        },
        {
         "fill": "toself",
         "fillcolor": "rgba(255,0,0,0.3)",
         "lat": [
          -36.042057,
          -36.0414,
          -36.0414,
          -36.042057,
          -36.042057
         ],
         "line": {
          "color": "white"
         },
         "lon": [
          -71.905235,
          -71.905235,
          -71.9049,
          -71.9049,
          -71.905235
         ],
         "mode": "lines",
         "showlegend": false,
         "type": "scattermapbox"
        },
        {
         "fill": "toself",
         "fillcolor": "rgba(255,0,0,0.3)",
         "lat": [
          -36.185184,
          -36.1847,
          -36.1847,
          -36.185184,
          -36.185184
         ],
         "line": {
          "color": "white"
         },
         "lon": [
          -71.0459,
          -71.0459,
          -71.044479,
          -71.044479,
          -71.0459
         ],
         "mode": "lines",
         "showlegend": false,
         "type": "scattermapbox"
        },
        {
         "fill": "toself",
         "fillcolor": "rgba(255,0,0,0.3)",
         "lat": [
          -37.8315,
          -37.8309,
          -37.8309,
          -37.8315,
          -37.8315
         ],
         "line": {
          "color": "white"
         },
         "lon": [
          -73.209,
          -73.209,
          -73.209,
          -73.209,
          -73.209
         ],
         "mode": "lines",
         "showlegend": false,
         "type": "scattermapbox"
        },
        {
         "fill": "toself",
         "fillcolor": "rgba(255,0,0,0.3)",
         "lat": [
          -36.8222,
          -36.822,
          -36.822,
          -36.8222,
          -36.8222
         ],
         "line": {
          "color": "white"
         },
         "lon": [
          -72.1163,
          -72.1163,
          -72.1162,
          -72.1162,
          -72.1163
         ],
         "mode": "lines",
         "showlegend": false,
         "type": "scattermapbox"
        },
        {
         "fill": "toself",
         "fillcolor": "rgba(255,0,0,0.3)",
         "lat": [
          -34.5372,
          -34.536,
          -34.536,
          -34.5372,
          -34.5372
         ],
         "line": {
          "color": "white"
         },
         "lon": [
          -72.0215,
          -72.0215,
          -72.0213,
          -72.0213,
          -72.0215
         ],
         "mode": "lines",
         "showlegend": false,
         "type": "scattermapbox"
        },
        {
         "fill": "toself",
         "fillcolor": "rgba(255,0,0,0.3)",
         "lat": [
          -34.242821,
          -34.2428,
          -34.2428,
          -34.242821,
          -34.242821
         ],
         "line": {
          "color": "white"
         },
         "lon": [
          -71.8647,
          -71.8647,
          -71.863243,
          -71.863243,
          -71.8647
         ],
         "mode": "lines",
         "showlegend": false,
         "type": "scattermapbox"
        },
        {
         "fill": "toself",
         "fillcolor": "rgba(255,0,0,0.3)",
         "lat": [
          -33.213711,
          -33.2135,
          -33.2135,
          -33.213711,
          -33.213711
         ],
         "line": {
          "color": "white"
         },
         "lon": [
          -70.9748,
          -70.9748,
          -70.97419,
          -70.97419,
          -70.9748
         ],
         "mode": "lines",
         "showlegend": false,
         "type": "scattermapbox"
        },
        {
         "fill": "toself",
         "fillcolor": "rgba(255,0,0,0.3)",
         "lat": [
          -37.7101,
          -37.688446,
          -37.688446,
          -37.7101,
          -37.7101
         ],
         "line": {
          "color": "white"
         },
         "lon": [
          -72.04007,
          -72.04007,
          -72.02,
          -72.02,
          -72.04007
         ],
         "mode": "lines",
         "showlegend": false,
         "type": "scattermapbox"
        },
        {
         "fill": "toself",
         "fillcolor": "rgba(255,0,0,0.3)",
         "lat": [
          -36.8187,
          -36.8043,
          -36.8043,
          -36.8187,
          -36.8187
         ],
         "line": {
          "color": "white"
         },
         "lon": [
          -72.5381,
          -72.5381,
          -72.4946,
          -72.4946,
          -72.5381
         ],
         "mode": "lines",
         "showlegend": false,
         "type": "scattermapbox"
        },
        {
         "fill": "toself",
         "fillcolor": "rgba(255,0,0,0.3)",
         "lat": [
          -37.882118,
          -37.8816,
          -37.8816,
          -37.882118,
          -37.882118
         ],
         "line": {
          "color": "white"
         },
         "lon": [
          -72.338,
          -72.338,
          -72.337692,
          -72.337692,
          -72.338
         ],
         "mode": "lines",
         "showlegend": false,
         "type": "scattermapbox"
        },
        {
         "fill": "toself",
         "fillcolor": "rgba(255,0,0,0.3)",
         "lat": [
          -39.113029,
          -39.112068,
          -39.112068,
          -39.113029,
          -39.113029
         ],
         "line": {
          "color": "white"
         },
         "lon": [
          -72.479614,
          -72.479614,
          -72.478607,
          -72.478607,
          -72.479614
         ],
         "mode": "lines",
         "showlegend": false,
         "type": "scattermapbox"
        },
        {
         "fill": "toself",
         "fillcolor": "rgba(255,0,0,0.3)",
         "lat": [
          -33.3769,
          -33.375702,
          -33.375702,
          -33.3769,
          -33.3769
         ],
         "line": {
          "color": "white"
         },
         "lon": [
          -71.2032,
          -71.2032,
          -71.178444,
          -71.178444,
          -71.2032
         ],
         "mode": "lines",
         "showlegend": false,
         "type": "scattermapbox"
        },
        {
         "fill": "toself",
         "fillcolor": "rgba(255,0,0,0.3)",
         "lat": [
          -34.8857,
          -34.884937,
          -34.884937,
          -34.8857,
          -34.8857
         ],
         "line": {
          "color": "white"
         },
         "lon": [
          -71.694069,
          -71.694069,
          -71.694,
          -71.694,
          -71.694069
         ],
         "mode": "lines",
         "showlegend": false,
         "type": "scattermapbox"
        },
        {
         "fill": "toself",
         "fillcolor": "rgba(255,0,0,0.3)",
         "lat": [
          -38.374176,
          -38.3739,
          -38.3739,
          -38.374176,
          -38.374176
         ],
         "line": {
          "color": "white"
         },
         "lon": [
          -72.6212,
          -72.6212,
          -72.619614,
          -72.619614,
          -72.6212
         ],
         "mode": "lines",
         "showlegend": false,
         "type": "scattermapbox"
        },
        {
         "fill": "toself",
         "fillcolor": "rgba(255,0,0,0.3)",
         "lat": [
          -36.7795,
          -36.7791,
          -36.7791,
          -36.7795,
          -36.7795
         ],
         "line": {
          "color": "white"
         },
         "lon": [
          -72.7839,
          -72.7839,
          -72.7826,
          -72.7826,
          -72.7839
         ],
         "mode": "lines",
         "showlegend": false,
         "type": "scattermapbox"
        },
        {
         "fill": "toself",
         "fillcolor": "rgba(255,0,0,0.3)",
         "lat": [
          -38.2347,
          -38.2342,
          -38.2342,
          -38.2347,
          -38.2347
         ],
         "line": {
          "color": "white"
         },
         "lon": [
          -72.9873,
          -72.9873,
          -72.9858,
          -72.9858,
          -72.9873
         ],
         "mode": "lines",
         "showlegend": false,
         "type": "scattermapbox"
        },
        {
         "fill": "toself",
         "fillcolor": "rgba(255,0,0,0.3)",
         "lat": [
          -36.3089,
          -36.3081,
          -36.3081,
          -36.3089,
          -36.3089
         ],
         "line": {
          "color": "white"
         },
         "lon": [
          -72.7046,
          -72.7046,
          -72.7044,
          -72.7044,
          -72.7046
         ],
         "mode": "lines",
         "showlegend": false,
         "type": "scattermapbox"
        },
        {
         "fill": "toself",
         "fillcolor": "rgba(255,0,0,0.3)",
         "lat": [
          -34.945656,
          -34.9452,
          -34.9452,
          -34.945656,
          -34.945656
         ],
         "line": {
          "color": "white"
         },
         "lon": [
          -71.852097,
          -71.852097,
          -71.8506,
          -71.8506,
          -71.852097
         ],
         "mode": "lines",
         "showlegend": false,
         "type": "scattermapbox"
        },
        {
         "fill": "toself",
         "fillcolor": "rgba(255,0,0,0.3)",
         "lat": [
          -38.744339,
          -38.743523,
          -38.743523,
          -38.744339,
          -38.744339
         ],
         "line": {
          "color": "white"
         },
         "lon": [
          -72.129158,
          -72.129158,
          -72.128654,
          -72.128654,
          -72.129158
         ],
         "mode": "lines",
         "showlegend": false,
         "type": "scattermapbox"
        },
        {
         "fill": "toself",
         "fillcolor": "rgba(255,0,0,0.3)",
         "lat": [
          -22.4863,
          -22.485138,
          -22.485138,
          -22.4863,
          -22.4863
         ],
         "line": {
          "color": "white"
         },
         "lon": [
          -68.8872,
          -68.8872,
          -68.886505,
          -68.886505,
          -68.8872
         ],
         "mode": "lines",
         "showlegend": false,
         "type": "scattermapbox"
        },
        {
         "fill": "toself",
         "fillcolor": "rgba(255,0,0,0.3)",
         "lat": [
          -38.5343,
          -38.53429,
          -38.53429,
          -38.5343,
          -38.5343
         ],
         "line": {
          "color": "white"
         },
         "lon": [
          -72.180374,
          -72.180374,
          -72.1795,
          -72.1795,
          -72.180374
         ],
         "mode": "lines",
         "showlegend": false,
         "type": "scattermapbox"
        },
        {
         "fill": "toself",
         "fillcolor": "rgba(255,0,0,0.3)",
         "lat": [
          -35.7908,
          -35.7905,
          -35.7905,
          -35.7908,
          -35.7908
         ],
         "line": {
          "color": "white"
         },
         "lon": [
          -72.3037,
          -72.3037,
          -72.3034,
          -72.3034,
          -72.3037
         ],
         "mode": "lines",
         "showlegend": false,
         "type": "scattermapbox"
        },
        {
         "fill": "toself",
         "fillcolor": "rgba(255,0,0,0.3)",
         "lat": [
          -35.7372,
          -35.7342,
          -35.7342,
          -35.7372,
          -35.7372
         ],
         "line": {
          "color": "white"
         },
         "lon": [
          -72.3217,
          -72.3217,
          -72.2975,
          -72.2975,
          -72.3217
         ],
         "mode": "lines",
         "showlegend": false,
         "type": "scattermapbox"
        },
        {
         "fill": "toself",
         "fillcolor": "rgba(255,0,0,0.3)",
         "lat": [
          -38.8171,
          -38.8165,
          -38.8165,
          -38.8171,
          -38.8171
         ],
         "line": {
          "color": "white"
         },
         "lon": [
          -72.8314,
          -72.8314,
          -72.8302,
          -72.8302,
          -72.8314
         ],
         "mode": "lines",
         "showlegend": false,
         "type": "scattermapbox"
        },
        {
         "fill": "toself",
         "fillcolor": "rgba(255,0,0,0.3)",
         "lat": [
          -36.2458,
          -36.240486,
          -36.240486,
          -36.2458,
          -36.2458
         ],
         "line": {
          "color": "white"
         },
         "lon": [
          -72.5323,
          -72.5323,
          -72.525528,
          -72.525528,
          -72.5323
         ],
         "mode": "lines",
         "showlegend": false,
         "type": "scattermapbox"
        },
        {
         "fill": "toself",
         "fillcolor": "rgba(255,0,0,0.3)",
         "lat": [
          -40.3853,
          -40.3847,
          -40.3847,
          -40.3853,
          -40.3853
         ],
         "line": {
          "color": "white"
         },
         "lon": [
          -73.0901,
          -73.0901,
          -73.0891,
          -73.0891,
          -73.0901
         ],
         "mode": "lines",
         "showlegend": false,
         "type": "scattermapbox"
        },
        {
         "fill": "toself",
         "fillcolor": "rgba(255,0,0,0.3)",
         "lat": [
          -38.268417,
          -38.2671,
          -38.2671,
          -38.268417,
          -38.268417
         ],
         "line": {
          "color": "white"
         },
         "lon": [
          -72.207245,
          -72.207245,
          -72.2072,
          -72.2072,
          -72.207245
         ],
         "mode": "lines",
         "showlegend": false,
         "type": "scattermapbox"
        },
        {
         "fill": "toself",
         "fillcolor": "rgba(255,0,0,0.3)",
         "lat": [
          -33.918575,
          -33.9179,
          -33.9179,
          -33.918575,
          -33.918575
         ],
         "line": {
          "color": "white"
         },
         "lon": [
          -71.5489,
          -71.5489,
          -71.547585,
          -71.547585,
          -71.5489
         ],
         "mode": "lines",
         "showlegend": false,
         "type": "scattermapbox"
        },
        {
         "fill": "toself",
         "fillcolor": "rgba(255,0,0,0.3)",
         "lat": [
          -38.267868,
          -38.2612,
          -38.2612,
          -38.267868,
          -38.267868
         ],
         "line": {
          "color": "white"
         },
         "lon": [
          -72.5621,
          -72.5621,
          -72.5275,
          -72.5275,
          -72.5621
         ],
         "mode": "lines",
         "showlegend": false,
         "type": "scattermapbox"
        },
        {
         "fill": "toself",
         "fillcolor": "rgba(255,0,0,0.3)",
         "lat": [
          -22.578453,
          -22.577726,
          -22.577726,
          -22.578453,
          -22.578453
         ],
         "line": {
          "color": "white"
         },
         "lon": [
          -68.692383,
          -68.692383,
          -68.691414,
          -68.691414,
          -68.692383
         ],
         "mode": "lines",
         "showlegend": false,
         "type": "scattermapbox"
        },
        {
         "fill": "toself",
         "fillcolor": "rgba(255,0,0,0.3)",
         "lat": [
          -38.396519,
          -38.39587,
          -38.39587,
          -38.396519,
          -38.396519
         ],
         "line": {
          "color": "white"
         },
         "lon": [
          -72.939369,
          -72.939369,
          -72.939247,
          -72.939247,
          -72.939369
         ],
         "mode": "lines",
         "showlegend": false,
         "type": "scattermapbox"
        },
        {
         "fill": "toself",
         "fillcolor": "rgba(255,0,0,0.3)",
         "lat": [
          -36.5297,
          -36.5288,
          -36.5288,
          -36.5297,
          -36.5297
         ],
         "line": {
          "color": "white"
         },
         "lon": [
          -71.8954,
          -71.8954,
          -71.8946,
          -71.8946,
          -71.8954
         ],
         "mode": "lines",
         "showlegend": false,
         "type": "scattermapbox"
        },
        {
         "fill": "toself",
         "fillcolor": "rgba(255,0,0,0.3)",
         "lat": [
          -38.487251,
          -38.469814,
          -38.469814,
          -38.487251,
          -38.487251
         ],
         "line": {
          "color": "white"
         },
         "lon": [
          -71.977219,
          -71.977219,
          -71.959038,
          -71.959038,
          -71.977219
         ],
         "mode": "lines",
         "showlegend": false,
         "type": "scattermapbox"
        },
        {
         "fill": "toself",
         "fillcolor": "rgba(255,0,0,0.3)",
         "lat": [
          -38.109722,
          -38.103138,
          -38.103138,
          -38.109722,
          -38.109722
         ],
         "line": {
          "color": "white"
         },
         "lon": [
          -72.653664,
          -72.653664,
          -72.647903,
          -72.647903,
          -72.653664
         ],
         "mode": "lines",
         "showlegend": false,
         "type": "scattermapbox"
        },
        {
         "fill": "toself",
         "fillcolor": "rgba(255,0,0,0.3)",
         "lat": [
          -41.0359,
          -41.034988,
          -41.034988,
          -41.0359,
          -41.0359
         ],
         "line": {
          "color": "white"
         },
         "lon": [
          -73.257645,
          -73.257645,
          -73.2565,
          -73.2565,
          -73.257645
         ],
         "mode": "lines",
         "showlegend": false,
         "type": "scattermapbox"
        },
        {
         "fill": "toself",
         "fillcolor": "rgba(255,0,0,0.3)",
         "lat": [
          -40.401894,
          -40.4017,
          -40.4017,
          -40.401894,
          -40.401894
         ],
         "line": {
          "color": "white"
         },
         "lon": [
          -73.047,
          -73.047,
          -73.045364,
          -73.045364,
          -73.047
         ],
         "mode": "lines",
         "showlegend": false,
         "type": "scattermapbox"
        },
        {
         "fill": "toself",
         "fillcolor": "rgba(255,0,0,0.3)",
         "lat": [
          -38.507057,
          -38.5042,
          -38.5042,
          -38.507057,
          -38.507057
         ],
         "line": {
          "color": "white"
         },
         "lon": [
          -72.5144,
          -72.5144,
          -72.5095,
          -72.5095,
          -72.5144
         ],
         "mode": "lines",
         "showlegend": false,
         "type": "scattermapbox"
        },
        {
         "fill": "toself",
         "fillcolor": "rgba(255,0,0,0.3)",
         "lat": [
          -38.412903,
          -38.4123,
          -38.4123,
          -38.412903,
          -38.412903
         ],
         "line": {
          "color": "white"
         },
         "lon": [
          -73.007904,
          -73.007904,
          -73.007225,
          -73.007225,
          -73.007904
         ],
         "mode": "lines",
         "showlegend": false,
         "type": "scattermapbox"
        },
        {
         "fill": "toself",
         "fillcolor": "rgba(255,0,0,0.3)",
         "lat": [
          -37.6966,
          -37.6962,
          -37.6962,
          -37.6966,
          -37.6966
         ],
         "line": {
          "color": "white"
         },
         "lon": [
          -72.37,
          -72.37,
          -72.3697,
          -72.3697,
          -72.37
         ],
         "mode": "lines",
         "showlegend": false,
         "type": "scattermapbox"
        },
        {
         "fill": "toself",
         "fillcolor": "rgba(255,0,0,0.3)",
         "lat": [
          -38.380001,
          -38.379345,
          -38.379345,
          -38.380001,
          -38.380001
         ],
         "line": {
          "color": "white"
         },
         "lon": [
          -72.698433,
          -72.698433,
          -72.697052,
          -72.697052,
          -72.698433
         ],
         "mode": "lines",
         "showlegend": false,
         "type": "scattermapbox"
        },
        {
         "fill": "toself",
         "fillcolor": "rgba(255,0,0,0.3)",
         "lat": [
          -36.383186,
          -36.346939,
          -36.346939,
          -36.383186,
          -36.383186
         ],
         "line": {
          "color": "white"
         },
         "lon": [
          -71.724571,
          -71.724571,
          -71.716003,
          -71.716003,
          -71.724571
         ],
         "mode": "lines",
         "showlegend": false,
         "type": "scattermapbox"
        },
        {
         "fill": "toself",
         "fillcolor": "rgba(255,0,0,0.3)",
         "lat": [
          -36.3424,
          -36.341812,
          -36.341812,
          -36.3424,
          -36.3424
         ],
         "line": {
          "color": "white"
         },
         "lon": [
          -71.652,
          -71.652,
          -71.651276,
          -71.651276,
          -71.652
         ],
         "mode": "lines",
         "showlegend": false,
         "type": "scattermapbox"
        },
        {
         "fill": "toself",
         "fillcolor": "rgba(255,0,0,0.3)",
         "lat": [
          -38.370235,
          -38.361488,
          -38.361488,
          -38.370235,
          -38.370235
         ],
         "line": {
          "color": "white"
         },
         "lon": [
          -72.007408,
          -72.007408,
          -71.9998,
          -71.9998,
          -72.007408
         ],
         "mode": "lines",
         "showlegend": false,
         "type": "scattermapbox"
        },
        {
         "fill": "toself",
         "fillcolor": "rgba(255,0,0,0.3)",
         "lat": [
          -38.10577,
          -38.0997,
          -38.0997,
          -38.10577,
          -38.10577
         ],
         "line": {
          "color": "white"
         },
         "lon": [
          -72.3006,
          -72.3006,
          -72.291374,
          -72.291374,
          -72.3006
         ],
         "mode": "lines",
         "showlegend": false,
         "type": "scattermapbox"
        },
        {
         "fill": "toself",
         "fillcolor": "rgba(255,0,0,0.3)",
         "lat": [
          -36.55397,
          -36.5539,
          -36.5539,
          -36.55397,
          -36.55397
         ],
         "line": {
          "color": "white"
         },
         "lon": [
          -71.853348,
          -71.853348,
          -71.8532,
          -71.8532,
          -71.853348
         ],
         "mode": "lines",
         "showlegend": false,
         "type": "scattermapbox"
        },
        {
         "fill": "toself",
         "fillcolor": "rgba(255,0,0,0.3)",
         "lat": [
          -36.549553,
          -36.549465,
          -36.549465,
          -36.549553,
          -36.549553
         ],
         "line": {
          "color": "white"
         },
         "lon": [
          -71.71254,
          -71.71254,
          -71.711685,
          -71.711685,
          -71.71254
         ],
         "mode": "lines",
         "showlegend": false,
         "type": "scattermapbox"
        },
        {
         "fill": "toself",
         "fillcolor": "rgba(255,0,0,0.3)",
         "lat": [
          -37.222004,
          -37.2219,
          -37.2219,
          -37.222004,
          -37.222004
         ],
         "line": {
          "color": "white"
         },
         "lon": [
          -73.6289,
          -73.6289,
          -73.627747,
          -73.627747,
          -73.6289
         ],
         "mode": "lines",
         "showlegend": false,
         "type": "scattermapbox"
        },
        {
         "fill": "toself",
         "fillcolor": "rgba(255,0,0,0.3)",
         "lat": [
          -36.59444,
          -36.5936,
          -36.5936,
          -36.59444,
          -36.59444
         ],
         "line": {
          "color": "white"
         },
         "lon": [
          -72.2281,
          -72.2281,
          -72.226913,
          -72.226913,
          -72.2281
         ],
         "mode": "lines",
         "showlegend": false,
         "type": "scattermapbox"
        },
        {
         "fill": "toself",
         "fillcolor": "rgba(255,0,0,0.3)",
         "lat": [
          -38.357468,
          -38.356998,
          -38.356998,
          -38.357468,
          -38.357468
         ],
         "line": {
          "color": "white"
         },
         "lon": [
          -72.676903,
          -72.676903,
          -72.675926,
          -72.675926,
          -72.676903
         ],
         "mode": "lines",
         "showlegend": false,
         "type": "scattermapbox"
        },
        {
         "fill": "toself",
         "fillcolor": "rgba(255,0,0,0.3)",
         "lat": [
          -38.1247,
          -38.123959,
          -38.123959,
          -38.1247,
          -38.1247
         ],
         "line": {
          "color": "white"
         },
         "lon": [
          -73.1533,
          -73.1533,
          -73.15329,
          -73.15329,
          -73.1533
         ],
         "mode": "lines",
         "showlegend": false,
         "type": "scattermapbox"
        },
        {
         "fill": "toself",
         "fillcolor": "rgba(255,0,0,0.3)",
         "lat": [
          -35.7952,
          -35.794205,
          -35.794205,
          -35.7952,
          -35.7952
         ],
         "line": {
          "color": "white"
         },
         "lon": [
          -72.366608,
          -72.366608,
          -72.3664,
          -72.3664,
          -72.366608
         ],
         "mode": "lines",
         "showlegend": false,
         "type": "scattermapbox"
        },
        {
         "fill": "toself",
         "fillcolor": "rgba(255,0,0,0.3)",
         "lat": [
          -37.785149,
          -37.7834,
          -37.7834,
          -37.785149,
          -37.785149
         ],
         "line": {
          "color": "white"
         },
         "lon": [
          -72.3873,
          -72.3873,
          -72.3757,
          -72.3757,
          -72.3873
         ],
         "mode": "lines",
         "showlegend": false,
         "type": "scattermapbox"
        },
        {
         "fill": "toself",
         "fillcolor": "rgba(255,0,0,0.3)",
         "lat": [
          -36.9094,
          -36.87986,
          -36.87986,
          -36.9094,
          -36.9094
         ],
         "line": {
          "color": "white"
         },
         "lon": [
          -71.8391,
          -71.8391,
          -71.8318,
          -71.8318,
          -71.8391
         ],
         "mode": "lines",
         "showlegend": false,
         "type": "scattermapbox"
        },
        {
         "fill": "toself",
         "fillcolor": "rgba(255,0,0,0.3)",
         "lat": [
          -38.9179,
          -38.917728,
          -38.917728,
          -38.9179,
          -38.9179
         ],
         "line": {
          "color": "white"
         },
         "lon": [
          -72.2282,
          -72.2282,
          -72.226517,
          -72.226517,
          -72.2282
         ],
         "mode": "lines",
         "showlegend": false,
         "type": "scattermapbox"
        },
        {
         "fill": "toself",
         "fillcolor": "rgba(255,0,0,0.3)",
         "lat": [
          -36.8571,
          -36.8567,
          -36.8567,
          -36.8571,
          -36.8571
         ],
         "line": {
          "color": "white"
         },
         "lon": [
          -72.081,
          -72.081,
          -72.0803,
          -72.0803,
          -72.081
         ],
         "mode": "lines",
         "showlegend": false,
         "type": "scattermapbox"
        },
        {
         "fill": "toself",
         "fillcolor": "rgba(255,0,0,0.3)",
         "lat": [
          -34.8749,
          -34.874504,
          -34.874504,
          -34.8749,
          -34.8749
         ],
         "line": {
          "color": "white"
         },
         "lon": [
          -72.0811,
          -72.0811,
          -72.079926,
          -72.079926,
          -72.0811
         ],
         "mode": "lines",
         "showlegend": false,
         "type": "scattermapbox"
        },
        {
         "fill": "toself",
         "fillcolor": "rgba(255,0,0,0.3)",
         "lat": [
          -38.1497,
          -38.1402,
          -38.1402,
          -38.1497,
          -38.1497
         ],
         "line": {
          "color": "white"
         },
         "lon": [
          -72.5932,
          -72.5932,
          -72.587135,
          -72.587135,
          -72.5932
         ],
         "mode": "lines",
         "showlegend": false,
         "type": "scattermapbox"
        },
        {
         "fill": "toself",
         "fillcolor": "rgba(255,0,0,0.3)",
         "lat": [
          -38.0895,
          -38.0895,
          -38.0895,
          -38.0895,
          -38.0895
         ],
         "line": {
          "color": "white"
         },
         "lon": [
          -72.0146,
          -72.0146,
          -72.0137,
          -72.0137,
          -72.0146
         ],
         "mode": "lines",
         "showlegend": false,
         "type": "scattermapbox"
        },
        {
         "fill": "toself",
         "fillcolor": "rgba(255,0,0,0.3)",
         "lat": [
          -38.0188,
          -38.0177,
          -38.0177,
          -38.0188,
          -38.0188
         ],
         "line": {
          "color": "white"
         },
         "lon": [
          -72.607,
          -72.607,
          -72.6069,
          -72.6069,
          -72.607
         ],
         "mode": "lines",
         "showlegend": false,
         "type": "scattermapbox"
        },
        {
         "fill": "toself",
         "fillcolor": "rgba(255,0,0,0.3)",
         "lat": [
          -39.046093,
          -39.042984,
          -39.042984,
          -39.046093,
          -39.046093
         ],
         "line": {
          "color": "white"
         },
         "lon": [
          -72.419533,
          -72.419533,
          -72.411026,
          -72.411026,
          -72.419533
         ],
         "mode": "lines",
         "showlegend": false,
         "type": "scattermapbox"
        },
        {
         "fill": "toself",
         "fillcolor": "rgba(255,0,0,0.3)",
         "lat": [
          -38.331875,
          -38.3308,
          -38.3308,
          -38.331875,
          -38.331875
         ],
         "line": {
          "color": "white"
         },
         "lon": [
          -72.370987,
          -72.370987,
          -72.3709,
          -72.3709,
          -72.370987
         ],
         "mode": "lines",
         "showlegend": false,
         "type": "scattermapbox"
        },
        {
         "fill": "toself",
         "fillcolor": "rgba(255,0,0,0.3)",
         "lat": [
          -36.787933,
          -36.7873,
          -36.7873,
          -36.787933,
          -36.787933
         ],
         "line": {
          "color": "white"
         },
         "lon": [
          -72.122261,
          -72.122261,
          -72.1208,
          -72.1208,
          -72.122261
         ],
         "mode": "lines",
         "showlegend": false,
         "type": "scattermapbox"
        },
        {
         "fill": "toself",
         "fillcolor": "rgba(255,0,0,0.3)",
         "lat": [
          -36.9973,
          -36.9971,
          -36.9971,
          -36.9973,
          -36.9973
         ],
         "line": {
          "color": "white"
         },
         "lon": [
          -72.1127,
          -72.1127,
          -72.1116,
          -72.1116,
          -72.1127
         ],
         "mode": "lines",
         "showlegend": false,
         "type": "scattermapbox"
        },
        {
         "fill": "toself",
         "fillcolor": "rgba(255,0,0,0.3)",
         "lat": [
          -36.905422,
          -36.905,
          -36.905,
          -36.905422,
          -36.905422
         ],
         "line": {
          "color": "white"
         },
         "lon": [
          -72.3224,
          -72.3224,
          -72.322159,
          -72.322159,
          -72.3224
         ],
         "mode": "lines",
         "showlegend": false,
         "type": "scattermapbox"
        },
        {
         "fill": "toself",
         "fillcolor": "rgba(255,0,0,0.3)",
         "lat": [
          -36.475456,
          -36.474422,
          -36.474422,
          -36.475456,
          -36.475456
         ],
         "line": {
          "color": "white"
         },
         "lon": [
          -71.879105,
          -71.879105,
          -71.878159,
          -71.878159,
          -71.879105
         ],
         "mode": "lines",
         "showlegend": false,
         "type": "scattermapbox"
        },
        {
         "fill": "toself",
         "fillcolor": "rgba(255,0,0,0.3)",
         "lat": [
          -38.55209,
          -38.551979,
          -38.551979,
          -38.55209,
          -38.55209
         ],
         "line": {
          "color": "white"
         },
         "lon": [
          -72.848564,
          -72.848564,
          -72.847885,
          -72.847885,
          -72.848564
         ],
         "mode": "lines",
         "showlegend": false,
         "type": "scattermapbox"
        },
        {
         "fill": "toself",
         "fillcolor": "rgba(255,0,0,0.3)",
         "lat": [
          -35.6341,
          -35.6292,
          -35.6292,
          -35.6341,
          -35.6341
         ],
         "line": {
          "color": "white"
         },
         "lon": [
          -72.3319,
          -72.3319,
          -72.3084,
          -72.3084,
          -72.3319
         ],
         "mode": "lines",
         "showlegend": false,
         "type": "scattermapbox"
        },
        {
         "fill": "toself",
         "fillcolor": "rgba(255,0,0,0.3)",
         "lat": [
          -37.1029,
          -37.1021,
          -37.1021,
          -37.1029,
          -37.1029
         ],
         "line": {
          "color": "white"
         },
         "lon": [
          -71.8139,
          -71.8139,
          -71.8135,
          -71.8135,
          -71.8139
         ],
         "mode": "lines",
         "showlegend": false,
         "type": "scattermapbox"
        },
        {
         "fill": "toself",
         "fillcolor": "rgba(255,0,0,0.3)",
         "lat": [
          -37.699,
          -37.6978,
          -37.6978,
          -37.699,
          -37.699
         ],
         "line": {
          "color": "white"
         },
         "lon": [
          -72.0907,
          -72.0907,
          -72.0903,
          -72.0903,
          -72.0907
         ],
         "mode": "lines",
         "showlegend": false,
         "type": "scattermapbox"
        },
        {
         "fill": "toself",
         "fillcolor": "rgba(255,0,0,0.3)",
         "lat": [
          -35.673,
          -35.6568,
          -35.6568,
          -35.673,
          -35.673
         ],
         "line": {
          "color": "white"
         },
         "lon": [
          -72.1623,
          -72.1623,
          -72.1261,
          -72.1261,
          -72.1623
         ],
         "mode": "lines",
         "showlegend": false,
         "type": "scattermapbox"
        },
        {
         "fill": "toself",
         "fillcolor": "rgba(255,0,0,0.3)",
         "lat": [
          -38.208603,
          -38.2077,
          -38.2077,
          -38.208603,
          -38.208603
         ],
         "line": {
          "color": "white"
         },
         "lon": [
          -72.130859,
          -72.130859,
          -72.1299,
          -72.1299,
          -72.130859
         ],
         "mode": "lines",
         "showlegend": false,
         "type": "scattermapbox"
        },
        {
         "fill": "toself",
         "fillcolor": "rgba(255,0,0,0.3)",
         "lat": [
          -37.6216,
          -37.617538,
          -37.617538,
          -37.6216,
          -37.6216
         ],
         "line": {
          "color": "white"
         },
         "lon": [
          -71.9214,
          -71.9214,
          -71.915138,
          -71.915138,
          -71.9214
         ],
         "mode": "lines",
         "showlegend": false,
         "type": "scattermapbox"
        },
        {
         "fill": "toself",
         "fillcolor": "rgba(255,0,0,0.3)",
         "lat": [
          -38.013729,
          -38.0125,
          -38.0125,
          -38.013729,
          -38.013729
         ],
         "line": {
          "color": "white"
         },
         "lon": [
          -72.65802,
          -72.65802,
          -72.6575,
          -72.6575,
          -72.65802
         ],
         "mode": "lines",
         "showlegend": false,
         "type": "scattermapbox"
        },
        {
         "fill": "toself",
         "fillcolor": "rgba(255,0,0,0.3)",
         "lat": [
          -38.5429,
          -38.5423,
          -38.5423,
          -38.5429,
          -38.5429
         ],
         "line": {
          "color": "white"
         },
         "lon": [
          -73.0111,
          -73.0111,
          -73.0105,
          -73.0105,
          -73.0111
         ],
         "mode": "lines",
         "showlegend": false,
         "type": "scattermapbox"
        },
        {
         "fill": "toself",
         "fillcolor": "rgba(255,0,0,0.3)",
         "lat": [
          -36.4775,
          -36.477314,
          -36.477314,
          -36.4775,
          -36.4775
         ],
         "line": {
          "color": "white"
         },
         "lon": [
          -71.617943,
          -71.617943,
          -71.6169,
          -71.6169,
          -71.617943
         ],
         "mode": "lines",
         "showlegend": false,
         "type": "scattermapbox"
        },
        {
         "fill": "toself",
         "fillcolor": "rgba(255,0,0,0.3)",
         "lat": [
          -36.893562,
          -36.893204,
          -36.893204,
          -36.893562,
          -36.893562
         ],
         "line": {
          "color": "white"
         },
         "lon": [
          -72.101006,
          -72.101006,
          -72.099503,
          -72.099503,
          -72.101006
         ],
         "mode": "lines",
         "showlegend": false,
         "type": "scattermapbox"
        },
        {
         "fill": "toself",
         "fillcolor": "rgba(255,0,0,0.3)",
         "lat": [
          -38.121998,
          -38.1212,
          -38.1212,
          -38.121998,
          -38.121998
         ],
         "line": {
          "color": "white"
         },
         "lon": [
          -72.098,
          -72.098,
          -72.097336,
          -72.097336,
          -72.098
         ],
         "mode": "lines",
         "showlegend": false,
         "type": "scattermapbox"
        },
        {
         "fill": "toself",
         "fillcolor": "rgba(255,0,0,0.3)",
         "lat": [
          -34.0242,
          -34.023258,
          -34.023258,
          -34.0242,
          -34.0242
         ],
         "line": {
          "color": "white"
         },
         "lon": [
          -71.2965,
          -71.2965,
          -71.296318,
          -71.296318,
          -71.2965
         ],
         "mode": "lines",
         "showlegend": false,
         "type": "scattermapbox"
        },
        {
         "fill": "toself",
         "fillcolor": "rgba(255,0,0,0.3)",
         "lat": [
          -36.795,
          -36.7947,
          -36.7947,
          -36.795,
          -36.795
         ],
         "line": {
          "color": "white"
         },
         "lon": [
          -72.4788,
          -72.4788,
          -72.4776,
          -72.4776,
          -72.4788
         ],
         "mode": "lines",
         "showlegend": false,
         "type": "scattermapbox"
        },
        {
         "fill": "toself",
         "fillcolor": "rgba(255,0,0,0.3)",
         "lat": [
          -33.1361,
          -33.1357,
          -33.1357,
          -33.1361,
          -33.1361
         ],
         "line": {
          "color": "white"
         },
         "lon": [
          -70.9784,
          -70.9784,
          -70.9783,
          -70.9783,
          -70.9784
         ],
         "mode": "lines",
         "showlegend": false,
         "type": "scattermapbox"
        },
        {
         "fill": "toself",
         "fillcolor": "rgba(255,0,0,0.3)",
         "lat": [
          -36.618603,
          -36.617744,
          -36.617744,
          -36.618603,
          -36.618603
         ],
         "line": {
          "color": "white"
         },
         "lon": [
          -71.78727,
          -71.78727,
          -71.787231,
          -71.787231,
          -71.78727
         ],
         "mode": "lines",
         "showlegend": false,
         "type": "scattermapbox"
        },
        {
         "fill": "toself",
         "fillcolor": "rgba(255,0,0,0.3)",
         "lat": [
          -38.3434,
          -38.3432,
          -38.3432,
          -38.3434,
          -38.3434
         ],
         "line": {
          "color": "white"
         },
         "lon": [
          -71.0977,
          -71.0977,
          -71.0976,
          -71.0976,
          -71.0977
         ],
         "mode": "lines",
         "showlegend": false,
         "type": "scattermapbox"
        },
        {
         "fill": "toself",
         "fillcolor": "rgba(255,0,0,0.3)",
         "lat": [
          -34.7592,
          -34.7589,
          -34.7589,
          -34.7592,
          -34.7592
         ],
         "line": {
          "color": "white"
         },
         "lon": [
          -71.2476,
          -71.2476,
          -71.247,
          -71.247,
          -71.2476
         ],
         "mode": "lines",
         "showlegend": false,
         "type": "scattermapbox"
        },
        {
         "fill": "toself",
         "fillcolor": "rgba(255,0,0,0.3)",
         "lat": [
          -35.5253,
          -35.5253,
          -35.5253,
          -35.5253,
          -35.5253
         ],
         "line": {
          "color": "white"
         },
         "lon": [
          -72.1155,
          -72.1155,
          -72.1145,
          -72.1145,
          -72.1155
         ],
         "mode": "lines",
         "showlegend": false,
         "type": "scattermapbox"
        },
        {
         "fill": "toself",
         "fillcolor": "rgba(255,0,0,0.3)",
         "lat": [
          -37.046,
          -37.0453,
          -37.0453,
          -37.046,
          -37.046
         ],
         "line": {
          "color": "white"
         },
         "lon": [
          -72.4051,
          -72.4051,
          -72.4051,
          -72.4051,
          -72.4051
         ],
         "mode": "lines",
         "showlegend": false,
         "type": "scattermapbox"
        },
        {
         "fill": "toself",
         "fillcolor": "rgba(255,0,0,0.3)",
         "lat": [
          -35.3796,
          -35.379459,
          -35.379459,
          -35.3796,
          -35.3796
         ],
         "line": {
          "color": "white"
         },
         "lon": [
          -72.2445,
          -72.2445,
          -72.243309,
          -72.243309,
          -72.2445
         ],
         "mode": "lines",
         "showlegend": false,
         "type": "scattermapbox"
        }
       ],
       "layout": {
        "height": 800,
        "legend": {
         "tracegroupgap": 0
        },
        "mapbox": {
         "accesstoken": "pk.eyJ1Ijoic2ViYXN0aWFudGFyZSIsImEiOiJjbHExcTUyOTUwOHA0MnJxbTQxNWx0cncwIn0.sQHfE5BiOUnPHPm7H6iVZw",
         "center": {
          "lat": -35.02215802,
          "lon": -71.659490037
         },
         "domain": {
          "x": [
           0,
           1
          ],
          "y": [
           0,
           1
          ]
         },
         "style": "satellite",
         "zoom": 5
        },
        "template": {
         "data": {
          "bar": [
           {
            "error_x": {
             "color": "#2a3f5f"
            },
            "error_y": {
             "color": "#2a3f5f"
            },
            "marker": {
             "line": {
              "color": "#E5ECF6",
              "width": 0.5
             },
             "pattern": {
              "fillmode": "overlay",
              "size": 10,
              "solidity": 0.2
             }
            },
            "type": "bar"
           }
          ],
          "barpolar": [
           {
            "marker": {
             "line": {
              "color": "#E5ECF6",
              "width": 0.5
             },
             "pattern": {
              "fillmode": "overlay",
              "size": 10,
              "solidity": 0.2
             }
            },
            "type": "barpolar"
           }
          ],
          "carpet": [
           {
            "aaxis": {
             "endlinecolor": "#2a3f5f",
             "gridcolor": "white",
             "linecolor": "white",
             "minorgridcolor": "white",
             "startlinecolor": "#2a3f5f"
            },
            "baxis": {
             "endlinecolor": "#2a3f5f",
             "gridcolor": "white",
             "linecolor": "white",
             "minorgridcolor": "white",
             "startlinecolor": "#2a3f5f"
            },
            "type": "carpet"
           }
          ],
          "choropleth": [
           {
            "colorbar": {
             "outlinewidth": 0,
             "ticks": ""
            },
            "type": "choropleth"
           }
          ],
          "contour": [
           {
            "colorbar": {
             "outlinewidth": 0,
             "ticks": ""
            },
            "colorscale": [
             [
              0,
              "#0d0887"
             ],
             [
              0.1111111111111111,
              "#46039f"
             ],
             [
              0.2222222222222222,
              "#7201a8"
             ],
             [
              0.3333333333333333,
              "#9c179e"
             ],
             [
              0.4444444444444444,
              "#bd3786"
             ],
             [
              0.5555555555555556,
              "#d8576b"
             ],
             [
              0.6666666666666666,
              "#ed7953"
             ],
             [
              0.7777777777777778,
              "#fb9f3a"
             ],
             [
              0.8888888888888888,
              "#fdca26"
             ],
             [
              1,
              "#f0f921"
             ]
            ],
            "type": "contour"
           }
          ],
          "contourcarpet": [
           {
            "colorbar": {
             "outlinewidth": 0,
             "ticks": ""
            },
            "type": "contourcarpet"
           }
          ],
          "heatmap": [
           {
            "colorbar": {
             "outlinewidth": 0,
             "ticks": ""
            },
            "colorscale": [
             [
              0,
              "#0d0887"
             ],
             [
              0.1111111111111111,
              "#46039f"
             ],
             [
              0.2222222222222222,
              "#7201a8"
             ],
             [
              0.3333333333333333,
              "#9c179e"
             ],
             [
              0.4444444444444444,
              "#bd3786"
             ],
             [
              0.5555555555555556,
              "#d8576b"
             ],
             [
              0.6666666666666666,
              "#ed7953"
             ],
             [
              0.7777777777777778,
              "#fb9f3a"
             ],
             [
              0.8888888888888888,
              "#fdca26"
             ],
             [
              1,
              "#f0f921"
             ]
            ],
            "type": "heatmap"
           }
          ],
          "histogram": [
           {
            "marker": {
             "pattern": {
              "fillmode": "overlay",
              "size": 10,
              "solidity": 0.2
             }
            },
            "type": "histogram"
           }
          ],
          "histogram2d": [
           {
            "colorbar": {
             "outlinewidth": 0,
             "ticks": ""
            },
            "colorscale": [
             [
              0,
              "#0d0887"
             ],
             [
              0.1111111111111111,
              "#46039f"
             ],
             [
              0.2222222222222222,
              "#7201a8"
             ],
             [
              0.3333333333333333,
              "#9c179e"
             ],
             [
              0.4444444444444444,
              "#bd3786"
             ],
             [
              0.5555555555555556,
              "#d8576b"
             ],
             [
              0.6666666666666666,
              "#ed7953"
             ],
             [
              0.7777777777777778,
              "#fb9f3a"
             ],
             [
              0.8888888888888888,
              "#fdca26"
             ],
             [
              1,
              "#f0f921"
             ]
            ],
            "type": "histogram2d"
           }
          ],
          "histogram2dcontour": [
           {
            "colorbar": {
             "outlinewidth": 0,
             "ticks": ""
            },
            "colorscale": [
             [
              0,
              "#0d0887"
             ],
             [
              0.1111111111111111,
              "#46039f"
             ],
             [
              0.2222222222222222,
              "#7201a8"
             ],
             [
              0.3333333333333333,
              "#9c179e"
             ],
             [
              0.4444444444444444,
              "#bd3786"
             ],
             [
              0.5555555555555556,
              "#d8576b"
             ],
             [
              0.6666666666666666,
              "#ed7953"
             ],
             [
              0.7777777777777778,
              "#fb9f3a"
             ],
             [
              0.8888888888888888,
              "#fdca26"
             ],
             [
              1,
              "#f0f921"
             ]
            ],
            "type": "histogram2dcontour"
           }
          ],
          "mesh3d": [
           {
            "colorbar": {
             "outlinewidth": 0,
             "ticks": ""
            },
            "type": "mesh3d"
           }
          ],
          "parcoords": [
           {
            "line": {
             "colorbar": {
              "outlinewidth": 0,
              "ticks": ""
             }
            },
            "type": "parcoords"
           }
          ],
          "pie": [
           {
            "automargin": true,
            "type": "pie"
           }
          ],
          "scatter": [
           {
            "fillpattern": {
             "fillmode": "overlay",
             "size": 10,
             "solidity": 0.2
            },
            "type": "scatter"
           }
          ],
          "scatter3d": [
           {
            "line": {
             "colorbar": {
              "outlinewidth": 0,
              "ticks": ""
             }
            },
            "marker": {
             "colorbar": {
              "outlinewidth": 0,
              "ticks": ""
             }
            },
            "type": "scatter3d"
           }
          ],
          "scattercarpet": [
           {
            "marker": {
             "colorbar": {
              "outlinewidth": 0,
              "ticks": ""
             }
            },
            "type": "scattercarpet"
           }
          ],
          "scattergeo": [
           {
            "marker": {
             "colorbar": {
              "outlinewidth": 0,
              "ticks": ""
             }
            },
            "type": "scattergeo"
           }
          ],
          "scattergl": [
           {
            "marker": {
             "colorbar": {
              "outlinewidth": 0,
              "ticks": ""
             }
            },
            "type": "scattergl"
           }
          ],
          "scattermap": [
           {
            "marker": {
             "colorbar": {
              "outlinewidth": 0,
              "ticks": ""
             }
            },
            "type": "scattermap"
           }
          ],
          "scattermapbox": [
           {
            "marker": {
             "colorbar": {
              "outlinewidth": 0,
              "ticks": ""
             }
            },
            "type": "scattermapbox"
           }
          ],
          "scatterpolar": [
           {
            "marker": {
             "colorbar": {
              "outlinewidth": 0,
              "ticks": ""
             }
            },
            "type": "scatterpolar"
           }
          ],
          "scatterpolargl": [
           {
            "marker": {
             "colorbar": {
              "outlinewidth": 0,
              "ticks": ""
             }
            },
            "type": "scatterpolargl"
           }
          ],
          "scatterternary": [
           {
            "marker": {
             "colorbar": {
              "outlinewidth": 0,
              "ticks": ""
             }
            },
            "type": "scatterternary"
           }
          ],
          "surface": [
           {
            "colorbar": {
             "outlinewidth": 0,
             "ticks": ""
            },
            "colorscale": [
             [
              0,
              "#0d0887"
             ],
             [
              0.1111111111111111,
              "#46039f"
             ],
             [
              0.2222222222222222,
              "#7201a8"
             ],
             [
              0.3333333333333333,
              "#9c179e"
             ],
             [
              0.4444444444444444,
              "#bd3786"
             ],
             [
              0.5555555555555556,
              "#d8576b"
             ],
             [
              0.6666666666666666,
              "#ed7953"
             ],
             [
              0.7777777777777778,
              "#fb9f3a"
             ],
             [
              0.8888888888888888,
              "#fdca26"
             ],
             [
              1,
              "#f0f921"
             ]
            ],
            "type": "surface"
           }
          ],
          "table": [
           {
            "cells": {
             "fill": {
              "color": "#EBF0F8"
             },
             "line": {
              "color": "white"
             }
            },
            "header": {
             "fill": {
              "color": "#C8D4E3"
             },
             "line": {
              "color": "white"
             }
            },
            "type": "table"
           }
          ]
         },
         "layout": {
          "annotationdefaults": {
           "arrowcolor": "#2a3f5f",
           "arrowhead": 0,
           "arrowwidth": 1
          },
          "autotypenumbers": "strict",
          "coloraxis": {
           "colorbar": {
            "outlinewidth": 0,
            "ticks": ""
           }
          },
          "colorscale": {
           "diverging": [
            [
             0,
             "#8e0152"
            ],
            [
             0.1,
             "#c51b7d"
            ],
            [
             0.2,
             "#de77ae"
            ],
            [
             0.3,
             "#f1b6da"
            ],
            [
             0.4,
             "#fde0ef"
            ],
            [
             0.5,
             "#f7f7f7"
            ],
            [
             0.6,
             "#e6f5d0"
            ],
            [
             0.7,
             "#b8e186"
            ],
            [
             0.8,
             "#7fbc41"
            ],
            [
             0.9,
             "#4d9221"
            ],
            [
             1,
             "#276419"
            ]
           ],
           "sequential": [
            [
             0,
             "#0d0887"
            ],
            [
             0.1111111111111111,
             "#46039f"
            ],
            [
             0.2222222222222222,
             "#7201a8"
            ],
            [
             0.3333333333333333,
             "#9c179e"
            ],
            [
             0.4444444444444444,
             "#bd3786"
            ],
            [
             0.5555555555555556,
             "#d8576b"
            ],
            [
             0.6666666666666666,
             "#ed7953"
            ],
            [
             0.7777777777777778,
             "#fb9f3a"
            ],
            [
             0.8888888888888888,
             "#fdca26"
            ],
            [
             1,
             "#f0f921"
            ]
           ],
           "sequentialminus": [
            [
             0,
             "#0d0887"
            ],
            [
             0.1111111111111111,
             "#46039f"
            ],
            [
             0.2222222222222222,
             "#7201a8"
            ],
            [
             0.3333333333333333,
             "#9c179e"
            ],
            [
             0.4444444444444444,
             "#bd3786"
            ],
            [
             0.5555555555555556,
             "#d8576b"
            ],
            [
             0.6666666666666666,
             "#ed7953"
            ],
            [
             0.7777777777777778,
             "#fb9f3a"
            ],
            [
             0.8888888888888888,
             "#fdca26"
            ],
            [
             1,
             "#f0f921"
            ]
           ]
          },
          "colorway": [
           "#636efa",
           "#EF553B",
           "#00cc96",
           "#ab63fa",
           "#FFA15A",
           "#19d3f3",
           "#FF6692",
           "#B6E880",
           "#FF97FF",
           "#FECB52"
          ],
          "font": {
           "color": "#2a3f5f"
          },
          "geo": {
           "bgcolor": "white",
           "lakecolor": "white",
           "landcolor": "#E5ECF6",
           "showlakes": true,
           "showland": true,
           "subunitcolor": "white"
          },
          "hoverlabel": {
           "align": "left"
          },
          "hovermode": "closest",
          "mapbox": {
           "style": "light"
          },
          "paper_bgcolor": "white",
          "plot_bgcolor": "#E5ECF6",
          "polar": {
           "angularaxis": {
            "gridcolor": "white",
            "linecolor": "white",
            "ticks": ""
           },
           "bgcolor": "#E5ECF6",
           "radialaxis": {
            "gridcolor": "white",
            "linecolor": "white",
            "ticks": ""
           }
          },
          "scene": {
           "xaxis": {
            "backgroundcolor": "#E5ECF6",
            "gridcolor": "white",
            "gridwidth": 2,
            "linecolor": "white",
            "showbackground": true,
            "ticks": "",
            "zerolinecolor": "white"
           },
           "yaxis": {
            "backgroundcolor": "#E5ECF6",
            "gridcolor": "white",
            "gridwidth": 2,
            "linecolor": "white",
            "showbackground": true,
            "ticks": "",
            "zerolinecolor": "white"
           },
           "zaxis": {
            "backgroundcolor": "#E5ECF6",
            "gridcolor": "white",
            "gridwidth": 2,
            "linecolor": "white",
            "showbackground": true,
            "ticks": "",
            "zerolinecolor": "white"
           }
          },
          "shapedefaults": {
           "line": {
            "color": "#2a3f5f"
           }
          },
          "ternary": {
           "aaxis": {
            "gridcolor": "white",
            "linecolor": "white",
            "ticks": ""
           },
           "baxis": {
            "gridcolor": "white",
            "linecolor": "white",
            "ticks": ""
           },
           "bgcolor": "#E5ECF6",
           "caxis": {
            "gridcolor": "white",
            "linecolor": "white",
            "ticks": ""
           }
          },
          "title": {
           "x": 0.05
          },
          "xaxis": {
           "automargin": true,
           "gridcolor": "white",
           "linecolor": "white",
           "ticks": "",
           "title": {
            "standoff": 15
           },
           "zerolinecolor": "white",
           "zerolinewidth": 2
          },
          "yaxis": {
           "automargin": true,
           "gridcolor": "white",
           "linecolor": "white",
           "ticks": "",
           "title": {
            "standoff": 15
           },
           "zerolinecolor": "white",
           "zerolinewidth": 2
          }
         }
        },
        "title": {
         "text": "Fires Clustered by DBSCAN"
        }
       }
      }
     },
     "metadata": {},
     "output_type": "display_data"
    }
   ],
   "source": [
    "fig = px.scatter_mapbox(\n",
    "    clusters_sample,\n",
    "    lat=\"latitude\",\n",
    "    lon=\"longitude\",\n",
    "    color_continuous_scale=px.colors.cyclical.IceFire,\n",
    "    size_max=15,\n",
    "    zoom=5,\n",
    "    title='Fires Clustered by DBSCAN'\n",
    ")\n",
    "\n",
    "for i, row in geo_df.iterrows():\n",
    "    min_lat, min_lon, max_lat, max_lon = row['geometry'].bounds\n",
    "\n",
    "    rectangle = go.Scattermapbox(\n",
    "        lat=[min_lat, max_lat, max_lat, min_lat, min_lat],\n",
    "        lon=[min_lon, min_lon, max_lon, max_lon, min_lon],\n",
    "        mode=\"lines\",\n",
    "        line=dict(color='white'),\n",
    "        fill='toself',\n",
    "        fillcolor='rgba(255,0,0,0.3)',\n",
    "        showlegend=False\n",
    "    )\n",
    "    fig.add_trace(rectangle)\n",
    "\n",
    "fig.update_layout(\n",
    "    mapbox_style='satellite',\n",
    "    title='Fires Clustered by DBSCAN',\n",
    "    height=800\n",
    ")\n",
    "\n",
    "# Show the plot\n",
    "fig.show()"
   ]
  },
  {
   "cell_type": "code",
   "execution_count": null,
   "metadata": {},
   "outputs": [],
   "source": []
  }
 ],
 "metadata": {
  "kernelspec": {
   "display_name": "env",
   "language": "python",
   "name": "python3"
  },
  "language_info": {
   "codemirror_mode": {
    "name": "ipython",
    "version": 3
   },
   "file_extension": ".py",
   "mimetype": "text/x-python",
   "name": "python",
   "nbconvert_exporter": "python",
   "pygments_lexer": "ipython3",
   "version": "3.9.13"
  }
 },
 "nbformat": 4,
 "nbformat_minor": 2
}

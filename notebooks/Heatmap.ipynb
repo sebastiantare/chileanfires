{
 "cells": [
  {
   "cell_type": "code",
   "execution_count": null,
   "metadata": {},
   "outputs": [],
   "source": [
    "import pandas as pd\n",
    "import matplotlib.pyplot as plt\n",
    "import seaborn as sns\n",
    "import plotly.express as px\n",
    "import numpy as np\n"
   ]
  },
  {
   "cell_type": "code",
   "execution_count": null,
   "metadata": {},
   "outputs": [],
   "source": [
    "px.set_mapbox_access_token(\"pk.eyJ1Ijoic2ViYXN0aWFudGFyZSIsImEiOiJjbHR3NmRzaTYxcjZkMmpsYzd1YzBoNjQwIn0.OiRNHiO3II-uJjwo44mwug\")"
   ]
  },
  {
   "cell_type": "code",
   "execution_count": null,
   "metadata": {},
   "outputs": [],
   "source": [
    "\n",
    "df = pd.read_parquet('../data/fires_merged_comunas.parquet')\n",
    "\n",
    "fig = px.density_mapbox(df, lat='latitude', lon='longitude', z='frp', radius=10,\n",
    "                       center=dict(lat=0, lon=180), zoom=0,\n",
    "                        mapbox_style='open-street-map')\n",
    "fig.show()\n"
   ]
  },
  {
   "cell_type": "code",
   "execution_count": null,
   "metadata": {},
   "outputs": [],
   "source": [
    "# Read your data\n",
    "df = pd.read_parquet('../data/fires_merged_comunas.parquet')\n",
    "\n",
    "# Define the size of the grid cells for aggregation\n",
    "grid_size = 0.01  # adjust this value as needed\n",
    "\n",
    "# Group the data into grid cells based on latitude and longitude\n",
    "df['lat_bin'] = np.floor(df['latitude'] / grid_size) * grid_size\n",
    "df['lon_bin'] = np.floor(df['longitude'] / grid_size) * grid_size\n",
    "\n",
    "# Aggregate FRP values within each grid cell\n",
    "aggregated_df = df.groupby(['lat_bin', 'lon_bin']).agg({'frp': 'sum'}).reset_index()\n",
    "\n",
    "# Plot the aggregated data\n",
    "fig = px.density_mapbox(aggregated_df, lat='lat_bin', lon='lon_bin', z='frp', radius=10,\n",
    "                        center=dict(lat=0, lon=180), zoom=0, mapbox_style='open-street-map')\n",
    "\n",
    "fig.update_layout(title='Heatmap of FRP - Aggregated',\n",
    "                  margin=dict(l=0, r=0, t=50, b=0))\n",
    "\n",
    "fig.show()"
   ]
  },
  {
   "cell_type": "code",
   "execution_count": null,
   "metadata": {},
   "outputs": [],
   "source": [
    "from sklearn.cluster import KMeans\n",
    "\n",
    "# Read your data\n",
    "df = pd.read_parquet('../data/fires_merged_comunas.parquet')\n",
    "\n",
    "# Select the features for clustering\n",
    "X = df[['latitude', 'longitude', 'frp']]\n",
    "\n",
    "# Define the number of clusters\n",
    "num_clusters = 5  # adjust this value as needed\n",
    "\n",
    "# Perform K-means clustering\n",
    "kmeans = KMeans(n_clusters=num_clusters)\n",
    "kmeans.fit(X)\n",
    "\n",
    "# Add the cluster labels to the dataframe\n",
    "df['cluster_label'] = kmeans.labels_\n",
    "\n"
   ]
  }
 ],
 "metadata": {
  "kernelspec": {
   "display_name": "base",
   "language": "python",
   "name": "python3"
  },
  "language_info": {
   "codemirror_mode": {
    "name": "ipython",
    "version": 3
   },
   "file_extension": ".py",
   "mimetype": "text/x-python",
   "name": "python",
   "nbconvert_exporter": "python",
   "pygments_lexer": "ipython3",
   "version": "3.12.2"
  }
 },
 "nbformat": 4,
 "nbformat_minor": 2
}
